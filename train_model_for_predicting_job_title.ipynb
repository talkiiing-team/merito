{
 "cells": [
  {
   "cell_type": "markdown",
   "source": [
    "## Загрузка данных"
   ],
   "metadata": {
    "collapsed": false,
    "pycharm": {
     "name": "#%% md\n"
    }
   },
   "execution_count": 1
  },
  {
   "cell_type": "code",
   "execution_count": 12,
   "metadata": {
    "collapsed": true
   },
   "outputs": [],
   "source": [
    "import gensim\n",
    "from gensim.models import Word2Vec\n",
    "import re\n",
    "import pymorphy2\n",
    "from tqdm import tqdm\n",
    "import pandas as pd\n",
    "import numpy as np\n",
    "import matplotlib.pyplot as plt\n",
    "import seaborn as sns\n",
    "import re\n",
    "import pickle\n",
    "from catboost import CatBoostRegressor, CatBoostClassifier, Pool\n",
    "# from my_parsers import download, parse\n",
    "from tqdm import tqdm\n",
    "from collections import Counter\n",
    "# from brown_clustering import BigramCorpus, BrownClustering\n",
    "from util_functions import *\n",
    "pd.options.display.max_rows = 200\n",
    "tqdm.pandas()"
   ]
  },
  {
   "cell_type": "code",
   "execution_count": 2,
   "outputs": [],
   "source": [
    "df_TRAIN_RES_1 = pd.read_csv('vprod_train/TRAIN_RES_1.csv')"
   ],
   "metadata": {
    "collapsed": false,
    "pycharm": {
     "name": "#%%\n"
    }
   }
  },
  {
   "cell_type": "markdown",
   "source": [
    "## Начальная предобработка данных"
   ],
   "metadata": {
    "collapsed": false,
    "pycharm": {
     "name": "#%% md\n"
    }
   }
  },
  {
   "cell_type": "code",
   "execution_count": 3,
   "outputs": [],
   "source": [
    "# удаляем модифицированный столбец - он совпадает с точностью до регистра\n",
    "df_TRAIN_RES_1.drop(\"achievements_modified\", axis=1, inplace=True)\n",
    "\n",
    "for text_feature in [\"achievements\", \"company_name\", \"demands\"]:\n",
    "    df_TRAIN_RES_1[text_feature].fillna(\"\", inplace=True)\n",
    "\n",
    "df_TRAIN_RES_1[\"achievements_len\"] = [len(i) for i in df_TRAIN_RES_1[\"achievements\"]]\n",
    "df_TRAIN_RES_1.drop_duplicates(inplace=True)"
   ],
   "metadata": {
    "collapsed": false,
    "pycharm": {
     "name": "#%%\n"
    }
   }
  },
  {
   "cell_type": "code",
   "execution_count": 5,
   "outputs": [],
   "source": [
    "DROP_PART_DUPLICATES = False\n",
    "\n",
    "if DROP_PART_DUPLICATES:\n",
    "    df_TRAIN_RES_1[\"comp_name_demands\"] = df_TRAIN_RES_1[\"demands\"] + df_TRAIN_RES_1[\"company_name\"]\n",
    "    df_TRAIN_RES_1 = df_TRAIN_RES_1.drop_duplicates(subset=\"comp_name_demands\")\n",
    "    df_TRAIN_RES_1.drop(\"comp_name_demands\", axis=1, inplace=True)"
   ],
   "metadata": {
    "collapsed": false,
    "pycharm": {
     "name": "#%%\n"
    }
   }
  },
  {
   "cell_type": "code",
   "execution_count": 8,
   "outputs": [
    {
     "name": "stdout",
     "output_type": "stream",
     "text": [
      "proportion of samples choised clases:  0.9580346140836676\n"
     ]
    }
   ],
   "source": [
    "vc = df_TRAIN_RES_1[\"job_title\"].value_counts().sort_values(ascending=False)\n",
    "print(\"proportion of samples choised clases: \", vc.iloc[:200].values.sum() / vc.values.sum())"
   ],
   "metadata": {
    "collapsed": false,
    "pycharm": {
     "name": "#%%\n"
    }
   }
  },
  {
   "cell_type": "code",
   "execution_count": 9,
   "outputs": [],
   "source": [
    "used_classes = df_TRAIN_RES_1[\"job_title\"].value_counts().sort_values(ascending=False).iloc[:200].index.tolist()\n",
    "df_TRAIN_RES_1 = df_TRAIN_RES_1[df_TRAIN_RES_1[\"job_title\"].isin(used_classes)]\n",
    "df_TRAIN_RES_1 = df_TRAIN_RES_1.iloc[::5]\n",
    "df_TRAIN_RES_1[\"len_group\"] = df_TRAIN_RES_1.groupby(\"id_cv\").agg({\"company_name\": \"count\"})"
   ],
   "metadata": {
    "collapsed": false,
    "pycharm": {
     "name": "#%%\n"
    }
   }
  },
  {
   "cell_type": "code",
   "execution_count": 10,
   "outputs": [
    {
     "data": {
      "text/plain": "                                        achievements  \\\n0                                                      \n5                                                      \n10                                                     \n15  нет, т.к. участкам дано отрицательное заключение   \n20                                                     \n\n                                         company_name  \\\n0   Управление социальной защиты населения Сердобс...   \n5          ОАО «Высочайший» п.Бодайбо, Иркутская обл.   \n10           ОАО «БАЙКАЛГЕО» п. Нижнеангарск, Бурятия   \n15  ООО «Артель старателей «ТАЛ»», Усть-Нера, Респ...   \n20  Администрация Северо-Байкальского района, п.Ни...   \n\n                                              demands  \\\n0   Работала,непосредственно, с федеральными льгот...   \n5   Разведка с применением поверхностных горных вы...   \n10  Проведение геологоразведочных работ на россыпн...   \n15  руководил поисково-разведочными работами на бу...   \n20  Разработка программ развития района, статистич...   \n\n                                   id_cv    job_title  achievements_len  \\\n0   52860148-26da-11e8-a184-9122a281f90e    инспектор                 0   \n5   e3c857b0-26a0-11e7-bcca-736ab11edb0c       геолог                 0   \n10  e3c857b0-26a0-11e7-bcca-736ab11edb0c  заместитель                 0   \n15  d09f8cf0-2b52-11e8-a7fa-ef76bd2a03c1       геолог                48   \n20  d09f8cf0-2b52-11e8-a7fa-ef76bd2a03c1  заместитель                 0   \n\n    len_group  \n0         NaN  \n5         NaN  \n10        NaN  \n15        NaN  \n20        NaN  ",
      "text/html": "<div>\n<style scoped>\n    .dataframe tbody tr th:only-of-type {\n        vertical-align: middle;\n    }\n\n    .dataframe tbody tr th {\n        vertical-align: top;\n    }\n\n    .dataframe thead th {\n        text-align: right;\n    }\n</style>\n<table border=\"1\" class=\"dataframe\">\n  <thead>\n    <tr style=\"text-align: right;\">\n      <th></th>\n      <th>achievements</th>\n      <th>company_name</th>\n      <th>demands</th>\n      <th>id_cv</th>\n      <th>job_title</th>\n      <th>achievements_len</th>\n      <th>len_group</th>\n    </tr>\n  </thead>\n  <tbody>\n    <tr>\n      <th>0</th>\n      <td></td>\n      <td>Управление социальной защиты населения Сердобс...</td>\n      <td>Работала,непосредственно, с федеральными льгот...</td>\n      <td>52860148-26da-11e8-a184-9122a281f90e</td>\n      <td>инспектор</td>\n      <td>0</td>\n      <td>NaN</td>\n    </tr>\n    <tr>\n      <th>5</th>\n      <td></td>\n      <td>ОАО «Высочайший» п.Бодайбо, Иркутская обл.</td>\n      <td>Разведка с применением поверхностных горных вы...</td>\n      <td>e3c857b0-26a0-11e7-bcca-736ab11edb0c</td>\n      <td>геолог</td>\n      <td>0</td>\n      <td>NaN</td>\n    </tr>\n    <tr>\n      <th>10</th>\n      <td></td>\n      <td>ОАО «БАЙКАЛГЕО» п. Нижнеангарск, Бурятия</td>\n      <td>Проведение геологоразведочных работ на россыпн...</td>\n      <td>e3c857b0-26a0-11e7-bcca-736ab11edb0c</td>\n      <td>заместитель</td>\n      <td>0</td>\n      <td>NaN</td>\n    </tr>\n    <tr>\n      <th>15</th>\n      <td>нет, т.к. участкам дано отрицательное заключение</td>\n      <td>ООО «Артель старателей «ТАЛ»», Усть-Нера, Респ...</td>\n      <td>руководил поисково-разведочными работами на бу...</td>\n      <td>d09f8cf0-2b52-11e8-a7fa-ef76bd2a03c1</td>\n      <td>геолог</td>\n      <td>48</td>\n      <td>NaN</td>\n    </tr>\n    <tr>\n      <th>20</th>\n      <td></td>\n      <td>Администрация Северо-Байкальского района, п.Ни...</td>\n      <td>Разработка программ развития района, статистич...</td>\n      <td>d09f8cf0-2b52-11e8-a7fa-ef76bd2a03c1</td>\n      <td>заместитель</td>\n      <td>0</td>\n      <td>NaN</td>\n    </tr>\n  </tbody>\n</table>\n</div>"
     },
     "execution_count": 10,
     "metadata": {},
     "output_type": "execute_result"
    }
   ],
   "source": [
    "df_TRAIN_RES_1.head()"
   ],
   "metadata": {
    "collapsed": false,
    "pycharm": {
     "name": "#%%\n"
    }
   }
  },
  {
   "cell_type": "markdown",
   "source": [
    "## w2v for company names"
   ],
   "metadata": {
    "collapsed": false,
    "pycharm": {
     "name": "#%% md\n"
    }
   },
   "execution_count": 40
  },
  {
   "cell_type": "code",
   "execution_count": 15,
   "outputs": [
    {
     "name": "stderr",
     "output_type": "stream",
     "text": [
      "100%|██████████| 318924/318924 [00:01<00:00, 172613.53it/s]\n"
     ]
    }
   ],
   "source": [
    "\n",
    "RETRAIN_MODEL = False\n",
    "\n",
    "if RETRAIN_MODEL:\n",
    "    company_names = [i[\"company_name\"] + \" \" + i[\"job_title\"] for _, i in df_TRAIN_RES_1.iterrows()]\n",
    "    # Предобработка данных\n",
    "    sentences = preprocess_names(company_names)\n",
    "\n",
    "    # Обучение модели Word2Vec\n",
    "    model_comp_name = Word2Vec(sentences, vector_size=64, window=4, min_count=1, sg=1)\n",
    "    # Сохранение обученной модели\n",
    "    model_comp_name.save(\"models/company_word2vec_russian.model\")\n",
    "else:\n",
    "    company_names = [i[\"company_name\"] for _, i in df_TRAIN_RES_1.iterrows()]\n",
    "    # Предобработка данных\n",
    "    sentences = preprocess_names(company_names)\n",
    "\n",
    "    model_comp_name = Word2Vec.load(\"models/company_word2vec_russian.model\")\n",
    "\n",
    "# model_comp_name.wv.most_similar('компьютер')"
   ],
   "metadata": {
    "collapsed": false,
    "pycharm": {
     "name": "#%%\n"
    }
   }
  },
  {
   "cell_type": "code",
   "execution_count": 16,
   "outputs": [
    {
     "name": "stderr",
     "output_type": "stream",
     "text": [
      "100%|██████████| 318924/318924 [00:01<00:00, 183526.21it/s]\n",
      "100%|██████████| 318924/318924 [00:05<00:00, 61550.90it/s]\n"
     ]
    }
   ],
   "source": [
    "comp_names_without_job = preprocess_names(df_TRAIN_RES_1[\"company_name\"])\n",
    "emb_comp_name_df = get_emb_by_modele(model_comp_name, comp_names_without_job, column_prefix=\"comp_name_emb\")\n",
    "df_TRAIN_RES_1 = pd.concat([df_TRAIN_RES_1.reset_index(drop=True), emb_comp_name_df.reset_index(drop=True)], axis=1)"
   ],
   "metadata": {
    "collapsed": false,
    "pycharm": {
     "name": "#%%\n"
    }
   }
  },
  {
   "cell_type": "code",
   "execution_count": 16,
   "outputs": [],
   "source": [],
   "metadata": {
    "collapsed": false,
    "pycharm": {
     "name": "#%%\n"
    }
   }
  },
  {
   "cell_type": "markdown",
   "source": [
    "## w2v for demands"
   ],
   "metadata": {
    "collapsed": false,
    "pycharm": {
     "name": "#%% md\n"
    }
   }
  },
  {
   "cell_type": "code",
   "execution_count": 17,
   "outputs": [
    {
     "name": "stderr",
     "output_type": "stream",
     "text": [
      "100%|██████████| 318924/318924 [00:04<00:00, 64405.87it/s]\n"
     ]
    },
    {
     "data": {
      "text/plain": "[('авансовые', 0.8037424683570862),\n ('кассыбанка', 0.7973775863647461),\n ('бух', 0.7930706739425659),\n ('кассабанк', 0.7926923036575317),\n ('фсспфр', 0.7875778079032898),\n ('налоговойстатистической', 0.7757202386856079),\n ('клинтбанк', 0.7753341197967529),\n ('кудир', 0.7724557518959045),\n ('заработная', 0.7707493305206299),\n ('пфрфссифнс', 0.7690602540969849)]"
     },
     "execution_count": 17,
     "metadata": {},
     "output_type": "execute_result"
    }
   ],
   "source": [
    "RETRAIN_MODEL = False\n",
    "\n",
    "if RETRAIN_MODEL:\n",
    "    company_names = [i[\"demands\"] + \" \" + i[\"job_title\"] for _, i in df_TRAIN_RES_1.iterrows()]\n",
    "    # Предобработка данных\n",
    "    sentences = preprocess_names(company_names)\n",
    "\n",
    "    # Обучение модели Word2Vec\n",
    "    model_demand = Word2Vec(sentences, vector_size=100, window=8, min_count=1, sg=1)\n",
    "    # Сохранение обученной модели\n",
    "    model_demand.save(\"models/demand_word2vec_russian.model\")\n",
    "else:\n",
    "    company_names = [i[\"demands\"] for _, i in df_TRAIN_RES_1.iterrows()]\n",
    "    # Предобработка данных\n",
    "    sentences = preprocess_names(company_names)\n",
    "    model_demand = Word2Vec.load(\"models/demand_word2vec_russian.model\")\n",
    "\n",
    "model_demand.wv.most_similar('бухгалтер')"
   ],
   "metadata": {
    "collapsed": false,
    "pycharm": {
     "name": "#%%\n"
    }
   }
  },
  {
   "cell_type": "code",
   "execution_count": 18,
   "outputs": [
    {
     "name": "stderr",
     "output_type": "stream",
     "text": [
      "100%|██████████| 318924/318924 [00:05<00:00, 61296.89it/s]\n",
      "100%|██████████| 318924/318924 [00:15<00:00, 20812.14it/s]\n"
     ]
    }
   ],
   "source": [
    "demand_without_job = preprocess_names(df_TRAIN_RES_1[\"demands\"])\n",
    "emb_demand_df = get_emb_by_modele(model_demand, demand_without_job, column_prefix=\"demand_emb\")\n",
    "df_TRAIN_RES_1 = pd.concat([df_TRAIN_RES_1.reset_index(drop=True), emb_demand_df.reset_index(drop=True)], axis=1)"
   ],
   "metadata": {
    "collapsed": false,
    "pycharm": {
     "name": "#%%\n"
    }
   }
  },
  {
   "cell_type": "code",
   "execution_count": 19,
   "outputs": [
    {
     "data": {
      "text/plain": "                                       achievements  \\\n0                                                     \n1                                                     \n2                                                     \n3  нет, т.к. участкам дано отрицательное заключение   \n4                                                     \n\n                                        company_name  \\\n0  Управление социальной защиты населения Сердобс...   \n1         ОАО «Высочайший» п.Бодайбо, Иркутская обл.   \n2           ОАО «БАЙКАЛГЕО» п. Нижнеангарск, Бурятия   \n3  ООО «Артель старателей «ТАЛ»», Усть-Нера, Респ...   \n4  Администрация Северо-Байкальского района, п.Ни...   \n\n                                             demands  \\\n0  Работала,непосредственно, с федеральными льгот...   \n1  Разведка с применением поверхностных горных вы...   \n2  Проведение геологоразведочных работ на россыпн...   \n3  руководил поисково-разведочными работами на бу...   \n4  Разработка программ развития района, статистич...   \n\n                                  id_cv    job_title  achievements_len  \\\n0  52860148-26da-11e8-a184-9122a281f90e    инспектор                 0   \n1  e3c857b0-26a0-11e7-bcca-736ab11edb0c       геолог                 0   \n2  e3c857b0-26a0-11e7-bcca-736ab11edb0c  заместитель                 0   \n3  d09f8cf0-2b52-11e8-a7fa-ef76bd2a03c1       геолог                48   \n4  d09f8cf0-2b52-11e8-a7fa-ef76bd2a03c1  заместитель                 0   \n\n   len_group  comp_name_emb_0  comp_name_emb_1  comp_name_emb_2  ...  \\\n0        NaN        -0.293772        -0.564505        -0.419635  ...   \n1        NaN        -0.330126        -0.029948         0.391855  ...   \n2        NaN        -0.318120         0.166147        -0.214572  ...   \n3        NaN        -0.201948         0.644514        -0.182316  ...   \n4        NaN        -0.586076        -0.180409        -0.088037  ...   \n\n   demand_emb_90  demand_emb_91  demand_emb_92  demand_emb_93  demand_emb_94  \\\n0       0.183418       0.258860       0.290902      -0.200651       0.256295   \n1       0.170837       0.391514       0.734838       0.099061       0.517577   \n2       0.150262       0.246992       0.499546      -0.141324       0.373341   \n3       0.123024       0.314913       0.608443      -0.120845       0.590910   \n4       0.084129       0.042485       0.603362      -0.176048       0.255731   \n\n   demand_emb_95  demand_emb_96  demand_emb_97  demand_emb_98  demand_emb_99  \n0       0.253528       0.045275      -0.140245      -0.149471      -0.227559  \n1       0.271957       0.088179      -0.515044      -0.201592      -0.200995  \n2       0.260797       0.153022      -0.454782      -0.204571      -0.216284  \n3       0.153910       0.097952      -0.359757      -0.168976      -0.194691  \n4       0.096839       0.305328      -0.284165      -0.173182      -0.192775  \n\n[5 rows x 207 columns]",
      "text/html": "<div>\n<style scoped>\n    .dataframe tbody tr th:only-of-type {\n        vertical-align: middle;\n    }\n\n    .dataframe tbody tr th {\n        vertical-align: top;\n    }\n\n    .dataframe thead th {\n        text-align: right;\n    }\n</style>\n<table border=\"1\" class=\"dataframe\">\n  <thead>\n    <tr style=\"text-align: right;\">\n      <th></th>\n      <th>achievements</th>\n      <th>company_name</th>\n      <th>demands</th>\n      <th>id_cv</th>\n      <th>job_title</th>\n      <th>achievements_len</th>\n      <th>len_group</th>\n      <th>comp_name_emb_0</th>\n      <th>comp_name_emb_1</th>\n      <th>comp_name_emb_2</th>\n      <th>...</th>\n      <th>demand_emb_90</th>\n      <th>demand_emb_91</th>\n      <th>demand_emb_92</th>\n      <th>demand_emb_93</th>\n      <th>demand_emb_94</th>\n      <th>demand_emb_95</th>\n      <th>demand_emb_96</th>\n      <th>demand_emb_97</th>\n      <th>demand_emb_98</th>\n      <th>demand_emb_99</th>\n    </tr>\n  </thead>\n  <tbody>\n    <tr>\n      <th>0</th>\n      <td></td>\n      <td>Управление социальной защиты населения Сердобс...</td>\n      <td>Работала,непосредственно, с федеральными льгот...</td>\n      <td>52860148-26da-11e8-a184-9122a281f90e</td>\n      <td>инспектор</td>\n      <td>0</td>\n      <td>NaN</td>\n      <td>-0.293772</td>\n      <td>-0.564505</td>\n      <td>-0.419635</td>\n      <td>...</td>\n      <td>0.183418</td>\n      <td>0.258860</td>\n      <td>0.290902</td>\n      <td>-0.200651</td>\n      <td>0.256295</td>\n      <td>0.253528</td>\n      <td>0.045275</td>\n      <td>-0.140245</td>\n      <td>-0.149471</td>\n      <td>-0.227559</td>\n    </tr>\n    <tr>\n      <th>1</th>\n      <td></td>\n      <td>ОАО «Высочайший» п.Бодайбо, Иркутская обл.</td>\n      <td>Разведка с применением поверхностных горных вы...</td>\n      <td>e3c857b0-26a0-11e7-bcca-736ab11edb0c</td>\n      <td>геолог</td>\n      <td>0</td>\n      <td>NaN</td>\n      <td>-0.330126</td>\n      <td>-0.029948</td>\n      <td>0.391855</td>\n      <td>...</td>\n      <td>0.170837</td>\n      <td>0.391514</td>\n      <td>0.734838</td>\n      <td>0.099061</td>\n      <td>0.517577</td>\n      <td>0.271957</td>\n      <td>0.088179</td>\n      <td>-0.515044</td>\n      <td>-0.201592</td>\n      <td>-0.200995</td>\n    </tr>\n    <tr>\n      <th>2</th>\n      <td></td>\n      <td>ОАО «БАЙКАЛГЕО» п. Нижнеангарск, Бурятия</td>\n      <td>Проведение геологоразведочных работ на россыпн...</td>\n      <td>e3c857b0-26a0-11e7-bcca-736ab11edb0c</td>\n      <td>заместитель</td>\n      <td>0</td>\n      <td>NaN</td>\n      <td>-0.318120</td>\n      <td>0.166147</td>\n      <td>-0.214572</td>\n      <td>...</td>\n      <td>0.150262</td>\n      <td>0.246992</td>\n      <td>0.499546</td>\n      <td>-0.141324</td>\n      <td>0.373341</td>\n      <td>0.260797</td>\n      <td>0.153022</td>\n      <td>-0.454782</td>\n      <td>-0.204571</td>\n      <td>-0.216284</td>\n    </tr>\n    <tr>\n      <th>3</th>\n      <td>нет, т.к. участкам дано отрицательное заключение</td>\n      <td>ООО «Артель старателей «ТАЛ»», Усть-Нера, Респ...</td>\n      <td>руководил поисково-разведочными работами на бу...</td>\n      <td>d09f8cf0-2b52-11e8-a7fa-ef76bd2a03c1</td>\n      <td>геолог</td>\n      <td>48</td>\n      <td>NaN</td>\n      <td>-0.201948</td>\n      <td>0.644514</td>\n      <td>-0.182316</td>\n      <td>...</td>\n      <td>0.123024</td>\n      <td>0.314913</td>\n      <td>0.608443</td>\n      <td>-0.120845</td>\n      <td>0.590910</td>\n      <td>0.153910</td>\n      <td>0.097952</td>\n      <td>-0.359757</td>\n      <td>-0.168976</td>\n      <td>-0.194691</td>\n    </tr>\n    <tr>\n      <th>4</th>\n      <td></td>\n      <td>Администрация Северо-Байкальского района, п.Ни...</td>\n      <td>Разработка программ развития района, статистич...</td>\n      <td>d09f8cf0-2b52-11e8-a7fa-ef76bd2a03c1</td>\n      <td>заместитель</td>\n      <td>0</td>\n      <td>NaN</td>\n      <td>-0.586076</td>\n      <td>-0.180409</td>\n      <td>-0.088037</td>\n      <td>...</td>\n      <td>0.084129</td>\n      <td>0.042485</td>\n      <td>0.603362</td>\n      <td>-0.176048</td>\n      <td>0.255731</td>\n      <td>0.096839</td>\n      <td>0.305328</td>\n      <td>-0.284165</td>\n      <td>-0.173182</td>\n      <td>-0.192775</td>\n    </tr>\n  </tbody>\n</table>\n<p>5 rows × 207 columns</p>\n</div>"
     },
     "execution_count": 19,
     "metadata": {},
     "output_type": "execute_result"
    }
   ],
   "source": [
    "df_TRAIN_RES_1.head()"
   ],
   "metadata": {
    "collapsed": false,
    "pycharm": {
     "name": "#%%\n"
    }
   }
  },
  {
   "cell_type": "code",
   "execution_count": 19,
   "outputs": [],
   "source": [],
   "metadata": {
    "collapsed": false,
    "pycharm": {
     "name": "#%%\n"
    }
   }
  },
  {
   "cell_type": "markdown",
   "source": [
    "## add tf_idf company name"
   ],
   "metadata": {
    "collapsed": false,
    "pycharm": {
     "name": "#%% md\n"
    }
   },
   "execution_count": 18
  },
  {
   "cell_type": "code",
   "execution_count": 21,
   "outputs": [
    {
     "name": "stderr",
     "output_type": "stream",
     "text": [
      "100%|██████████| 318924/318924 [00:01<00:00, 173266.69it/s]\n"
     ]
    }
   ],
   "source": [
    "sentences = preprocess_names(df_TRAIN_RES_1[\"company_name\"])\n",
    "\n",
    "RETRAIN_MODEL = False\n",
    "column_prefix = \"comp_name_tfidf\"\n",
    "\n",
    "if RETRAIN_MODEL:\n",
    "    comp_name_vectorizer, comp_name_tfidf = get_emb_by_tfidf([\" \".join(sent) for sent in sentences],\n",
    "                                                             column_prefix=column_prefix)\n",
    "else:\n",
    "    comp_name_vectorizer = pickle.load(open(\"models/comp_name_vectorizer.pkl\", \"rb\"))\n",
    "\n",
    "    comp_name_tfidf = comp_name_vectorizer.transform([\" \".join(sent) for sent in sentences])\n",
    "    comp_name_tfidf = pd.DataFrame(comp_name_tfidf.toarray(),\n",
    "                                   columns=[f\"{column_prefix}_{word}\" for word in comp_name_vectorizer.get_feature_names_out()])\n",
    "\n",
    "df_TRAIN_RES_1 = pd.concat([df_TRAIN_RES_1.reset_index(drop=True),\n",
    "                            comp_name_tfidf.reset_index(drop=True)], axis=1)"
   ],
   "metadata": {
    "collapsed": false,
    "pycharm": {
     "name": "#%%\n"
    }
   }
  },
  {
   "cell_type": "code",
   "execution_count": null,
   "outputs": [],
   "source": [],
   "metadata": {
    "collapsed": false,
    "pycharm": {
     "name": "#%%\n"
    }
   }
  },
  {
   "cell_type": "code",
   "execution_count": 22,
   "outputs": [
    {
     "name": "stderr",
     "output_type": "stream",
     "text": [
      "100%|██████████| 318924/318924 [00:07<00:00, 40739.31it/s]\n"
     ]
    }
   ],
   "source": [
    "sentences = preprocess_names(df_TRAIN_RES_1[\"demands\"])\n",
    "\n",
    "RETRAIN_MODEL = False\n",
    "column_prefix = \"demnds_tfidf\"\n",
    "\n",
    "if RETRAIN_MODEL:\n",
    "    demands_vectorizer, demands_tfidf = get_emb_by_tfidf([\" \".join(sent) for sent in sentences],\n",
    "                                                     column_prefix=column_prefix)\n",
    "else:\n",
    "    demands_vectorizer = pickle.load(open(\"models/demands_vectorizer.pkl\", \"rb\"))\n",
    "\n",
    "    demands_tfidf = demands_vectorizer.transform([\" \".join(sent) for sent in sentences])\n",
    "    demands_tfidf = pd.DataFrame(demands_tfidf.toarray(),\n",
    "                                 columns=[f\"{column_prefix}_{word}\" for word in demands_vectorizer.get_feature_names_out()])\n",
    "\n",
    "df_TRAIN_RES_1 = pd.concat([df_TRAIN_RES_1.reset_index(drop=True),\n",
    "                            demands_tfidf.reset_index(drop=True)], axis=1)"
   ],
   "metadata": {
    "collapsed": false,
    "pycharm": {
     "name": "#%%\n"
    }
   }
  },
  {
   "cell_type": "code",
   "execution_count": null,
   "outputs": [],
   "source": [],
   "metadata": {
    "collapsed": false,
    "pycharm": {
     "name": "#%%\n"
    }
   }
  },
  {
   "cell_type": "code",
   "execution_count": 23,
   "outputs": [
    {
     "name": "stderr",
     "output_type": "stream",
     "text": [
      "100%|██████████| 318924/318924 [00:03<00:00, 93251.18it/s] \n"
     ]
    }
   ],
   "source": [
    "sentences = preprocess_names(df_TRAIN_RES_1[\"achievements\"])\n",
    "\n",
    "RETRAIN_MODEL = False\n",
    "column_prefix = \"achiv_tfidf\"\n",
    "\n",
    "if RETRAIN_MODEL:\n",
    "    achiv_vectorizer, achiv_tfidf = get_emb_by_tfidf([\" \".join(sent) for sent in sentences],\n",
    "                                                     column_prefix=column_prefix)\n",
    "else:\n",
    "    achiv_vectorizer = pickle.load(open(\"models/achiv_vectorizer.pkl\", \"rb\"))\n",
    "    achiv_tfidf = achiv_vectorizer.transform([\" \".join(sent) for sent in sentences])\n",
    "    achiv_tfidf = pd.DataFrame(achiv_tfidf.toarray(),\n",
    "                               columns=[f\"{column_prefix}_{word}\" for word in demands_vectorizer.get_feature_names_out()])\n",
    "\n",
    "df_TRAIN_RES_1 = pd.concat([df_TRAIN_RES_1.reset_index(drop=True),\n",
    "                            achiv_tfidf.reset_index(drop=True)], axis=1)"
   ],
   "metadata": {
    "collapsed": false,
    "pycharm": {
     "name": "#%%\n"
    }
   }
  },
  {
   "cell_type": "code",
   "execution_count": 24,
   "outputs": [
    {
     "data": {
      "text/plain": "                                       achievements  \\\n0                                                     \n1                                                     \n2                                                     \n3  нет, т.к. участкам дано отрицательное заключение   \n4                                                     \n\n                                        company_name  \\\n0  Управление социальной защиты населения Сердобс...   \n1         ОАО «Высочайший» п.Бодайбо, Иркутская обл.   \n2           ОАО «БАЙКАЛГЕО» п. Нижнеангарск, Бурятия   \n3  ООО «Артель старателей «ТАЛ»», Усть-Нера, Респ...   \n4  Администрация Северо-Байкальского района, п.Ни...   \n\n                                             demands  \\\n0  Работала,непосредственно, с федеральными льгот...   \n1  Разведка с применением поверхностных горных вы...   \n2  Проведение геологоразведочных работ на россыпн...   \n3  руководил поисково-разведочными работами на бу...   \n4  Разработка программ развития района, статистич...   \n\n                                  id_cv    job_title  achievements_len  \\\n0  52860148-26da-11e8-a184-9122a281f90e    инспектор                 0   \n1  e3c857b0-26a0-11e7-bcca-736ab11edb0c       геолог                 0   \n2  e3c857b0-26a0-11e7-bcca-736ab11edb0c  заместитель                 0   \n3  d09f8cf0-2b52-11e8-a7fa-ef76bd2a03c1       геолог                48   \n4  d09f8cf0-2b52-11e8-a7fa-ef76bd2a03c1  заместитель                 0   \n\n   len_group  comp_name_emb_0  comp_name_emb_1  comp_name_emb_2  ...  \\\n0        NaN        -0.293772        -0.564505        -0.419635  ...   \n1        NaN        -0.330126        -0.029948         0.391855  ...   \n2        NaN        -0.318120         0.166147        -0.214572  ...   \n3        NaN        -0.201948         0.644514        -0.182316  ...   \n4        NaN        -0.586076        -0.180409        -0.088037  ...   \n\n   achiv_tfidf_техники  achiv_tfidf_товара  achiv_tfidf_товаров  \\\n0                  0.0                 0.0                  0.0   \n1                  0.0                 0.0                  0.0   \n2                  0.0                 0.0                  0.0   \n3                  0.0                 0.0                  0.0   \n4                  0.0                 0.0                  0.0   \n\n   achiv_tfidf_труда  achiv_tfidf_управление  achiv_tfidf_услуг  \\\n0                0.0                     0.0                0.0   \n1                0.0                     0.0                0.0   \n2                0.0                     0.0                0.0   \n3                0.0                     0.0                0.0   \n4                0.0                     0.0                0.0   \n\n   achiv_tfidf_участие  achiv_tfidf_учет  achiv_tfidf_учета  \\\n0                  0.0               0.0                0.0   \n1                  0.0               0.0                0.0   \n2                  0.0               0.0                0.0   \n3                  0.0               0.0                0.0   \n4                  0.0               0.0                0.0   \n\n   achiv_tfidf_формирование  \n0                       0.0  \n1                       0.0  \n2                       0.0  \n3                       0.0  \n4                       0.0  \n\n[5 rows x 507 columns]",
      "text/html": "<div>\n<style scoped>\n    .dataframe tbody tr th:only-of-type {\n        vertical-align: middle;\n    }\n\n    .dataframe tbody tr th {\n        vertical-align: top;\n    }\n\n    .dataframe thead th {\n        text-align: right;\n    }\n</style>\n<table border=\"1\" class=\"dataframe\">\n  <thead>\n    <tr style=\"text-align: right;\">\n      <th></th>\n      <th>achievements</th>\n      <th>company_name</th>\n      <th>demands</th>\n      <th>id_cv</th>\n      <th>job_title</th>\n      <th>achievements_len</th>\n      <th>len_group</th>\n      <th>comp_name_emb_0</th>\n      <th>comp_name_emb_1</th>\n      <th>comp_name_emb_2</th>\n      <th>...</th>\n      <th>achiv_tfidf_техники</th>\n      <th>achiv_tfidf_товара</th>\n      <th>achiv_tfidf_товаров</th>\n      <th>achiv_tfidf_труда</th>\n      <th>achiv_tfidf_управление</th>\n      <th>achiv_tfidf_услуг</th>\n      <th>achiv_tfidf_участие</th>\n      <th>achiv_tfidf_учет</th>\n      <th>achiv_tfidf_учета</th>\n      <th>achiv_tfidf_формирование</th>\n    </tr>\n  </thead>\n  <tbody>\n    <tr>\n      <th>0</th>\n      <td></td>\n      <td>Управление социальной защиты населения Сердобс...</td>\n      <td>Работала,непосредственно, с федеральными льгот...</td>\n      <td>52860148-26da-11e8-a184-9122a281f90e</td>\n      <td>инспектор</td>\n      <td>0</td>\n      <td>NaN</td>\n      <td>-0.293772</td>\n      <td>-0.564505</td>\n      <td>-0.419635</td>\n      <td>...</td>\n      <td>0.0</td>\n      <td>0.0</td>\n      <td>0.0</td>\n      <td>0.0</td>\n      <td>0.0</td>\n      <td>0.0</td>\n      <td>0.0</td>\n      <td>0.0</td>\n      <td>0.0</td>\n      <td>0.0</td>\n    </tr>\n    <tr>\n      <th>1</th>\n      <td></td>\n      <td>ОАО «Высочайший» п.Бодайбо, Иркутская обл.</td>\n      <td>Разведка с применением поверхностных горных вы...</td>\n      <td>e3c857b0-26a0-11e7-bcca-736ab11edb0c</td>\n      <td>геолог</td>\n      <td>0</td>\n      <td>NaN</td>\n      <td>-0.330126</td>\n      <td>-0.029948</td>\n      <td>0.391855</td>\n      <td>...</td>\n      <td>0.0</td>\n      <td>0.0</td>\n      <td>0.0</td>\n      <td>0.0</td>\n      <td>0.0</td>\n      <td>0.0</td>\n      <td>0.0</td>\n      <td>0.0</td>\n      <td>0.0</td>\n      <td>0.0</td>\n    </tr>\n    <tr>\n      <th>2</th>\n      <td></td>\n      <td>ОАО «БАЙКАЛГЕО» п. Нижнеангарск, Бурятия</td>\n      <td>Проведение геологоразведочных работ на россыпн...</td>\n      <td>e3c857b0-26a0-11e7-bcca-736ab11edb0c</td>\n      <td>заместитель</td>\n      <td>0</td>\n      <td>NaN</td>\n      <td>-0.318120</td>\n      <td>0.166147</td>\n      <td>-0.214572</td>\n      <td>...</td>\n      <td>0.0</td>\n      <td>0.0</td>\n      <td>0.0</td>\n      <td>0.0</td>\n      <td>0.0</td>\n      <td>0.0</td>\n      <td>0.0</td>\n      <td>0.0</td>\n      <td>0.0</td>\n      <td>0.0</td>\n    </tr>\n    <tr>\n      <th>3</th>\n      <td>нет, т.к. участкам дано отрицательное заключение</td>\n      <td>ООО «Артель старателей «ТАЛ»», Усть-Нера, Респ...</td>\n      <td>руководил поисково-разведочными работами на бу...</td>\n      <td>d09f8cf0-2b52-11e8-a7fa-ef76bd2a03c1</td>\n      <td>геолог</td>\n      <td>48</td>\n      <td>NaN</td>\n      <td>-0.201948</td>\n      <td>0.644514</td>\n      <td>-0.182316</td>\n      <td>...</td>\n      <td>0.0</td>\n      <td>0.0</td>\n      <td>0.0</td>\n      <td>0.0</td>\n      <td>0.0</td>\n      <td>0.0</td>\n      <td>0.0</td>\n      <td>0.0</td>\n      <td>0.0</td>\n      <td>0.0</td>\n    </tr>\n    <tr>\n      <th>4</th>\n      <td></td>\n      <td>Администрация Северо-Байкальского района, п.Ни...</td>\n      <td>Разработка программ развития района, статистич...</td>\n      <td>d09f8cf0-2b52-11e8-a7fa-ef76bd2a03c1</td>\n      <td>заместитель</td>\n      <td>0</td>\n      <td>NaN</td>\n      <td>-0.586076</td>\n      <td>-0.180409</td>\n      <td>-0.088037</td>\n      <td>...</td>\n      <td>0.0</td>\n      <td>0.0</td>\n      <td>0.0</td>\n      <td>0.0</td>\n      <td>0.0</td>\n      <td>0.0</td>\n      <td>0.0</td>\n      <td>0.0</td>\n      <td>0.0</td>\n      <td>0.0</td>\n    </tr>\n  </tbody>\n</table>\n<p>5 rows × 507 columns</p>\n</div>"
     },
     "execution_count": 24,
     "metadata": {},
     "output_type": "execute_result"
    }
   ],
   "source": [
    "df_TRAIN_RES_1.head()"
   ],
   "metadata": {
    "collapsed": false,
    "pycharm": {
     "name": "#%%\n"
    }
   }
  },
  {
   "cell_type": "code",
   "execution_count": null,
   "outputs": [],
   "source": [
    "# with open(\"comp_name_vectorizer.pkl\", \"wb\") as f:\n",
    "#     pickle.dump(comp_name_vectorizer, f)\n",
    "#\n",
    "# with open(\"demands_vectorizer.pkl\", \"wb\") as f:\n",
    "#     pickle.dump(demands_vectorizer, f)\n",
    "#\n",
    "# with open(\"achiv_vectorizer.pkl\", \"wb\") as f:\n",
    "#     pickle.dump(achiv_vectorizer, f)\n"
   ],
   "metadata": {
    "collapsed": false,
    "pycharm": {
     "name": "#%%\n"
    }
   }
  },
  {
   "cell_type": "code",
   "execution_count": null,
   "outputs": [],
   "source": [],
   "metadata": {
    "collapsed": false,
    "pycharm": {
     "name": "#%%\n"
    }
   }
  },
  {
   "cell_type": "markdown",
   "source": [
    "## train model"
   ],
   "metadata": {
    "collapsed": false,
    "pycharm": {
     "name": "#%% md\n"
    }
   }
  },
  {
   "cell_type": "code",
   "execution_count": 25,
   "outputs": [],
   "source": [
    "columns_to_drop = [\"achievements\", \"company_name\", \"demands\", \"id_cv\",]"
   ],
   "metadata": {
    "collapsed": false,
    "pycharm": {
     "name": "#%%\n"
    }
   }
  },
  {
   "cell_type": "code",
   "execution_count": 26,
   "outputs": [],
   "source": [
    "X, y = df_TRAIN_RES_1.drop(columns_to_drop + [\"job_title\"], axis=1), df_TRAIN_RES_1[\"job_title\"]"
   ],
   "metadata": {
    "collapsed": false,
    "pycharm": {
     "name": "#%%\n"
    }
   }
  },
  {
   "cell_type": "code",
   "execution_count": 27,
   "outputs": [],
   "source": [
    "from sklearn.model_selection import train_test_split\n",
    "N = 20_000\n",
    "X_train, X_test, y_train, y_test = train_test_split(X.iloc[:N], y.iloc[:N], stratify=y.iloc[:N], test_size=0.2, random_state=42)"
   ],
   "metadata": {
    "collapsed": false,
    "pycharm": {
     "name": "#%%\n"
    }
   }
  },
  {
   "cell_type": "code",
   "execution_count": 28,
   "outputs": [],
   "source": [
    "from catboost import CatBoostClassifier, Pool\n",
    "\n",
    "train_pool = Pool(X_train, y_train)\n",
    "test_pool = Pool(X_test, y_test)"
   ],
   "metadata": {
    "collapsed": false,
    "pycharm": {
     "name": "#%%\n"
    }
   }
  },
  {
   "cell_type": "code",
   "execution_count": 29,
   "outputs": [
    {
     "name": "stdout",
     "output_type": "stream",
     "text": [
      "Learning rate set to 0.139139\n",
      "0:\tlearn: 0.2304375\ttest: 0.2275000\tbest: 0.2275000 (0)\ttotal: 932ms\tremaining: 15m 31s\n",
      "1:\tlearn: 0.2476250\ttest: 0.2507500\tbest: 0.2507500 (1)\ttotal: 1.8s\tremaining: 14m 58s\n",
      "2:\tlearn: 0.2646250\ttest: 0.2672500\tbest: 0.2672500 (2)\ttotal: 2.7s\tremaining: 14m 56s\n",
      "3:\tlearn: 0.2741875\ttest: 0.2722500\tbest: 0.2722500 (3)\ttotal: 3.6s\tremaining: 14m 57s\n",
      "4:\tlearn: 0.2837500\ttest: 0.2815000\tbest: 0.2815000 (4)\ttotal: 4.51s\tremaining: 14m 58s\n",
      "5:\tlearn: 0.2931875\ttest: 0.2907500\tbest: 0.2907500 (5)\ttotal: 5.42s\tremaining: 14m 57s\n",
      "6:\tlearn: 0.2999375\ttest: 0.2965000\tbest: 0.2965000 (6)\ttotal: 6.2s\tremaining: 14m 39s\n",
      "7:\tlearn: 0.3068750\ttest: 0.3002500\tbest: 0.3002500 (7)\ttotal: 7.11s\tremaining: 14m 41s\n",
      "8:\tlearn: 0.3155000\ttest: 0.3080000\tbest: 0.3080000 (8)\ttotal: 7.95s\tremaining: 14m 34s\n",
      "9:\tlearn: 0.3204375\ttest: 0.3142500\tbest: 0.3142500 (9)\ttotal: 8.84s\tremaining: 14m 35s\n",
      "10:\tlearn: 0.3274375\ttest: 0.3212500\tbest: 0.3212500 (10)\ttotal: 9.69s\tremaining: 14m 31s\n",
      "11:\tlearn: 0.3330625\ttest: 0.3272500\tbest: 0.3272500 (11)\ttotal: 10.6s\tremaining: 14m 32s\n",
      "12:\tlearn: 0.3375000\ttest: 0.3302500\tbest: 0.3302500 (12)\ttotal: 11.5s\tremaining: 14m 33s\n",
      "13:\tlearn: 0.3425625\ttest: 0.3322500\tbest: 0.3322500 (13)\ttotal: 12.3s\tremaining: 14m 27s\n",
      "14:\tlearn: 0.3498750\ttest: 0.3372500\tbest: 0.3372500 (14)\ttotal: 13.3s\tremaining: 14m 32s\n",
      "15:\tlearn: 0.3545625\ttest: 0.3395000\tbest: 0.3395000 (15)\ttotal: 14.3s\tremaining: 14m 40s\n",
      "16:\tlearn: 0.3615000\ttest: 0.3440000\tbest: 0.3440000 (16)\ttotal: 15.3s\tremaining: 14m 42s\n",
      "17:\tlearn: 0.3684375\ttest: 0.3492500\tbest: 0.3492500 (17)\ttotal: 16.2s\tremaining: 14m 43s\n",
      "18:\tlearn: 0.3735000\ttest: 0.3520000\tbest: 0.3520000 (18)\ttotal: 17s\tremaining: 14m 36s\n",
      "19:\tlearn: 0.3779375\ttest: 0.3555000\tbest: 0.3555000 (19)\ttotal: 17.7s\tremaining: 14m 27s\n",
      "20:\tlearn: 0.3826250\ttest: 0.3587500\tbest: 0.3587500 (20)\ttotal: 18.5s\tremaining: 14m 24s\n",
      "21:\tlearn: 0.3874375\ttest: 0.3622500\tbest: 0.3622500 (21)\ttotal: 19.4s\tremaining: 14m 22s\n",
      "22:\tlearn: 0.3924375\ttest: 0.3662500\tbest: 0.3662500 (22)\ttotal: 20.3s\tremaining: 14m 20s\n",
      "23:\tlearn: 0.3962500\ttest: 0.3662500\tbest: 0.3662500 (22)\ttotal: 21.2s\tremaining: 14m 21s\n",
      "24:\tlearn: 0.4011250\ttest: 0.3685000\tbest: 0.3685000 (24)\ttotal: 22s\tremaining: 14m 19s\n",
      "25:\tlearn: 0.4054375\ttest: 0.3705000\tbest: 0.3705000 (25)\ttotal: 22.9s\tremaining: 14m 17s\n",
      "26:\tlearn: 0.4107500\ttest: 0.3717500\tbest: 0.3717500 (26)\ttotal: 23.8s\tremaining: 14m 18s\n",
      "27:\tlearn: 0.4139375\ttest: 0.3752500\tbest: 0.3752500 (27)\ttotal: 24.6s\tremaining: 14m 14s\n",
      "28:\tlearn: 0.4175625\ttest: 0.3782500\tbest: 0.3782500 (28)\ttotal: 25.4s\tremaining: 14m 10s\n",
      "29:\tlearn: 0.4228125\ttest: 0.3820000\tbest: 0.3820000 (29)\ttotal: 26.4s\tremaining: 14m 12s\n",
      "30:\tlearn: 0.4258750\ttest: 0.3850000\tbest: 0.3850000 (30)\ttotal: 27.2s\tremaining: 14m 9s\n",
      "31:\tlearn: 0.4286875\ttest: 0.3875000\tbest: 0.3875000 (31)\ttotal: 28.1s\tremaining: 14m 9s\n",
      "32:\tlearn: 0.4330625\ttest: 0.3897500\tbest: 0.3897500 (32)\ttotal: 28.9s\tremaining: 14m 7s\n",
      "33:\tlearn: 0.4363750\ttest: 0.3897500\tbest: 0.3897500 (32)\ttotal: 29.8s\tremaining: 14m 5s\n",
      "34:\tlearn: 0.4416250\ttest: 0.3927500\tbest: 0.3927500 (34)\ttotal: 30.7s\tremaining: 14m 7s\n",
      "35:\tlearn: 0.4474375\ttest: 0.3957500\tbest: 0.3957500 (35)\ttotal: 31.7s\tremaining: 14m 8s\n",
      "36:\tlearn: 0.4520000\ttest: 0.3980000\tbest: 0.3980000 (36)\ttotal: 32.5s\tremaining: 14m 6s\n",
      "37:\tlearn: 0.4570000\ttest: 0.4002500\tbest: 0.4002500 (37)\ttotal: 33.5s\tremaining: 14m 6s\n",
      "38:\tlearn: 0.4631875\ttest: 0.4062500\tbest: 0.4062500 (38)\ttotal: 34.4s\tremaining: 14m 7s\n",
      "39:\tlearn: 0.4657500\ttest: 0.4075000\tbest: 0.4075000 (39)\ttotal: 35.3s\tremaining: 14m 7s\n",
      "40:\tlearn: 0.4709375\ttest: 0.4120000\tbest: 0.4120000 (40)\ttotal: 36.2s\tremaining: 14m 6s\n",
      "41:\tlearn: 0.4758750\ttest: 0.4135000\tbest: 0.4135000 (41)\ttotal: 37.1s\tremaining: 14m 6s\n",
      "42:\tlearn: 0.4803750\ttest: 0.4150000\tbest: 0.4150000 (42)\ttotal: 38s\tremaining: 14m 6s\n",
      "43:\tlearn: 0.4843750\ttest: 0.4180000\tbest: 0.4180000 (43)\ttotal: 38.9s\tremaining: 14m 6s\n",
      "44:\tlearn: 0.4875000\ttest: 0.4212500\tbest: 0.4212500 (44)\ttotal: 39.7s\tremaining: 14m 1s\n",
      "45:\tlearn: 0.4891875\ttest: 0.4210000\tbest: 0.4212500 (44)\ttotal: 40.4s\tremaining: 13m 56s\n",
      "46:\tlearn: 0.4929375\ttest: 0.4215000\tbest: 0.4215000 (46)\ttotal: 41.2s\tremaining: 13m 55s\n",
      "47:\tlearn: 0.4955000\ttest: 0.4232500\tbest: 0.4232500 (47)\ttotal: 42.1s\tremaining: 13m 55s\n",
      "48:\tlearn: 0.4966875\ttest: 0.4247500\tbest: 0.4247500 (48)\ttotal: 42.9s\tremaining: 13m 51s\n",
      "49:\tlearn: 0.5014375\ttest: 0.4252500\tbest: 0.4252500 (49)\ttotal: 43.8s\tremaining: 13m 51s\n",
      "50:\tlearn: 0.5055625\ttest: 0.4270000\tbest: 0.4270000 (50)\ttotal: 44.7s\tremaining: 13m 51s\n",
      "51:\tlearn: 0.5089375\ttest: 0.4270000\tbest: 0.4270000 (50)\ttotal: 45.5s\tremaining: 13m 48s\n",
      "52:\tlearn: 0.5129375\ttest: 0.4287500\tbest: 0.4287500 (52)\ttotal: 46.4s\tremaining: 13m 48s\n",
      "53:\tlearn: 0.5150000\ttest: 0.4305000\tbest: 0.4305000 (53)\ttotal: 47.1s\tremaining: 13m 45s\n",
      "54:\tlearn: 0.5177500\ttest: 0.4332500\tbest: 0.4332500 (54)\ttotal: 48s\tremaining: 13m 45s\n",
      "55:\tlearn: 0.5211250\ttest: 0.4327500\tbest: 0.4332500 (54)\ttotal: 48.9s\tremaining: 13m 44s\n",
      "56:\tlearn: 0.5253750\ttest: 0.4360000\tbest: 0.4360000 (56)\ttotal: 49.9s\tremaining: 13m 45s\n",
      "57:\tlearn: 0.5289375\ttest: 0.4377500\tbest: 0.4377500 (57)\ttotal: 50.8s\tremaining: 13m 45s\n",
      "58:\tlearn: 0.5314375\ttest: 0.4407500\tbest: 0.4407500 (58)\ttotal: 51.6s\tremaining: 13m 43s\n",
      "59:\tlearn: 0.5345000\ttest: 0.4400000\tbest: 0.4407500 (58)\ttotal: 52.5s\tremaining: 13m 42s\n",
      "60:\tlearn: 0.5373125\ttest: 0.4412500\tbest: 0.4412500 (60)\ttotal: 53.4s\tremaining: 13m 42s\n",
      "61:\tlearn: 0.5413125\ttest: 0.4435000\tbest: 0.4435000 (61)\ttotal: 54.2s\tremaining: 13m 40s\n",
      "62:\tlearn: 0.5458125\ttest: 0.4437500\tbest: 0.4437500 (62)\ttotal: 55.1s\tremaining: 13m 40s\n",
      "63:\tlearn: 0.5478750\ttest: 0.4447500\tbest: 0.4447500 (63)\ttotal: 56s\tremaining: 13m 39s\n",
      "64:\tlearn: 0.5508750\ttest: 0.4472500\tbest: 0.4472500 (64)\ttotal: 56.9s\tremaining: 13m 39s\n",
      "65:\tlearn: 0.5539375\ttest: 0.4475000\tbest: 0.4475000 (65)\ttotal: 57.8s\tremaining: 13m 37s\n",
      "66:\tlearn: 0.5566250\ttest: 0.4485000\tbest: 0.4485000 (66)\ttotal: 58.6s\tremaining: 13m 36s\n",
      "67:\tlearn: 0.5598750\ttest: 0.4482500\tbest: 0.4485000 (66)\ttotal: 59.5s\tremaining: 13m 35s\n",
      "68:\tlearn: 0.5630625\ttest: 0.4490000\tbest: 0.4490000 (68)\ttotal: 1m\tremaining: 13m 33s\n",
      "69:\tlearn: 0.5643125\ttest: 0.4485000\tbest: 0.4490000 (68)\ttotal: 1m 1s\tremaining: 13m 31s\n",
      "70:\tlearn: 0.5676875\ttest: 0.4480000\tbest: 0.4490000 (68)\ttotal: 1m 1s\tremaining: 13m 31s\n",
      "71:\tlearn: 0.5724375\ttest: 0.4532500\tbest: 0.4532500 (71)\ttotal: 1m 2s\tremaining: 13m 31s\n",
      "72:\tlearn: 0.5738750\ttest: 0.4527500\tbest: 0.4532500 (71)\ttotal: 1m 3s\tremaining: 13m 29s\n",
      "73:\tlearn: 0.5758750\ttest: 0.4522500\tbest: 0.4532500 (71)\ttotal: 1m 4s\tremaining: 13m 27s\n",
      "74:\tlearn: 0.5780625\ttest: 0.4530000\tbest: 0.4532500 (71)\ttotal: 1m 5s\tremaining: 13m 25s\n",
      "75:\tlearn: 0.5809375\ttest: 0.4527500\tbest: 0.4532500 (71)\ttotal: 1m 6s\tremaining: 13m 24s\n",
      "76:\tlearn: 0.5834375\ttest: 0.4542500\tbest: 0.4542500 (76)\ttotal: 1m 6s\tremaining: 13m 22s\n",
      "77:\tlearn: 0.5871250\ttest: 0.4547500\tbest: 0.4547500 (77)\ttotal: 1m 7s\tremaining: 13m 21s\n",
      "78:\tlearn: 0.5891875\ttest: 0.4565000\tbest: 0.4565000 (78)\ttotal: 1m 8s\tremaining: 13m 18s\n",
      "79:\tlearn: 0.5901250\ttest: 0.4577500\tbest: 0.4577500 (79)\ttotal: 1m 9s\tremaining: 13m 14s\n",
      "80:\tlearn: 0.5924375\ttest: 0.4570000\tbest: 0.4577500 (79)\ttotal: 1m 9s\tremaining: 13m 13s\n",
      "81:\tlearn: 0.5947500\ttest: 0.4552500\tbest: 0.4577500 (79)\ttotal: 1m 10s\tremaining: 13m 10s\n",
      "82:\tlearn: 0.5966875\ttest: 0.4565000\tbest: 0.4577500 (79)\ttotal: 1m 11s\tremaining: 13m 8s\n",
      "83:\tlearn: 0.5984375\ttest: 0.4565000\tbest: 0.4577500 (79)\ttotal: 1m 11s\tremaining: 13m 4s\n",
      "84:\tlearn: 0.6002500\ttest: 0.4597500\tbest: 0.4597500 (84)\ttotal: 1m 12s\tremaining: 13m 2s\n",
      "85:\tlearn: 0.6017500\ttest: 0.4580000\tbest: 0.4597500 (84)\ttotal: 1m 13s\tremaining: 13m 2s\n",
      "86:\tlearn: 0.6026250\ttest: 0.4595000\tbest: 0.4597500 (84)\ttotal: 1m 14s\tremaining: 12m 58s\n",
      "87:\tlearn: 0.6048125\ttest: 0.4597500\tbest: 0.4597500 (84)\ttotal: 1m 14s\tremaining: 12m 56s\n",
      "88:\tlearn: 0.6100625\ttest: 0.4612500\tbest: 0.4612500 (88)\ttotal: 1m 15s\tremaining: 12m 56s\n",
      "89:\tlearn: 0.6126875\ttest: 0.4620000\tbest: 0.4620000 (89)\ttotal: 1m 16s\tremaining: 12m 54s\n",
      "90:\tlearn: 0.6151250\ttest: 0.4627500\tbest: 0.4627500 (90)\ttotal: 1m 17s\tremaining: 12m 53s\n",
      "91:\tlearn: 0.6165000\ttest: 0.4635000\tbest: 0.4635000 (91)\ttotal: 1m 18s\tremaining: 12m 51s\n",
      "92:\tlearn: 0.6198125\ttest: 0.4642500\tbest: 0.4642500 (92)\ttotal: 1m 18s\tremaining: 12m 49s\n",
      "93:\tlearn: 0.6218750\ttest: 0.4650000\tbest: 0.4650000 (93)\ttotal: 1m 19s\tremaining: 12m 49s\n",
      "94:\tlearn: 0.6242500\ttest: 0.4640000\tbest: 0.4650000 (93)\ttotal: 1m 20s\tremaining: 12m 49s\n",
      "95:\tlearn: 0.6261250\ttest: 0.4647500\tbest: 0.4650000 (93)\ttotal: 1m 21s\tremaining: 12m 47s\n",
      "96:\tlearn: 0.6288125\ttest: 0.4642500\tbest: 0.4650000 (93)\ttotal: 1m 22s\tremaining: 12m 47s\n",
      "97:\tlearn: 0.6300625\ttest: 0.4675000\tbest: 0.4675000 (97)\ttotal: 1m 23s\tremaining: 12m 44s\n",
      "98:\tlearn: 0.6312500\ttest: 0.4677500\tbest: 0.4677500 (98)\ttotal: 1m 23s\tremaining: 12m 43s\n",
      "99:\tlearn: 0.6329375\ttest: 0.4690000\tbest: 0.4690000 (99)\ttotal: 1m 24s\tremaining: 12m 41s\n",
      "100:\tlearn: 0.6336875\ttest: 0.4690000\tbest: 0.4690000 (99)\ttotal: 1m 25s\tremaining: 12m 39s\n",
      "101:\tlearn: 0.6353125\ttest: 0.4690000\tbest: 0.4690000 (99)\ttotal: 1m 26s\tremaining: 12m 37s\n",
      "102:\tlearn: 0.6373750\ttest: 0.4685000\tbest: 0.4690000 (99)\ttotal: 1m 26s\tremaining: 12m 36s\n",
      "103:\tlearn: 0.6394375\ttest: 0.4687500\tbest: 0.4690000 (99)\ttotal: 1m 27s\tremaining: 12m 34s\n",
      "104:\tlearn: 0.6399375\ttest: 0.4690000\tbest: 0.4690000 (99)\ttotal: 1m 28s\tremaining: 12m 31s\n",
      "bestTest = 0.469\n",
      "bestIteration = 99\n",
      "Shrink model to first 100 iterations.\n"
     ]
    },
    {
     "data": {
      "text/plain": "<catboost.core.CatBoostClassifier at 0x23371705040>"
     },
     "execution_count": 29,
     "metadata": {},
     "output_type": "execute_result"
    }
   ],
   "source": [
    "clf = CatBoostClassifier(task_type=\"GPU\", eval_metric=\"Accuracy\")\n",
    "clf.fit(train_pool, eval_set=test_pool, early_stopping_rounds=5)"
   ],
   "metadata": {
    "collapsed": false,
    "pycharm": {
     "name": "#%%\n"
    }
   }
  },
  {
   "cell_type": "code",
   "execution_count": 39,
   "outputs": [],
   "source": [
    "with open(\"clf.pkl\", \"wb\") as f:\n",
    "    pickle.dump(clf, f)"
   ],
   "metadata": {
    "collapsed": false,
    "pycharm": {
     "name": "#%%\n"
    }
   }
  },
  {
   "cell_type": "code",
   "execution_count": 47,
   "outputs": [
    {
     "data": {
      "text/plain": "Counter({'менеджер': 342,\n         'электрогазосварщик': 14,\n         'оператор': 223,\n         'водитель': 130,\n         'юрисконсульт': 91,\n         'специалист': 686,\n         'кладовщик': 38,\n         'директор': 154,\n         'мастер': 108,\n         'администратор': 87,\n         'кассир': 40,\n         'слесарь': 93,\n         'психолог': 14,\n         'инженер': 444,\n         'бухгалтер': 287,\n         'руководитель': 42,\n         'продавец': 94,\n         'машинист': 67,\n         'электромонтер': 73,\n         'заместитель': 99,\n         'экономист': 72,\n         'фельдшер': 11,\n         'консультант': 15,\n         'инспектор': 54,\n         'секретарь': 77,\n         'архивариус': 1,\n         'учитель': 77,\n         'сборщик': 4,\n         'механик': 34,\n         'укладчик': 2,\n         'медсестра': 7,\n         'официант': 8,\n         'монтажник': 37,\n         'педагог': 14,\n         'преподаватель': 76,\n         'охранник': 23,\n         'юрист': 22,\n         'воспитатель': 42,\n         'лаборант': 26,\n         'пожарный': 3,\n         'уборщица': 5,\n         'стропальщик': 1,\n         'библиотекарь': 5,\n         'подсобный рабочий': 5,\n         'повар': 13,\n         'ассистент': 2,\n         'упаковщик': 1,\n         'делопроизводитель': 11,\n         'энергетик': 4,\n         'диспетчер': 12,\n         'контролер': 15,\n         'проводник': 2,\n         'помощник директора': 1,\n         'уполномоченный': 2,\n         'техник': 2,\n         'дознаватель': 1,\n         'электромонтажник': 9,\n         'медицинская сестра': 5,\n         'управляющий': 3,\n         'плотник': 4,\n         'массажист': 4,\n         'дизайнер': 7,\n         'предприниматель': 7,\n         'уборщик': 6,\n         'эксперт': 9,\n         'аппаратчик': 3,\n         'экспедитор': 3,\n         'представитель': 7,\n         'регистратор': 2,\n         'программист': 5,\n         'бармен': 6,\n         'методист': 2,\n         'помощник воспитателя': 3,\n         'дорожный рабочий': 6,\n         'оперуполномоченный': 5,\n         'каменщик': 1,\n         'заведующий': 4,\n         'дворник': 2,\n         'инструктор': 2,\n         'вожатый': 8,\n         'тренер': 4,\n         'фармацевт': 2,\n         'следователь': 5,\n         'редактор': 6,\n         'прораб': 2,\n         'грузчик': 10,\n         'сторож': 5,\n         'сотрудник': 3,\n         'ветеринарный врач': 1,\n         'истопник': 3,\n         'геодезист': 1,\n         'аналитик': 2,\n         'курьер': 2,\n         'электромеханик': 1,\n         'геолог': 1,\n         'наладчик': 1,\n         'логист': 2,\n         'социальный работник': 2,\n         'сварщик': 3,\n         'помощник судьи': 2,\n         'почтальон': 3,\n         'координатор': 1,\n         'швея': 2,\n         'фрезеровщик': 1,\n         'конструктор': 3,\n         'горничная': 1,\n         'полицейский': 1,\n         'электромонтёр': 1,\n         'бариста': 1,\n         'станочник': 1,\n         'стрелок': 1})"
     },
     "execution_count": 47,
     "metadata": {},
     "output_type": "execute_result"
    }
   ],
   "source": [
    "from collections import Counter\n",
    "Counter([i[0] for i in clf.predict(X_test).tolist()])"
   ],
   "metadata": {
    "collapsed": false,
    "pycharm": {
     "name": "#%%\n"
    }
   }
  },
  {
   "cell_type": "code",
   "execution_count": null,
   "outputs": [],
   "source": [],
   "metadata": {
    "collapsed": false,
    "pycharm": {
     "name": "#%%\n"
    }
   }
  }
 ],
 "metadata": {
  "kernelspec": {
   "display_name": "Python 3",
   "language": "python",
   "name": "python3"
  },
  "language_info": {
   "codemirror_mode": {
    "name": "ipython",
    "version": 2
   },
   "file_extension": ".py",
   "mimetype": "text/x-python",
   "name": "python",
   "nbconvert_exporter": "python",
   "pygments_lexer": "ipython2",
   "version": "2.7.6"
  }
 },
 "nbformat": 4,
 "nbformat_minor": 0
}