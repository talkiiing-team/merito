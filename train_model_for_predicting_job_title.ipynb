{
 "cells": [
  {
   "cell_type": "markdown",
   "source": [
    "## Загрузка данных"
   ],
   "metadata": {
    "collapsed": false,
    "pycharm": {
     "name": "#%% md\n"
    }
   },
   "execution_count": 1
  },
  {
   "cell_type": "code",
   "execution_count": 1,
   "metadata": {
    "collapsed": true
   },
   "outputs": [
    {
     "name": "stderr",
     "output_type": "stream",
     "text": [
      "C:\\Users\\iltya\\anaconda3\\lib\\site-packages\\numpy\\_distributor_init.py:30: UserWarning: loaded more than 1 DLL from .libs:\n",
      "C:\\Users\\iltya\\anaconda3\\lib\\site-packages\\numpy\\.libs\\libopenblas.XWYDX2IKJW2NMTWSFYNGFUWKQU3LYTCZ.gfortran-win_amd64.dll\n",
      "C:\\Users\\iltya\\anaconda3\\lib\\site-packages\\numpy\\.libs\\libopenblas64__v0.3.23-246-g3d31191b-gcc_10_3_0.dll\n",
      "  warnings.warn(\"loaded more than 1 DLL from .libs:\"\n",
      "C:\\Users\\iltya\\AppData\\Roaming\\Python\\Python39\\site-packages\\scipy\\__init__.py:155: UserWarning: A NumPy version >=1.18.5 and <1.25.0 is required for this version of SciPy (detected version 1.25.2\n",
      "  warnings.warn(f\"A NumPy version >={np_minversion} and <{np_maxversion}\"\n"
     ]
    }
   ],
   "source": [
    "import gensim\n",
    "from gensim.models import Word2Vec\n",
    "import re\n",
    "import pymorphy2\n",
    "from tqdm import tqdm\n",
    "import pandas as pd\n",
    "import numpy as np\n",
    "import matplotlib.pyplot as plt\n",
    "import seaborn as sns\n",
    "import re\n",
    "import pickle\n",
    "from catboost import CatBoostRegressor, CatBoostClassifier, Pool\n",
    "# from my_parsers import download, parse\n",
    "from tqdm import tqdm\n",
    "from collections import Counter\n",
    "# from brown_clustering import BigramCorpus, BrownClustering\n",
    "from util_functions import *\n",
    "pd.options.display.max_rows = 200\n",
    "tqdm.pandas()"
   ]
  },
  {
   "cell_type": "code",
   "execution_count": 2,
   "outputs": [],
   "source": [
    "df_TRAIN_RES_1 = pd.read_csv('vprod_train/TRAIN_RES_1.csv')"
   ],
   "metadata": {
    "collapsed": false,
    "pycharm": {
     "name": "#%%\n"
    }
   }
  },
  {
   "cell_type": "code",
   "execution_count": 3,
   "outputs": [],
   "source": [
    "TRAIN_VECTORIZERS = True    # обучать заново векторизаторы"
   ],
   "metadata": {
    "collapsed": false,
    "pycharm": {
     "name": "#%%\n"
    }
   }
  },
  {
   "cell_type": "markdown",
   "source": [
    "## Начальная предобработка данных"
   ],
   "metadata": {
    "collapsed": false,
    "pycharm": {
     "name": "#%% md\n"
    }
   }
  },
  {
   "cell_type": "code",
   "execution_count": 4,
   "outputs": [],
   "source": [
    "# удаляем модифицированный столбец - он совпадает с точностью до регистра\n",
    "df_TRAIN_RES_1.drop(\"achievements_modified\", axis=1, inplace=True)\n",
    "\n",
    "for text_feature in [\"achievements\", \"company_name\", \"demands\"]:\n",
    "    df_TRAIN_RES_1[text_feature].fillna(\"\", inplace=True)\n",
    "\n",
    "df_TRAIN_RES_1[\"achievements_len\"] = [len(i) for i in df_TRAIN_RES_1[\"achievements\"]]\n",
    "df_TRAIN_RES_1.drop_duplicates(inplace=True)"
   ],
   "metadata": {
    "collapsed": false,
    "pycharm": {
     "name": "#%%\n"
    }
   }
  },
  {
   "cell_type": "code",
   "execution_count": 5,
   "outputs": [],
   "source": [
    "DROP_PART_DUPLICATES = False\n",
    "\n",
    "if DROP_PART_DUPLICATES:\n",
    "    df_TRAIN_RES_1[\"comp_name_demands\"] = df_TRAIN_RES_1[\"demands\"] + df_TRAIN_RES_1[\"company_name\"]\n",
    "    df_TRAIN_RES_1 = df_TRAIN_RES_1.drop_duplicates(subset=\"comp_name_demands\")\n",
    "    df_TRAIN_RES_1.drop(\"comp_name_demands\", axis=1, inplace=True)"
   ],
   "metadata": {
    "collapsed": false,
    "pycharm": {
     "name": "#%%\n"
    }
   }
  },
  {
   "cell_type": "code",
   "execution_count": 6,
   "outputs": [
    {
     "name": "stdout",
     "output_type": "stream",
     "text": [
      "proportion of samples choised clases:  0.9580346140836676\n"
     ]
    }
   ],
   "source": [
    "vc = df_TRAIN_RES_1[\"job_title\"].value_counts().sort_values(ascending=False)\n",
    "print(\"proportion of samples choised clases: \", vc.iloc[:200].values.sum() / vc.values.sum())"
   ],
   "metadata": {
    "collapsed": false,
    "pycharm": {
     "name": "#%%\n"
    }
   }
  },
  {
   "cell_type": "code",
   "execution_count": 7,
   "outputs": [],
   "source": [
    "used_classes = df_TRAIN_RES_1[\"job_title\"].value_counts().sort_values(ascending=False).iloc[:200].index.tolist()\n",
    "df_TRAIN_RES_1 = df_TRAIN_RES_1[df_TRAIN_RES_1[\"job_title\"].isin(used_classes)]\n",
    "# df_TRAIN_RES_1 = df_TRAIN_RES_1.iloc[::5]\n",
    "df_TRAIN_RES_1[\"len_group\"] = df_TRAIN_RES_1.groupby(\"id_cv\").agg({\"company_name\": \"count\"})"
   ],
   "metadata": {
    "collapsed": false,
    "pycharm": {
     "name": "#%%\n"
    }
   }
  },
  {
   "cell_type": "code",
   "execution_count": 8,
   "outputs": [
    {
     "data": {
      "text/plain": "                                        achievements  \\\n0                                                      \n1                                                      \n2  Работы не закончены, т.к. нет настоящего желан...   \n3                                                      \n4                                                      \n\n                                        company_name  \\\n0  Управление социальной защиты населения Сердобс...   \n1                     Администрация города Сердобска   \n2  январь 2016-настоящее времяООО «АРТЕЛЬ СТАРАТЕ...   \n3  ОАО «Васильевский рудник», п.Мотыгино, Красноя...   \n4  ООО «Артель старателей «ТАЛ»», Усть-Нера, Респ...   \n\n                                             demands  \\\n0  Работала,непосредственно, с федеральными льгот...   \n1      Работа с реестром муниципальной собственности   \n2  Курирую работы по рудному направлению: соавтор...   \n3        ГРП. Документация керна разведочных скважин   \n4  Поисково-разведочные работы на месторождении р...   \n\n                                  id_cv  job_title  achievements_len  \\\n0  52860148-26da-11e8-a184-9122a281f90e  инспектор                 0   \n1  52860148-26da-11e8-a184-9122a281f90e  инспектор                 0   \n2  e3c857b0-26a0-11e7-bcca-736ab11edb0c     геолог               185   \n3  e3c857b0-26a0-11e7-bcca-736ab11edb0c     геолог                 0   \n4  e3c857b0-26a0-11e7-bcca-736ab11edb0c     геолог                 0   \n\n   len_group  \n0        NaN  \n1        NaN  \n2        NaN  \n3        NaN  \n4        NaN  ",
      "text/html": "<div>\n<style scoped>\n    .dataframe tbody tr th:only-of-type {\n        vertical-align: middle;\n    }\n\n    .dataframe tbody tr th {\n        vertical-align: top;\n    }\n\n    .dataframe thead th {\n        text-align: right;\n    }\n</style>\n<table border=\"1\" class=\"dataframe\">\n  <thead>\n    <tr style=\"text-align: right;\">\n      <th></th>\n      <th>achievements</th>\n      <th>company_name</th>\n      <th>demands</th>\n      <th>id_cv</th>\n      <th>job_title</th>\n      <th>achievements_len</th>\n      <th>len_group</th>\n    </tr>\n  </thead>\n  <tbody>\n    <tr>\n      <th>0</th>\n      <td></td>\n      <td>Управление социальной защиты населения Сердобс...</td>\n      <td>Работала,непосредственно, с федеральными льгот...</td>\n      <td>52860148-26da-11e8-a184-9122a281f90e</td>\n      <td>инспектор</td>\n      <td>0</td>\n      <td>NaN</td>\n    </tr>\n    <tr>\n      <th>1</th>\n      <td></td>\n      <td>Администрация города Сердобска</td>\n      <td>Работа с реестром муниципальной собственности</td>\n      <td>52860148-26da-11e8-a184-9122a281f90e</td>\n      <td>инспектор</td>\n      <td>0</td>\n      <td>NaN</td>\n    </tr>\n    <tr>\n      <th>2</th>\n      <td>Работы не закончены, т.к. нет настоящего желан...</td>\n      <td>январь 2016-настоящее времяООО «АРТЕЛЬ СТАРАТЕ...</td>\n      <td>Курирую работы по рудному направлению: соавтор...</td>\n      <td>e3c857b0-26a0-11e7-bcca-736ab11edb0c</td>\n      <td>геолог</td>\n      <td>185</td>\n      <td>NaN</td>\n    </tr>\n    <tr>\n      <th>3</th>\n      <td></td>\n      <td>ОАО «Васильевский рудник», п.Мотыгино, Красноя...</td>\n      <td>ГРП. Документация керна разведочных скважин</td>\n      <td>e3c857b0-26a0-11e7-bcca-736ab11edb0c</td>\n      <td>геолог</td>\n      <td>0</td>\n      <td>NaN</td>\n    </tr>\n    <tr>\n      <th>4</th>\n      <td></td>\n      <td>ООО «Артель старателей «ТАЛ»», Усть-Нера, Респ...</td>\n      <td>Поисково-разведочные работы на месторождении р...</td>\n      <td>e3c857b0-26a0-11e7-bcca-736ab11edb0c</td>\n      <td>геолог</td>\n      <td>0</td>\n      <td>NaN</td>\n    </tr>\n  </tbody>\n</table>\n</div>"
     },
     "execution_count": 8,
     "metadata": {},
     "output_type": "execute_result"
    }
   ],
   "source": [
    "df_TRAIN_RES_1.head()"
   ],
   "metadata": {
    "collapsed": false,
    "pycharm": {
     "name": "#%%\n"
    }
   }
  },
  {
   "cell_type": "markdown",
   "source": [
    "## w2v for company names"
   ],
   "metadata": {
    "collapsed": false,
    "pycharm": {
     "name": "#%% md\n"
    }
   },
   "execution_count": 40
  },
  {
   "cell_type": "code",
   "execution_count": 9,
   "outputs": [
    {
     "name": "stderr",
     "output_type": "stream",
     "text": [
      "100%|██████████| 1594617/1594617 [00:08<00:00, 192998.52it/s]\n"
     ]
    }
   ],
   "source": [
    "if TRAIN_VECTORIZERS:\n",
    "    company_names = [i[\"company_name\"] + \" \" + i[\"job_title\"] for _, i in df_TRAIN_RES_1.iterrows()]\n",
    "    # Предобработка данных\n",
    "    sentences = preprocess_names(company_names)\n",
    "\n",
    "    # Обучение модели Word2Vec\n",
    "    model_comp_name = Word2Vec(sentences, vector_size=64, window=4, min_count=1, sg=1)\n",
    "    # Сохранение обученной модели\n",
    "    model_comp_name.save(\"models/company_word2vec_russian.model\")\n",
    "else:\n",
    "    company_names = [i[\"company_name\"] for _, i in df_TRAIN_RES_1.iterrows()]\n",
    "    # Предобработка данных\n",
    "    sentences = preprocess_names(company_names)\n",
    "\n",
    "    model_comp_name = Word2Vec.load(\"models/company_word2vec_russian.model\")\n",
    "\n",
    "# model_comp_name.wv.most_similar('компьютер')"
   ],
   "metadata": {
    "collapsed": false,
    "pycharm": {
     "name": "#%%\n"
    }
   }
  },
  {
   "cell_type": "code",
   "execution_count": 12,
   "outputs": [
    {
     "name": "stderr",
     "output_type": "stream",
     "text": [
      "100%|██████████| 1594617/1594617 [00:09<00:00, 169422.93it/s]\n",
      "100%|██████████| 1594617/1594617 [00:27<00:00, 57153.47it/s]\n"
     ]
    }
   ],
   "source": [
    "comp_names_without_job = preprocess_names(df_TRAIN_RES_1[\"company_name\"])\n",
    "emb_comp_name_df = get_emb_by_modele(model_comp_name, comp_names_without_job,\n",
    "                                     column_prefix=\"comp_name_emb\", vector_size=64)\n",
    "df_TRAIN_RES_1 = pd.concat([df_TRAIN_RES_1.reset_index(drop=True), emb_comp_name_df.reset_index(drop=True)], axis=1)"
   ],
   "metadata": {
    "collapsed": false,
    "pycharm": {
     "name": "#%%\n"
    }
   }
  },
  {
   "cell_type": "code",
   "execution_count": 12,
   "outputs": [],
   "source": [],
   "metadata": {
    "collapsed": false,
    "pycharm": {
     "name": "#%%\n"
    }
   }
  },
  {
   "cell_type": "markdown",
   "source": [
    "## w2v for demands"
   ],
   "metadata": {
    "collapsed": false,
    "pycharm": {
     "name": "#%% md\n"
    }
   }
  },
  {
   "cell_type": "code",
   "execution_count": 14,
   "outputs": [
    {
     "name": "stderr",
     "output_type": "stream",
     "text": [
      "ERROR:root:Internal Python error in the inspect module.\n",
      "Below is the traceback from this internal error.\n",
      "\n"
     ]
    },
    {
     "name": "stdout",
     "output_type": "stream",
     "text": [
      "Traceback (most recent call last):\n",
      "  File \"C:\\Users\\iltya\\anaconda3\\lib\\site-packages\\IPython\\core\\interactiveshell.py\", line 3444, in run_code\n",
      "    exec(code_obj, self.user_global_ns, self.user_ns)\n",
      "  File \"C:\\Users\\iltya\\AppData\\Local\\Temp/ipykernel_17340/2148372934.py\", line 11, in <module>\n",
      "    company_names = [i[\"demands\"] for _, i in df_TRAIN_RES_1.iterrows()]\n",
      "  File \"C:\\Users\\iltya\\AppData\\Local\\Temp/ipykernel_17340/2148372934.py\", line 11, in <listcomp>\n",
      "    company_names = [i[\"demands\"] for _, i in df_TRAIN_RES_1.iterrows()]\n",
      "  File \"C:\\Users\\iltya\\anaconda3\\lib\\site-packages\\pandas\\core\\frame.py\", line 1262, in iterrows\n",
      "    for k, v in zip(self.index, self.values):\n",
      "  File \"C:\\Users\\iltya\\anaconda3\\lib\\site-packages\\pandas\\core\\frame.py\", line 10664, in values\n",
      "    return self._mgr.as_array(transpose=True)\n",
      "  File \"C:\\Users\\iltya\\anaconda3\\lib\\site-packages\\pandas\\core\\internals\\managers.py\", line 1466, in as_array\n",
      "    arr = self._interleave(dtype=dtype, na_value=na_value)\n",
      "  File \"C:\\Users\\iltya\\anaconda3\\lib\\site-packages\\pandas\\core\\internals\\managers.py\", line 1520, in _interleave\n",
      "    arr = blk.get_values(dtype)  # type: ignore[arg-type]\n",
      "KeyboardInterrupt\n",
      "\n",
      "During handling of the above exception, another exception occurred:\n",
      "\n",
      "Traceback (most recent call last):\n",
      "  File \"C:\\Users\\iltya\\anaconda3\\lib\\site-packages\\IPython\\core\\interactiveshell.py\", line 3447, in run_code\n",
      "    sys.excepthook = old_excepthook\n",
      "KeyboardInterrupt\n",
      "\n",
      "During handling of the above exception, another exception occurred:\n",
      "\n",
      "Traceback (most recent call last):\n",
      "  File \"C:\\Users\\iltya\\anaconda3\\lib\\site-packages\\IPython\\core\\interactiveshell.py\", line 2064, in showtraceback\n",
      "    stb = value._render_traceback_()\n",
      "AttributeError: 'KeyboardInterrupt' object has no attribute '_render_traceback_'\n",
      "\n",
      "During handling of the above exception, another exception occurred:\n",
      "\n",
      "Traceback (most recent call last):\n",
      "  File \"C:\\Users\\iltya\\anaconda3\\lib\\site-packages\\IPython\\core\\ultratb.py\", line 1101, in get_records\n",
      "    return _fixed_getinnerframes(etb, number_of_lines_of_context, tb_offset)\n",
      "  File \"C:\\Users\\iltya\\anaconda3\\lib\\site-packages\\IPython\\core\\ultratb.py\", line 248, in wrapped\n",
      "    return f(*args, **kwargs)\n",
      "  File \"C:\\Users\\iltya\\anaconda3\\lib\\site-packages\\IPython\\core\\ultratb.py\", line 281, in _fixed_getinnerframes\n",
      "    records = fix_frame_records_filenames(inspect.getinnerframes(etb, context))\n",
      "  File \"C:\\Users\\iltya\\anaconda3\\lib\\inspect.py\", line 1541, in getinnerframes\n",
      "    frameinfo = (tb.tb_frame,) + getframeinfo(tb, context)\n",
      "  File \"C:\\Users\\iltya\\anaconda3\\lib\\inspect.py\", line 1499, in getframeinfo\n",
      "    filename = getsourcefile(frame) or getfile(frame)\n",
      "  File \"C:\\Users\\iltya\\anaconda3\\lib\\inspect.py\", line 709, in getsourcefile\n",
      "    if getattr(getmodule(object, filename), '__loader__', None) is not None:\n",
      "  File \"C:\\Users\\iltya\\anaconda3\\lib\\inspect.py\", line 745, in getmodule\n",
      "    for modname, module in sys.modules.copy().items():\n",
      "KeyboardInterrupt\n"
     ]
    },
    {
     "ename": "TypeError",
     "evalue": "object of type 'NoneType' has no len()",
     "output_type": "error",
     "traceback": [
      "\u001B[1;31m---------------------------------------------------------------------------\u001B[0m",
      "\u001B[1;31mKeyboardInterrupt\u001B[0m                         Traceback (most recent call last)",
      "    \u001B[1;31m[... skipping hidden 1 frame]\u001B[0m\n",
      "\u001B[1;32m~\\AppData\\Local\\Temp/ipykernel_17340/2148372934.py\u001B[0m in \u001B[0;36m<module>\u001B[1;34m\u001B[0m\n\u001B[0;32m     10\u001B[0m \u001B[1;32melse\u001B[0m\u001B[1;33m:\u001B[0m\u001B[1;33m\u001B[0m\u001B[1;33m\u001B[0m\u001B[0m\n\u001B[1;32m---> 11\u001B[1;33m     \u001B[0mcompany_names\u001B[0m \u001B[1;33m=\u001B[0m \u001B[1;33m[\u001B[0m\u001B[0mi\u001B[0m\u001B[1;33m[\u001B[0m\u001B[1;34m\"demands\"\u001B[0m\u001B[1;33m]\u001B[0m \u001B[1;32mfor\u001B[0m \u001B[0m_\u001B[0m\u001B[1;33m,\u001B[0m \u001B[0mi\u001B[0m \u001B[1;32min\u001B[0m \u001B[0mdf_TRAIN_RES_1\u001B[0m\u001B[1;33m.\u001B[0m\u001B[0miterrows\u001B[0m\u001B[1;33m(\u001B[0m\u001B[1;33m)\u001B[0m\u001B[1;33m]\u001B[0m\u001B[1;33m\u001B[0m\u001B[1;33m\u001B[0m\u001B[0m\n\u001B[0m\u001B[0;32m     12\u001B[0m     \u001B[1;31m# Предобработка данных\u001B[0m\u001B[1;33m\u001B[0m\u001B[1;33m\u001B[0m\u001B[0m\n",
      "\u001B[1;32m~\\AppData\\Local\\Temp/ipykernel_17340/2148372934.py\u001B[0m in \u001B[0;36m<listcomp>\u001B[1;34m(.0)\u001B[0m\n\u001B[0;32m     10\u001B[0m \u001B[1;32melse\u001B[0m\u001B[1;33m:\u001B[0m\u001B[1;33m\u001B[0m\u001B[1;33m\u001B[0m\u001B[0m\n\u001B[1;32m---> 11\u001B[1;33m     \u001B[0mcompany_names\u001B[0m \u001B[1;33m=\u001B[0m \u001B[1;33m[\u001B[0m\u001B[0mi\u001B[0m\u001B[1;33m[\u001B[0m\u001B[1;34m\"demands\"\u001B[0m\u001B[1;33m]\u001B[0m \u001B[1;32mfor\u001B[0m \u001B[0m_\u001B[0m\u001B[1;33m,\u001B[0m \u001B[0mi\u001B[0m \u001B[1;32min\u001B[0m \u001B[0mdf_TRAIN_RES_1\u001B[0m\u001B[1;33m.\u001B[0m\u001B[0miterrows\u001B[0m\u001B[1;33m(\u001B[0m\u001B[1;33m)\u001B[0m\u001B[1;33m]\u001B[0m\u001B[1;33m\u001B[0m\u001B[1;33m\u001B[0m\u001B[0m\n\u001B[0m\u001B[0;32m     12\u001B[0m     \u001B[1;31m# Предобработка данных\u001B[0m\u001B[1;33m\u001B[0m\u001B[1;33m\u001B[0m\u001B[0m\n",
      "\u001B[1;32m~\\anaconda3\\lib\\site-packages\\pandas\\core\\frame.py\u001B[0m in \u001B[0;36miterrows\u001B[1;34m(self)\u001B[0m\n\u001B[0;32m   1261\u001B[0m         \u001B[0mklass\u001B[0m \u001B[1;33m=\u001B[0m \u001B[0mself\u001B[0m\u001B[1;33m.\u001B[0m\u001B[0m_constructor_sliced\u001B[0m\u001B[1;33m\u001B[0m\u001B[1;33m\u001B[0m\u001B[0m\n\u001B[1;32m-> 1262\u001B[1;33m         \u001B[1;32mfor\u001B[0m \u001B[0mk\u001B[0m\u001B[1;33m,\u001B[0m \u001B[0mv\u001B[0m \u001B[1;32min\u001B[0m \u001B[0mzip\u001B[0m\u001B[1;33m(\u001B[0m\u001B[0mself\u001B[0m\u001B[1;33m.\u001B[0m\u001B[0mindex\u001B[0m\u001B[1;33m,\u001B[0m \u001B[0mself\u001B[0m\u001B[1;33m.\u001B[0m\u001B[0mvalues\u001B[0m\u001B[1;33m)\u001B[0m\u001B[1;33m:\u001B[0m\u001B[1;33m\u001B[0m\u001B[1;33m\u001B[0m\u001B[0m\n\u001B[0m\u001B[0;32m   1263\u001B[0m             \u001B[0ms\u001B[0m \u001B[1;33m=\u001B[0m \u001B[0mklass\u001B[0m\u001B[1;33m(\u001B[0m\u001B[0mv\u001B[0m\u001B[1;33m,\u001B[0m \u001B[0mindex\u001B[0m\u001B[1;33m=\u001B[0m\u001B[0mcolumns\u001B[0m\u001B[1;33m,\u001B[0m \u001B[0mname\u001B[0m\u001B[1;33m=\u001B[0m\u001B[0mk\u001B[0m\u001B[1;33m)\u001B[0m\u001B[1;33m\u001B[0m\u001B[1;33m\u001B[0m\u001B[0m\n",
      "\u001B[1;32m~\\anaconda3\\lib\\site-packages\\pandas\\core\\frame.py\u001B[0m in \u001B[0;36mvalues\u001B[1;34m(self)\u001B[0m\n\u001B[0;32m  10663\u001B[0m         \u001B[0mself\u001B[0m\u001B[1;33m.\u001B[0m\u001B[0m_consolidate_inplace\u001B[0m\u001B[1;33m(\u001B[0m\u001B[1;33m)\u001B[0m\u001B[1;33m\u001B[0m\u001B[1;33m\u001B[0m\u001B[0m\n\u001B[1;32m> 10664\u001B[1;33m         \u001B[1;32mreturn\u001B[0m \u001B[0mself\u001B[0m\u001B[1;33m.\u001B[0m\u001B[0m_mgr\u001B[0m\u001B[1;33m.\u001B[0m\u001B[0mas_array\u001B[0m\u001B[1;33m(\u001B[0m\u001B[0mtranspose\u001B[0m\u001B[1;33m=\u001B[0m\u001B[1;32mTrue\u001B[0m\u001B[1;33m)\u001B[0m\u001B[1;33m\u001B[0m\u001B[1;33m\u001B[0m\u001B[0m\n\u001B[0m\u001B[0;32m  10665\u001B[0m \u001B[1;33m\u001B[0m\u001B[0m\n",
      "\u001B[1;32m~\\anaconda3\\lib\\site-packages\\pandas\\core\\internals\\managers.py\u001B[0m in \u001B[0;36mas_array\u001B[1;34m(self, transpose, dtype, copy, na_value)\u001B[0m\n\u001B[0;32m   1465\u001B[0m         \u001B[1;32melse\u001B[0m\u001B[1;33m:\u001B[0m\u001B[1;33m\u001B[0m\u001B[1;33m\u001B[0m\u001B[0m\n\u001B[1;32m-> 1466\u001B[1;33m             \u001B[0marr\u001B[0m \u001B[1;33m=\u001B[0m \u001B[0mself\u001B[0m\u001B[1;33m.\u001B[0m\u001B[0m_interleave\u001B[0m\u001B[1;33m(\u001B[0m\u001B[0mdtype\u001B[0m\u001B[1;33m=\u001B[0m\u001B[0mdtype\u001B[0m\u001B[1;33m,\u001B[0m \u001B[0mna_value\u001B[0m\u001B[1;33m=\u001B[0m\u001B[0mna_value\u001B[0m\u001B[1;33m)\u001B[0m\u001B[1;33m\u001B[0m\u001B[1;33m\u001B[0m\u001B[0m\n\u001B[0m\u001B[0;32m   1467\u001B[0m             \u001B[1;31m# The underlying data was copied within _interleave\u001B[0m\u001B[1;33m\u001B[0m\u001B[1;33m\u001B[0m\u001B[0m\n",
      "\u001B[1;32m~\\anaconda3\\lib\\site-packages\\pandas\\core\\internals\\managers.py\u001B[0m in \u001B[0;36m_interleave\u001B[1;34m(self, dtype, na_value)\u001B[0m\n\u001B[0;32m   1519\u001B[0m                 \u001B[1;31m# \"Union[dtype[Any], ExtensionDtype, None]\"\u001B[0m\u001B[1;33m\u001B[0m\u001B[1;33m\u001B[0m\u001B[0m\n\u001B[1;32m-> 1520\u001B[1;33m                 \u001B[0marr\u001B[0m \u001B[1;33m=\u001B[0m \u001B[0mblk\u001B[0m\u001B[1;33m.\u001B[0m\u001B[0mget_values\u001B[0m\u001B[1;33m(\u001B[0m\u001B[0mdtype\u001B[0m\u001B[1;33m)\u001B[0m  \u001B[1;31m# type: ignore[arg-type]\u001B[0m\u001B[1;33m\u001B[0m\u001B[1;33m\u001B[0m\u001B[0m\n\u001B[0m\u001B[0;32m   1521\u001B[0m             \u001B[0mresult\u001B[0m\u001B[1;33m[\u001B[0m\u001B[0mrl\u001B[0m\u001B[1;33m.\u001B[0m\u001B[0mindexer\u001B[0m\u001B[1;33m]\u001B[0m \u001B[1;33m=\u001B[0m \u001B[0marr\u001B[0m\u001B[1;33m\u001B[0m\u001B[1;33m\u001B[0m\u001B[0m\n",
      "\u001B[1;31mKeyboardInterrupt\u001B[0m: ",
      "\nDuring handling of the above exception, another exception occurred:\n",
      "\u001B[1;31mKeyboardInterrupt\u001B[0m                         Traceback (most recent call last)",
      "\u001B[1;32m~\\anaconda3\\lib\\site-packages\\IPython\\core\\interactiveshell.py\u001B[0m in \u001B[0;36mrun_code\u001B[1;34m(self, code_obj, result, async_)\u001B[0m\n\u001B[0;32m   3446\u001B[0m                 \u001B[1;31m# Reset our crash handler in place\u001B[0m\u001B[1;33m\u001B[0m\u001B[1;33m\u001B[0m\u001B[0m\n\u001B[1;32m-> 3447\u001B[1;33m                 \u001B[0msys\u001B[0m\u001B[1;33m.\u001B[0m\u001B[0mexcepthook\u001B[0m \u001B[1;33m=\u001B[0m \u001B[0mold_excepthook\u001B[0m\u001B[1;33m\u001B[0m\u001B[1;33m\u001B[0m\u001B[0m\n\u001B[0m\u001B[0;32m   3448\u001B[0m         \u001B[1;32mexcept\u001B[0m \u001B[0mSystemExit\u001B[0m \u001B[1;32mas\u001B[0m \u001B[0me\u001B[0m\u001B[1;33m:\u001B[0m\u001B[1;33m\u001B[0m\u001B[1;33m\u001B[0m\u001B[0m\n",
      "\u001B[1;31mKeyboardInterrupt\u001B[0m: ",
      "\nDuring handling of the above exception, another exception occurred:\n",
      "\u001B[1;31mAttributeError\u001B[0m                            Traceback (most recent call last)",
      "\u001B[1;32m~\\anaconda3\\lib\\site-packages\\IPython\\core\\interactiveshell.py\u001B[0m in \u001B[0;36mshowtraceback\u001B[1;34m(self, exc_tuple, filename, tb_offset, exception_only, running_compiled_code)\u001B[0m\n\u001B[0;32m   2063\u001B[0m                         \u001B[1;31m# in the engines. This should return a list of strings.\u001B[0m\u001B[1;33m\u001B[0m\u001B[1;33m\u001B[0m\u001B[0m\n\u001B[1;32m-> 2064\u001B[1;33m                         \u001B[0mstb\u001B[0m \u001B[1;33m=\u001B[0m \u001B[0mvalue\u001B[0m\u001B[1;33m.\u001B[0m\u001B[0m_render_traceback_\u001B[0m\u001B[1;33m(\u001B[0m\u001B[1;33m)\u001B[0m\u001B[1;33m\u001B[0m\u001B[1;33m\u001B[0m\u001B[0m\n\u001B[0m\u001B[0;32m   2065\u001B[0m                     \u001B[1;32mexcept\u001B[0m \u001B[0mException\u001B[0m\u001B[1;33m:\u001B[0m\u001B[1;33m\u001B[0m\u001B[1;33m\u001B[0m\u001B[0m\n",
      "\u001B[1;31mAttributeError\u001B[0m: 'KeyboardInterrupt' object has no attribute '_render_traceback_'",
      "\nDuring handling of the above exception, another exception occurred:\n",
      "\u001B[1;31mTypeError\u001B[0m                                 Traceback (most recent call last)",
      "    \u001B[1;31m[... skipping hidden 1 frame]\u001B[0m\n",
      "\u001B[1;32m~\\anaconda3\\lib\\site-packages\\IPython\\core\\interactiveshell.py\u001B[0m in \u001B[0;36mshowtraceback\u001B[1;34m(self, exc_tuple, filename, tb_offset, exception_only, running_compiled_code)\u001B[0m\n\u001B[0;32m   2064\u001B[0m                         \u001B[0mstb\u001B[0m \u001B[1;33m=\u001B[0m \u001B[0mvalue\u001B[0m\u001B[1;33m.\u001B[0m\u001B[0m_render_traceback_\u001B[0m\u001B[1;33m(\u001B[0m\u001B[1;33m)\u001B[0m\u001B[1;33m\u001B[0m\u001B[1;33m\u001B[0m\u001B[0m\n\u001B[0;32m   2065\u001B[0m                     \u001B[1;32mexcept\u001B[0m \u001B[0mException\u001B[0m\u001B[1;33m:\u001B[0m\u001B[1;33m\u001B[0m\u001B[1;33m\u001B[0m\u001B[0m\n\u001B[1;32m-> 2066\u001B[1;33m                         stb = self.InteractiveTB.structured_traceback(etype,\n\u001B[0m\u001B[0;32m   2067\u001B[0m                                             value, tb, tb_offset=tb_offset)\n\u001B[0;32m   2068\u001B[0m \u001B[1;33m\u001B[0m\u001B[0m\n",
      "\u001B[1;32m~\\anaconda3\\lib\\site-packages\\IPython\\core\\ultratb.py\u001B[0m in \u001B[0;36mstructured_traceback\u001B[1;34m(self, etype, value, tb, tb_offset, number_of_lines_of_context)\u001B[0m\n\u001B[0;32m   1365\u001B[0m         \u001B[1;32melse\u001B[0m\u001B[1;33m:\u001B[0m\u001B[1;33m\u001B[0m\u001B[1;33m\u001B[0m\u001B[0m\n\u001B[0;32m   1366\u001B[0m             \u001B[0mself\u001B[0m\u001B[1;33m.\u001B[0m\u001B[0mtb\u001B[0m \u001B[1;33m=\u001B[0m \u001B[0mtb\u001B[0m\u001B[1;33m\u001B[0m\u001B[1;33m\u001B[0m\u001B[0m\n\u001B[1;32m-> 1367\u001B[1;33m         return FormattedTB.structured_traceback(\n\u001B[0m\u001B[0;32m   1368\u001B[0m             self, etype, value, tb, tb_offset, number_of_lines_of_context)\n\u001B[0;32m   1369\u001B[0m \u001B[1;33m\u001B[0m\u001B[0m\n",
      "\u001B[1;32m~\\anaconda3\\lib\\site-packages\\IPython\\core\\ultratb.py\u001B[0m in \u001B[0;36mstructured_traceback\u001B[1;34m(self, etype, value, tb, tb_offset, number_of_lines_of_context)\u001B[0m\n\u001B[0;32m   1265\u001B[0m         \u001B[1;32mif\u001B[0m \u001B[0mmode\u001B[0m \u001B[1;32min\u001B[0m \u001B[0mself\u001B[0m\u001B[1;33m.\u001B[0m\u001B[0mverbose_modes\u001B[0m\u001B[1;33m:\u001B[0m\u001B[1;33m\u001B[0m\u001B[1;33m\u001B[0m\u001B[0m\n\u001B[0;32m   1266\u001B[0m             \u001B[1;31m# Verbose modes need a full traceback\u001B[0m\u001B[1;33m\u001B[0m\u001B[1;33m\u001B[0m\u001B[0m\n\u001B[1;32m-> 1267\u001B[1;33m             return VerboseTB.structured_traceback(\n\u001B[0m\u001B[0;32m   1268\u001B[0m                 \u001B[0mself\u001B[0m\u001B[1;33m,\u001B[0m \u001B[0metype\u001B[0m\u001B[1;33m,\u001B[0m \u001B[0mvalue\u001B[0m\u001B[1;33m,\u001B[0m \u001B[0mtb\u001B[0m\u001B[1;33m,\u001B[0m \u001B[0mtb_offset\u001B[0m\u001B[1;33m,\u001B[0m \u001B[0mnumber_of_lines_of_context\u001B[0m\u001B[1;33m\u001B[0m\u001B[1;33m\u001B[0m\u001B[0m\n\u001B[0;32m   1269\u001B[0m             )\n",
      "\u001B[1;32m~\\anaconda3\\lib\\site-packages\\IPython\\core\\ultratb.py\u001B[0m in \u001B[0;36mstructured_traceback\u001B[1;34m(self, etype, evalue, etb, tb_offset, number_of_lines_of_context)\u001B[0m\n\u001B[0;32m   1140\u001B[0m         \u001B[0mchained_exc_ids\u001B[0m \u001B[1;33m=\u001B[0m \u001B[0mset\u001B[0m\u001B[1;33m(\u001B[0m\u001B[1;33m)\u001B[0m\u001B[1;33m\u001B[0m\u001B[1;33m\u001B[0m\u001B[0m\n\u001B[0;32m   1141\u001B[0m         \u001B[1;32mwhile\u001B[0m \u001B[0mevalue\u001B[0m\u001B[1;33m:\u001B[0m\u001B[1;33m\u001B[0m\u001B[1;33m\u001B[0m\u001B[0m\n\u001B[1;32m-> 1142\u001B[1;33m             formatted_exceptions += self.format_exception_as_a_whole(etype, evalue, etb, lines_of_context,\n\u001B[0m\u001B[0;32m   1143\u001B[0m                                                                      chained_exceptions_tb_offset)\n\u001B[0;32m   1144\u001B[0m             \u001B[0mexception\u001B[0m \u001B[1;33m=\u001B[0m \u001B[0mself\u001B[0m\u001B[1;33m.\u001B[0m\u001B[0mget_parts_of_chained_exception\u001B[0m\u001B[1;33m(\u001B[0m\u001B[0mevalue\u001B[0m\u001B[1;33m)\u001B[0m\u001B[1;33m\u001B[0m\u001B[1;33m\u001B[0m\u001B[0m\n",
      "\u001B[1;32m~\\anaconda3\\lib\\site-packages\\IPython\\core\\ultratb.py\u001B[0m in \u001B[0;36mformat_exception_as_a_whole\u001B[1;34m(self, etype, evalue, etb, number_of_lines_of_context, tb_offset)\u001B[0m\n\u001B[0;32m   1080\u001B[0m \u001B[1;33m\u001B[0m\u001B[0m\n\u001B[0;32m   1081\u001B[0m \u001B[1;33m\u001B[0m\u001B[0m\n\u001B[1;32m-> 1082\u001B[1;33m         \u001B[0mlast_unique\u001B[0m\u001B[1;33m,\u001B[0m \u001B[0mrecursion_repeat\u001B[0m \u001B[1;33m=\u001B[0m \u001B[0mfind_recursion\u001B[0m\u001B[1;33m(\u001B[0m\u001B[0morig_etype\u001B[0m\u001B[1;33m,\u001B[0m \u001B[0mevalue\u001B[0m\u001B[1;33m,\u001B[0m \u001B[0mrecords\u001B[0m\u001B[1;33m)\u001B[0m\u001B[1;33m\u001B[0m\u001B[1;33m\u001B[0m\u001B[0m\n\u001B[0m\u001B[0;32m   1083\u001B[0m \u001B[1;33m\u001B[0m\u001B[0m\n\u001B[0;32m   1084\u001B[0m         \u001B[0mframes\u001B[0m \u001B[1;33m=\u001B[0m \u001B[0mself\u001B[0m\u001B[1;33m.\u001B[0m\u001B[0mformat_records\u001B[0m\u001B[1;33m(\u001B[0m\u001B[0mrecords\u001B[0m\u001B[1;33m,\u001B[0m \u001B[0mlast_unique\u001B[0m\u001B[1;33m,\u001B[0m \u001B[0mrecursion_repeat\u001B[0m\u001B[1;33m)\u001B[0m\u001B[1;33m\u001B[0m\u001B[1;33m\u001B[0m\u001B[0m\n",
      "\u001B[1;32m~\\anaconda3\\lib\\site-packages\\IPython\\core\\ultratb.py\u001B[0m in \u001B[0;36mfind_recursion\u001B[1;34m(etype, value, records)\u001B[0m\n\u001B[0;32m    380\u001B[0m     \u001B[1;31m# first frame (from in to out) that looks different.\u001B[0m\u001B[1;33m\u001B[0m\u001B[1;33m\u001B[0m\u001B[0m\n\u001B[0;32m    381\u001B[0m     \u001B[1;32mif\u001B[0m \u001B[1;32mnot\u001B[0m \u001B[0mis_recursion_error\u001B[0m\u001B[1;33m(\u001B[0m\u001B[0metype\u001B[0m\u001B[1;33m,\u001B[0m \u001B[0mvalue\u001B[0m\u001B[1;33m,\u001B[0m \u001B[0mrecords\u001B[0m\u001B[1;33m)\u001B[0m\u001B[1;33m:\u001B[0m\u001B[1;33m\u001B[0m\u001B[1;33m\u001B[0m\u001B[0m\n\u001B[1;32m--> 382\u001B[1;33m         \u001B[1;32mreturn\u001B[0m \u001B[0mlen\u001B[0m\u001B[1;33m(\u001B[0m\u001B[0mrecords\u001B[0m\u001B[1;33m)\u001B[0m\u001B[1;33m,\u001B[0m \u001B[1;36m0\u001B[0m\u001B[1;33m\u001B[0m\u001B[1;33m\u001B[0m\u001B[0m\n\u001B[0m\u001B[0;32m    383\u001B[0m \u001B[1;33m\u001B[0m\u001B[0m\n\u001B[0;32m    384\u001B[0m     \u001B[1;31m# Select filename, lineno, func_name to track frames with\u001B[0m\u001B[1;33m\u001B[0m\u001B[1;33m\u001B[0m\u001B[0m\n",
      "\u001B[1;31mTypeError\u001B[0m: object of type 'NoneType' has no len()"
     ]
    }
   ],
   "source": [
    "\n",
    "if TRAIN_VECTORIZERS:\n",
    "    company_names = [i[\"demands\"] + \" \" + i[\"job_title\"] for _, i in df_TRAIN_RES_1.iterrows()]\n",
    "    # Предобработка данных\n",
    "    sentences = preprocess_names(company_names)\n",
    "\n",
    "    # Обучение модели Word2Vec\n",
    "    model_demand = Word2Vec(sentences, vector_size=100, window=8, min_count=1, sg=1)\n",
    "    # Сохранение обученной модели\n",
    "    model_demand.save(\"models/demand_word2vec_russian.model\")\n",
    "else:\n",
    "    company_names = [i[\"demands\"] for _, i in df_TRAIN_RES_1.iterrows()]\n",
    "    # Предобработка данных\n",
    "    sentences = preprocess_names(company_names)\n",
    "    model_demand = Word2Vec.load(\"models/demand_word2vec_russian.model\")\n",
    "\n",
    "model_demand.wv.most_similar('бухгалтер')"
   ],
   "metadata": {
    "collapsed": false,
    "pycharm": {
     "name": "#%%\n"
    }
   }
  },
  {
   "cell_type": "code",
   "execution_count": null,
   "outputs": [],
   "source": [
    "demand_without_job = preprocess_names(df_TRAIN_RES_1[\"demands\"])\n",
    "emb_demand_df = get_emb_by_modele(model_demand, demand_without_job, column_prefix=\"demand_emb\")\n",
    "df_TRAIN_RES_1 = pd.concat([df_TRAIN_RES_1.reset_index(drop=True), emb_demand_df.reset_index(drop=True)], axis=1)"
   ],
   "metadata": {
    "collapsed": false,
    "pycharm": {
     "name": "#%%\n"
    }
   }
  },
  {
   "cell_type": "code",
   "execution_count": null,
   "outputs": [],
   "source": [
    "df_TRAIN_RES_1.head()"
   ],
   "metadata": {
    "collapsed": false,
    "pycharm": {
     "name": "#%%\n"
    }
   }
  },
  {
   "cell_type": "code",
   "execution_count": null,
   "outputs": [],
   "source": [],
   "metadata": {
    "collapsed": false,
    "pycharm": {
     "name": "#%%\n"
    }
   }
  },
  {
   "cell_type": "markdown",
   "source": [
    "## add tf_idf company name"
   ],
   "metadata": {
    "collapsed": false,
    "pycharm": {
     "name": "#%% md\n"
    }
   },
   "execution_count": 18
  },
  {
   "cell_type": "code",
   "execution_count": null,
   "outputs": [],
   "source": [
    "sentences = preprocess_names(df_TRAIN_RES_1[\"company_name\"])\n",
    "\n",
    "column_prefix = \"comp_name_tfidf\"\n",
    "\n",
    "if TRAIN_VECTORIZERS:\n",
    "    comp_name_vectorizer, comp_name_tfidf = get_emb_by_tfidf([\" \".join(sent) for sent in sentences],\n",
    "                                                             column_prefix=column_prefix)\n",
    "else:\n",
    "    comp_name_vectorizer = pickle.load(open(\"models/comp_name_vectorizer.pkl\", \"rb\"))\n",
    "\n",
    "    comp_name_tfidf = comp_name_vectorizer.transform([\" \".join(sent) for sent in sentences])\n",
    "    comp_name_tfidf = pd.DataFrame(comp_name_tfidf.toarray(),\n",
    "                                   columns=[f\"{column_prefix}_{word}\" for word in comp_name_vectorizer.get_feature_names_out()])\n",
    "\n",
    "df_TRAIN_RES_1 = pd.concat([df_TRAIN_RES_1.reset_index(drop=True),\n",
    "                            comp_name_tfidf.reset_index(drop=True)], axis=1)"
   ],
   "metadata": {
    "collapsed": false,
    "pycharm": {
     "name": "#%%\n"
    }
   }
  },
  {
   "cell_type": "code",
   "execution_count": null,
   "outputs": [],
   "source": [],
   "metadata": {
    "collapsed": false,
    "pycharm": {
     "name": "#%%\n"
    }
   }
  },
  {
   "cell_type": "code",
   "execution_count": null,
   "outputs": [],
   "source": [
    "sentences = preprocess_names(df_TRAIN_RES_1[\"demands\"])\n",
    "\n",
    "column_prefix = \"demnds_tfidf\"\n",
    "\n",
    "if TRAIN_VECTORIZERS:\n",
    "    demands_vectorizer, demands_tfidf = get_emb_by_tfidf([\" \".join(sent) for sent in sentences],\n",
    "                                                     column_prefix=column_prefix)\n",
    "else:\n",
    "    demands_vectorizer = pickle.load(open(\"models/demands_vectorizer.pkl\", \"rb\"))\n",
    "\n",
    "    demands_tfidf = demands_vectorizer.transform([\" \".join(sent) for sent in sentences])\n",
    "    demands_tfidf = pd.DataFrame(demands_tfidf.toarray(),\n",
    "                                 columns=[f\"{column_prefix}_{word}\" for word in demands_vectorizer.get_feature_names_out()])\n",
    "\n",
    "df_TRAIN_RES_1 = pd.concat([df_TRAIN_RES_1.reset_index(drop=True),\n",
    "                            demands_tfidf.reset_index(drop=True)], axis=1)"
   ],
   "metadata": {
    "collapsed": false,
    "pycharm": {
     "name": "#%%\n"
    }
   }
  },
  {
   "cell_type": "code",
   "execution_count": null,
   "outputs": [],
   "source": [],
   "metadata": {
    "collapsed": false,
    "pycharm": {
     "name": "#%%\n"
    }
   }
  },
  {
   "cell_type": "code",
   "execution_count": null,
   "outputs": [],
   "source": [
    "sentences = preprocess_names(df_TRAIN_RES_1[\"achievements\"])\n",
    "\n",
    "column_prefix = \"achiv_tfidf\"\n",
    "\n",
    "if TRAIN_VECTORIZERS:\n",
    "    achiv_vectorizer, achiv_tfidf = get_emb_by_tfidf([\" \".join(sent) for sent in sentences],\n",
    "                                                     column_prefix=column_prefix)\n",
    "else:\n",
    "    achiv_vectorizer = pickle.load(open(\"models/achiv_vectorizer.pkl\", \"rb\"))\n",
    "    achiv_tfidf = achiv_vectorizer.transform([\" \".join(sent) for sent in sentences])\n",
    "    achiv_tfidf = pd.DataFrame(achiv_tfidf.toarray(),\n",
    "                               columns=[f\"{column_prefix}_{word}\" for word in demands_vectorizer.get_feature_names_out()])\n",
    "\n",
    "df_TRAIN_RES_1 = pd.concat([df_TRAIN_RES_1.reset_index(drop=True),\n",
    "                            achiv_tfidf.reset_index(drop=True)], axis=1)"
   ],
   "metadata": {
    "collapsed": false,
    "pycharm": {
     "name": "#%%\n"
    }
   }
  },
  {
   "cell_type": "code",
   "execution_count": null,
   "outputs": [],
   "source": [
    "df_TRAIN_RES_1.head()"
   ],
   "metadata": {
    "collapsed": false,
    "pycharm": {
     "name": "#%%\n"
    }
   }
  },
  {
   "cell_type": "code",
   "execution_count": null,
   "outputs": [],
   "source": [
    "# with open(\"comp_name_vectorizer.pkl\", \"wb\") as f:\n",
    "#     pickle.dump(comp_name_vectorizer, f)\n",
    "#\n",
    "# with open(\"demands_vectorizer.pkl\", \"wb\") as f:\n",
    "#     pickle.dump(demands_vectorizer, f)\n",
    "#\n",
    "# with open(\"achiv_vectorizer.pkl\", \"wb\") as f:\n",
    "#     pickle.dump(achiv_vectorizer, f)\n"
   ],
   "metadata": {
    "collapsed": false,
    "pycharm": {
     "name": "#%%\n"
    }
   }
  },
  {
   "cell_type": "code",
   "execution_count": null,
   "outputs": [],
   "source": [],
   "metadata": {
    "collapsed": false,
    "pycharm": {
     "name": "#%%\n"
    }
   }
  },
  {
   "cell_type": "markdown",
   "source": [
    "## train model"
   ],
   "metadata": {
    "collapsed": false,
    "pycharm": {
     "name": "#%% md\n"
    }
   }
  },
  {
   "cell_type": "code",
   "execution_count": null,
   "outputs": [],
   "source": [
    "df_TRAIN_RES_1 = df_TRAIN_RES_1.iloc[::5]"
   ],
   "metadata": {
    "collapsed": false,
    "pycharm": {
     "name": "#%%\n"
    }
   }
  },
  {
   "cell_type": "code",
   "execution_count": null,
   "outputs": [],
   "source": [
    "columns_to_drop = [\"achievements\", \"company_name\", \"demands\", \"id_cv\",]"
   ],
   "metadata": {
    "collapsed": false,
    "pycharm": {
     "name": "#%%\n"
    }
   }
  },
  {
   "cell_type": "code",
   "execution_count": null,
   "outputs": [],
   "source": [
    "X, y = df_TRAIN_RES_1.drop(columns_to_drop + [\"job_title\"], axis=1), df_TRAIN_RES_1[\"job_title\"]"
   ],
   "metadata": {
    "collapsed": false,
    "pycharm": {
     "name": "#%%\n"
    }
   }
  },
  {
   "cell_type": "code",
   "execution_count": null,
   "outputs": [],
   "source": [
    "from sklearn.model_selection import train_test_split\n",
    "N = 20_000\n",
    "X_train, X_test, y_train, y_test = train_test_split(X.iloc[:N], y.iloc[:N], stratify=y.iloc[:N], test_size=0.2, random_state=42)"
   ],
   "metadata": {
    "collapsed": false,
    "pycharm": {
     "name": "#%%\n"
    }
   }
  },
  {
   "cell_type": "code",
   "execution_count": null,
   "outputs": [],
   "source": [
    "from catboost import CatBoostClassifier, Pool\n",
    "\n",
    "train_pool = Pool(X_train, y_train)\n",
    "test_pool = Pool(X_test, y_test)"
   ],
   "metadata": {
    "collapsed": false,
    "pycharm": {
     "name": "#%%\n"
    }
   }
  },
  {
   "cell_type": "code",
   "execution_count": null,
   "outputs": [],
   "source": [
    "clf = CatBoostClassifier(task_type=\"GPU\", eval_metric=\"Accuracy\")\n",
    "clf.fit(train_pool, eval_set=test_pool, early_stopping_rounds=5)"
   ],
   "metadata": {
    "collapsed": false,
    "pycharm": {
     "name": "#%%\n"
    }
   }
  },
  {
   "cell_type": "code",
   "execution_count": 39,
   "outputs": [],
   "source": [
    "with open(\"clf.pkl\", \"wb\") as f:\n",
    "    pickle.dump(clf, f)"
   ],
   "metadata": {
    "collapsed": false,
    "pycharm": {
     "name": "#%%\n"
    }
   }
  },
  {
   "cell_type": "code",
   "execution_count": 47,
   "outputs": [
    {
     "data": {
      "text/plain": "Counter({'менеджер': 342,\n         'электрогазосварщик': 14,\n         'оператор': 223,\n         'водитель': 130,\n         'юрисконсульт': 91,\n         'специалист': 686,\n         'кладовщик': 38,\n         'директор': 154,\n         'мастер': 108,\n         'администратор': 87,\n         'кассир': 40,\n         'слесарь': 93,\n         'психолог': 14,\n         'инженер': 444,\n         'бухгалтер': 287,\n         'руководитель': 42,\n         'продавец': 94,\n         'машинист': 67,\n         'электромонтер': 73,\n         'заместитель': 99,\n         'экономист': 72,\n         'фельдшер': 11,\n         'консультант': 15,\n         'инспектор': 54,\n         'секретарь': 77,\n         'архивариус': 1,\n         'учитель': 77,\n         'сборщик': 4,\n         'механик': 34,\n         'укладчик': 2,\n         'медсестра': 7,\n         'официант': 8,\n         'монтажник': 37,\n         'педагог': 14,\n         'преподаватель': 76,\n         'охранник': 23,\n         'юрист': 22,\n         'воспитатель': 42,\n         'лаборант': 26,\n         'пожарный': 3,\n         'уборщица': 5,\n         'стропальщик': 1,\n         'библиотекарь': 5,\n         'подсобный рабочий': 5,\n         'повар': 13,\n         'ассистент': 2,\n         'упаковщик': 1,\n         'делопроизводитель': 11,\n         'энергетик': 4,\n         'диспетчер': 12,\n         'контролер': 15,\n         'проводник': 2,\n         'помощник директора': 1,\n         'уполномоченный': 2,\n         'техник': 2,\n         'дознаватель': 1,\n         'электромонтажник': 9,\n         'медицинская сестра': 5,\n         'управляющий': 3,\n         'плотник': 4,\n         'массажист': 4,\n         'дизайнер': 7,\n         'предприниматель': 7,\n         'уборщик': 6,\n         'эксперт': 9,\n         'аппаратчик': 3,\n         'экспедитор': 3,\n         'представитель': 7,\n         'регистратор': 2,\n         'программист': 5,\n         'бармен': 6,\n         'методист': 2,\n         'помощник воспитателя': 3,\n         'дорожный рабочий': 6,\n         'оперуполномоченный': 5,\n         'каменщик': 1,\n         'заведующий': 4,\n         'дворник': 2,\n         'инструктор': 2,\n         'вожатый': 8,\n         'тренер': 4,\n         'фармацевт': 2,\n         'следователь': 5,\n         'редактор': 6,\n         'прораб': 2,\n         'грузчик': 10,\n         'сторож': 5,\n         'сотрудник': 3,\n         'ветеринарный врач': 1,\n         'истопник': 3,\n         'геодезист': 1,\n         'аналитик': 2,\n         'курьер': 2,\n         'электромеханик': 1,\n         'геолог': 1,\n         'наладчик': 1,\n         'логист': 2,\n         'социальный работник': 2,\n         'сварщик': 3,\n         'помощник судьи': 2,\n         'почтальон': 3,\n         'координатор': 1,\n         'швея': 2,\n         'фрезеровщик': 1,\n         'конструктор': 3,\n         'горничная': 1,\n         'полицейский': 1,\n         'электромонтёр': 1,\n         'бариста': 1,\n         'станочник': 1,\n         'стрелок': 1})"
     },
     "execution_count": 47,
     "metadata": {},
     "output_type": "execute_result"
    }
   ],
   "source": [
    "from collections import Counter\n",
    "Counter([i[0] for i in clf.predict(X_test).tolist()])"
   ],
   "metadata": {
    "collapsed": false,
    "pycharm": {
     "name": "#%%\n"
    }
   }
  },
  {
   "cell_type": "code",
   "execution_count": null,
   "outputs": [],
   "source": [],
   "metadata": {
    "collapsed": false,
    "pycharm": {
     "name": "#%%\n"
    }
   }
  }
 ],
 "metadata": {
  "kernelspec": {
   "display_name": "Python 3",
   "language": "python",
   "name": "python3"
  },
  "language_info": {
   "codemirror_mode": {
    "name": "ipython",
    "version": 2
   },
   "file_extension": ".py",
   "mimetype": "text/x-python",
   "name": "python",
   "nbconvert_exporter": "python",
   "pygments_lexer": "ipython2",
   "version": "2.7.6"
  }
 },
 "nbformat": 4,
 "nbformat_minor": 0
}