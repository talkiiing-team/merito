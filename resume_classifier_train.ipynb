{
 "cells": [
  {
   "cell_type": "code",
   "execution_count": 1,
   "metadata": {
    "collapsed": true
   },
   "outputs": [
    {
     "name": "stderr",
     "output_type": "stream",
     "text": [
      "C:\\Users\\iltya\\anaconda3\\lib\\site-packages\\numpy\\_distributor_init.py:30: UserWarning: loaded more than 1 DLL from .libs:\n",
      "C:\\Users\\iltya\\anaconda3\\lib\\site-packages\\numpy\\.libs\\libopenblas.XWYDX2IKJW2NMTWSFYNGFUWKQU3LYTCZ.gfortran-win_amd64.dll\n",
      "C:\\Users\\iltya\\anaconda3\\lib\\site-packages\\numpy\\.libs\\libopenblas64__v0.3.23-246-g3d31191b-gcc_10_3_0.dll\n",
      "  warnings.warn(\"loaded more than 1 DLL from .libs:\"\n",
      "C:\\Users\\iltya\\AppData\\Roaming\\Python\\Python39\\site-packages\\scipy\\__init__.py:155: UserWarning: A NumPy version >=1.18.5 and <1.25.0 is required for this version of SciPy (detected version 1.25.2\n",
      "  warnings.warn(f\"A NumPy version >={np_minversion} and <{np_maxversion}\"\n"
     ]
    }
   ],
   "source": [
    "import gensim\n",
    "from gensim.models import Word2Vec\n",
    "import re\n",
    "import pymorphy2\n",
    "from tqdm import tqdm\n",
    "import pandas as pd\n",
    "import numpy as np\n",
    "import matplotlib.pyplot as plt\n",
    "import seaborn as sns\n",
    "import re\n",
    "import pickle\n",
    "from catboost import CatBoostRegressor, CatBoostClassifier, Pool\n",
    "# from my_parsers import download, parse\n",
    "from tqdm import tqdm\n",
    "from collections import Counter\n",
    "# from brown_clustering import BigramCorpus, BrownClustering\n",
    "\n",
    "pd.options.display.max_rows = 200\n",
    "tqdm.pandas()"
   ]
  },
  {
   "cell_type": "code",
   "execution_count": 2,
   "outputs": [],
   "source": [
    "df_TRAIN_RES_1 = pd.read_csv('vprod_train/TRAIN_RES_1.csv')\n",
    "\n",
    "#df_res = pd.concat([df_TRAIN_RES_1, df_TRAIN_RES_2, df_TRAIN_RES_3, df_TRAIN_RES_4, df_TRAIN_RES_5], axis=0)\n",
    "# df_sal = pd.read_csv('vprod_train/TRAIN_SAL.csv')"
   ],
   "metadata": {
    "collapsed": false,
    "pycharm": {
     "name": "#%%\n"
    }
   }
  },
  {
   "cell_type": "code",
   "execution_count": 3,
   "outputs": [],
   "source": [
    "# удаляем модифицированный столбец - он совпадает с точностью до регистра\n",
    "df_TRAIN_RES_1.drop(\"achievements_modified\", axis=1, inplace=True)\n",
    "\n",
    "for text_feature in [\"achievements\", \"company_name\", \"demands\"]:\n",
    "    df_TRAIN_RES_1[text_feature].fillna(\"\", inplace=True)\n",
    "\n",
    "df_TRAIN_RES_1[\"achievements_len\"] = [len(i) for i in df_TRAIN_RES_1[\"achievements\"]]\n",
    "df_TRAIN_RES_1.drop_duplicates(inplace=True)"
   ],
   "metadata": {
    "collapsed": false,
    "pycharm": {
     "name": "#%%\n"
    }
   }
  },
  {
   "cell_type": "code",
   "execution_count": 4,
   "outputs": [
    {
     "data": {
      "text/plain": "1664467"
     },
     "execution_count": 4,
     "metadata": {},
     "output_type": "execute_result"
    }
   ],
   "source": [
    "len(df_TRAIN_RES_1)"
   ],
   "metadata": {
    "collapsed": false,
    "pycharm": {
     "name": "#%%\n"
    }
   }
  },
  {
   "cell_type": "code",
   "execution_count": 5,
   "outputs": [],
   "source": [
    "DROP_PART_DUPLICATES = False\n",
    "\n",
    "if DROP_PART_DUPLICATES:\n",
    "    df_TRAIN_RES_1[\"comp_name_demands\"] = df_TRAIN_RES_1[\"demands\"] + df_TRAIN_RES_1[\"company_name\"]\n",
    "    df_TRAIN_RES_1 = df_TRAIN_RES_1.drop_duplicates(subset=\"comp_name_demands\")\n",
    "    df_TRAIN_RES_1.drop(\"comp_name_demands\", axis=1, inplace=True)"
   ],
   "metadata": {
    "collapsed": false,
    "pycharm": {
     "name": "#%%\n"
    }
   }
  },
  {
   "cell_type": "code",
   "execution_count": 6,
   "outputs": [
    {
     "data": {
      "text/plain": "1664467"
     },
     "execution_count": 6,
     "metadata": {},
     "output_type": "execute_result"
    }
   ],
   "source": [
    "len(df_TRAIN_RES_1)"
   ],
   "metadata": {
    "collapsed": false,
    "pycharm": {
     "name": "#%%\n"
    }
   }
  },
  {
   "cell_type": "code",
   "execution_count": 7,
   "outputs": [
    {
     "name": "stdout",
     "output_type": "stream",
     "text": [
      "proportion of samples choised clases:  0.9580346140836676\n"
     ]
    }
   ],
   "source": [
    "vc = df_TRAIN_RES_1[\"job_title\"].value_counts().sort_values(ascending=False)\n",
    "print(\"proportion of samples choised clases: \", vc.iloc[:200].values.sum() / vc.values.sum())"
   ],
   "metadata": {
    "collapsed": false,
    "pycharm": {
     "name": "#%%\n"
    }
   }
  },
  {
   "cell_type": "code",
   "execution_count": 8,
   "outputs": [],
   "source": [
    "used_classes = df_TRAIN_RES_1[\"job_title\"].value_counts().sort_values(ascending=False).iloc[:200].index.tolist()\n",
    "df_TRAIN_RES_1 = df_TRAIN_RES_1[df_TRAIN_RES_1[\"job_title\"].isin(used_classes)]"
   ],
   "metadata": {
    "collapsed": false,
    "pycharm": {
     "name": "#%%\n"
    }
   }
  },
  {
   "cell_type": "code",
   "execution_count": 9,
   "outputs": [
    {
     "data": {
      "text/plain": "1594617"
     },
     "execution_count": 9,
     "metadata": {},
     "output_type": "execute_result"
    }
   ],
   "source": [
    "len(df_TRAIN_RES_1)"
   ],
   "metadata": {
    "collapsed": false,
    "pycharm": {
     "name": "#%%\n"
    }
   }
  },
  {
   "cell_type": "code",
   "execution_count": 10,
   "outputs": [],
   "source": [
    "df_TRAIN_RES_1 = df_TRAIN_RES_1.iloc[::5]"
   ],
   "metadata": {
    "collapsed": false,
    "pycharm": {
     "name": "#%%\n"
    }
   }
  },
  {
   "cell_type": "code",
   "execution_count": 11,
   "outputs": [
    {
     "data": {
      "text/plain": "318924"
     },
     "execution_count": 11,
     "metadata": {},
     "output_type": "execute_result"
    }
   ],
   "source": [
    "len(df_TRAIN_RES_1)"
   ],
   "metadata": {
    "collapsed": false,
    "pycharm": {
     "name": "#%%\n"
    }
   }
  },
  {
   "cell_type": "code",
   "execution_count": 24,
   "outputs": [],
   "source": [
    "df_TRAIN_RES_1[\"len_group\"] = df_TRAIN_RES_1.groupby(\"id_cv\").agg({\"company_name\": \"count\"})"
   ],
   "metadata": {
    "collapsed": false,
    "pycharm": {
     "name": "#%%\n"
    }
   }
  },
  {
   "cell_type": "code",
   "execution_count": null,
   "outputs": [],
   "source": [],
   "metadata": {
    "collapsed": false,
    "pycharm": {
     "name": "#%%\n"
    }
   }
  },
  {
   "cell_type": "code",
   "execution_count": 28,
   "outputs": [
    {
     "name": "stderr",
     "output_type": "stream",
     "text": [
      "C:\\Users\\iltya\\anaconda3\\lib\\site-packages\\sklearn\\base.py:329: UserWarning: Trying to unpickle estimator KNeighborsClassifier from version 1.4.2 when using version 1.0.2. This might lead to breaking code or invalid results. Use at your own risk. For more info please refer to:\n",
      "https://scikit-learn.org/stable/modules/model_persistence.html#security-maintainability-limitations\n",
      "  warnings.warn(\n"
     ]
    }
   ],
   "source": [
    "clf_big_sphere = pickle.load(open(\"sphere_clf.pickle\", \"rb\"))"
   ],
   "metadata": {
    "collapsed": false,
    "pycharm": {
     "name": "#%%\n"
    }
   }
  },
  {
   "cell_type": "code",
   "execution_count": null,
   "outputs": [],
   "source": [],
   "metadata": {
    "collapsed": false,
    "pycharm": {
     "name": "#%%\n"
    }
   }
  },
  {
   "cell_type": "code",
   "execution_count": 12,
   "outputs": [],
   "source": [
    "# df_TRAIN_RES_1[\"id_cv_2\"] = [i.split(\"-\")[2] for i in df_TRAIN_RES_1[\"id_cv\"]]\n",
    "# df_TRAIN_RES_1[\"id_cv_4\"] = [i.split(\"-\")[4] for i in df_TRAIN_RES_1[\"id_cv\"]]"
   ],
   "metadata": {
    "collapsed": false,
    "pycharm": {
     "name": "#%%\n"
    }
   }
  },
  {
   "cell_type": "code",
   "execution_count": 12,
   "outputs": [],
   "source": [],
   "metadata": {
    "collapsed": false,
    "pycharm": {
     "name": "#%%\n"
    }
   }
  },
  {
   "cell_type": "markdown",
   "source": [
    "## Word2vec common functions"
   ],
   "metadata": {
    "collapsed": false,
    "pycharm": {
     "name": "#%% md\n"
    }
   }
  },
  {
   "cell_type": "code",
   "execution_count": 29,
   "outputs": [],
   "source": [
    "# Инициализация анализатора pymorphy2 для лемматизации\n",
    "morph = pymorphy2.MorphAnalyzer()\n",
    "\n",
    "# Функция для лемматизации слова\n",
    "def lemmatize_word(word):\n",
    "    return morph.parse(word)[0].normal_form\n",
    "\n",
    "# Функция для предобработки данных (разбиение на слова, лемматизация, удаление пунктуации)\n",
    "def preprocess_names(company_names):\n",
    "    processed_names = []\n",
    "    for name in tqdm(company_names):\n",
    "        # Приводим название к нижнему регистру\n",
    "        name = name.lower()\n",
    "        # Удаляем всю пунктуацию, оставляем только слова\n",
    "        name = re.sub(r'[^\\w\\s]', '', name)\n",
    "        # Разбиваем на отдельные слова\n",
    "        words = name.split()\n",
    "\n",
    "        # Лемматизируем каждое слово\n",
    "        # lemmatized_words = [lemmatize_word(word) for word in words]\n",
    "\n",
    "        processed_names.append(words)\n",
    "    return processed_names\n",
    "\n",
    "\n",
    "def get_emb_by_modele(model, comp_names_without_job, column_prefix):\n",
    "    all_tokens = set(model.wv.index_to_key)\n",
    "    word_vectors_dict = {word: model.wv[word] for word in model.wv.index_to_key}\n",
    "\n",
    "    all_embds = []\n",
    "\n",
    "    for sent in tqdm(comp_names_without_job):\n",
    "        all_emb = [word_vectors_dict[word] for word in sent if word in all_tokens]\n",
    "\n",
    "        if len(all_emb) == 0:\n",
    "            emb = np.zeros(100)\n",
    "        else:\n",
    "            emb = np.mean(all_emb, axis=0)\n",
    "\n",
    "        all_embds.append(emb)\n",
    "    emb_comp_name_df = pd.DataFrame(np.array(all_embds), columns=[f\"{column_prefix}_{i}\" for i in range(100)])\n",
    "    return emb_comp_name_df"
   ],
   "metadata": {
    "collapsed": false,
    "pycharm": {
     "name": "#%%\n"
    }
   }
  },
  {
   "cell_type": "code",
   "execution_count": 30,
   "outputs": [],
   "source": [
    "from sklearn.feature_extraction.text import TfidfVectorizer\n",
    "\n",
    "def get_emb_by_tfidf(processed_sentences, column_prefix, max_features=100, ):\n",
    "    tfidf_vectorizer = TfidfVectorizer(max_features=max_features)\n",
    "    tfidf_matrix = tfidf_vectorizer.fit_transform(processed_sentences)\n",
    "\n",
    "    # Преобразуем разреженную матрицу TF-IDF в плотный формат и создаем DataFrame\n",
    "    tfidf_df = pd.DataFrame(tfidf_matrix.toarray(), columns=[f\"{column_prefix}_{word}\" for word in tfidf_vectorizer.get_feature_names_out()])\n",
    "    return tfidf_vectorizer, tfidf_df"
   ],
   "metadata": {
    "collapsed": false,
    "pycharm": {
     "name": "#%%\n"
    }
   }
  },
  {
   "cell_type": "code",
   "execution_count": 30,
   "outputs": [],
   "source": [],
   "metadata": {
    "collapsed": false,
    "pycharm": {
     "name": "#%%\n"
    }
   }
  },
  {
   "cell_type": "markdown",
   "source": [
    "## w2v for company names"
   ],
   "metadata": {
    "collapsed": false,
    "pycharm": {
     "name": "#%% md\n"
    }
   },
   "execution_count": 40
  },
  {
   "cell_type": "code",
   "execution_count": 31,
   "outputs": [
    {
     "name": "stderr",
     "output_type": "stream",
     "text": [
      "100%|██████████| 318924/318924 [00:01<00:00, 226988.59it/s]\n"
     ]
    }
   ],
   "source": [
    "company_names = [i[\"company_name\"] + \" \" + i[\"job_title\"] for _, i in df_TRAIN_RES_1.iterrows()]\n",
    "# Предобработка данных\n",
    "sentences = preprocess_names(company_names)"
   ],
   "metadata": {
    "collapsed": false,
    "pycharm": {
     "name": "#%%\n"
    }
   }
  },
  {
   "cell_type": "code",
   "execution_count": 32,
   "outputs": [
    {
     "data": {
      "text/plain": "4.5773287679823405"
     },
     "execution_count": 32,
     "metadata": {},
     "output_type": "execute_result"
    }
   ],
   "source": [
    "np.mean([len(i) for i in sentences])"
   ],
   "metadata": {
    "collapsed": false,
    "pycharm": {
     "name": "#%%\n"
    }
   }
  },
  {
   "cell_type": "code",
   "execution_count": 33,
   "outputs": [],
   "source": [
    "RETRAIN_MODEL = False\n",
    "\n",
    "if RETRAIN_MODEL:\n",
    "    # Обучение модели Word2Vec\n",
    "    model_comp_name = Word2Vec(sentences, vector_size=64, window=4, min_count=1, sg=1)\n",
    "    # Сохранение обученной модели\n",
    "    model_comp_name.save(\"company_word2vec_russian.model\")\n",
    "else:\n",
    "    model_comp_name = Word2Vec.load(\"company_word2vec_russian.model\")\n",
    "\n",
    "# model_comp_name.wv.most_similar('компьютер')"
   ],
   "metadata": {
    "collapsed": false,
    "pycharm": {
     "name": "#%%\n"
    }
   }
  },
  {
   "cell_type": "code",
   "execution_count": 34,
   "outputs": [
    {
     "name": "stderr",
     "output_type": "stream",
     "text": [
      "100%|██████████| 318924/318924 [00:01<00:00, 285263.45it/s]\n",
      "100%|██████████| 318924/318924 [00:04<00:00, 71740.66it/s]\n"
     ]
    }
   ],
   "source": [
    "comp_names_without_job = preprocess_names(df_TRAIN_RES_1[\"company_name\"])\n",
    "emb_comp_name_df = get_emb_by_modele(model_comp_name, comp_names_without_job, column_prefix=\"comp_name_emb\")\n",
    "df_TRAIN_RES_1 = pd.concat([df_TRAIN_RES_1.reset_index(drop=True), emb_comp_name_df.reset_index(drop=True)], axis=1)"
   ],
   "metadata": {
    "collapsed": false,
    "pycharm": {
     "name": "#%%\n"
    }
   }
  },
  {
   "cell_type": "code",
   "execution_count": 34,
   "outputs": [],
   "source": [],
   "metadata": {
    "collapsed": false,
    "pycharm": {
     "name": "#%%\n"
    }
   }
  },
  {
   "cell_type": "markdown",
   "source": [
    "## w2v for demands"
   ],
   "metadata": {
    "collapsed": false,
    "pycharm": {
     "name": "#%% md\n"
    }
   }
  },
  {
   "cell_type": "code",
   "execution_count": 35,
   "outputs": [
    {
     "name": "stderr",
     "output_type": "stream",
     "text": [
      "100%|██████████| 318924/318924 [00:03<00:00, 82325.49it/s] \n"
     ]
    }
   ],
   "source": [
    "company_names = [i[\"demands\"] + \" \" + i[\"job_title\"] for _, i in df_TRAIN_RES_1.iterrows()]\n",
    "# Предобработка данных\n",
    "sentences = preprocess_names(company_names)"
   ],
   "metadata": {
    "collapsed": false,
    "pycharm": {
     "name": "#%%\n"
    }
   }
  },
  {
   "cell_type": "code",
   "execution_count": 36,
   "outputs": [
    {
     "data": {
      "text/plain": "33.00717412298855"
     },
     "execution_count": 36,
     "metadata": {},
     "output_type": "execute_result"
    }
   ],
   "source": [
    "np.mean([len(i) for i in sentences])"
   ],
   "metadata": {
    "collapsed": false,
    "pycharm": {
     "name": "#%%\n"
    }
   }
  },
  {
   "cell_type": "code",
   "execution_count": 36,
   "outputs": [],
   "source": [],
   "metadata": {
    "collapsed": false,
    "pycharm": {
     "name": "#%%\n"
    }
   }
  },
  {
   "cell_type": "code",
   "execution_count": 37,
   "outputs": [
    {
     "data": {
      "text/plain": "[('авансовые', 0.8037424683570862),\n ('кассыбанка', 0.7973775863647461),\n ('бух', 0.7930706739425659),\n ('кассабанк', 0.7926923036575317),\n ('фсспфр', 0.7875778079032898),\n ('налоговойстатистической', 0.7757202386856079),\n ('клинтбанк', 0.7753341197967529),\n ('кудир', 0.7724557518959045),\n ('заработная', 0.7707493305206299),\n ('пфрфссифнс', 0.7690602540969849)]"
     },
     "execution_count": 37,
     "metadata": {},
     "output_type": "execute_result"
    }
   ],
   "source": [
    "RETRAIN_MODEL = False\n",
    "\n",
    "if RETRAIN_MODEL:\n",
    "    # Обучение модели Word2Vec\n",
    "    model_demand = Word2Vec(sentences, vector_size=100, window=8, min_count=1, sg=1)\n",
    "    # Сохранение обученной модели\n",
    "    model_demand.save(\"demand_word2vec_russian.model\")\n",
    "else:\n",
    "    model_demand = Word2Vec.load(\"demand_word2vec_russian.model\")\n",
    "\n",
    "model_demand.wv.most_similar('бухгалтер')"
   ],
   "metadata": {
    "collapsed": false,
    "pycharm": {
     "name": "#%%\n"
    }
   }
  },
  {
   "cell_type": "code",
   "execution_count": 38,
   "outputs": [
    {
     "name": "stderr",
     "output_type": "stream",
     "text": [
      "100%|██████████| 318924/318924 [00:03<00:00, 82345.55it/s] \n",
      "100%|██████████| 318924/318924 [00:11<00:00, 28783.95it/s]\n"
     ]
    }
   ],
   "source": [
    "demand_without_job = preprocess_names(df_TRAIN_RES_1[\"demands\"])\n",
    "emb_demand_df = get_emb_by_modele(model_demand, demand_without_job, column_prefix=\"demand_emb\")\n",
    "df_TRAIN_RES_1 = pd.concat([df_TRAIN_RES_1.reset_index(drop=True), emb_demand_df.reset_index(drop=True)], axis=1)"
   ],
   "metadata": {
    "collapsed": false,
    "pycharm": {
     "name": "#%%\n"
    }
   }
  },
  {
   "cell_type": "code",
   "execution_count": 38,
   "outputs": [],
   "source": [],
   "metadata": {
    "collapsed": false,
    "pycharm": {
     "name": "#%%\n"
    }
   }
  },
  {
   "cell_type": "code",
   "execution_count": 39,
   "outputs": [
    {
     "data": {
      "text/plain": "                                       achievements  \\\n0                                                     \n1                                                     \n2                                                     \n3  нет, т.к. участкам дано отрицательное заключение   \n4                                                     \n\n                                        company_name  \\\n0  Управление социальной защиты населения Сердобс...   \n1         ОАО «Высочайший» п.Бодайбо, Иркутская обл.   \n2           ОАО «БАЙКАЛГЕО» п. Нижнеангарск, Бурятия   \n3  ООО «Артель старателей «ТАЛ»», Усть-Нера, Респ...   \n4  Администрация Северо-Байкальского района, п.Ни...   \n\n                                             demands  \\\n0  Работала,непосредственно, с федеральными льгот...   \n1  Разведка с применением поверхностных горных вы...   \n2  Проведение геологоразведочных работ на россыпн...   \n3  руководил поисково-разведочными работами на бу...   \n4  Разработка программ развития района, статистич...   \n\n                                  id_cv    job_title  achievements_len  \\\n0  52860148-26da-11e8-a184-9122a281f90e    инспектор                 0   \n1  e3c857b0-26a0-11e7-bcca-736ab11edb0c       геолог                 0   \n2  e3c857b0-26a0-11e7-bcca-736ab11edb0c  заместитель                 0   \n3  d09f8cf0-2b52-11e8-a7fa-ef76bd2a03c1       геолог                48   \n4  d09f8cf0-2b52-11e8-a7fa-ef76bd2a03c1  заместитель                 0   \n\n   len_group  comp_name_emb_0  comp_name_emb_1  comp_name_emb_2  ...  \\\n0        NaN        -0.293772        -0.564505        -0.419635  ...   \n1        NaN        -0.330126        -0.029948         0.391855  ...   \n2        NaN        -0.318120         0.166147        -0.214572  ...   \n3        NaN        -0.201948         0.644514        -0.182316  ...   \n4        NaN        -0.586076        -0.180409        -0.088037  ...   \n\n   demand_emb_90  demand_emb_91  demand_emb_92  demand_emb_93  demand_emb_94  \\\n0       0.183418       0.258860       0.290902      -0.200651       0.256295   \n1       0.170837       0.391514       0.734838       0.099061       0.517577   \n2       0.150262       0.246992       0.499546      -0.141324       0.373341   \n3       0.123024       0.314913       0.608443      -0.120845       0.590910   \n4       0.084129       0.042485       0.603362      -0.176048       0.255731   \n\n   demand_emb_95  demand_emb_96  demand_emb_97  demand_emb_98  demand_emb_99  \n0       0.253528       0.045275      -0.140245      -0.149471      -0.227559  \n1       0.271957       0.088179      -0.515044      -0.201592      -0.200995  \n2       0.260797       0.153022      -0.454782      -0.204571      -0.216284  \n3       0.153910       0.097952      -0.359757      -0.168976      -0.194691  \n4       0.096839       0.305328      -0.284165      -0.173182      -0.192775  \n\n[5 rows x 207 columns]",
      "text/html": "<div>\n<style scoped>\n    .dataframe tbody tr th:only-of-type {\n        vertical-align: middle;\n    }\n\n    .dataframe tbody tr th {\n        vertical-align: top;\n    }\n\n    .dataframe thead th {\n        text-align: right;\n    }\n</style>\n<table border=\"1\" class=\"dataframe\">\n  <thead>\n    <tr style=\"text-align: right;\">\n      <th></th>\n      <th>achievements</th>\n      <th>company_name</th>\n      <th>demands</th>\n      <th>id_cv</th>\n      <th>job_title</th>\n      <th>achievements_len</th>\n      <th>len_group</th>\n      <th>comp_name_emb_0</th>\n      <th>comp_name_emb_1</th>\n      <th>comp_name_emb_2</th>\n      <th>...</th>\n      <th>demand_emb_90</th>\n      <th>demand_emb_91</th>\n      <th>demand_emb_92</th>\n      <th>demand_emb_93</th>\n      <th>demand_emb_94</th>\n      <th>demand_emb_95</th>\n      <th>demand_emb_96</th>\n      <th>demand_emb_97</th>\n      <th>demand_emb_98</th>\n      <th>demand_emb_99</th>\n    </tr>\n  </thead>\n  <tbody>\n    <tr>\n      <th>0</th>\n      <td></td>\n      <td>Управление социальной защиты населения Сердобс...</td>\n      <td>Работала,непосредственно, с федеральными льгот...</td>\n      <td>52860148-26da-11e8-a184-9122a281f90e</td>\n      <td>инспектор</td>\n      <td>0</td>\n      <td>NaN</td>\n      <td>-0.293772</td>\n      <td>-0.564505</td>\n      <td>-0.419635</td>\n      <td>...</td>\n      <td>0.183418</td>\n      <td>0.258860</td>\n      <td>0.290902</td>\n      <td>-0.200651</td>\n      <td>0.256295</td>\n      <td>0.253528</td>\n      <td>0.045275</td>\n      <td>-0.140245</td>\n      <td>-0.149471</td>\n      <td>-0.227559</td>\n    </tr>\n    <tr>\n      <th>1</th>\n      <td></td>\n      <td>ОАО «Высочайший» п.Бодайбо, Иркутская обл.</td>\n      <td>Разведка с применением поверхностных горных вы...</td>\n      <td>e3c857b0-26a0-11e7-bcca-736ab11edb0c</td>\n      <td>геолог</td>\n      <td>0</td>\n      <td>NaN</td>\n      <td>-0.330126</td>\n      <td>-0.029948</td>\n      <td>0.391855</td>\n      <td>...</td>\n      <td>0.170837</td>\n      <td>0.391514</td>\n      <td>0.734838</td>\n      <td>0.099061</td>\n      <td>0.517577</td>\n      <td>0.271957</td>\n      <td>0.088179</td>\n      <td>-0.515044</td>\n      <td>-0.201592</td>\n      <td>-0.200995</td>\n    </tr>\n    <tr>\n      <th>2</th>\n      <td></td>\n      <td>ОАО «БАЙКАЛГЕО» п. Нижнеангарск, Бурятия</td>\n      <td>Проведение геологоразведочных работ на россыпн...</td>\n      <td>e3c857b0-26a0-11e7-bcca-736ab11edb0c</td>\n      <td>заместитель</td>\n      <td>0</td>\n      <td>NaN</td>\n      <td>-0.318120</td>\n      <td>0.166147</td>\n      <td>-0.214572</td>\n      <td>...</td>\n      <td>0.150262</td>\n      <td>0.246992</td>\n      <td>0.499546</td>\n      <td>-0.141324</td>\n      <td>0.373341</td>\n      <td>0.260797</td>\n      <td>0.153022</td>\n      <td>-0.454782</td>\n      <td>-0.204571</td>\n      <td>-0.216284</td>\n    </tr>\n    <tr>\n      <th>3</th>\n      <td>нет, т.к. участкам дано отрицательное заключение</td>\n      <td>ООО «Артель старателей «ТАЛ»», Усть-Нера, Респ...</td>\n      <td>руководил поисково-разведочными работами на бу...</td>\n      <td>d09f8cf0-2b52-11e8-a7fa-ef76bd2a03c1</td>\n      <td>геолог</td>\n      <td>48</td>\n      <td>NaN</td>\n      <td>-0.201948</td>\n      <td>0.644514</td>\n      <td>-0.182316</td>\n      <td>...</td>\n      <td>0.123024</td>\n      <td>0.314913</td>\n      <td>0.608443</td>\n      <td>-0.120845</td>\n      <td>0.590910</td>\n      <td>0.153910</td>\n      <td>0.097952</td>\n      <td>-0.359757</td>\n      <td>-0.168976</td>\n      <td>-0.194691</td>\n    </tr>\n    <tr>\n      <th>4</th>\n      <td></td>\n      <td>Администрация Северо-Байкальского района, п.Ни...</td>\n      <td>Разработка программ развития района, статистич...</td>\n      <td>d09f8cf0-2b52-11e8-a7fa-ef76bd2a03c1</td>\n      <td>заместитель</td>\n      <td>0</td>\n      <td>NaN</td>\n      <td>-0.586076</td>\n      <td>-0.180409</td>\n      <td>-0.088037</td>\n      <td>...</td>\n      <td>0.084129</td>\n      <td>0.042485</td>\n      <td>0.603362</td>\n      <td>-0.176048</td>\n      <td>0.255731</td>\n      <td>0.096839</td>\n      <td>0.305328</td>\n      <td>-0.284165</td>\n      <td>-0.173182</td>\n      <td>-0.192775</td>\n    </tr>\n  </tbody>\n</table>\n<p>5 rows × 207 columns</p>\n</div>"
     },
     "execution_count": 39,
     "metadata": {},
     "output_type": "execute_result"
    }
   ],
   "source": [
    "df_TRAIN_RES_1.head()"
   ],
   "metadata": {
    "collapsed": false,
    "pycharm": {
     "name": "#%%\n"
    }
   }
  },
  {
   "cell_type": "code",
   "execution_count": 39,
   "outputs": [],
   "source": [],
   "metadata": {
    "collapsed": false,
    "pycharm": {
     "name": "#%%\n"
    }
   }
  },
  {
   "cell_type": "markdown",
   "source": [
    "## add tf_idf company name"
   ],
   "metadata": {
    "collapsed": false,
    "pycharm": {
     "name": "#%% md\n"
    }
   },
   "execution_count": 18
  },
  {
   "cell_type": "code",
   "execution_count": 40,
   "outputs": [
    {
     "name": "stderr",
     "output_type": "stream",
     "text": [
      "100%|██████████| 318924/318924 [00:01<00:00, 214620.03it/s]\n"
     ]
    }
   ],
   "source": [
    "sentences = preprocess_names(df_TRAIN_RES_1[\"company_name\"])\n",
    "\n",
    "RETRAIN_MODEL = False\n",
    "\n",
    "column_prefix = \"comp_name_tfidf\"\n",
    "\n",
    "if RETRAIN_MODEL:\n",
    "    comp_name_vectorizer, comp_name_tfidf = get_emb_by_tfidf([\" \".join(sent) for sent in sentences],\n",
    "                                                             column_prefix=column_prefix)\n",
    "else:\n",
    "    comp_name_vectorizer = pickle.load(open(\"comp_name_vectorizer.pkl\", \"rb\"))\n",
    "\n",
    "    comp_name_tfidf = comp_name_vectorizer.transform([\" \".join(sent) for sent in sentences])\n",
    "    comp_name_tfidf = pd.DataFrame(comp_name_tfidf.toarray(),\n",
    "                                   columns=[f\"{column_prefix}_{word}\" for word in comp_name_vectorizer.get_feature_names_out()])\n",
    "\n",
    "df_TRAIN_RES_1 = pd.concat([df_TRAIN_RES_1.reset_index(drop=True),\n",
    "                            comp_name_tfidf.reset_index(drop=True)], axis=1)"
   ],
   "metadata": {
    "collapsed": false,
    "pycharm": {
     "name": "#%%\n"
    }
   }
  },
  {
   "cell_type": "code",
   "execution_count": 40,
   "outputs": [],
   "source": [],
   "metadata": {
    "collapsed": false,
    "pycharm": {
     "name": "#%%\n"
    }
   }
  },
  {
   "cell_type": "code",
   "execution_count": 41,
   "outputs": [
    {
     "name": "stderr",
     "output_type": "stream",
     "text": [
      "100%|██████████| 318924/318924 [00:03<00:00, 95315.07it/s] \n"
     ]
    }
   ],
   "source": [
    "sentences = preprocess_names(df_TRAIN_RES_1[\"demands\"])\n",
    "\n",
    "RETRAIN_MODEL = False\n",
    "column_prefix = \"demnds_tfidf\"\n",
    "\n",
    "if RETRAIN_MODEL:\n",
    "    demands_vectorizer, demands_tfidf = get_emb_by_tfidf([\" \".join(sent) for sent in sentences],\n",
    "                                                     column_prefix=column_prefix)\n",
    "else:\n",
    "    demands_vectorizer = pickle.load(open(\"demands_vectorizer.pkl\", \"rb\"))\n",
    "\n",
    "    demands_tfidf = demands_vectorizer.transform([\" \".join(sent) for sent in sentences])\n",
    "    demands_tfidf = pd.DataFrame(demands_tfidf.toarray(),\n",
    "                                 columns=[f\"{column_prefix}_{word}\" for word in demands_vectorizer.get_feature_names_out()])\n",
    "\n",
    "df_TRAIN_RES_1 = pd.concat([df_TRAIN_RES_1.reset_index(drop=True),\n",
    "                            demands_tfidf.reset_index(drop=True)], axis=1)"
   ],
   "metadata": {
    "collapsed": false,
    "pycharm": {
     "name": "#%%\n"
    }
   }
  },
  {
   "cell_type": "code",
   "execution_count": 41,
   "outputs": [],
   "source": [],
   "metadata": {
    "collapsed": false,
    "pycharm": {
     "name": "#%%\n"
    }
   }
  },
  {
   "cell_type": "code",
   "execution_count": 42,
   "outputs": [
    {
     "name": "stderr",
     "output_type": "stream",
     "text": [
      "100%|██████████| 318924/318924 [00:04<00:00, 65954.06it/s] \n"
     ]
    }
   ],
   "source": [
    "sentences = preprocess_names(df_TRAIN_RES_1[\"achievements\"])\n",
    "\n",
    "RETRAIN_MODEL = False\n",
    "column_prefix = \"achiv_tfidf\"\n",
    "\n",
    "if RETRAIN_MODEL:\n",
    "    achiv_vectorizer, achiv_tfidf = get_emb_by_tfidf([\" \".join(sent) for sent in sentences],\n",
    "                                                     column_prefix=column_prefix)\n",
    "else:\n",
    "    achiv_vectorizer = pickle.load(open(\"achiv_vectorizer.pkl\", \"rb\"))\n",
    "    achiv_tfidf = demands_vectorizer.transform([\" \".join(sent) for sent in sentences])\n",
    "    achiv_tfidf = pd.DataFrame(achiv_tfidf.toarray(),\n",
    "                               columns=[f\"{column_prefix}_{word}\" for word in demands_vectorizer.get_feature_names_out()])\n",
    "\n",
    "df_TRAIN_RES_1 = pd.concat([df_TRAIN_RES_1.reset_index(drop=True),\n",
    "                            achiv_tfidf.reset_index(drop=True)], axis=1)"
   ],
   "metadata": {
    "collapsed": false,
    "pycharm": {
     "name": "#%%\n"
    }
   }
  },
  {
   "cell_type": "code",
   "execution_count": 42,
   "outputs": [],
   "source": [],
   "metadata": {
    "collapsed": false,
    "pycharm": {
     "name": "#%%\n"
    }
   }
  },
  {
   "cell_type": "code",
   "execution_count": 42,
   "outputs": [],
   "source": [],
   "metadata": {
    "collapsed": false,
    "pycharm": {
     "name": "#%%\n"
    }
   }
  },
  {
   "cell_type": "code",
   "execution_count": 43,
   "outputs": [
    {
     "data": {
      "text/plain": "                                       achievements  \\\n0                                                     \n1                                                     \n2                                                     \n3  нет, т.к. участкам дано отрицательное заключение   \n4                                                     \n\n                                        company_name  \\\n0  Управление социальной защиты населения Сердобс...   \n1         ОАО «Высочайший» п.Бодайбо, Иркутская обл.   \n2           ОАО «БАЙКАЛГЕО» п. Нижнеангарск, Бурятия   \n3  ООО «Артель старателей «ТАЛ»», Усть-Нера, Респ...   \n4  Администрация Северо-Байкальского района, п.Ни...   \n\n                                             demands  \\\n0  Работала,непосредственно, с федеральными льгот...   \n1  Разведка с применением поверхностных горных вы...   \n2  Проведение геологоразведочных работ на россыпн...   \n3  руководил поисково-разведочными работами на бу...   \n4  Разработка программ развития района, статистич...   \n\n                                  id_cv    job_title  achievements_len  \\\n0  52860148-26da-11e8-a184-9122a281f90e    инспектор                 0   \n1  e3c857b0-26a0-11e7-bcca-736ab11edb0c       геолог                 0   \n2  e3c857b0-26a0-11e7-bcca-736ab11edb0c  заместитель                 0   \n3  d09f8cf0-2b52-11e8-a7fa-ef76bd2a03c1       геолог                48   \n4  d09f8cf0-2b52-11e8-a7fa-ef76bd2a03c1  заместитель                 0   \n\n   len_group  comp_name_emb_0  comp_name_emb_1  comp_name_emb_2  ...  \\\n0        NaN        -0.293772        -0.564505        -0.419635  ...   \n1        NaN        -0.330126        -0.029948         0.391855  ...   \n2        NaN        -0.318120         0.166147        -0.214572  ...   \n3        NaN        -0.201948         0.644514        -0.182316  ...   \n4        NaN        -0.586076        -0.180409        -0.088037  ...   \n\n   achiv_tfidf_техники  achiv_tfidf_товара  achiv_tfidf_товаров  \\\n0                  0.0                 0.0                  0.0   \n1                  0.0                 0.0                  0.0   \n2                  0.0                 0.0                  0.0   \n3                  0.0                 0.0                  0.0   \n4                  0.0                 0.0                  0.0   \n\n   achiv_tfidf_труда  achiv_tfidf_управление  achiv_tfidf_услуг  \\\n0                0.0                     0.0                0.0   \n1                0.0                     0.0                0.0   \n2                0.0                     0.0                0.0   \n3                0.0                     0.0                0.0   \n4                0.0                     0.0                0.0   \n\n   achiv_tfidf_участие  achiv_tfidf_учет  achiv_tfidf_учета  \\\n0                  0.0               0.0                0.0   \n1                  0.0               0.0                0.0   \n2                  0.0               0.0                0.0   \n3                  0.0               0.0                0.0   \n4                  0.0               0.0                0.0   \n\n   achiv_tfidf_формирование  \n0                       0.0  \n1                       0.0  \n2                       0.0  \n3                       0.0  \n4                       0.0  \n\n[5 rows x 507 columns]",
      "text/html": "<div>\n<style scoped>\n    .dataframe tbody tr th:only-of-type {\n        vertical-align: middle;\n    }\n\n    .dataframe tbody tr th {\n        vertical-align: top;\n    }\n\n    .dataframe thead th {\n        text-align: right;\n    }\n</style>\n<table border=\"1\" class=\"dataframe\">\n  <thead>\n    <tr style=\"text-align: right;\">\n      <th></th>\n      <th>achievements</th>\n      <th>company_name</th>\n      <th>demands</th>\n      <th>id_cv</th>\n      <th>job_title</th>\n      <th>achievements_len</th>\n      <th>len_group</th>\n      <th>comp_name_emb_0</th>\n      <th>comp_name_emb_1</th>\n      <th>comp_name_emb_2</th>\n      <th>...</th>\n      <th>achiv_tfidf_техники</th>\n      <th>achiv_tfidf_товара</th>\n      <th>achiv_tfidf_товаров</th>\n      <th>achiv_tfidf_труда</th>\n      <th>achiv_tfidf_управление</th>\n      <th>achiv_tfidf_услуг</th>\n      <th>achiv_tfidf_участие</th>\n      <th>achiv_tfidf_учет</th>\n      <th>achiv_tfidf_учета</th>\n      <th>achiv_tfidf_формирование</th>\n    </tr>\n  </thead>\n  <tbody>\n    <tr>\n      <th>0</th>\n      <td></td>\n      <td>Управление социальной защиты населения Сердобс...</td>\n      <td>Работала,непосредственно, с федеральными льгот...</td>\n      <td>52860148-26da-11e8-a184-9122a281f90e</td>\n      <td>инспектор</td>\n      <td>0</td>\n      <td>NaN</td>\n      <td>-0.293772</td>\n      <td>-0.564505</td>\n      <td>-0.419635</td>\n      <td>...</td>\n      <td>0.0</td>\n      <td>0.0</td>\n      <td>0.0</td>\n      <td>0.0</td>\n      <td>0.0</td>\n      <td>0.0</td>\n      <td>0.0</td>\n      <td>0.0</td>\n      <td>0.0</td>\n      <td>0.0</td>\n    </tr>\n    <tr>\n      <th>1</th>\n      <td></td>\n      <td>ОАО «Высочайший» п.Бодайбо, Иркутская обл.</td>\n      <td>Разведка с применением поверхностных горных вы...</td>\n      <td>e3c857b0-26a0-11e7-bcca-736ab11edb0c</td>\n      <td>геолог</td>\n      <td>0</td>\n      <td>NaN</td>\n      <td>-0.330126</td>\n      <td>-0.029948</td>\n      <td>0.391855</td>\n      <td>...</td>\n      <td>0.0</td>\n      <td>0.0</td>\n      <td>0.0</td>\n      <td>0.0</td>\n      <td>0.0</td>\n      <td>0.0</td>\n      <td>0.0</td>\n      <td>0.0</td>\n      <td>0.0</td>\n      <td>0.0</td>\n    </tr>\n    <tr>\n      <th>2</th>\n      <td></td>\n      <td>ОАО «БАЙКАЛГЕО» п. Нижнеангарск, Бурятия</td>\n      <td>Проведение геологоразведочных работ на россыпн...</td>\n      <td>e3c857b0-26a0-11e7-bcca-736ab11edb0c</td>\n      <td>заместитель</td>\n      <td>0</td>\n      <td>NaN</td>\n      <td>-0.318120</td>\n      <td>0.166147</td>\n      <td>-0.214572</td>\n      <td>...</td>\n      <td>0.0</td>\n      <td>0.0</td>\n      <td>0.0</td>\n      <td>0.0</td>\n      <td>0.0</td>\n      <td>0.0</td>\n      <td>0.0</td>\n      <td>0.0</td>\n      <td>0.0</td>\n      <td>0.0</td>\n    </tr>\n    <tr>\n      <th>3</th>\n      <td>нет, т.к. участкам дано отрицательное заключение</td>\n      <td>ООО «Артель старателей «ТАЛ»», Усть-Нера, Респ...</td>\n      <td>руководил поисково-разведочными работами на бу...</td>\n      <td>d09f8cf0-2b52-11e8-a7fa-ef76bd2a03c1</td>\n      <td>геолог</td>\n      <td>48</td>\n      <td>NaN</td>\n      <td>-0.201948</td>\n      <td>0.644514</td>\n      <td>-0.182316</td>\n      <td>...</td>\n      <td>0.0</td>\n      <td>0.0</td>\n      <td>0.0</td>\n      <td>0.0</td>\n      <td>0.0</td>\n      <td>0.0</td>\n      <td>0.0</td>\n      <td>0.0</td>\n      <td>0.0</td>\n      <td>0.0</td>\n    </tr>\n    <tr>\n      <th>4</th>\n      <td></td>\n      <td>Администрация Северо-Байкальского района, п.Ни...</td>\n      <td>Разработка программ развития района, статистич...</td>\n      <td>d09f8cf0-2b52-11e8-a7fa-ef76bd2a03c1</td>\n      <td>заместитель</td>\n      <td>0</td>\n      <td>NaN</td>\n      <td>-0.586076</td>\n      <td>-0.180409</td>\n      <td>-0.088037</td>\n      <td>...</td>\n      <td>0.0</td>\n      <td>0.0</td>\n      <td>0.0</td>\n      <td>0.0</td>\n      <td>0.0</td>\n      <td>0.0</td>\n      <td>0.0</td>\n      <td>0.0</td>\n      <td>0.0</td>\n      <td>0.0</td>\n    </tr>\n  </tbody>\n</table>\n<p>5 rows × 507 columns</p>\n</div>"
     },
     "execution_count": 43,
     "metadata": {},
     "output_type": "execute_result"
    }
   ],
   "source": [
    "df_TRAIN_RES_1.head()"
   ],
   "metadata": {
    "collapsed": false,
    "pycharm": {
     "name": "#%%\n"
    }
   }
  },
  {
   "cell_type": "code",
   "execution_count": 44,
   "outputs": [
    {
     "data": {
      "text/plain": "['achievements',\n 'company_name',\n 'demands',\n 'id_cv',\n 'job_title',\n 'achievements_len',\n 'len_group',\n 'comp_name_emb_0',\n 'comp_name_emb_1',\n 'comp_name_emb_2',\n 'comp_name_emb_3',\n 'comp_name_emb_4',\n 'comp_name_emb_5',\n 'comp_name_emb_6',\n 'comp_name_emb_7',\n 'comp_name_emb_8',\n 'comp_name_emb_9',\n 'comp_name_emb_10',\n 'comp_name_emb_11',\n 'comp_name_emb_12',\n 'comp_name_emb_13',\n 'comp_name_emb_14',\n 'comp_name_emb_15',\n 'comp_name_emb_16',\n 'comp_name_emb_17',\n 'comp_name_emb_18',\n 'comp_name_emb_19',\n 'comp_name_emb_20',\n 'comp_name_emb_21',\n 'comp_name_emb_22',\n 'comp_name_emb_23',\n 'comp_name_emb_24',\n 'comp_name_emb_25',\n 'comp_name_emb_26',\n 'comp_name_emb_27',\n 'comp_name_emb_28',\n 'comp_name_emb_29',\n 'comp_name_emb_30',\n 'comp_name_emb_31',\n 'comp_name_emb_32',\n 'comp_name_emb_33',\n 'comp_name_emb_34',\n 'comp_name_emb_35',\n 'comp_name_emb_36',\n 'comp_name_emb_37',\n 'comp_name_emb_38',\n 'comp_name_emb_39',\n 'comp_name_emb_40',\n 'comp_name_emb_41',\n 'comp_name_emb_42',\n 'comp_name_emb_43',\n 'comp_name_emb_44',\n 'comp_name_emb_45',\n 'comp_name_emb_46',\n 'comp_name_emb_47',\n 'comp_name_emb_48',\n 'comp_name_emb_49',\n 'comp_name_emb_50',\n 'comp_name_emb_51',\n 'comp_name_emb_52',\n 'comp_name_emb_53',\n 'comp_name_emb_54',\n 'comp_name_emb_55',\n 'comp_name_emb_56',\n 'comp_name_emb_57',\n 'comp_name_emb_58',\n 'comp_name_emb_59',\n 'comp_name_emb_60',\n 'comp_name_emb_61',\n 'comp_name_emb_62',\n 'comp_name_emb_63',\n 'comp_name_emb_64',\n 'comp_name_emb_65',\n 'comp_name_emb_66',\n 'comp_name_emb_67',\n 'comp_name_emb_68',\n 'comp_name_emb_69',\n 'comp_name_emb_70',\n 'comp_name_emb_71',\n 'comp_name_emb_72',\n 'comp_name_emb_73',\n 'comp_name_emb_74',\n 'comp_name_emb_75',\n 'comp_name_emb_76',\n 'comp_name_emb_77',\n 'comp_name_emb_78',\n 'comp_name_emb_79',\n 'comp_name_emb_80',\n 'comp_name_emb_81',\n 'comp_name_emb_82',\n 'comp_name_emb_83',\n 'comp_name_emb_84',\n 'comp_name_emb_85',\n 'comp_name_emb_86',\n 'comp_name_emb_87',\n 'comp_name_emb_88',\n 'comp_name_emb_89',\n 'comp_name_emb_90',\n 'comp_name_emb_91',\n 'comp_name_emb_92',\n 'comp_name_emb_93',\n 'comp_name_emb_94',\n 'comp_name_emb_95',\n 'comp_name_emb_96',\n 'comp_name_emb_97',\n 'comp_name_emb_98',\n 'comp_name_emb_99',\n 'demand_emb_0',\n 'demand_emb_1',\n 'demand_emb_2',\n 'demand_emb_3',\n 'demand_emb_4',\n 'demand_emb_5',\n 'demand_emb_6',\n 'demand_emb_7',\n 'demand_emb_8',\n 'demand_emb_9',\n 'demand_emb_10',\n 'demand_emb_11',\n 'demand_emb_12',\n 'demand_emb_13',\n 'demand_emb_14',\n 'demand_emb_15',\n 'demand_emb_16',\n 'demand_emb_17',\n 'demand_emb_18',\n 'demand_emb_19',\n 'demand_emb_20',\n 'demand_emb_21',\n 'demand_emb_22',\n 'demand_emb_23',\n 'demand_emb_24',\n 'demand_emb_25',\n 'demand_emb_26',\n 'demand_emb_27',\n 'demand_emb_28',\n 'demand_emb_29',\n 'demand_emb_30',\n 'demand_emb_31',\n 'demand_emb_32',\n 'demand_emb_33',\n 'demand_emb_34',\n 'demand_emb_35',\n 'demand_emb_36',\n 'demand_emb_37',\n 'demand_emb_38',\n 'demand_emb_39',\n 'demand_emb_40',\n 'demand_emb_41',\n 'demand_emb_42',\n 'demand_emb_43',\n 'demand_emb_44',\n 'demand_emb_45',\n 'demand_emb_46',\n 'demand_emb_47',\n 'demand_emb_48',\n 'demand_emb_49',\n 'demand_emb_50',\n 'demand_emb_51',\n 'demand_emb_52',\n 'demand_emb_53',\n 'demand_emb_54',\n 'demand_emb_55',\n 'demand_emb_56',\n 'demand_emb_57',\n 'demand_emb_58',\n 'demand_emb_59',\n 'demand_emb_60',\n 'demand_emb_61',\n 'demand_emb_62',\n 'demand_emb_63',\n 'demand_emb_64',\n 'demand_emb_65',\n 'demand_emb_66',\n 'demand_emb_67',\n 'demand_emb_68',\n 'demand_emb_69',\n 'demand_emb_70',\n 'demand_emb_71',\n 'demand_emb_72',\n 'demand_emb_73',\n 'demand_emb_74',\n 'demand_emb_75',\n 'demand_emb_76',\n 'demand_emb_77',\n 'demand_emb_78',\n 'demand_emb_79',\n 'demand_emb_80',\n 'demand_emb_81',\n 'demand_emb_82',\n 'demand_emb_83',\n 'demand_emb_84',\n 'demand_emb_85',\n 'demand_emb_86',\n 'demand_emb_87',\n 'demand_emb_88',\n 'demand_emb_89',\n 'demand_emb_90',\n 'demand_emb_91',\n 'demand_emb_92',\n 'demand_emb_93',\n 'demand_emb_94',\n 'demand_emb_95',\n 'demand_emb_96',\n 'demand_emb_97',\n 'demand_emb_98',\n 'demand_emb_99',\n 'comp_name_tfidf_агентство',\n 'comp_name_tfidf_администрации',\n 'comp_name_tfidf_администрация',\n 'comp_name_tfidf_ао',\n 'comp_name_tfidf_банк',\n 'comp_name_tfidf_больница',\n 'comp_name_tfidf_бюджетное',\n 'comp_name_tfidf_во',\n 'comp_name_tfidf_газпром',\n 'comp_name_tfidf_гбу',\n 'comp_name_tfidf_гбуз',\n 'comp_name_tfidf_гк',\n 'comp_name_tfidf_гку',\n 'comp_name_tfidf_города',\n 'comp_name_tfidf_городская',\n 'comp_name_tfidf_государственное',\n 'comp_name_tfidf_государственный',\n 'comp_name_tfidf_групп',\n 'comp_name_tfidf_группа',\n 'comp_name_tfidf_гу',\n 'comp_name_tfidf_гуп',\n 'comp_name_tfidf_детский',\n 'comp_name_tfidf_дом',\n 'comp_name_tfidf_завод',\n 'comp_name_tfidf_зао',\n 'comp_name_tfidf_им',\n 'comp_name_tfidf_имени',\n 'comp_name_tfidf_институт',\n 'comp_name_tfidf_ип',\n 'comp_name_tfidf_кб',\n 'comp_name_tfidf_колледж',\n 'comp_name_tfidf_комбинат',\n 'comp_name_tfidf_компаний',\n 'comp_name_tfidf_компания',\n 'comp_name_tfidf_края',\n 'comp_name_tfidf_культуры',\n 'comp_name_tfidf_магазин',\n 'comp_name_tfidf_мбдоу',\n 'comp_name_tfidf_мбоу',\n 'comp_name_tfidf_мбу',\n 'comp_name_tfidf_мвд',\n 'comp_name_tfidf_министерство',\n 'comp_name_tfidf_мку',\n 'comp_name_tfidf_мо',\n 'comp_name_tfidf_москва',\n 'comp_name_tfidf_моу',\n 'comp_name_tfidf_муниципального',\n 'comp_name_tfidf_муниципальное',\n 'comp_name_tfidf_муп',\n 'comp_name_tfidf_на',\n 'comp_name_tfidf_населения',\n 'comp_name_tfidf_оао',\n 'comp_name_tfidf_области',\n 'comp_name_tfidf_образования',\n 'comp_name_tfidf_общество',\n 'comp_name_tfidf_ограниченной',\n 'comp_name_tfidf_ооо',\n 'comp_name_tfidf_ответственностью',\n 'comp_name_tfidf_отдел',\n 'comp_name_tfidf_отделение',\n 'comp_name_tfidf_пао',\n 'comp_name_tfidf_плюс',\n 'comp_name_tfidf_по',\n 'comp_name_tfidf_почта',\n 'comp_name_tfidf_предприниматель',\n 'comp_name_tfidf_предприятие',\n 'comp_name_tfidf_района',\n 'comp_name_tfidf_району',\n 'comp_name_tfidf_республики',\n 'comp_name_tfidf_ржд',\n 'comp_name_tfidf_россии',\n 'comp_name_tfidf_ростелеком',\n 'comp_name_tfidf_рф',\n 'comp_name_tfidf_сад',\n 'comp_name_tfidf_сбербанк',\n 'comp_name_tfidf_сервис',\n 'comp_name_tfidf_сеть',\n 'comp_name_tfidf_ск',\n 'comp_name_tfidf_служба',\n 'comp_name_tfidf_службы',\n 'comp_name_tfidf_сош',\n 'comp_name_tfidf_средняя',\n 'comp_name_tfidf_суд',\n 'comp_name_tfidf_тандер',\n 'comp_name_tfidf_тд',\n 'comp_name_tfidf_тоо',\n 'comp_name_tfidf_торговый',\n 'comp_name_tfidf_ук',\n 'comp_name_tfidf_университет',\n 'comp_name_tfidf_управление',\n 'comp_name_tfidf_учреждение',\n 'comp_name_tfidf_фгуп',\n 'comp_name_tfidf_федеральной',\n 'comp_name_tfidf_филиал',\n 'comp_name_tfidf_фирма',\n 'comp_name_tfidf_центр',\n 'comp_name_tfidf_цзн',\n 'comp_name_tfidf_часть',\n 'comp_name_tfidf_чоп',\n 'comp_name_tfidf_школа',\n 'demnds_tfidf_1с',\n 'demnds_tfidf_актов',\n 'demnds_tfidf_анализ',\n 'demnds_tfidf_безопасности',\n 'demnds_tfidf_ведение',\n 'demnds_tfidf_взаимодействие',\n 'demnds_tfidf_вопросам',\n 'demnds_tfidf_всех',\n 'demnds_tfidf_выдача',\n 'demnds_tfidf_выполнение',\n 'demnds_tfidf_выполнения',\n 'demnds_tfidf_данных',\n 'demnds_tfidf_деятельности',\n 'demnds_tfidf_для',\n 'demnds_tfidf_до',\n 'demnds_tfidf_договоров',\n 'demnds_tfidf_документации',\n 'demnds_tfidf_документов',\n 'demnds_tfidf_за',\n 'demnds_tfidf_заключение',\n 'demnds_tfidf_заявок',\n 'demnds_tfidf_информации',\n 'demnds_tfidf_их',\n 'demnds_tfidf_качества',\n 'demnds_tfidf_клиентами',\n 'demnds_tfidf_клиентов',\n 'demnds_tfidf_компании',\n 'demnds_tfidf_консультирование',\n 'demnds_tfidf_контроль',\n 'demnds_tfidf_контроля',\n 'demnds_tfidf_лиц',\n 'demnds_tfidf_материалов',\n 'demnds_tfidf_мероприятий',\n 'demnds_tfidf_на',\n 'demnds_tfidf_новых',\n 'demnds_tfidf_обеспечение',\n 'demnds_tfidf_оборудования',\n 'demnds_tfidf_обработка',\n 'demnds_tfidf_обслуживание',\n 'demnds_tfidf_обучение',\n 'demnds_tfidf_объектов',\n 'demnds_tfidf_обязанности',\n 'demnds_tfidf_организации',\n 'demnds_tfidf_организация',\n 'demnds_tfidf_осуществление',\n 'demnds_tfidf_от',\n 'demnds_tfidf_отдела',\n 'demnds_tfidf_отчетности',\n 'demnds_tfidf_отчетов',\n 'demnds_tfidf_оформление',\n 'demnds_tfidf_переговоров',\n 'demnds_tfidf_персонала',\n 'demnds_tfidf_планирование',\n 'demnds_tfidf_планов',\n 'demnds_tfidf_по',\n 'demnds_tfidf_подбор',\n 'demnds_tfidf_подготовка',\n 'demnds_tfidf_поиск',\n 'demnds_tfidf_поставщиками',\n 'demnds_tfidf_предприятия',\n 'demnds_tfidf_при',\n 'demnds_tfidf_прием',\n 'demnds_tfidf_проведение',\n 'demnds_tfidf_проверка',\n 'demnds_tfidf_продаж',\n 'demnds_tfidf_продажа',\n 'demnds_tfidf_продукции',\n 'demnds_tfidf_проектов',\n 'demnds_tfidf_производства',\n 'demnds_tfidf_работ',\n 'demnds_tfidf_работа',\n 'demnds_tfidf_работе',\n 'demnds_tfidf_работников',\n 'demnds_tfidf_работы',\n 'demnds_tfidf_рабочего',\n 'demnds_tfidf_разработка',\n 'demnds_tfidf_расчет',\n 'demnds_tfidf_ремонт',\n 'demnds_tfidf_руководство',\n 'demnds_tfidf_сдача',\n 'demnds_tfidf_систем',\n 'demnds_tfidf_со',\n 'demnds_tfidf_согласование',\n 'demnds_tfidf_соответствии',\n 'demnds_tfidf_сопровождение',\n 'demnds_tfidf_составление',\n 'demnds_tfidf_сотрудников',\n 'demnds_tfidf_средств',\n 'demnds_tfidf_также',\n 'demnds_tfidf_тд',\n 'demnds_tfidf_техники',\n 'demnds_tfidf_товара',\n 'demnds_tfidf_товаров',\n 'demnds_tfidf_труда',\n 'demnds_tfidf_управление',\n 'demnds_tfidf_услуг',\n 'demnds_tfidf_участие',\n 'demnds_tfidf_учет',\n 'demnds_tfidf_учета',\n 'demnds_tfidf_формирование',\n 'achiv_tfidf_1с',\n 'achiv_tfidf_актов',\n 'achiv_tfidf_анализ',\n 'achiv_tfidf_безопасности',\n 'achiv_tfidf_ведение',\n 'achiv_tfidf_взаимодействие',\n 'achiv_tfidf_вопросам',\n 'achiv_tfidf_всех',\n 'achiv_tfidf_выдача',\n 'achiv_tfidf_выполнение',\n 'achiv_tfidf_выполнения',\n 'achiv_tfidf_данных',\n 'achiv_tfidf_деятельности',\n 'achiv_tfidf_для',\n 'achiv_tfidf_до',\n 'achiv_tfidf_договоров',\n 'achiv_tfidf_документации',\n 'achiv_tfidf_документов',\n 'achiv_tfidf_за',\n 'achiv_tfidf_заключение',\n 'achiv_tfidf_заявок',\n 'achiv_tfidf_информации',\n 'achiv_tfidf_их',\n 'achiv_tfidf_качества',\n 'achiv_tfidf_клиентами',\n 'achiv_tfidf_клиентов',\n 'achiv_tfidf_компании',\n 'achiv_tfidf_консультирование',\n 'achiv_tfidf_контроль',\n 'achiv_tfidf_контроля',\n 'achiv_tfidf_лиц',\n 'achiv_tfidf_материалов',\n 'achiv_tfidf_мероприятий',\n 'achiv_tfidf_на',\n 'achiv_tfidf_новых',\n 'achiv_tfidf_обеспечение',\n 'achiv_tfidf_оборудования',\n 'achiv_tfidf_обработка',\n 'achiv_tfidf_обслуживание',\n 'achiv_tfidf_обучение',\n 'achiv_tfidf_объектов',\n 'achiv_tfidf_обязанности',\n 'achiv_tfidf_организации',\n 'achiv_tfidf_организация',\n 'achiv_tfidf_осуществление',\n 'achiv_tfidf_от',\n 'achiv_tfidf_отдела',\n 'achiv_tfidf_отчетности',\n 'achiv_tfidf_отчетов',\n 'achiv_tfidf_оформление',\n 'achiv_tfidf_переговоров',\n 'achiv_tfidf_персонала',\n 'achiv_tfidf_планирование',\n 'achiv_tfidf_планов',\n 'achiv_tfidf_по',\n 'achiv_tfidf_подбор',\n 'achiv_tfidf_подготовка',\n 'achiv_tfidf_поиск',\n 'achiv_tfidf_поставщиками',\n 'achiv_tfidf_предприятия',\n 'achiv_tfidf_при',\n 'achiv_tfidf_прием',\n 'achiv_tfidf_проведение',\n 'achiv_tfidf_проверка',\n 'achiv_tfidf_продаж',\n 'achiv_tfidf_продажа',\n 'achiv_tfidf_продукции',\n 'achiv_tfidf_проектов',\n 'achiv_tfidf_производства',\n 'achiv_tfidf_работ',\n 'achiv_tfidf_работа',\n 'achiv_tfidf_работе',\n 'achiv_tfidf_работников',\n 'achiv_tfidf_работы',\n 'achiv_tfidf_рабочего',\n 'achiv_tfidf_разработка',\n 'achiv_tfidf_расчет',\n 'achiv_tfidf_ремонт',\n 'achiv_tfidf_руководство',\n 'achiv_tfidf_сдача',\n 'achiv_tfidf_систем',\n 'achiv_tfidf_со',\n 'achiv_tfidf_согласование',\n 'achiv_tfidf_соответствии',\n 'achiv_tfidf_сопровождение',\n 'achiv_tfidf_составление',\n 'achiv_tfidf_сотрудников',\n 'achiv_tfidf_средств',\n 'achiv_tfidf_также',\n 'achiv_tfidf_тд',\n 'achiv_tfidf_техники',\n 'achiv_tfidf_товара',\n 'achiv_tfidf_товаров',\n 'achiv_tfidf_труда',\n 'achiv_tfidf_управление',\n 'achiv_tfidf_услуг',\n 'achiv_tfidf_участие',\n 'achiv_tfidf_учет',\n 'achiv_tfidf_учета',\n 'achiv_tfidf_формирование']"
     },
     "execution_count": 44,
     "metadata": {},
     "output_type": "execute_result"
    }
   ],
   "source": [
    "list(df_TRAIN_RES_1.columns)"
   ],
   "metadata": {
    "collapsed": false,
    "pycharm": {
     "name": "#%%\n"
    }
   }
  },
  {
   "cell_type": "code",
   "execution_count": 45,
   "outputs": [],
   "source": [
    "# with open(\"comp_name_vectorizer.pkl\", \"wb\") as f:\n",
    "#     pickle.dump(comp_name_vectorizer, f)\n",
    "#\n",
    "# with open(\"demands_vectorizer.pkl\", \"wb\") as f:\n",
    "#     pickle.dump(demands_vectorizer, f)\n",
    "#\n",
    "# with open(\"achiv_vectorizer.pkl\", \"wb\") as f:\n",
    "#     pickle.dump(achiv_vectorizer, f)\n"
   ],
   "metadata": {
    "collapsed": false,
    "pycharm": {
     "name": "#%%\n"
    }
   }
  },
  {
   "cell_type": "code",
   "execution_count": 45,
   "outputs": [],
   "source": [],
   "metadata": {
    "collapsed": false,
    "pycharm": {
     "name": "#%%\n"
    }
   }
  },
  {
   "cell_type": "markdown",
   "source": [
    "\n",
    "## add big sphere classifier predicts"
   ],
   "metadata": {
    "collapsed": false,
    "pycharm": {
     "name": "#%% md\n"
    }
   }
  },
  {
   "cell_type": "code",
   "execution_count": 53,
   "outputs": [
    {
     "data": {
      "text/plain": "Index(['demand_emb_0', 'demand_emb_1', 'demand_emb_2', 'demand_emb_3',\n       'demand_emb_4', 'demand_emb_5', 'demand_emb_6', 'demand_emb_7',\n       'demand_emb_8', 'demand_emb_9', 'demand_emb_10', 'demand_emb_11',\n       'demand_emb_12', 'demand_emb_13', 'demand_emb_14', 'demand_emb_15',\n       'demand_emb_16', 'demand_emb_17', 'demand_emb_18', 'demand_emb_19',\n       'demand_emb_20', 'demand_emb_21', 'demand_emb_22', 'demand_emb_23',\n       'demand_emb_24', 'demand_emb_25', 'demand_emb_26', 'demand_emb_27',\n       'demand_emb_28', 'demand_emb_29', 'demand_emb_30', 'demand_emb_31',\n       'demand_emb_32', 'demand_emb_33', 'demand_emb_34', 'demand_emb_35',\n       'demand_emb_36', 'demand_emb_37', 'demand_emb_38', 'demand_emb_39',\n       'demand_emb_40', 'demand_emb_41', 'demand_emb_42', 'demand_emb_43',\n       'demand_emb_44', 'demand_emb_45', 'demand_emb_46', 'demand_emb_47',\n       'demand_emb_48', 'demand_emb_49', 'demand_emb_50', 'demand_emb_51',\n       'demand_emb_52', 'demand_emb_53', 'demand_emb_54', 'demand_emb_55',\n       'demand_emb_56', 'demand_emb_57', 'demand_emb_58', 'demand_emb_59',\n       'demand_emb_60', 'demand_emb_61', 'demand_emb_62', 'demand_emb_63',\n       'demand_emb_64', 'demand_emb_65', 'demand_emb_66', 'demand_emb_67',\n       'demand_emb_68', 'demand_emb_69', 'demand_emb_70', 'demand_emb_71',\n       'demand_emb_72', 'demand_emb_73', 'demand_emb_74', 'demand_emb_75',\n       'demand_emb_76', 'demand_emb_77', 'demand_emb_78', 'demand_emb_79',\n       'demand_emb_80', 'demand_emb_81', 'demand_emb_82', 'demand_emb_83',\n       'demand_emb_84', 'demand_emb_85', 'demand_emb_86', 'demand_emb_87',\n       'demand_emb_88', 'demand_emb_89', 'demand_emb_90', 'demand_emb_91',\n       'demand_emb_92', 'demand_emb_93', 'demand_emb_94', 'demand_emb_95',\n       'demand_emb_96', 'demand_emb_97', 'demand_emb_98', 'demand_emb_99'],\n      dtype='object')"
     },
     "execution_count": 53,
     "metadata": {},
     "output_type": "execute_result"
    }
   ],
   "source": [
    "emb_demand_df.columns"
   ],
   "metadata": {
    "collapsed": false,
    "pycharm": {
     "name": "#%%\n"
    }
   }
  },
  {
   "cell_type": "code",
   "execution_count": null,
   "outputs": [],
   "source": [],
   "metadata": {
    "collapsed": false,
    "pycharm": {
     "name": "#%%\n"
    }
   }
  },
  {
   "cell_type": "code",
   "execution_count": 54,
   "outputs": [],
   "source": [
    "emb_demand_df.columns = [\"\".join(i.split(\"_\")[-2:]) for i in emb_demand_df.columns]"
   ],
   "metadata": {
    "collapsed": false,
    "pycharm": {
     "name": "#%%\n"
    }
   }
  },
  {
   "cell_type": "code",
   "execution_count": 57,
   "outputs": [],
   "source": [
    "emb_demand_df.columns = [i[:3] + \"_\" + i[3:] for i in emb_demand_df.columns]"
   ],
   "metadata": {
    "collapsed": false,
    "pycharm": {
     "name": "#%%\n"
    }
   }
  },
  {
   "cell_type": "code",
   "execution_count": null,
   "outputs": [],
   "source": [
    "# emb_demand_df.to_csv(\"emb_df.csv\")"
   ],
   "metadata": {
    "collapsed": false,
    "pycharm": {
     "name": "#%%\n",
     "is_executing": true
    }
   }
  },
  {
   "cell_type": "code",
   "execution_count": 58,
   "outputs": [
    {
     "name": "stderr",
     "output_type": "stream",
     "text": [
      "  0%|          | 0/32 [00:00<?, ?it/s]C:\\Users\\iltya\\anaconda3\\lib\\site-packages\\sklearn\\neighbors\\_classification.py:228: FutureWarning: Unlike other reduction functions (e.g. `skew`, `kurtosis`), the default behavior of `mode` typically preserves the axis it acts along. In SciPy 1.11.0, this behavior will change: the default value of `keepdims` will become False, the `axis` over which the statistic is taken will be eliminated, and the value None will no longer be accepted. Set `keepdims` to True or False to avoid this warning.\n",
      "  mode, _ = stats.mode(_y[neigh_ind, k], axis=1)\n",
      "  3%|▎         | 1/32 [01:56<1:00:12, 116.52s/it]C:\\Users\\iltya\\anaconda3\\lib\\site-packages\\sklearn\\neighbors\\_classification.py:228: FutureWarning: Unlike other reduction functions (e.g. `skew`, `kurtosis`), the default behavior of `mode` typically preserves the axis it acts along. In SciPy 1.11.0, this behavior will change: the default value of `keepdims` will become False, the `axis` over which the statistic is taken will be eliminated, and the value None will no longer be accepted. Set `keepdims` to True or False to avoid this warning.\n",
      "  mode, _ = stats.mode(_y[neigh_ind, k], axis=1)\n",
      "  6%|▋         | 2/32 [04:21<1:05:23, 130.78s/it]\n"
     ]
    },
    {
     "ename": "KeyboardInterrupt",
     "evalue": "",
     "output_type": "error",
     "traceback": [
      "\u001B[1;31m---------------------------------------------------------------------------\u001B[0m",
      "\u001B[1;31mKeyboardInterrupt\u001B[0m                         Traceback (most recent call last)",
      "\u001B[1;32m~\\AppData\\Local\\Temp/ipykernel_12260/1058538188.py\u001B[0m in \u001B[0;36m<module>\u001B[1;34m\u001B[0m\n\u001B[0;32m      3\u001B[0m \u001B[1;32mfor\u001B[0m \u001B[0mi\u001B[0m \u001B[1;32min\u001B[0m \u001B[0mtqdm\u001B[0m\u001B[1;33m(\u001B[0m\u001B[0mrange\u001B[0m\u001B[1;33m(\u001B[0m\u001B[1;36m0\u001B[0m\u001B[1;33m,\u001B[0m \u001B[0mlen\u001B[0m\u001B[1;33m(\u001B[0m\u001B[0memb_demand_df\u001B[0m\u001B[1;33m)\u001B[0m\u001B[1;33m,\u001B[0m \u001B[1;36m10000\u001B[0m\u001B[1;33m)\u001B[0m\u001B[1;33m)\u001B[0m\u001B[1;33m:\u001B[0m\u001B[1;33m\u001B[0m\u001B[1;33m\u001B[0m\u001B[0m\n\u001B[0;32m      4\u001B[0m     \u001B[0msl\u001B[0m \u001B[1;33m=\u001B[0m \u001B[0memb_demand_df\u001B[0m\u001B[1;33m.\u001B[0m\u001B[0miloc\u001B[0m\u001B[1;33m[\u001B[0m\u001B[0mi\u001B[0m\u001B[1;33m:\u001B[0m\u001B[0mi\u001B[0m\u001B[1;33m+\u001B[0m\u001B[1;36m10000\u001B[0m\u001B[1;33m]\u001B[0m\u001B[1;33m\u001B[0m\u001B[1;33m\u001B[0m\u001B[0m\n\u001B[1;32m----> 5\u001B[1;33m     \u001B[0mpreds\u001B[0m\u001B[1;33m.\u001B[0m\u001B[0mextend\u001B[0m\u001B[1;33m(\u001B[0m\u001B[0mclf_big_sphere\u001B[0m\u001B[1;33m.\u001B[0m\u001B[0mpredict\u001B[0m\u001B[1;33m(\u001B[0m\u001B[0msl\u001B[0m\u001B[1;33m)\u001B[0m\u001B[1;33m.\u001B[0m\u001B[0mtolist\u001B[0m\u001B[1;33m(\u001B[0m\u001B[1;33m)\u001B[0m\u001B[1;33m)\u001B[0m\u001B[1;33m\u001B[0m\u001B[1;33m\u001B[0m\u001B[0m\n\u001B[0m",
      "\u001B[1;32m~\\anaconda3\\lib\\site-packages\\sklearn\\neighbors\\_classification.py\u001B[0m in \u001B[0;36mpredict\u001B[1;34m(self, X)\u001B[0m\n\u001B[0;32m    212\u001B[0m             \u001B[0mClass\u001B[0m \u001B[0mlabels\u001B[0m \u001B[1;32mfor\u001B[0m \u001B[0meach\u001B[0m \u001B[0mdata\u001B[0m \u001B[0msample\u001B[0m\u001B[1;33m.\u001B[0m\u001B[1;33m\u001B[0m\u001B[1;33m\u001B[0m\u001B[0m\n\u001B[0;32m    213\u001B[0m         \"\"\"\n\u001B[1;32m--> 214\u001B[1;33m         \u001B[0mneigh_dist\u001B[0m\u001B[1;33m,\u001B[0m \u001B[0mneigh_ind\u001B[0m \u001B[1;33m=\u001B[0m \u001B[0mself\u001B[0m\u001B[1;33m.\u001B[0m\u001B[0mkneighbors\u001B[0m\u001B[1;33m(\u001B[0m\u001B[0mX\u001B[0m\u001B[1;33m)\u001B[0m\u001B[1;33m\u001B[0m\u001B[1;33m\u001B[0m\u001B[0m\n\u001B[0m\u001B[0;32m    215\u001B[0m         \u001B[0mclasses_\u001B[0m \u001B[1;33m=\u001B[0m \u001B[0mself\u001B[0m\u001B[1;33m.\u001B[0m\u001B[0mclasses_\u001B[0m\u001B[1;33m\u001B[0m\u001B[1;33m\u001B[0m\u001B[0m\n\u001B[0;32m    216\u001B[0m         \u001B[0m_y\u001B[0m \u001B[1;33m=\u001B[0m \u001B[0mself\u001B[0m\u001B[1;33m.\u001B[0m\u001B[0m_y\u001B[0m\u001B[1;33m\u001B[0m\u001B[1;33m\u001B[0m\u001B[0m\n",
      "\u001B[1;32m~\\anaconda3\\lib\\site-packages\\sklearn\\neighbors\\_base.py\u001B[0m in \u001B[0;36mkneighbors\u001B[1;34m(self, X, n_neighbors, return_distance)\u001B[0m\n\u001B[0;32m    750\u001B[0m                 \u001B[0mkwds\u001B[0m \u001B[1;33m=\u001B[0m \u001B[0mself\u001B[0m\u001B[1;33m.\u001B[0m\u001B[0meffective_metric_params_\u001B[0m\u001B[1;33m\u001B[0m\u001B[1;33m\u001B[0m\u001B[0m\n\u001B[0;32m    751\u001B[0m \u001B[1;33m\u001B[0m\u001B[0m\n\u001B[1;32m--> 752\u001B[1;33m             chunked_results = list(\n\u001B[0m\u001B[0;32m    753\u001B[0m                 pairwise_distances_chunked(\n\u001B[0;32m    754\u001B[0m                     \u001B[0mX\u001B[0m\u001B[1;33m,\u001B[0m\u001B[1;33m\u001B[0m\u001B[1;33m\u001B[0m\u001B[0m\n",
      "\u001B[1;32m~\\anaconda3\\lib\\site-packages\\sklearn\\metrics\\pairwise.py\u001B[0m in \u001B[0;36mpairwise_distances_chunked\u001B[1;34m(X, Y, reduce_func, metric, n_jobs, working_memory, **kwds)\u001B[0m\n\u001B[0;32m   1715\u001B[0m         \u001B[1;32melse\u001B[0m\u001B[1;33m:\u001B[0m\u001B[1;33m\u001B[0m\u001B[1;33m\u001B[0m\u001B[0m\n\u001B[0;32m   1716\u001B[0m             \u001B[0mX_chunk\u001B[0m \u001B[1;33m=\u001B[0m \u001B[0mX\u001B[0m\u001B[1;33m[\u001B[0m\u001B[0msl\u001B[0m\u001B[1;33m]\u001B[0m\u001B[1;33m\u001B[0m\u001B[1;33m\u001B[0m\u001B[0m\n\u001B[1;32m-> 1717\u001B[1;33m         \u001B[0mD_chunk\u001B[0m \u001B[1;33m=\u001B[0m \u001B[0mpairwise_distances\u001B[0m\u001B[1;33m(\u001B[0m\u001B[0mX_chunk\u001B[0m\u001B[1;33m,\u001B[0m \u001B[0mY\u001B[0m\u001B[1;33m,\u001B[0m \u001B[0mmetric\u001B[0m\u001B[1;33m=\u001B[0m\u001B[0mmetric\u001B[0m\u001B[1;33m,\u001B[0m \u001B[0mn_jobs\u001B[0m\u001B[1;33m=\u001B[0m\u001B[0mn_jobs\u001B[0m\u001B[1;33m,\u001B[0m \u001B[1;33m**\u001B[0m\u001B[0mkwds\u001B[0m\u001B[1;33m)\u001B[0m\u001B[1;33m\u001B[0m\u001B[1;33m\u001B[0m\u001B[0m\n\u001B[0m\u001B[0;32m   1718\u001B[0m         if (X is Y or Y is None) and PAIRWISE_DISTANCE_FUNCTIONS.get(\n\u001B[0;32m   1719\u001B[0m             \u001B[0mmetric\u001B[0m\u001B[1;33m,\u001B[0m \u001B[1;32mNone\u001B[0m\u001B[1;33m\u001B[0m\u001B[1;33m\u001B[0m\u001B[0m\n",
      "\u001B[1;32m~\\anaconda3\\lib\\site-packages\\sklearn\\metrics\\pairwise.py\u001B[0m in \u001B[0;36mpairwise_distances\u001B[1;34m(X, Y, metric, n_jobs, force_all_finite, **kwds)\u001B[0m\n\u001B[0;32m   1887\u001B[0m         \u001B[0mfunc\u001B[0m \u001B[1;33m=\u001B[0m \u001B[0mpartial\u001B[0m\u001B[1;33m(\u001B[0m\u001B[0mdistance\u001B[0m\u001B[1;33m.\u001B[0m\u001B[0mcdist\u001B[0m\u001B[1;33m,\u001B[0m \u001B[0mmetric\u001B[0m\u001B[1;33m=\u001B[0m\u001B[0mmetric\u001B[0m\u001B[1;33m,\u001B[0m \u001B[1;33m**\u001B[0m\u001B[0mkwds\u001B[0m\u001B[1;33m)\u001B[0m\u001B[1;33m\u001B[0m\u001B[1;33m\u001B[0m\u001B[0m\n\u001B[0;32m   1888\u001B[0m \u001B[1;33m\u001B[0m\u001B[0m\n\u001B[1;32m-> 1889\u001B[1;33m     \u001B[1;32mreturn\u001B[0m \u001B[0m_parallel_pairwise\u001B[0m\u001B[1;33m(\u001B[0m\u001B[0mX\u001B[0m\u001B[1;33m,\u001B[0m \u001B[0mY\u001B[0m\u001B[1;33m,\u001B[0m \u001B[0mfunc\u001B[0m\u001B[1;33m,\u001B[0m \u001B[0mn_jobs\u001B[0m\u001B[1;33m,\u001B[0m \u001B[1;33m**\u001B[0m\u001B[0mkwds\u001B[0m\u001B[1;33m)\u001B[0m\u001B[1;33m\u001B[0m\u001B[1;33m\u001B[0m\u001B[0m\n\u001B[0m\u001B[0;32m   1890\u001B[0m \u001B[1;33m\u001B[0m\u001B[0m\n\u001B[0;32m   1891\u001B[0m \u001B[1;33m\u001B[0m\u001B[0m\n",
      "\u001B[1;32m~\\anaconda3\\lib\\site-packages\\sklearn\\metrics\\pairwise.py\u001B[0m in \u001B[0;36m_parallel_pairwise\u001B[1;34m(X, Y, func, n_jobs, **kwds)\u001B[0m\n\u001B[0;32m   1428\u001B[0m \u001B[1;33m\u001B[0m\u001B[0m\n\u001B[0;32m   1429\u001B[0m     \u001B[1;32mif\u001B[0m \u001B[0meffective_n_jobs\u001B[0m\u001B[1;33m(\u001B[0m\u001B[0mn_jobs\u001B[0m\u001B[1;33m)\u001B[0m \u001B[1;33m==\u001B[0m \u001B[1;36m1\u001B[0m\u001B[1;33m:\u001B[0m\u001B[1;33m\u001B[0m\u001B[1;33m\u001B[0m\u001B[0m\n\u001B[1;32m-> 1430\u001B[1;33m         \u001B[1;32mreturn\u001B[0m \u001B[0mfunc\u001B[0m\u001B[1;33m(\u001B[0m\u001B[0mX\u001B[0m\u001B[1;33m,\u001B[0m \u001B[0mY\u001B[0m\u001B[1;33m,\u001B[0m \u001B[1;33m**\u001B[0m\u001B[0mkwds\u001B[0m\u001B[1;33m)\u001B[0m\u001B[1;33m\u001B[0m\u001B[1;33m\u001B[0m\u001B[0m\n\u001B[0m\u001B[0;32m   1431\u001B[0m \u001B[1;33m\u001B[0m\u001B[0m\n\u001B[0;32m   1432\u001B[0m     \u001B[1;31m# enforce a threading backend to prevent data communication overhead\u001B[0m\u001B[1;33m\u001B[0m\u001B[1;33m\u001B[0m\u001B[0m\n",
      "\u001B[1;32m~\\anaconda3\\lib\\site-packages\\sklearn\\metrics\\pairwise.py\u001B[0m in \u001B[0;36meuclidean_distances\u001B[1;34m(X, Y, Y_norm_squared, squared, X_norm_squared)\u001B[0m\n\u001B[0;32m    328\u001B[0m             )\n\u001B[0;32m    329\u001B[0m \u001B[1;33m\u001B[0m\u001B[0m\n\u001B[1;32m--> 330\u001B[1;33m     \u001B[1;32mreturn\u001B[0m \u001B[0m_euclidean_distances\u001B[0m\u001B[1;33m(\u001B[0m\u001B[0mX\u001B[0m\u001B[1;33m,\u001B[0m \u001B[0mY\u001B[0m\u001B[1;33m,\u001B[0m \u001B[0mX_norm_squared\u001B[0m\u001B[1;33m,\u001B[0m \u001B[0mY_norm_squared\u001B[0m\u001B[1;33m,\u001B[0m \u001B[0msquared\u001B[0m\u001B[1;33m)\u001B[0m\u001B[1;33m\u001B[0m\u001B[1;33m\u001B[0m\u001B[0m\n\u001B[0m\u001B[0;32m    331\u001B[0m \u001B[1;33m\u001B[0m\u001B[0m\n\u001B[0;32m    332\u001B[0m \u001B[1;33m\u001B[0m\u001B[0m\n",
      "\u001B[1;32m~\\anaconda3\\lib\\site-packages\\sklearn\\metrics\\pairwise.py\u001B[0m in \u001B[0;36m_euclidean_distances\u001B[1;34m(X, Y, X_norm_squared, Y_norm_squared, squared)\u001B[0m\n\u001B[0;32m    369\u001B[0m     \u001B[1;32melse\u001B[0m\u001B[1;33m:\u001B[0m\u001B[1;33m\u001B[0m\u001B[1;33m\u001B[0m\u001B[0m\n\u001B[0;32m    370\u001B[0m         \u001B[1;31m# if dtype is already float64, no need to chunk and upcast\u001B[0m\u001B[1;33m\u001B[0m\u001B[1;33m\u001B[0m\u001B[0m\n\u001B[1;32m--> 371\u001B[1;33m         \u001B[0mdistances\u001B[0m \u001B[1;33m=\u001B[0m \u001B[1;33m-\u001B[0m\u001B[1;36m2\u001B[0m \u001B[1;33m*\u001B[0m \u001B[0msafe_sparse_dot\u001B[0m\u001B[1;33m(\u001B[0m\u001B[0mX\u001B[0m\u001B[1;33m,\u001B[0m \u001B[0mY\u001B[0m\u001B[1;33m.\u001B[0m\u001B[0mT\u001B[0m\u001B[1;33m,\u001B[0m \u001B[0mdense_output\u001B[0m\u001B[1;33m=\u001B[0m\u001B[1;32mTrue\u001B[0m\u001B[1;33m)\u001B[0m\u001B[1;33m\u001B[0m\u001B[1;33m\u001B[0m\u001B[0m\n\u001B[0m\u001B[0;32m    372\u001B[0m         \u001B[0mdistances\u001B[0m \u001B[1;33m+=\u001B[0m \u001B[0mXX\u001B[0m\u001B[1;33m\u001B[0m\u001B[1;33m\u001B[0m\u001B[0m\n\u001B[0;32m    373\u001B[0m         \u001B[0mdistances\u001B[0m \u001B[1;33m+=\u001B[0m \u001B[0mYY\u001B[0m\u001B[1;33m\u001B[0m\u001B[1;33m\u001B[0m\u001B[0m\n",
      "\u001B[1;31mKeyboardInterrupt\u001B[0m: "
     ]
    }
   ],
   "source": [
    "preds = []\n",
    "\n",
    "for i in tqdm(range(0, len(emb_demand_df), 10000)):\n",
    "    sl = emb_demand_df.iloc[i:i+10000]\n",
    "    preds.extend(clf_big_sphere.predict(sl).tolist())"
   ],
   "metadata": {
    "collapsed": false,
    "pycharm": {
     "name": "#%%\n"
    }
   }
  },
  {
   "cell_type": "code",
   "execution_count": null,
   "outputs": [],
   "source": [],
   "metadata": {
    "collapsed": false,
    "pycharm": {
     "name": "#%%\n"
    }
   }
  },
  {
   "cell_type": "markdown",
   "source": [
    "## train model"
   ],
   "metadata": {
    "collapsed": false,
    "pycharm": {
     "name": "#%% md\n"
    }
   }
  },
  {
   "cell_type": "code",
   "execution_count": 46,
   "outputs": [
    {
     "data": {
      "text/plain": "318924"
     },
     "execution_count": 46,
     "metadata": {},
     "output_type": "execute_result"
    }
   ],
   "source": [
    "len(df_TRAIN_RES_1)"
   ],
   "metadata": {
    "collapsed": false,
    "pycharm": {
     "name": "#%%\n"
    }
   }
  },
  {
   "cell_type": "code",
   "execution_count": 47,
   "outputs": [],
   "source": [
    "columns_to_drop = [\"achievements\", \"company_name\", \"demands\", \"id_cv\",]"
   ],
   "metadata": {
    "collapsed": false,
    "pycharm": {
     "name": "#%%\n"
    }
   }
  },
  {
   "cell_type": "code",
   "execution_count": 31,
   "outputs": [],
   "source": [
    "X, y = df_TRAIN_RES_1.drop(columns_to_drop + [\"job_title\"], axis=1), df_TRAIN_RES_1[\"job_title\"]"
   ],
   "metadata": {
    "collapsed": false,
    "pycharm": {
     "name": "#%%\n"
    }
   }
  },
  {
   "cell_type": "code",
   "execution_count": 35,
   "outputs": [],
   "source": [
    "from sklearn.model_selection import train_test_split\n",
    "N = 20_000\n",
    "X_train, X_test, y_train, y_test = train_test_split(X.iloc[:N], y.iloc[:N], stratify=y.iloc[:N], test_size=0.2, random_state=42)"
   ],
   "metadata": {
    "collapsed": false,
    "pycharm": {
     "name": "#%%\n"
    }
   }
  },
  {
   "cell_type": "code",
   "execution_count": 36,
   "outputs": [],
   "source": [
    "from catboost import CatBoostClassifier, Pool\n",
    "\n",
    "train_pool = Pool(X_train, y_train)\n",
    "test_pool = Pool(X_test, y_test)"
   ],
   "metadata": {
    "collapsed": false,
    "pycharm": {
     "name": "#%%\n"
    }
   }
  },
  {
   "cell_type": "code",
   "execution_count": 38,
   "outputs": [
    {
     "name": "stdout",
     "output_type": "stream",
     "text": [
      "Learning rate set to 0.139139\n",
      "0:\tlearn: 0.2306875\ttest: 0.2202500\tbest: 0.2202500 (0)\ttotal: 963ms\tremaining: 16m 2s\n",
      "1:\tlearn: 0.2551250\ttest: 0.2535000\tbest: 0.2535000 (1)\ttotal: 1.81s\tremaining: 15m 2s\n",
      "2:\tlearn: 0.2706875\ttest: 0.2645000\tbest: 0.2645000 (2)\ttotal: 2.69s\tremaining: 14m 53s\n",
      "3:\tlearn: 0.2812500\ttest: 0.2692500\tbest: 0.2692500 (3)\ttotal: 3.55s\tremaining: 14m 43s\n",
      "4:\tlearn: 0.2923750\ttest: 0.2810000\tbest: 0.2810000 (4)\ttotal: 4.44s\tremaining: 14m 44s\n",
      "5:\tlearn: 0.3030625\ttest: 0.2892500\tbest: 0.2892500 (5)\ttotal: 5.32s\tremaining: 14m 40s\n",
      "6:\tlearn: 0.3121875\ttest: 0.2955000\tbest: 0.2955000 (6)\ttotal: 6.2s\tremaining: 14m 39s\n",
      "7:\tlearn: 0.3197500\ttest: 0.3050000\tbest: 0.3050000 (7)\ttotal: 6.99s\tremaining: 14m 27s\n",
      "8:\tlearn: 0.3243125\ttest: 0.3122500\tbest: 0.3122500 (8)\ttotal: 7.78s\tremaining: 14m 16s\n",
      "9:\tlearn: 0.3355000\ttest: 0.3167500\tbest: 0.3167500 (9)\ttotal: 8.67s\tremaining: 14m 18s\n",
      "10:\tlearn: 0.3439375\ttest: 0.3252500\tbest: 0.3252500 (10)\ttotal: 9.57s\tremaining: 14m 20s\n",
      "11:\tlearn: 0.3517500\ttest: 0.3330000\tbest: 0.3330000 (11)\ttotal: 10.5s\tremaining: 14m 20s\n",
      "12:\tlearn: 0.3590000\ttest: 0.3375000\tbest: 0.3375000 (12)\ttotal: 11.3s\tremaining: 14m 20s\n",
      "13:\tlearn: 0.3631875\ttest: 0.3422500\tbest: 0.3422500 (13)\ttotal: 12.2s\tremaining: 14m 20s\n",
      "14:\tlearn: 0.3685000\ttest: 0.3442500\tbest: 0.3442500 (14)\ttotal: 13s\tremaining: 14m 15s\n",
      "15:\tlearn: 0.3748750\ttest: 0.3527500\tbest: 0.3527500 (15)\ttotal: 13.9s\tremaining: 14m 15s\n",
      "16:\tlearn: 0.3810625\ttest: 0.3555000\tbest: 0.3555000 (16)\ttotal: 14.8s\tremaining: 14m 15s\n",
      "17:\tlearn: 0.3877500\ttest: 0.3607500\tbest: 0.3607500 (17)\ttotal: 15.5s\tremaining: 14m 8s\n",
      "18:\tlearn: 0.3923125\ttest: 0.3622500\tbest: 0.3622500 (18)\ttotal: 16.3s\tremaining: 14m 3s\n",
      "19:\tlearn: 0.3975000\ttest: 0.3660000\tbest: 0.3660000 (19)\ttotal: 17.2s\tremaining: 14m 1s\n",
      "20:\tlearn: 0.4019375\ttest: 0.3695000\tbest: 0.3695000 (20)\ttotal: 18s\tremaining: 14m\n",
      "21:\tlearn: 0.4043750\ttest: 0.3725000\tbest: 0.3725000 (21)\ttotal: 18.7s\tremaining: 13m 52s\n",
      "22:\tlearn: 0.4093750\ttest: 0.3760000\tbest: 0.3760000 (22)\ttotal: 19.4s\tremaining: 13m 44s\n",
      "23:\tlearn: 0.4119375\ttest: 0.3755000\tbest: 0.3760000 (22)\ttotal: 20.2s\tremaining: 13m 43s\n",
      "24:\tlearn: 0.4155000\ttest: 0.3800000\tbest: 0.3800000 (24)\ttotal: 21.1s\tremaining: 13m 42s\n",
      "25:\tlearn: 0.4192500\ttest: 0.3817500\tbest: 0.3817500 (25)\ttotal: 21.9s\tremaining: 13m 40s\n",
      "26:\tlearn: 0.4246875\ttest: 0.3877500\tbest: 0.3877500 (26)\ttotal: 22.8s\tremaining: 13m 41s\n",
      "27:\tlearn: 0.4271875\ttest: 0.3867500\tbest: 0.3877500 (26)\ttotal: 23.6s\tremaining: 13m 37s\n",
      "28:\tlearn: 0.4309375\ttest: 0.3895000\tbest: 0.3895000 (28)\ttotal: 24.4s\tremaining: 13m 37s\n",
      "29:\tlearn: 0.4357500\ttest: 0.3922500\tbest: 0.3922500 (29)\ttotal: 25.3s\tremaining: 13m 36s\n",
      "30:\tlearn: 0.4406250\ttest: 0.3917500\tbest: 0.3922500 (29)\ttotal: 26.1s\tremaining: 13m 36s\n",
      "31:\tlearn: 0.4444375\ttest: 0.3947500\tbest: 0.3947500 (31)\ttotal: 26.9s\tremaining: 13m 35s\n",
      "32:\tlearn: 0.4483750\ttest: 0.3992500\tbest: 0.3992500 (32)\ttotal: 27.8s\tremaining: 13m 34s\n",
      "33:\tlearn: 0.4507500\ttest: 0.3995000\tbest: 0.3995000 (33)\ttotal: 28.7s\tremaining: 13m 34s\n",
      "34:\tlearn: 0.4557500\ttest: 0.4017500\tbest: 0.4017500 (34)\ttotal: 29.6s\tremaining: 13m 35s\n",
      "35:\tlearn: 0.4591250\ttest: 0.4022500\tbest: 0.4022500 (35)\ttotal: 30.4s\tremaining: 13m 33s\n",
      "36:\tlearn: 0.4621250\ttest: 0.4052500\tbest: 0.4052500 (36)\ttotal: 31.1s\tremaining: 13m 30s\n",
      "37:\tlearn: 0.4660000\ttest: 0.4065000\tbest: 0.4065000 (37)\ttotal: 32s\tremaining: 13m 30s\n",
      "38:\tlearn: 0.4680625\ttest: 0.4067500\tbest: 0.4067500 (38)\ttotal: 32.7s\tremaining: 13m 26s\n",
      "39:\tlearn: 0.4710625\ttest: 0.4105000\tbest: 0.4105000 (39)\ttotal: 33.5s\tremaining: 13m 22s\n",
      "40:\tlearn: 0.4742500\ttest: 0.4115000\tbest: 0.4115000 (40)\ttotal: 34.2s\tremaining: 13m 19s\n",
      "41:\tlearn: 0.4792500\ttest: 0.4115000\tbest: 0.4115000 (40)\ttotal: 35s\tremaining: 13m 19s\n",
      "42:\tlearn: 0.4798750\ttest: 0.4127500\tbest: 0.4127500 (42)\ttotal: 35.9s\tremaining: 13m 19s\n",
      "43:\tlearn: 0.4835625\ttest: 0.4160000\tbest: 0.4160000 (43)\ttotal: 36.8s\tremaining: 13m 19s\n",
      "44:\tlearn: 0.4891250\ttest: 0.4175000\tbest: 0.4175000 (44)\ttotal: 37.7s\tremaining: 13m 20s\n",
      "45:\tlearn: 0.4910625\ttest: 0.4207500\tbest: 0.4207500 (45)\ttotal: 38.3s\tremaining: 13m 14s\n",
      "46:\tlearn: 0.4943750\ttest: 0.4207500\tbest: 0.4207500 (45)\ttotal: 39.1s\tremaining: 13m 12s\n",
      "47:\tlearn: 0.4963750\ttest: 0.4215000\tbest: 0.4215000 (47)\ttotal: 40s\tremaining: 13m 12s\n",
      "48:\tlearn: 0.4983125\ttest: 0.4225000\tbest: 0.4225000 (48)\ttotal: 40.8s\tremaining: 13m 12s\n",
      "49:\tlearn: 0.5024375\ttest: 0.4247500\tbest: 0.4247500 (49)\ttotal: 41.7s\tremaining: 13m 12s\n",
      "50:\tlearn: 0.5079375\ttest: 0.4242500\tbest: 0.4247500 (49)\ttotal: 42.6s\tremaining: 13m 11s\n",
      "51:\tlearn: 0.5108125\ttest: 0.4275000\tbest: 0.4275000 (51)\ttotal: 43.4s\tremaining: 13m 11s\n",
      "52:\tlearn: 0.5128750\ttest: 0.4282500\tbest: 0.4282500 (52)\ttotal: 44.3s\tremaining: 13m 11s\n",
      "53:\tlearn: 0.5203750\ttest: 0.4310000\tbest: 0.4310000 (53)\ttotal: 45.2s\tremaining: 13m 12s\n",
      "54:\tlearn: 0.5251875\ttest: 0.4337500\tbest: 0.4337500 (54)\ttotal: 46.1s\tremaining: 13m 12s\n",
      "55:\tlearn: 0.5264375\ttest: 0.4345000\tbest: 0.4345000 (55)\ttotal: 46.9s\tremaining: 13m 9s\n",
      "56:\tlearn: 0.5291250\ttest: 0.4337500\tbest: 0.4345000 (55)\ttotal: 47.8s\tremaining: 13m 10s\n",
      "57:\tlearn: 0.5338125\ttest: 0.4370000\tbest: 0.4370000 (57)\ttotal: 48.7s\tremaining: 13m 10s\n",
      "58:\tlearn: 0.5358125\ttest: 0.4385000\tbest: 0.4385000 (58)\ttotal: 49.4s\tremaining: 13m 7s\n",
      "59:\tlearn: 0.5385000\ttest: 0.4390000\tbest: 0.4390000 (59)\ttotal: 50.3s\tremaining: 13m 7s\n",
      "60:\tlearn: 0.5401875\ttest: 0.4395000\tbest: 0.4395000 (60)\ttotal: 51s\tremaining: 13m 5s\n",
      "61:\tlearn: 0.5426250\ttest: 0.4402500\tbest: 0.4402500 (61)\ttotal: 51.7s\tremaining: 13m 2s\n",
      "62:\tlearn: 0.5443750\ttest: 0.4390000\tbest: 0.4402500 (61)\ttotal: 52.5s\tremaining: 13m\n",
      "63:\tlearn: 0.5475625\ttest: 0.4397500\tbest: 0.4402500 (61)\ttotal: 53.3s\tremaining: 13m\n",
      "64:\tlearn: 0.5511250\ttest: 0.4425000\tbest: 0.4425000 (64)\ttotal: 54.2s\tremaining: 12m 59s\n",
      "65:\tlearn: 0.5506250\ttest: 0.4402500\tbest: 0.4425000 (64)\ttotal: 54.7s\tremaining: 12m 54s\n",
      "66:\tlearn: 0.5530625\ttest: 0.4425000\tbest: 0.4425000 (64)\ttotal: 55.4s\tremaining: 12m 50s\n",
      "67:\tlearn: 0.5583125\ttest: 0.4430000\tbest: 0.4430000 (67)\ttotal: 56.3s\tremaining: 12m 51s\n",
      "68:\tlearn: 0.5632500\ttest: 0.4475000\tbest: 0.4475000 (68)\ttotal: 57.2s\tremaining: 12m 51s\n",
      "69:\tlearn: 0.5668750\ttest: 0.4475000\tbest: 0.4475000 (68)\ttotal: 58s\tremaining: 12m 50s\n",
      "70:\tlearn: 0.5701875\ttest: 0.4485000\tbest: 0.4485000 (70)\ttotal: 58.9s\tremaining: 12m 50s\n",
      "71:\tlearn: 0.5706250\ttest: 0.4492500\tbest: 0.4492500 (71)\ttotal: 59.5s\tremaining: 12m 46s\n",
      "72:\tlearn: 0.5726875\ttest: 0.4510000\tbest: 0.4510000 (72)\ttotal: 1m\tremaining: 12m 46s\n",
      "73:\tlearn: 0.5774375\ttest: 0.4487500\tbest: 0.4510000 (72)\ttotal: 1m 1s\tremaining: 12m 46s\n",
      "74:\tlearn: 0.5813125\ttest: 0.4492500\tbest: 0.4510000 (72)\ttotal: 1m 2s\tremaining: 12m 44s\n",
      "75:\tlearn: 0.5823125\ttest: 0.4502500\tbest: 0.4510000 (72)\ttotal: 1m 2s\tremaining: 12m 40s\n",
      "76:\tlearn: 0.5843750\ttest: 0.4517500\tbest: 0.4517500 (76)\ttotal: 1m 3s\tremaining: 12m 39s\n",
      "77:\tlearn: 0.5865625\ttest: 0.4532500\tbest: 0.4532500 (77)\ttotal: 1m 4s\tremaining: 12m 38s\n",
      "78:\tlearn: 0.5876875\ttest: 0.4555000\tbest: 0.4555000 (78)\ttotal: 1m 5s\tremaining: 12m 37s\n",
      "79:\tlearn: 0.5903750\ttest: 0.4555000\tbest: 0.4555000 (78)\ttotal: 1m 5s\tremaining: 12m 35s\n",
      "80:\tlearn: 0.5955625\ttest: 0.4555000\tbest: 0.4555000 (78)\ttotal: 1m 6s\tremaining: 12m 35s\n",
      "81:\tlearn: 0.5977500\ttest: 0.4575000\tbest: 0.4575000 (81)\ttotal: 1m 7s\tremaining: 12m 34s\n",
      "82:\tlearn: 0.5985625\ttest: 0.4577500\tbest: 0.4577500 (82)\ttotal: 1m 8s\tremaining: 12m 31s\n",
      "83:\tlearn: 0.5993750\ttest: 0.4575000\tbest: 0.4577500 (82)\ttotal: 1m 8s\tremaining: 12m 28s\n",
      "84:\tlearn: 0.6041875\ttest: 0.4595000\tbest: 0.4595000 (84)\ttotal: 1m 9s\tremaining: 12m 26s\n",
      "85:\tlearn: 0.6058125\ttest: 0.4605000\tbest: 0.4605000 (85)\ttotal: 1m 9s\tremaining: 12m 22s\n",
      "86:\tlearn: 0.6079375\ttest: 0.4612500\tbest: 0.4612500 (86)\ttotal: 1m 10s\tremaining: 12m 20s\n",
      "87:\tlearn: 0.6087500\ttest: 0.4610000\tbest: 0.4612500 (86)\ttotal: 1m 11s\tremaining: 12m 18s\n",
      "88:\tlearn: 0.6106250\ttest: 0.4610000\tbest: 0.4612500 (86)\ttotal: 1m 11s\tremaining: 12m 15s\n",
      "89:\tlearn: 0.6122500\ttest: 0.4617500\tbest: 0.4617500 (89)\ttotal: 1m 12s\tremaining: 12m 13s\n",
      "90:\tlearn: 0.6132500\ttest: 0.4630000\tbest: 0.4630000 (90)\ttotal: 1m 13s\tremaining: 12m 10s\n",
      "91:\tlearn: 0.6151250\ttest: 0.4645000\tbest: 0.4645000 (91)\ttotal: 1m 13s\tremaining: 12m 9s\n",
      "92:\tlearn: 0.6157500\ttest: 0.4655000\tbest: 0.4655000 (92)\ttotal: 1m 14s\tremaining: 12m 5s\n",
      "93:\tlearn: 0.6178125\ttest: 0.4640000\tbest: 0.4655000 (92)\ttotal: 1m 15s\tremaining: 12m 4s\n",
      "94:\tlearn: 0.6200000\ttest: 0.4652500\tbest: 0.4655000 (92)\ttotal: 1m 15s\tremaining: 12m 2s\n",
      "95:\tlearn: 0.6215000\ttest: 0.4662500\tbest: 0.4662500 (95)\ttotal: 1m 16s\tremaining: 12m\n",
      "96:\tlearn: 0.6223125\ttest: 0.4667500\tbest: 0.4667500 (96)\ttotal: 1m 17s\tremaining: 11m 57s\n",
      "97:\tlearn: 0.6235000\ttest: 0.4672500\tbest: 0.4672500 (97)\ttotal: 1m 17s\tremaining: 11m 55s\n",
      "98:\tlearn: 0.6255000\ttest: 0.4700000\tbest: 0.4700000 (98)\ttotal: 1m 18s\tremaining: 11m 53s\n",
      "99:\tlearn: 0.6268125\ttest: 0.4695000\tbest: 0.4700000 (98)\ttotal: 1m 18s\tremaining: 11m 50s\n",
      "100:\tlearn: 0.6274375\ttest: 0.4705000\tbest: 0.4705000 (100)\ttotal: 1m 19s\tremaining: 11m 47s\n",
      "101:\tlearn: 0.6286250\ttest: 0.4695000\tbest: 0.4705000 (100)\ttotal: 1m 20s\tremaining: 11m 45s\n",
      "102:\tlearn: 0.6316250\ttest: 0.4702500\tbest: 0.4705000 (100)\ttotal: 1m 20s\tremaining: 11m 45s\n",
      "103:\tlearn: 0.6330000\ttest: 0.4715000\tbest: 0.4715000 (103)\ttotal: 1m 21s\tremaining: 11m 43s\n",
      "104:\tlearn: 0.6352500\ttest: 0.4717500\tbest: 0.4717500 (104)\ttotal: 1m 22s\tremaining: 11m 41s\n",
      "105:\tlearn: 0.6360000\ttest: 0.4715000\tbest: 0.4717500 (104)\ttotal: 1m 22s\tremaining: 11m 39s\n",
      "106:\tlearn: 0.6378125\ttest: 0.4712500\tbest: 0.4717500 (104)\ttotal: 1m 23s\tremaining: 11m 38s\n",
      "107:\tlearn: 0.6398125\ttest: 0.4732500\tbest: 0.4732500 (107)\ttotal: 1m 24s\tremaining: 11m 36s\n",
      "108:\tlearn: 0.6412500\ttest: 0.4720000\tbest: 0.4732500 (107)\ttotal: 1m 24s\tremaining: 11m 34s\n",
      "109:\tlearn: 0.6423125\ttest: 0.4732500\tbest: 0.4732500 (107)\ttotal: 1m 25s\tremaining: 11m 31s\n",
      "110:\tlearn: 0.6436250\ttest: 0.4750000\tbest: 0.4750000 (110)\ttotal: 1m 26s\tremaining: 11m 29s\n",
      "111:\tlearn: 0.6457500\ttest: 0.4750000\tbest: 0.4750000 (110)\ttotal: 1m 26s\tremaining: 11m 28s\n",
      "112:\tlearn: 0.6472500\ttest: 0.4750000\tbest: 0.4750000 (110)\ttotal: 1m 27s\tremaining: 11m 26s\n",
      "113:\tlearn: 0.6476250\ttest: 0.4755000\tbest: 0.4755000 (113)\ttotal: 1m 28s\tremaining: 11m 24s\n",
      "114:\tlearn: 0.6478750\ttest: 0.4747500\tbest: 0.4755000 (113)\ttotal: 1m 28s\tremaining: 11m 21s\n",
      "115:\tlearn: 0.6495625\ttest: 0.4765000\tbest: 0.4765000 (115)\ttotal: 1m 29s\tremaining: 11m 18s\n",
      "116:\tlearn: 0.6501875\ttest: 0.4760000\tbest: 0.4765000 (115)\ttotal: 1m 29s\tremaining: 11m 17s\n",
      "117:\tlearn: 0.6511250\ttest: 0.4772500\tbest: 0.4772500 (117)\ttotal: 1m 30s\tremaining: 11m 15s\n",
      "118:\tlearn: 0.6525625\ttest: 0.4760000\tbest: 0.4772500 (117)\ttotal: 1m 31s\tremaining: 11m 13s\n",
      "119:\tlearn: 0.6546875\ttest: 0.4747500\tbest: 0.4772500 (117)\ttotal: 1m 31s\tremaining: 11m 12s\n",
      "120:\tlearn: 0.6560625\ttest: 0.4785000\tbest: 0.4785000 (120)\ttotal: 1m 32s\tremaining: 11m 11s\n",
      "121:\tlearn: 0.6579375\ttest: 0.4785000\tbest: 0.4785000 (120)\ttotal: 1m 32s\tremaining: 11m 8s\n",
      "122:\tlearn: 0.6585625\ttest: 0.4797500\tbest: 0.4797500 (122)\ttotal: 1m 33s\tremaining: 11m 7s\n",
      "123:\tlearn: 0.6586875\ttest: 0.4802500\tbest: 0.4802500 (123)\ttotal: 1m 34s\tremaining: 11m 5s\n",
      "124:\tlearn: 0.6587500\ttest: 0.4805000\tbest: 0.4805000 (124)\ttotal: 1m 34s\tremaining: 11m 3s\n",
      "125:\tlearn: 0.6600000\ttest: 0.4787500\tbest: 0.4805000 (124)\ttotal: 1m 35s\tremaining: 11m 1s\n",
      "126:\tlearn: 0.6618125\ttest: 0.4795000\tbest: 0.4805000 (124)\ttotal: 1m 35s\tremaining: 10m 58s\n",
      "127:\tlearn: 0.6621875\ttest: 0.4797500\tbest: 0.4805000 (124)\ttotal: 1m 36s\tremaining: 10m 57s\n",
      "128:\tlearn: 0.6631250\ttest: 0.4802500\tbest: 0.4805000 (124)\ttotal: 1m 37s\tremaining: 10m 55s\n",
      "129:\tlearn: 0.6650000\ttest: 0.4807500\tbest: 0.4807500 (129)\ttotal: 1m 37s\tremaining: 10m 54s\n",
      "130:\tlearn: 0.6655625\ttest: 0.4785000\tbest: 0.4807500 (129)\ttotal: 1m 38s\tremaining: 10m 51s\n",
      "131:\tlearn: 0.6665625\ttest: 0.4802500\tbest: 0.4807500 (129)\ttotal: 1m 38s\tremaining: 10m 50s\n",
      "132:\tlearn: 0.6675625\ttest: 0.4795000\tbest: 0.4807500 (129)\ttotal: 1m 39s\tremaining: 10m 49s\n",
      "133:\tlearn: 0.6685625\ttest: 0.4792500\tbest: 0.4807500 (129)\ttotal: 1m 40s\tremaining: 10m 47s\n",
      "134:\tlearn: 0.6697500\ttest: 0.4795000\tbest: 0.4807500 (129)\ttotal: 1m 40s\tremaining: 10m 45s\n",
      "bestTest = 0.48075\n",
      "bestIteration = 129\n",
      "Shrink model to first 130 iterations.\n"
     ]
    },
    {
     "data": {
      "text/plain": "<catboost.core.CatBoostClassifier at 0x17c251019a0>"
     },
     "execution_count": 38,
     "metadata": {},
     "output_type": "execute_result"
    }
   ],
   "source": [
    "clf = CatBoostClassifier(task_type=\"GPU\", eval_metric=\"Accuracy\")\n",
    "clf.fit(train_pool, eval_set=test_pool, early_stopping_rounds=5)"
   ],
   "metadata": {
    "collapsed": false,
    "pycharm": {
     "name": "#%%\n"
    }
   }
  },
  {
   "cell_type": "code",
   "execution_count": 39,
   "outputs": [],
   "source": [
    "with open(\"clf.pkl\", \"wb\") as f:\n",
    "    pickle.dump(clf, f)"
   ],
   "metadata": {
    "collapsed": false,
    "pycharm": {
     "name": "#%%\n"
    }
   }
  },
  {
   "cell_type": "code",
   "execution_count": 47,
   "outputs": [
    {
     "data": {
      "text/plain": "Counter({'менеджер': 342,\n         'электрогазосварщик': 14,\n         'оператор': 223,\n         'водитель': 130,\n         'юрисконсульт': 91,\n         'специалист': 686,\n         'кладовщик': 38,\n         'директор': 154,\n         'мастер': 108,\n         'администратор': 87,\n         'кассир': 40,\n         'слесарь': 93,\n         'психолог': 14,\n         'инженер': 444,\n         'бухгалтер': 287,\n         'руководитель': 42,\n         'продавец': 94,\n         'машинист': 67,\n         'электромонтер': 73,\n         'заместитель': 99,\n         'экономист': 72,\n         'фельдшер': 11,\n         'консультант': 15,\n         'инспектор': 54,\n         'секретарь': 77,\n         'архивариус': 1,\n         'учитель': 77,\n         'сборщик': 4,\n         'механик': 34,\n         'укладчик': 2,\n         'медсестра': 7,\n         'официант': 8,\n         'монтажник': 37,\n         'педагог': 14,\n         'преподаватель': 76,\n         'охранник': 23,\n         'юрист': 22,\n         'воспитатель': 42,\n         'лаборант': 26,\n         'пожарный': 3,\n         'уборщица': 5,\n         'стропальщик': 1,\n         'библиотекарь': 5,\n         'подсобный рабочий': 5,\n         'повар': 13,\n         'ассистент': 2,\n         'упаковщик': 1,\n         'делопроизводитель': 11,\n         'энергетик': 4,\n         'диспетчер': 12,\n         'контролер': 15,\n         'проводник': 2,\n         'помощник директора': 1,\n         'уполномоченный': 2,\n         'техник': 2,\n         'дознаватель': 1,\n         'электромонтажник': 9,\n         'медицинская сестра': 5,\n         'управляющий': 3,\n         'плотник': 4,\n         'массажист': 4,\n         'дизайнер': 7,\n         'предприниматель': 7,\n         'уборщик': 6,\n         'эксперт': 9,\n         'аппаратчик': 3,\n         'экспедитор': 3,\n         'представитель': 7,\n         'регистратор': 2,\n         'программист': 5,\n         'бармен': 6,\n         'методист': 2,\n         'помощник воспитателя': 3,\n         'дорожный рабочий': 6,\n         'оперуполномоченный': 5,\n         'каменщик': 1,\n         'заведующий': 4,\n         'дворник': 2,\n         'инструктор': 2,\n         'вожатый': 8,\n         'тренер': 4,\n         'фармацевт': 2,\n         'следователь': 5,\n         'редактор': 6,\n         'прораб': 2,\n         'грузчик': 10,\n         'сторож': 5,\n         'сотрудник': 3,\n         'ветеринарный врач': 1,\n         'истопник': 3,\n         'геодезист': 1,\n         'аналитик': 2,\n         'курьер': 2,\n         'электромеханик': 1,\n         'геолог': 1,\n         'наладчик': 1,\n         'логист': 2,\n         'социальный работник': 2,\n         'сварщик': 3,\n         'помощник судьи': 2,\n         'почтальон': 3,\n         'координатор': 1,\n         'швея': 2,\n         'фрезеровщик': 1,\n         'конструктор': 3,\n         'горничная': 1,\n         'полицейский': 1,\n         'электромонтёр': 1,\n         'бариста': 1,\n         'станочник': 1,\n         'стрелок': 1})"
     },
     "execution_count": 47,
     "metadata": {},
     "output_type": "execute_result"
    }
   ],
   "source": [
    "from collections import Counter\n",
    "Counter([i[0] for i in clf.predict(X_test).tolist()])"
   ],
   "metadata": {
    "collapsed": false,
    "pycharm": {
     "name": "#%%\n"
    }
   }
  },
  {
   "cell_type": "code",
   "execution_count": 49,
   "outputs": [
    {
     "data": {
      "text/plain": "(array([3789], dtype=int64), array([0], dtype=int64))"
     },
     "execution_count": 49,
     "metadata": {},
     "output_type": "execute_result"
    }
   ],
   "source": [
    "np.where(clf.predict(X_test) == \"стрелок\")"
   ],
   "metadata": {
    "collapsed": false,
    "pycharm": {
     "name": "#%%\n"
    }
   }
  },
  {
   "cell_type": "code",
   "execution_count": null,
   "outputs": [],
   "source": [],
   "metadata": {
    "collapsed": false,
    "pycharm": {
     "name": "#%%\n"
    }
   }
  },
  {
   "cell_type": "code",
   "execution_count": 63,
   "outputs": [
    {
     "data": {
      "text/plain": "'стрелок'"
     },
     "execution_count": 63,
     "metadata": {},
     "output_type": "execute_result"
    }
   ],
   "source": [
    "df_TRAIN_RES_1[df_TRAIN_RES_1[\"comp_name_emb_0\"] == X_test.iloc[3789][\"comp_name_emb_0\"]].iloc[0][\"job_title\"]"
   ],
   "metadata": {
    "collapsed": false,
    "pycharm": {
     "name": "#%%\n"
    }
   }
  },
  {
   "cell_type": "code",
   "execution_count": null,
   "outputs": [],
   "source": [],
   "metadata": {
    "collapsed": false,
    "pycharm": {
     "name": "#%%\n"
    }
   }
  },
  {
   "cell_type": "code",
   "execution_count": 57,
   "outputs": [
    {
     "data": {
      "text/plain": "0.4036295711994171"
     },
     "execution_count": 57,
     "metadata": {},
     "output_type": "execute_result"
    }
   ],
   "source": [
    "X_test.iloc[3789][\"comp_name_emb_0\"]"
   ],
   "metadata": {
    "collapsed": false,
    "pycharm": {
     "name": "#%%\n"
    }
   }
  },
  {
   "cell_type": "code",
   "execution_count": null,
   "outputs": [],
   "source": [],
   "metadata": {
    "collapsed": false,
    "pycharm": {
     "name": "#%%\n"
    }
   }
  }
 ],
 "metadata": {
  "kernelspec": {
   "display_name": "Python 3",
   "language": "python",
   "name": "python3"
  },
  "language_info": {
   "codemirror_mode": {
    "name": "ipython",
    "version": 2
   },
   "file_extension": ".py",
   "mimetype": "text/x-python",
   "name": "python",
   "nbconvert_exporter": "python",
   "pygments_lexer": "ipython2",
   "version": "2.7.6"
  }
 },
 "nbformat": 4,
 "nbformat_minor": 0
}