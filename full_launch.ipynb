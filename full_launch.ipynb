{
 "cells": [
  {
   "cell_type": "markdown",
   "metadata": {},
   "source": [
    "Первоначальная загрузка модулей может занимать много времени: с яндекс.диска будут скачиваться модели суммарно 1 гб."
   ]
  },
  {
   "cell_type": "code",
   "execution_count": 1,
   "metadata": {},
   "outputs": [
    {
     "name": "stderr",
     "output_type": "stream",
     "text": [
      "/Users/bondarchukgleb/anaconda3/lib/python3.9/site-packages/pandas/core/arrays/masked.py:60: UserWarning: Pandas requires version '1.3.6' or newer of 'bottleneck' (version '1.3.5' currently installed).\n",
      "  from pandas.core import (\n"
     ]
    },
    {
     "name": "stdout",
     "output_type": "stream",
     "text": [
      "Models are already downloaded!\n",
      "Models are already downloaded!\n",
      "Models are already downloaded!\n"
     ]
    }
   ],
   "source": [
    "from merito.sphere_classifier import get_predict_for_resume\n",
    "from merito.vacancy_predictor import predict_salary_by_vacancy\n",
    "from merito.job_title_correction import text_correction\n",
    "import pandas as pd"
   ]
  },
  {
   "cell_type": "markdown",
   "metadata": {},
   "source": [
    "   "
   ]
  },
  {
   "cell_type": "markdown",
   "metadata": {},
   "source": [
    "### Пример работы модели автокоррекции написания профессий и алгоритма их преобразования"
   ]
  },
  {
   "cell_type": "markdown",
   "metadata": {},
   "source": [
    "Функция **text_correction** принимает на вход текст с написанной профессией и возвращает его корректное исправленное описание и группу и подгруппу, к которой оно относится (т.е. преобразованные и кластеризированные)."
   ]
  },
  {
   "cell_type": "code",
   "execution_count": 9,
   "metadata": {
    "scrolled": false
   },
   "outputs": [
    {
     "name": "stderr",
     "output_type": "stream",
     "text": [
      "100%|███████████████████████████████████████████| 1/1 [00:00<00:00, 3701.95it/s]\n"
     ]
    },
    {
     "name": "stdout",
     "output_type": "stream",
     "text": [
      "Исходное название: дврник | Отредактированное: дворник | Сфера: Рабочий персонал | Подсфера: дворник\n"
     ]
    },
    {
     "name": "stderr",
     "output_type": "stream",
     "text": [
      "100%|███████████████████████████████████████████| 1/1 [00:00<00:00, 2882.68it/s]\n"
     ]
    },
    {
     "name": "stdout",
     "output_type": "stream",
     "text": [
      "Исходное название: дизайнер | Отредактированное: дизайнер | Сфера: Искусство, развлечения, масс-медиа | Подсфера: дизайнер\n"
     ]
    },
    {
     "name": "stderr",
     "output_type": "stream",
     "text": [
      "100%|███████████████████████████████████████████| 1/1 [00:00<00:00, 4739.33it/s]\n"
     ]
    },
    {
     "name": "stdout",
     "output_type": "stream",
     "text": [
      "Исходное название: старший геолог | Отредактированное: старший геолог | Сфера: Добыча сырья | Подсфера: геолог\n"
     ]
    },
    {
     "name": "stderr",
     "output_type": "stream",
     "text": [
      "100%|███████████████████████████████████████████| 1/1 [00:00<00:00, 4002.20it/s]\n"
     ]
    },
    {
     "name": "stdout",
     "output_type": "stream",
     "text": [
      "Исходное название: геолог нефтяник | Отредактированное: геолог нефтяник | Сфера: Добыча сырья | Подсфера: геолог\n"
     ]
    },
    {
     "name": "stderr",
     "output_type": "stream",
     "text": [
      "100%|███████████████████████████████████████████| 1/1 [00:00<00:00, 4048.56it/s]\n"
     ]
    },
    {
     "name": "stdout",
     "output_type": "stream",
     "text": [
      "Исходное название: свинопас | Отредактированное: свинопас | Сфера: Искусство, развлечения, масс-медиа | Подсфера: свинопас\n"
     ]
    },
    {
     "name": "stderr",
     "output_type": "stream",
     "text": [
      "100%|███████████████████████████████████████████| 1/1 [00:00<00:00, 4293.04it/s]"
     ]
    },
    {
     "name": "stdout",
     "output_type": "stream",
     "text": [
      "Исходное название: экномист | Отредактированное: экономист | Сфера: Бухгалтерия, управленческий учет, финансы предприятия | Подсфера: экономист\n"
     ]
    },
    {
     "name": "stderr",
     "output_type": "stream",
     "text": [
      "\n"
     ]
    }
   ],
   "source": [
    "# примеры\n",
    "\n",
    "job = [\"дврник\", \"дизайнер\", \"старший геолог\", \"геолог нефтяник\", \"свинопас\", \"экномист\"]\n",
    "for j in job:\n",
    "    res = text_correction(j)\n",
    "    print(\"Исходное название:\", j, \"| Отредактированное:\", res[0], \"| Сфера:\", res[1][0], \"| Подсфера:\", res[1][1])"
   ]
  },
  {
   "cell_type": "code",
   "execution_count": null,
   "metadata": {},
   "outputs": [],
   "source": []
  },
  {
   "cell_type": "markdown",
   "metadata": {},
   "source": [
    "## Определение сфер и зарплатных ожиданий"
   ]
  },
  {
   "cell_type": "markdown",
   "metadata": {},
   "source": [
    "Определение сфер и зарплатных ожиданий упаковано в отдельные аккуратные модули, которые можно применить всего в одну строчку кода."
   ]
  },
  {
   "cell_type": "code",
   "execution_count": 3,
   "metadata": {},
   "outputs": [],
   "source": [
    "test_res = pd.read_csv(\"test_data/TEST_RES.csv\")\n",
    "test_sal = pd.read_csv(\"test_data/TEST_SAL.csv\")"
   ]
  },
  {
   "cell_type": "code",
   "execution_count": 4,
   "metadata": {},
   "outputs": [
    {
     "name": "stderr",
     "output_type": "stream",
     "text": [
      "100%|██████████████████████████████████| 1956/1956 [00:00<00:00, 1466057.65it/s]\n",
      "100%|███████████████████████████████████| 1956/1956 [00:00<00:00, 557416.68it/s]\n",
      "100%|██████████████████████████████████| 1956/1956 [00:00<00:00, 1740360.34it/s]\n",
      "100%|███████████████████████████████████| 1956/1956 [00:00<00:00, 213164.41it/s]\n",
      "100%|███████████████████████████████████| 1956/1956 [00:00<00:00, 134806.58it/s]\n",
      "100%|████████████████████████████████████| 1956/1956 [00:00<00:00, 56043.25it/s]\n",
      "100%|███████████████████████████████████| 1956/1956 [00:00<00:00, 155807.78it/s]\n",
      "100%|███████████████████████████████████| 1956/1956 [00:00<00:00, 109567.14it/s]\n",
      "100%|███████████████████████████████████| 1956/1956 [00:00<00:00, 102323.06it/s]\n"
     ]
    }
   ],
   "source": [
    "test_res[\"job_title\"] = get_predict_for_resume(test_res)"
   ]
  },
  {
   "cell_type": "code",
   "execution_count": 5,
   "metadata": {},
   "outputs": [
    {
     "name": "stderr",
     "output_type": "stream",
     "text": [
      "100%|█████████████████████████████████████████████| 4/4 [00:00<00:00, 12.49it/s]\n",
      "100%|████████████████████████████████████████████| 3/3 [00:00<00:00, 200.81it/s]\n",
      "100%|██████████████████████████████████████| 1956/1956 [00:10<00:00, 194.95it/s]\n"
     ]
    }
   ],
   "source": [
    "test_sal[\"salary\"] = predict_salary_by_vacancy(test_sal)"
   ]
  },
  {
   "cell_type": "code",
   "execution_count": null,
   "metadata": {},
   "outputs": [],
   "source": []
  },
  {
   "cell_type": "code",
   "execution_count": 8,
   "metadata": {},
   "outputs": [],
   "source": [
    "ids = pd.concat([test_res[\"id\"], test_sal[\"id\"]], axis=0)\n",
    "job_title = pd.concat([test_res[\"job_title\"], pd.Series([None] * len(test_sal))], axis=0)\n",
    "salary = pd.concat([pd.Series([None] * len(test_res)), pd.Series(test_sal[\"salary\"])], axis=0)\n",
    "task_type = [\"RES\"] * len(test_res) + [\"SAL\"] * len(test_sal)"
   ]
  },
  {
   "cell_type": "code",
   "execution_count": 9,
   "metadata": {},
   "outputs": [],
   "source": [
    "sub = pd.DataFrame({\"id\": ids, \"job_title\": job_title, \"task_type\": task_type, \"salary\": salary})"
   ]
  },
  {
   "cell_type": "code",
   "execution_count": 10,
   "metadata": {},
   "outputs": [],
   "source": [
    "sub.to_csv(\"SUBMISSION.csv\", index=False)"
   ]
  },
  {
   "cell_type": "code",
   "execution_count": 16,
   "metadata": {},
   "outputs": [],
   "source": [
    "import merito"
   ]
  },
  {
   "cell_type": "code",
   "execution_count": null,
   "metadata": {},
   "outputs": [],
   "source": []
  },
  {
   "cell_type": "code",
   "execution_count": 22,
   "metadata": {},
   "outputs": [
    {
     "data": {
      "text/html": [
       "<div>\n",
       "<style scoped>\n",
       "    .dataframe tbody tr th:only-of-type {\n",
       "        vertical-align: middle;\n",
       "    }\n",
       "\n",
       "    .dataframe tbody tr th {\n",
       "        vertical-align: top;\n",
       "    }\n",
       "\n",
       "    .dataframe thead th {\n",
       "        text-align: right;\n",
       "    }\n",
       "</style>\n",
       "<table border=\"1\" class=\"dataframe\">\n",
       "  <thead>\n",
       "    <tr style=\"text-align: right;\">\n",
       "      <th></th>\n",
       "      <th>Feature Id</th>\n",
       "      <th>Importances</th>\n",
       "    </tr>\n",
       "  </thead>\n",
       "  <tbody>\n",
       "    <tr>\n",
       "      <th>0</th>\n",
       "      <td>nearest_mean_sal</td>\n",
       "      <td>21.938544</td>\n",
       "    </tr>\n",
       "    <tr>\n",
       "      <th>1</th>\n",
       "      <td>schedule_type</td>\n",
       "      <td>10.975354</td>\n",
       "    </tr>\n",
       "    <tr>\n",
       "      <th>2</th>\n",
       "      <td>code_profession</td>\n",
       "      <td>8.802224</td>\n",
       "    </tr>\n",
       "    <tr>\n",
       "      <th>3</th>\n",
       "      <td>code_professional_sphere</td>\n",
       "      <td>4.496476</td>\n",
       "    </tr>\n",
       "    <tr>\n",
       "      <th>4</th>\n",
       "      <td>vacancy_address_longitude</td>\n",
       "      <td>4.073716</td>\n",
       "    </tr>\n",
       "    <tr>\n",
       "      <th>5</th>\n",
       "      <td>vacancy_address_latitude</td>\n",
       "      <td>3.918239</td>\n",
       "    </tr>\n",
       "    <tr>\n",
       "      <th>6</th>\n",
       "      <td>required_experience</td>\n",
       "      <td>3.885977</td>\n",
       "    </tr>\n",
       "    <tr>\n",
       "      <th>7</th>\n",
       "      <td>source_type</td>\n",
       "      <td>2.953826</td>\n",
       "    </tr>\n",
       "    <tr>\n",
       "      <th>8</th>\n",
       "      <td>company_business_size</td>\n",
       "      <td>2.470253</td>\n",
       "    </tr>\n",
       "    <tr>\n",
       "      <th>9</th>\n",
       "      <td>mean_regionName_salary</td>\n",
       "      <td>2.244365</td>\n",
       "    </tr>\n",
       "  </tbody>\n",
       "</table>\n",
       "</div>"
      ],
      "text/plain": [
       "                  Feature Id  Importances\n",
       "0           nearest_mean_sal    21.938544\n",
       "1              schedule_type    10.975354\n",
       "2            code_profession     8.802224\n",
       "3   code_professional_sphere     4.496476\n",
       "4  vacancy_address_longitude     4.073716\n",
       "5   vacancy_address_latitude     3.918239\n",
       "6        required_experience     3.885977\n",
       "7                source_type     2.953826\n",
       "8      company_business_size     2.470253\n",
       "9     mean_regionName_salary     2.244365"
      ]
     },
     "execution_count": 22,
     "metadata": {},
     "output_type": "execute_result"
    }
   ],
   "source": [
    "merito.vacancy_predictor.reg.get_feature_importance(prettified=True).head(10)"
   ]
  },
  {
   "cell_type": "code",
   "execution_count": null,
   "metadata": {},
   "outputs": [],
   "source": []
  },
  {
   "cell_type": "code",
   "execution_count": null,
   "metadata": {},
   "outputs": [],
   "source": []
  },
  {
   "cell_type": "code",
   "execution_count": null,
   "metadata": {},
   "outputs": [],
   "source": []
  },
  {
   "cell_type": "code",
   "execution_count": null,
   "metadata": {},
   "outputs": [],
   "source": []
  },
  {
   "cell_type": "code",
   "execution_count": null,
   "metadata": {
    "pycharm": {
     "name": "#%%\n"
    }
   },
   "outputs": [],
   "source": []
  }
 ],
 "metadata": {
  "kernelspec": {
   "display_name": "Python 3 (ipykernel)",
   "language": "python",
   "name": "python3"
  },
  "language_info": {
   "codemirror_mode": {
    "name": "ipython",
    "version": 3
   },
   "file_extension": ".py",
   "mimetype": "text/x-python",
   "name": "python",
   "nbconvert_exporter": "python",
   "pygments_lexer": "ipython3",
   "version": "3.9.18"
  }
 },
 "nbformat": 4,
 "nbformat_minor": 1
}
