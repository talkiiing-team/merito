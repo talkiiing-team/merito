{
 "cells": [
  {
   "cell_type": "code",
   "execution_count": 1,
   "id": "b3cb648d",
   "metadata": {},
   "outputs": [
    {
     "name": "stderr",
     "output_type": "stream",
     "text": [
      "C:\\Users\\iltya\\anaconda3\\lib\\site-packages\\numpy\\_distributor_init.py:30: UserWarning: loaded more than 1 DLL from .libs:\n",
      "C:\\Users\\iltya\\anaconda3\\lib\\site-packages\\numpy\\.libs\\libopenblas.XWYDX2IKJW2NMTWSFYNGFUWKQU3LYTCZ.gfortran-win_amd64.dll\n",
      "C:\\Users\\iltya\\anaconda3\\lib\\site-packages\\numpy\\.libs\\libopenblas64__v0.3.23-246-g3d31191b-gcc_10_3_0.dll\n",
      "  warnings.warn(\"loaded more than 1 DLL from .libs:\"\n",
      "C:\\Users\\iltya\\AppData\\Roaming\\Python\\Python39\\site-packages\\scipy\\__init__.py:155: UserWarning: A NumPy version >=1.18.5 and <1.25.0 is required for this version of SciPy (detected version 1.25.2\n",
      "  warnings.warn(f\"A NumPy version >={np_minversion} and <{np_maxversion}\"\n"
     ]
    }
   ],
   "source": [
    "import pandas as pd\n",
    "import numpy as np\n",
    "import matplotlib.pyplot as plt\n",
    "import seaborn as sns\n",
    "import re\n",
    "from catboost import CatBoostRegressor, CatBoostClassifier, Pool\n",
    "# from my_parsers import download, parse\n",
    "from tqdm import tqdm\n",
    "from collections import Counter\n",
    "# from brown_clustering import BigramCorpus, BrownClustering\n",
    "\n",
    "pd.options.display.max_rows = 200\n",
    "tqdm.pandas()"
   ]
  },
  {
   "cell_type": "code",
   "execution_count": 2,
   "id": "173bfae9",
   "metadata": {},
   "outputs": [
    {
     "name": "stderr",
     "output_type": "stream",
     "text": [
      "C:\\Users\\iltya\\anaconda3\\lib\\site-packages\\IPython\\core\\interactiveshell.py:3444: DtypeWarning: Columns (1,16,24,69) have mixed types.Specify dtype option on import or set low_memory=False.\n",
      "  exec(code_obj, self.user_global_ns, self.user_ns)\n"
     ]
    }
   ],
   "source": [
    "df_TRAIN_RES_1 = pd.read_csv('vprod_train/TRAIN_RES_1.csv')\n",
    "#df_TRAIN_RES_2 = pd.read_csv('vprod_train/TRAIN_RES_1.csv')\n",
    "#df_TRAIN_RES_3 = pd.read_csv('vprod_train/TRAIN_RES_1.csv')\n",
    "#df_TRAIN_RES_4 = pd.read_csv('vprod_train/TRAIN_RES_1.csv')\n",
    "#df_TRAIN_RES_5 = pd.read_csv('vprod_train/TRAIN_RES_1.csv')\n",
    "\n",
    "#df_res = pd.concat([df_TRAIN_RES_1, df_TRAIN_RES_2, df_TRAIN_RES_3, df_TRAIN_RES_4, df_TRAIN_RES_5], axis=0)\n",
    "df_res = df_TRAIN_RES_1.copy()\n",
    "df_sal = pd.read_csv('vprod_train/TRAIN_SAL.csv')"
   ]
  },
  {
   "cell_type": "code",
   "execution_count": 3,
   "outputs": [],
   "source": [
    "# удаляем модифицированный столбец - он совпадает с точностью до регистра\n",
    "df_TRAIN_RES_1.drop(\"achievements_modified\", axis=1, inplace=True)\n",
    "\n",
    "df_TRAIN_RES_1[\"achievements\"].fillna(\"\", inplace=True)\n",
    "df_TRAIN_RES_1[\"achievements_len\"] = [len(i) for i in df_TRAIN_RES_1[\"achievements\"]]\n",
    "\n",
    "df_TRAIN_RES_1.drop_duplicates(inplace=True)"
   ],
   "metadata": {
    "collapsed": false,
    "pycharm": {
     "name": "#%%\n"
    }
   }
  },
  {
   "cell_type": "code",
   "execution_count": 3,
   "outputs": [],
   "source": [],
   "metadata": {
    "collapsed": false,
    "pycharm": {
     "name": "#%%\n"
    }
   }
  },
  {
   "cell_type": "code",
   "execution_count": 3,
   "outputs": [],
   "source": [],
   "metadata": {
    "collapsed": false,
    "pycharm": {
     "name": "#%%\n"
    }
   }
  },
  {
   "cell_type": "code",
   "execution_count": 55,
   "outputs": [
    {
     "data": {
      "text/plain": "                                             achievements  \\\n687466  Список реализованных объектов (проектов):1. ФГ...   \n687485  Список реализованных объектов (проектов):1. ФГ...   \n687494  Список реализованных объектов (проектов):1. ФГ...   \n687508  Список реализованных объектов (проектов):1. ФГ...   \n687511  Список реализованных объектов (проектов):1. ФГ...   \n\n                                             company_name  \\\n687466  ЗАО РОСГЕОПРОЕКТ (изыскания, землеустройство, ...   \n687485  ЗАО РОСГЕОПРОЕКТ (изыскания, землеустройство, ...   \n687494  ЗАО РОСГЕОПРОЕКТ (изыскания, землеустройство, ...   \n687508  ЗАО РОСГЕОПРОЕКТ (изыскания, землеустройство, ...   \n687511  ЗАО РОСГЕОПРОЕКТ (изыскания, землеустройство, ...   \n\n                                                  demands  \\\n687466  - создание проектного подразделения \"с нуля\" п...   \n687485  - создание проектного подразделения \"с нуля\" п...   \n687494  - создание проектного подразделения \"с нуля\" п...   \n687508  - создание проектного подразделения \"с нуля\" п...   \n687511  - создание проектного подразделения \"с нуля\" п...   \n\n                                       id_cv     job_title  achievements_isna  \\\n687466  5f217020-f969-11e9-8b91-ef76bd2a03c1  руководитель              False   \n687485  4cf01980-f034-11e9-868a-ef76bd2a03c1  руководитель              False   \n687494  08c129f0-f969-11e9-8b91-ef76bd2a03c1  руководитель              False   \n687508  eb4a05d0-f969-11e9-8b91-ef76bd2a03c1  руководитель              False   \n687511  980d94e0-f969-11e9-8b91-ef76bd2a03c1  руководитель              False   \n\n        achievements_len  \n687466              4770  \n687485              4770  \n687494              4770  \n687508              4770  \n687511              4770  ",
      "text/html": "<div>\n<style scoped>\n    .dataframe tbody tr th:only-of-type {\n        vertical-align: middle;\n    }\n\n    .dataframe tbody tr th {\n        vertical-align: top;\n    }\n\n    .dataframe thead th {\n        text-align: right;\n    }\n</style>\n<table border=\"1\" class=\"dataframe\">\n  <thead>\n    <tr style=\"text-align: right;\">\n      <th></th>\n      <th>achievements</th>\n      <th>company_name</th>\n      <th>demands</th>\n      <th>id_cv</th>\n      <th>job_title</th>\n      <th>achievements_isna</th>\n      <th>achievements_len</th>\n    </tr>\n  </thead>\n  <tbody>\n    <tr>\n      <th>687466</th>\n      <td>Список реализованных объектов (проектов):1. ФГ...</td>\n      <td>ЗАО РОСГЕОПРОЕКТ (изыскания, землеустройство, ...</td>\n      <td>- создание проектного подразделения \"с нуля\" п...</td>\n      <td>5f217020-f969-11e9-8b91-ef76bd2a03c1</td>\n      <td>руководитель</td>\n      <td>False</td>\n      <td>4770</td>\n    </tr>\n    <tr>\n      <th>687485</th>\n      <td>Список реализованных объектов (проектов):1. ФГ...</td>\n      <td>ЗАО РОСГЕОПРОЕКТ (изыскания, землеустройство, ...</td>\n      <td>- создание проектного подразделения \"с нуля\" п...</td>\n      <td>4cf01980-f034-11e9-868a-ef76bd2a03c1</td>\n      <td>руководитель</td>\n      <td>False</td>\n      <td>4770</td>\n    </tr>\n    <tr>\n      <th>687494</th>\n      <td>Список реализованных объектов (проектов):1. ФГ...</td>\n      <td>ЗАО РОСГЕОПРОЕКТ (изыскания, землеустройство, ...</td>\n      <td>- создание проектного подразделения \"с нуля\" п...</td>\n      <td>08c129f0-f969-11e9-8b91-ef76bd2a03c1</td>\n      <td>руководитель</td>\n      <td>False</td>\n      <td>4770</td>\n    </tr>\n    <tr>\n      <th>687508</th>\n      <td>Список реализованных объектов (проектов):1. ФГ...</td>\n      <td>ЗАО РОСГЕОПРОЕКТ (изыскания, землеустройство, ...</td>\n      <td>- создание проектного подразделения \"с нуля\" п...</td>\n      <td>eb4a05d0-f969-11e9-8b91-ef76bd2a03c1</td>\n      <td>руководитель</td>\n      <td>False</td>\n      <td>4770</td>\n    </tr>\n    <tr>\n      <th>687511</th>\n      <td>Список реализованных объектов (проектов):1. ФГ...</td>\n      <td>ЗАО РОСГЕОПРОЕКТ (изыскания, землеустройство, ...</td>\n      <td>- создание проектного подразделения \"с нуля\" п...</td>\n      <td>980d94e0-f969-11e9-8b91-ef76bd2a03c1</td>\n      <td>руководитель</td>\n      <td>False</td>\n      <td>4770</td>\n    </tr>\n  </tbody>\n</table>\n</div>"
     },
     "execution_count": 55,
     "metadata": {},
     "output_type": "execute_result"
    }
   ],
   "source": [
    "df_TRAIN_RES_1[df_TRAIN_RES_1[\"achievements_len\"] == 4770]"
   ],
   "metadata": {
    "collapsed": false,
    "pycharm": {
     "name": "#%%\n"
    }
   }
  },
  {
   "cell_type": "code",
   "execution_count": 61,
   "outputs": [
    {
     "data": {
      "text/plain": "0"
     },
     "execution_count": 61,
     "metadata": {},
     "output_type": "execute_result"
    }
   ],
   "source": [
    "(df_TRAIN_RES_1[\"id_cv\"] == \"a8b302e8-6aba-11ef-acc9-cb26dff57dd7\").sum()"
   ],
   "metadata": {
    "collapsed": false,
    "pycharm": {
     "name": "#%%\n"
    }
   }
  },
  {
   "cell_type": "code",
   "execution_count": 65,
   "outputs": [
    {
     "data": {
      "text/plain": "'e387b9b9-2ea3-11e8-9855-0f468c90bfa7'"
     },
     "execution_count": 65,
     "metadata": {},
     "output_type": "execute_result"
    }
   ],
   "source": [
    "df_TRAIN_RES_1[\"id_cv\"].iloc[520]"
   ],
   "metadata": {
    "collapsed": false,
    "pycharm": {
     "name": "#%%\n"
    }
   }
  },
  {
   "cell_type": "code",
   "execution_count": 67,
   "outputs": [
    {
     "data": {
      "text/plain": "achievements                                                          \ncompany_name                                           ООО \"Алкотрейд\"\ndemands              Продажи алкогольной продукции. Контроль дебито...\nid_cv                             631171a0-7f45-11ea-a3e6-037acc02728d\njob_title                                                представитель\nachievements_isna                                                 True\nachievements_len                                                     0\nName: 1999999, dtype: object"
     },
     "execution_count": 67,
     "metadata": {},
     "output_type": "execute_result"
    }
   ],
   "source": [
    "df_TRAIN_RES_1.iloc[-1]"
   ],
   "metadata": {
    "collapsed": false,
    "pycharm": {
     "name": "#%%\n"
    }
   }
  },
  {
   "cell_type": "code",
   "execution_count": 100,
   "outputs": [
    {
     "data": {
      "text/plain": "0"
     },
     "execution_count": 100,
     "metadata": {},
     "output_type": "execute_result"
    }
   ],
   "source": [
    "df_TRAIN_RES_1[\"job_title\"].isna().sum()"
   ],
   "metadata": {
    "collapsed": false,
    "pycharm": {
     "name": "#%%\n"
    }
   }
  },
  {
   "cell_type": "code",
   "execution_count": null,
   "outputs": [],
   "source": [],
   "metadata": {
    "collapsed": false,
    "pycharm": {
     "name": "#%%\n"
    }
   }
  },
  {
   "cell_type": "code",
   "execution_count": 68,
   "outputs": [
    {
     "data": {
      "text/plain": "1664467"
     },
     "execution_count": 68,
     "metadata": {},
     "output_type": "execute_result"
    }
   ],
   "source": [
    "len(df_TRAIN_RES_1)"
   ],
   "metadata": {
    "collapsed": false,
    "pycharm": {
     "name": "#%%\n"
    }
   }
  },
  {
   "cell_type": "code",
   "execution_count": 97,
   "outputs": [
    {
     "data": {
      "text/plain": "                                              achievements  \\\n0                                                            \n1                                                            \n2        Работы не закончены, т.к. нет настоящего желан...   \n3                                                            \n4                                                            \n...                                                    ...   \n1999995  Мое резюме на hh.ru:https://hh.ru/resume/134eb...   \n1999996                                                      \n1999997                                                      \n1999998                                                      \n1999999                                                      \n\n                                              company_name  \\\n0        Управление социальной защиты населения Сердобс...   \n1                           Администрация города Сердобска   \n2        январь 2016-настоящее времяООО «АРТЕЛЬ СТАРАТЕ...   \n3        ОАО «Васильевский рудник», п.Мотыгино, Красноя...   \n4        ООО «Артель старателей «ТАЛ»», Усть-Нера, Респ...   \n...                                                    ...   \n1999995                                        Текта Групп   \n1999996                                         ООО\"Роста\"   \n1999997                                  ООО ВансладРитейл   \n1999998                                     ООО \"Агроторг\"   \n1999999                                    ООО \"Алкотрейд\"   \n\n                                                   demands  \\\n0        Работала,непосредственно, с федеральными льгот...   \n1            Работа с реестром муниципальной собственности   \n2        Курирую работы по рудному направлению: соавтор...   \n3              ГРП. Документация керна разведочных скважин   \n4        Поисково-разведочные работы на месторождении р...   \n...                                                    ...   \n1999995  Мое резюме на hh.ru:https://hh.ru/resume/134eb...   \n1999996                                 Сортировка заказов   \n1999997  Планировать и контролировать выполнение заказо...   \n1999998  Продажи алкогольной продукции. Контроль дебито...   \n1999999  Продажи алкогольной продукции. Контроль дебито...   \n\n                                        id_cv      job_title  \\\n0        52860148-26da-11e8-a184-9122a281f90e      инспектор   \n1        52860148-26da-11e8-a184-9122a281f90e      инспектор   \n2        e3c857b0-26a0-11e7-bcca-736ab11edb0c         геолог   \n3        e3c857b0-26a0-11e7-bcca-736ab11edb0c         геолог   \n4        e3c857b0-26a0-11e7-bcca-736ab11edb0c         геолог   \n...                                       ...            ...   \n1999995  0c919cc0-7e59-11ea-ba8b-ef76bd2a03c1       менеджер   \n1999996  653b46e0-8521-11ea-9fd7-b905beff6f7a    сортировщик   \n1999997  d2925930-84cd-11ea-80d4-79a78a7da306      диспетчер   \n1999998  631171a0-7f45-11ea-a3e6-037acc02728d  представитель   \n1999999  631171a0-7f45-11ea-a3e6-037acc02728d  представитель   \n\n         achievements_isna  achievements_len  \n0                     True                 0  \n1                     True                 0  \n2                    False               185  \n3                     True                 0  \n4                     True                 0  \n...                    ...               ...  \n1999995              False                80  \n1999996               True                 0  \n1999997               True                 0  \n1999998               True                 0  \n1999999               True                 0  \n\n[1664467 rows x 7 columns]",
      "text/html": "<div>\n<style scoped>\n    .dataframe tbody tr th:only-of-type {\n        vertical-align: middle;\n    }\n\n    .dataframe tbody tr th {\n        vertical-align: top;\n    }\n\n    .dataframe thead th {\n        text-align: right;\n    }\n</style>\n<table border=\"1\" class=\"dataframe\">\n  <thead>\n    <tr style=\"text-align: right;\">\n      <th></th>\n      <th>achievements</th>\n      <th>company_name</th>\n      <th>demands</th>\n      <th>id_cv</th>\n      <th>job_title</th>\n      <th>achievements_isna</th>\n      <th>achievements_len</th>\n    </tr>\n  </thead>\n  <tbody>\n    <tr>\n      <th>0</th>\n      <td></td>\n      <td>Управление социальной защиты населения Сердобс...</td>\n      <td>Работала,непосредственно, с федеральными льгот...</td>\n      <td>52860148-26da-11e8-a184-9122a281f90e</td>\n      <td>инспектор</td>\n      <td>True</td>\n      <td>0</td>\n    </tr>\n    <tr>\n      <th>1</th>\n      <td></td>\n      <td>Администрация города Сердобска</td>\n      <td>Работа с реестром муниципальной собственности</td>\n      <td>52860148-26da-11e8-a184-9122a281f90e</td>\n      <td>инспектор</td>\n      <td>True</td>\n      <td>0</td>\n    </tr>\n    <tr>\n      <th>2</th>\n      <td>Работы не закончены, т.к. нет настоящего желан...</td>\n      <td>январь 2016-настоящее времяООО «АРТЕЛЬ СТАРАТЕ...</td>\n      <td>Курирую работы по рудному направлению: соавтор...</td>\n      <td>e3c857b0-26a0-11e7-bcca-736ab11edb0c</td>\n      <td>геолог</td>\n      <td>False</td>\n      <td>185</td>\n    </tr>\n    <tr>\n      <th>3</th>\n      <td></td>\n      <td>ОАО «Васильевский рудник», п.Мотыгино, Красноя...</td>\n      <td>ГРП. Документация керна разведочных скважин</td>\n      <td>e3c857b0-26a0-11e7-bcca-736ab11edb0c</td>\n      <td>геолог</td>\n      <td>True</td>\n      <td>0</td>\n    </tr>\n    <tr>\n      <th>4</th>\n      <td></td>\n      <td>ООО «Артель старателей «ТАЛ»», Усть-Нера, Респ...</td>\n      <td>Поисково-разведочные работы на месторождении р...</td>\n      <td>e3c857b0-26a0-11e7-bcca-736ab11edb0c</td>\n      <td>геолог</td>\n      <td>True</td>\n      <td>0</td>\n    </tr>\n    <tr>\n      <th>...</th>\n      <td>...</td>\n      <td>...</td>\n      <td>...</td>\n      <td>...</td>\n      <td>...</td>\n      <td>...</td>\n      <td>...</td>\n    </tr>\n    <tr>\n      <th>1999995</th>\n      <td>Мое резюме на hh.ru:https://hh.ru/resume/134eb...</td>\n      <td>Текта Групп</td>\n      <td>Мое резюме на hh.ru:https://hh.ru/resume/134eb...</td>\n      <td>0c919cc0-7e59-11ea-ba8b-ef76bd2a03c1</td>\n      <td>менеджер</td>\n      <td>False</td>\n      <td>80</td>\n    </tr>\n    <tr>\n      <th>1999996</th>\n      <td></td>\n      <td>ООО\"Роста\"</td>\n      <td>Сортировка заказов</td>\n      <td>653b46e0-8521-11ea-9fd7-b905beff6f7a</td>\n      <td>сортировщик</td>\n      <td>True</td>\n      <td>0</td>\n    </tr>\n    <tr>\n      <th>1999997</th>\n      <td></td>\n      <td>ООО ВансладРитейл</td>\n      <td>Планировать и контролировать выполнение заказо...</td>\n      <td>d2925930-84cd-11ea-80d4-79a78a7da306</td>\n      <td>диспетчер</td>\n      <td>True</td>\n      <td>0</td>\n    </tr>\n    <tr>\n      <th>1999998</th>\n      <td></td>\n      <td>ООО \"Агроторг\"</td>\n      <td>Продажи алкогольной продукции. Контроль дебито...</td>\n      <td>631171a0-7f45-11ea-a3e6-037acc02728d</td>\n      <td>представитель</td>\n      <td>True</td>\n      <td>0</td>\n    </tr>\n    <tr>\n      <th>1999999</th>\n      <td></td>\n      <td>ООО \"Алкотрейд\"</td>\n      <td>Продажи алкогольной продукции. Контроль дебито...</td>\n      <td>631171a0-7f45-11ea-a3e6-037acc02728d</td>\n      <td>представитель</td>\n      <td>True</td>\n      <td>0</td>\n    </tr>\n  </tbody>\n</table>\n<p>1664467 rows × 7 columns</p>\n</div>"
     },
     "execution_count": 97,
     "metadata": {},
     "output_type": "execute_result"
    }
   ],
   "source": [
    "df_TRAIN_RES_1"
   ],
   "metadata": {
    "collapsed": false,
    "pycharm": {
     "name": "#%%\n"
    }
   }
  },
  {
   "cell_type": "code",
   "execution_count": 101,
   "outputs": [],
   "source": [
    "t = df_TRAIN_RES_1[df_TRAIN_RES_1[\"id_cv\"] == \"e3c857b0-26a0-11e7-bcca-736ab11edb0c\"]"
   ],
   "metadata": {
    "collapsed": false,
    "pycharm": {
     "name": "#%%\n"
    }
   }
  },
  {
   "cell_type": "code",
   "execution_count": null,
   "outputs": [],
   "source": [],
   "metadata": {
    "collapsed": false,
    "pycharm": {
     "name": "#%%\n"
    }
   }
  },
  {
   "cell_type": "code",
   "execution_count": 4,
   "outputs": [],
   "source": [
    "used_classes = df_TRAIN_RES_1[\"job_title\"].value_counts().sort_values(ascending=False).iloc[:200].index.tolist()"
   ],
   "metadata": {
    "collapsed": false,
    "pycharm": {
     "name": "#%%\n"
    }
   }
  },
  {
   "cell_type": "code",
   "execution_count": 5,
   "outputs": [],
   "source": [
    "df_TRAIN_RES_1 = df_TRAIN_RES_1[df_TRAIN_RES_1[\"job_title\"].isin(used_classes)]"
   ],
   "metadata": {
    "collapsed": false,
    "pycharm": {
     "name": "#%%\n"
    }
   }
  },
  {
   "cell_type": "code",
   "execution_count": 6,
   "outputs": [
    {
     "data": {
      "text/plain": "1594617"
     },
     "execution_count": 6,
     "metadata": {},
     "output_type": "execute_result"
    }
   ],
   "source": [
    "len(df_TRAIN_RES_1)"
   ],
   "metadata": {
    "collapsed": false,
    "pycharm": {
     "name": "#%%\n"
    }
   }
  },
  {
   "cell_type": "code",
   "execution_count": 7,
   "outputs": [],
   "source": [
    "df_TRAIN_RES_1 = df_TRAIN_RES_1.iloc[:100_000]"
   ],
   "metadata": {
    "collapsed": false,
    "pycharm": {
     "name": "#%%\n"
    }
   }
  },
  {
   "cell_type": "code",
   "execution_count": null,
   "outputs": [],
   "source": [],
   "metadata": {
    "collapsed": false,
    "pycharm": {
     "name": "#%%\n"
    }
   }
  },
  {
   "cell_type": "code",
   "execution_count": 8,
   "outputs": [],
   "source": [
    "df_TRAIN_RES_1[\"id_cv_0\"] = [i.split(\"-\")[0] for i in df_TRAIN_RES_1[\"id_cv\"]]\n",
    "df_TRAIN_RES_1[\"id_cv_1\"] = [i.split(\"-\")[1] for i in df_TRAIN_RES_1[\"id_cv\"]]\n",
    "df_TRAIN_RES_1[\"id_cv_2\"] = [i.split(\"-\")[2] for i in df_TRAIN_RES_1[\"id_cv\"]]\n",
    "df_TRAIN_RES_1[\"id_cv_3\"] = [i.split(\"-\")[3] for i in df_TRAIN_RES_1[\"id_cv\"]]\n",
    "df_TRAIN_RES_1[\"id_cv_4\"] = [i.split(\"-\")[4] for i in df_TRAIN_RES_1[\"id_cv\"]]"
   ],
   "metadata": {
    "collapsed": false,
    "pycharm": {
     "name": "#%%\n"
    }
   }
  },
  {
   "cell_type": "code",
   "execution_count": 9,
   "outputs": [],
   "source": [
    "df_TRAIN_RES_1 = df_TRAIN_RES_1.drop(\"id_cv\", axis=1)\n",
    "\n",
    "text_features = [\"achievements\", \"company_name\", \"demands\"]\n",
    "cat_features = [\"id_cv_0\", \"id_cv_1\", \"id_cv_2\", \"id_cv_3\", \"id_cv_4\"]"
   ],
   "metadata": {
    "collapsed": false,
    "pycharm": {
     "name": "#%%\n"
    }
   }
  },
  {
   "cell_type": "code",
   "execution_count": 10,
   "outputs": [
    {
     "name": "stdout",
     "output_type": "stream",
     "text": [
      "id_cv_0 46538\n",
      "id_cv_1 21582\n",
      "id_cv_2 8\n",
      "id_cv_3 1172\n",
      "id_cv_4 29\n"
     ]
    }
   ],
   "source": [
    "for f in cat_features:\n",
    "    print(f, len(df_TRAIN_RES_1[f].unique()))"
   ],
   "metadata": {
    "collapsed": false,
    "pycharm": {
     "name": "#%%\n"
    }
   }
  },
  {
   "cell_type": "code",
   "execution_count": 11,
   "outputs": [],
   "source": [
    "df_TRAIN_RES_1.drop([\"id_cv_0\", \"id_cv_1\"], axis=1, inplace=True)\n",
    "cat_features.remove(\"id_cv_0\")\n",
    "cat_features.remove(\"id_cv_1\")"
   ],
   "metadata": {
    "collapsed": false,
    "pycharm": {
     "name": "#%%\n"
    }
   }
  },
  {
   "cell_type": "code",
   "execution_count": 12,
   "outputs": [],
   "source": [
    "for text_feature in text_features:\n",
    "    df_TRAIN_RES_1[text_feature].fillna(\"\", inplace=True)"
   ],
   "metadata": {
    "collapsed": false,
    "pycharm": {
     "name": "#%%\n"
    }
   }
  },
  {
   "cell_type": "code",
   "execution_count": 13,
   "outputs": [],
   "source": [
    "df_TRAIN_RES_1.drop(text_features, axis=1, inplace=True)\n",
    "text_features = []"
   ],
   "metadata": {
    "collapsed": false,
    "pycharm": {
     "name": "#%%\n"
    }
   }
  },
  {
   "cell_type": "code",
   "execution_count": 14,
   "outputs": [],
   "source": [
    "X, y = df_TRAIN_RES_1.drop(\"job_title\", axis=1), df_TRAIN_RES_1[\"job_title\"]"
   ],
   "metadata": {
    "collapsed": false,
    "pycharm": {
     "name": "#%%\n"
    }
   }
  },
  {
   "cell_type": "code",
   "execution_count": 31,
   "outputs": [],
   "source": [
    "X.drop(\"achievements_len\", axis=1, inplace=True)"
   ],
   "metadata": {
    "collapsed": false,
    "pycharm": {
     "name": "#%%\n"
    }
   }
  },
  {
   "cell_type": "code",
   "execution_count": 32,
   "outputs": [],
   "source": [
    "from sklearn.model_selection import train_test_split\n",
    "X_train, X_test, y_train, y_test = train_test_split(X, y, test_size=0.2, random_state=42)"
   ],
   "metadata": {
    "collapsed": false,
    "pycharm": {
     "name": "#%%\n"
    }
   }
  },
  {
   "cell_type": "code",
   "execution_count": 1,
   "outputs": [
    {
     "ename": "NameError",
     "evalue": "name 'text_features' is not defined",
     "output_type": "error",
     "traceback": [
      "\u001B[1;31m---------------------------------------------------------------------------\u001B[0m",
      "\u001B[1;31mNameError\u001B[0m                                 Traceback (most recent call last)",
      "\u001B[1;32m~\\AppData\\Local\\Temp/ipykernel_13552/4135865388.py\u001B[0m in \u001B[0;36m<module>\u001B[1;34m\u001B[0m\n\u001B[1;32m----> 1\u001B[1;33m \u001B[0mtext_features\u001B[0m\u001B[1;33m\u001B[0m\u001B[1;33m\u001B[0m\u001B[0m\n\u001B[0m",
      "\u001B[1;31mNameError\u001B[0m: name 'text_features' is not defined"
     ]
    }
   ],
   "source": [
    "text_features"
   ],
   "metadata": {
    "collapsed": false,
    "pycharm": {
     "name": "#%%\n"
    }
   }
  },
  {
   "cell_type": "code",
   "execution_count": 33,
   "outputs": [],
   "source": [
    "from catboost import CatBoostClassifier, Pool\n",
    "\n",
    "train_pool = Pool(X_train, y_train, cat_features=cat_features, text_features=text_features)\n",
    "test_pool = Pool(X_test, y_test, cat_features=cat_features, text_features=text_features)"
   ],
   "metadata": {
    "collapsed": false,
    "pycharm": {
     "name": "#%%\n"
    }
   }
  },
  {
   "cell_type": "code",
   "execution_count": 34,
   "outputs": [
    {
     "name": "stdout",
     "output_type": "stream",
     "text": [
      "Learning rate set to 0.163698\n",
      "0:\tlearn: 0.1126375\ttest: 0.1163500\tbest: 0.1163500 (0)\ttotal: 1.49s\tremaining: 24m 51s\n",
      "1:\tlearn: 0.1128125\ttest: 0.1165500\tbest: 0.1165500 (1)\ttotal: 3.07s\tremaining: 25m 33s\n",
      "2:\tlearn: 0.1127125\ttest: 0.1165500\tbest: 0.1165500 (1)\ttotal: 4.58s\tremaining: 25m 22s\n",
      "3:\tlearn: 0.1127750\ttest: 0.1165500\tbest: 0.1165500 (1)\ttotal: 6.16s\tremaining: 25m 34s\n",
      "4:\tlearn: 0.1129000\ttest: 0.1166000\tbest: 0.1166000 (4)\ttotal: 8.14s\tremaining: 26m 59s\n",
      "5:\tlearn: 0.1129250\ttest: 0.1166000\tbest: 0.1166000 (4)\ttotal: 9.76s\tremaining: 26m 57s\n",
      "6:\tlearn: 0.1129500\ttest: 0.1166000\tbest: 0.1166000 (4)\ttotal: 11.5s\tremaining: 27m 6s\n",
      "7:\tlearn: 0.1129750\ttest: 0.1166000\tbest: 0.1166000 (4)\ttotal: 13.2s\tremaining: 27m 12s\n",
      "8:\tlearn: 0.1130125\ttest: 0.1166000\tbest: 0.1166000 (4)\ttotal: 14.8s\tremaining: 27m 13s\n",
      "9:\tlearn: 0.1130500\ttest: 0.1166000\tbest: 0.1166000 (4)\ttotal: 16.5s\tremaining: 27m 17s\n",
      "bestTest = 0.1166\n",
      "bestIteration = 4\n",
      "Shrink model to first 5 iterations.\n"
     ]
    },
    {
     "data": {
      "text/plain": "<catboost.core.CatBoostClassifier at 0x24d573b7640>"
     },
     "execution_count": 34,
     "metadata": {},
     "output_type": "execute_result"
    }
   ],
   "source": [
    "clf = CatBoostClassifier(task_type=\"GPU\",  eval_metric=\"Accuracy\")\n",
    "clf.fit(train_pool, eval_set=test_pool, early_stopping_rounds=5)"
   ],
   "metadata": {
    "collapsed": false,
    "pycharm": {
     "name": "#%%\n"
    }
   }
  },
  {
   "cell_type": "code",
   "execution_count": 35,
   "outputs": [
    {
     "data": {
      "text/plain": "  Feature Id  Importances\n0    id_cv_2    70.551784\n1    id_cv_4    29.448216\n2    id_cv_3     0.000000",
      "text/html": "<div>\n<style scoped>\n    .dataframe tbody tr th:only-of-type {\n        vertical-align: middle;\n    }\n\n    .dataframe tbody tr th {\n        vertical-align: top;\n    }\n\n    .dataframe thead th {\n        text-align: right;\n    }\n</style>\n<table border=\"1\" class=\"dataframe\">\n  <thead>\n    <tr style=\"text-align: right;\">\n      <th></th>\n      <th>Feature Id</th>\n      <th>Importances</th>\n    </tr>\n  </thead>\n  <tbody>\n    <tr>\n      <th>0</th>\n      <td>id_cv_2</td>\n      <td>70.551784</td>\n    </tr>\n    <tr>\n      <th>1</th>\n      <td>id_cv_4</td>\n      <td>29.448216</td>\n    </tr>\n    <tr>\n      <th>2</th>\n      <td>id_cv_3</td>\n      <td>0.000000</td>\n    </tr>\n  </tbody>\n</table>\n</div>"
     },
     "execution_count": 35,
     "metadata": {},
     "output_type": "execute_result"
    }
   ],
   "source": [
    "clf.get_feature_importance(prettified=True)"
   ],
   "metadata": {
    "collapsed": false,
    "pycharm": {
     "name": "#%%\n"
    }
   }
  },
  {
   "cell_type": "code",
   "execution_count": 36,
   "outputs": [
    {
     "data": {
      "text/plain": "0.11555"
     },
     "execution_count": 36,
     "metadata": {},
     "output_type": "execute_result"
    }
   ],
   "source": [
    "(y_test==\"специалист\").mean()"
   ],
   "metadata": {
    "collapsed": false,
    "pycharm": {
     "name": "#%%\n"
    }
   }
  },
  {
   "cell_type": "code",
   "execution_count": null,
   "outputs": [],
   "source": [],
   "metadata": {
    "collapsed": false,
    "pycharm": {
     "name": "#%%\n"
    }
   }
  },
  {
   "cell_type": "code",
   "execution_count": null,
   "outputs": [],
   "source": [],
   "metadata": {
    "collapsed": false,
    "pycharm": {
     "name": "#%%\n"
    }
   }
  },
  {
   "cell_type": "code",
   "execution_count": 122,
   "outputs": [
    {
     "name": "stdout",
     "output_type": "stream",
     "text": [
      "11e8 специалист    36040\n",
      "менеджер      21901\n",
      "инженер       21629\n",
      "бухгалтер     21562\n",
      "оператор      12673\n",
      "Name: job_title, dtype: int64\n",
      "11e7 специалист    17802\n",
      "инженер       12292\n",
      "менеджер      10602\n",
      "бухгалтер     10506\n",
      "оператор       5774\n",
      "Name: job_title, dtype: int64\n",
      "11e6 специалист    16270\n",
      "инженер       11136\n",
      "менеджер      10471\n",
      "бухгалтер      9584\n",
      "оператор       4843\n",
      "Name: job_title, dtype: int64\n",
      "11e5 специалист     12469\n",
      "инженер         9466\n",
      "менеджер        9217\n",
      "бухгалтер       7212\n",
      "заместитель     3970\n",
      "Name: job_title, dtype: int64\n",
      "11eb водитель     51\n",
      "продавец     36\n",
      "бухгалтер    23\n",
      "оператор     21\n",
      "повар        16\n",
      "Name: job_title, dtype: int64\n",
      "11ea менеджер      56010\n",
      "специалист    47867\n",
      "бухгалтер     26733\n",
      "продавец      24382\n",
      "водитель      20690\n",
      "Name: job_title, dtype: int64\n",
      "11e9 специалист    34992\n",
      "бухгалтер     21083\n",
      "менеджер      20676\n",
      "инженер       19412\n",
      "оператор      15193\n",
      "Name: job_title, dtype: int64\n",
      "11e4 специалист     8\n",
      "директор       5\n",
      "инженер        5\n",
      "заместитель    5\n",
      "инспектор      4\n",
      "Name: job_title, dtype: int64\n",
      "11ec водитель       14\n",
      "продавец       10\n",
      "телеграфист     7\n",
      "менеджер        6\n",
      "бухгалтер       6\n",
      "Name: job_title, dtype: int64\n"
     ]
    }
   ],
   "source": [
    "\n",
    "for i in df_TRAIN_RES_1[\"id_cv_2\"].unique():\n",
    "    t = df_TRAIN_RES_1[df_TRAIN_RES_1[f\"id_cv_{2}\"] == i]\n",
    "    print(i, t[\"job_title\"].value_counts().iloc[:5])"
   ],
   "metadata": {
    "collapsed": false,
    "pycharm": {
     "name": "#%%\n"
    }
   }
  },
  {
   "cell_type": "code",
   "execution_count": 121,
   "outputs": [
    {
     "data": {
      "text/plain": "специалист                 36040\nменеджер                   21901\nинженер                    21629\nбухгалтер                  21562\nоператор                   12673\n                           ...  \nпомощник президента            1\nпарамедик                      1\nзашивальщик мягкой тары        1\nаэрографист                    1\nгибщик                         1\nName: job_title, Length: 1097, dtype: int64"
     },
     "execution_count": 121,
     "metadata": {},
     "output_type": "execute_result"
    }
   ],
   "source": [],
   "metadata": {
    "collapsed": false,
    "pycharm": {
     "name": "#%%\n"
    }
   }
  },
  {
   "cell_type": "code",
   "execution_count": null,
   "outputs": [],
   "source": [],
   "metadata": {
    "collapsed": false,
    "pycharm": {
     "name": "#%%\n"
    }
   }
  },
  {
   "cell_type": "code",
   "execution_count": null,
   "outputs": [],
   "source": [],
   "metadata": {
    "collapsed": false,
    "pycharm": {
     "name": "#%%\n"
    }
   }
  },
  {
   "cell_type": "code",
   "execution_count": 112,
   "outputs": [
    {
     "data": {
      "text/plain": "1664467"
     },
     "execution_count": 112,
     "metadata": {},
     "output_type": "execute_result"
    }
   ],
   "source": [
    "len(df_TRAIN_RES_1)"
   ],
   "metadata": {
    "collapsed": false,
    "pycharm": {
     "name": "#%%\n"
    }
   }
  },
  {
   "cell_type": "code",
   "execution_count": null,
   "outputs": [],
   "source": [],
   "metadata": {
    "collapsed": false,
    "pycharm": {
     "name": "#%%\n"
    }
   }
  },
  {
   "cell_type": "code",
   "execution_count": 102,
   "outputs": [
    {
     "data": {
      "text/plain": "                                             achievements  \\\n2       Работы не закончены, т.к. нет настоящего желан...   \n3                                                           \n4                                                           \n5                                                           \n6                                                           \n7       Внедрил в практику работ компьютерные технолог...   \n8                                                           \n9              Удалось нормализовать работу ЗАО \"Тоннель\"   \n10                                                          \n11      Отчет по детальным поискам на Юго-западном фла...   \n12                                                          \n937800                                                      \n937801                                                      \n937803  Внедрил в практику работ компьютерные технолог...   \n\n                                             company_name  \\\n2       январь 2016-настоящее времяООО «АРТЕЛЬ СТАРАТЕ...   \n3       ОАО «Васильевский рудник», п.Мотыгино, Красноя...   \n4       ООО «Артель старателей «ТАЛ»», Усть-Нера, Респ...   \n5              ОАО «Высочайший» п.Бодайбо, Иркутская обл.   \n6       ООО «АРТЕЛЬ СТАРАТЕЛЕЙ «СИНИНДА-1» п.Нижнеанга...   \n7       ООО «АРТЕЛЬ СТАРАТЕЛЕЙ «СИНИНДА-1» п.Нижнеанга...   \n8       Администрация Северо-Байкальского района п.Ниж...   \n9       ОАО «Бамтоннельстрой» (дочернии предприятия ЗА...   \n10               ОАО «БАЙКАЛГЕО» п. Нижнеангарск, Бурятия   \n11      СЕВЕРО-БАЙКАЛЬСКАЯ ГЕОЛОГОРАЗВЕДОЧНАЯ ЭКСПЕДИЦ...   \n12      ВОСТОЧНАЯ ГЕОЛОГОРАЗВЕДОЧНАЯ ЭКСПЕДИЦИЯ (ПГО «...   \n937800         ОАО «Высочайший» п.Бодайбо, Иркутская обл.   \n937801  ООО «АРТЕЛЬ СТАРАТЕЛЕЙ «СИНИНДА-1» п.Нижнеанга...   \n937803  ООО «АРТЕЛЬ СТАРАТЕЛЕЙ «СИНИНДА-1» п.Нижнеанга...   \n\n                                                  demands  \\\n2       Курирую работы по рудному направлению: соавтор...   \n3             ГРП. Документация керна разведочных скважин   \n4       Поисково-разведочные работы на месторождении р...   \n5       Разведка с применением поверхностных горных вы...   \n6       Детальные поиски и разведка с применением коло...   \n7       Проекты: Поисково-оценочные работы с применени...   \n8       Разработка программ развития района, статистич...   \n9       Финансово-экономический контроль за работой до...   \n10      Проведение геологоразведочных работ на россыпн...   \n11      Проведение поисковых и разведочных работ на Хо...   \n12      Проект: Полевые и камеральные работы в Утенинс...   \n937800  Разведка с применением поверхностных горных вы...   \n937801  Детальные поиски и разведка с применением коло...   \n937803  Проекты: Поисково-оценочные работы с применени...   \n\n                                       id_cv    job_title  achievements_isna  \\\n2       e3c857b0-26a0-11e7-bcca-736ab11edb0c       геолог              False   \n3       e3c857b0-26a0-11e7-bcca-736ab11edb0c       геолог               True   \n4       e3c857b0-26a0-11e7-bcca-736ab11edb0c       геолог               True   \n5       e3c857b0-26a0-11e7-bcca-736ab11edb0c       геолог               True   \n6       e3c857b0-26a0-11e7-bcca-736ab11edb0c       геолог               True   \n7       e3c857b0-26a0-11e7-bcca-736ab11edb0c       геолог              False   \n8       e3c857b0-26a0-11e7-bcca-736ab11edb0c  заместитель               True   \n9       e3c857b0-26a0-11e7-bcca-736ab11edb0c  заместитель              False   \n10      e3c857b0-26a0-11e7-bcca-736ab11edb0c  заместитель               True   \n11      e3c857b0-26a0-11e7-bcca-736ab11edb0c       геолог              False   \n12      e3c857b0-26a0-11e7-bcca-736ab11edb0c       геолог               True   \n937800  e3c857b0-26a0-11e7-bcca-736ab11edb0c       геолог               True   \n937801  e3c857b0-26a0-11e7-bcca-736ab11edb0c       геолог               True   \n937803  e3c857b0-26a0-11e7-bcca-736ab11edb0c       геолог              False   \n\n        achievements_len  \n2                    185  \n3                      0  \n4                      0  \n5                      0  \n6                      0  \n7                    620  \n8                      0  \n9                     42  \n10                     0  \n11                   159  \n12                     0  \n937800                 0  \n937801                 0  \n937803               620  ",
      "text/html": "<div>\n<style scoped>\n    .dataframe tbody tr th:only-of-type {\n        vertical-align: middle;\n    }\n\n    .dataframe tbody tr th {\n        vertical-align: top;\n    }\n\n    .dataframe thead th {\n        text-align: right;\n    }\n</style>\n<table border=\"1\" class=\"dataframe\">\n  <thead>\n    <tr style=\"text-align: right;\">\n      <th></th>\n      <th>achievements</th>\n      <th>company_name</th>\n      <th>demands</th>\n      <th>id_cv</th>\n      <th>job_title</th>\n      <th>achievements_isna</th>\n      <th>achievements_len</th>\n    </tr>\n  </thead>\n  <tbody>\n    <tr>\n      <th>2</th>\n      <td>Работы не закончены, т.к. нет настоящего желан...</td>\n      <td>январь 2016-настоящее времяООО «АРТЕЛЬ СТАРАТЕ...</td>\n      <td>Курирую работы по рудному направлению: соавтор...</td>\n      <td>e3c857b0-26a0-11e7-bcca-736ab11edb0c</td>\n      <td>геолог</td>\n      <td>False</td>\n      <td>185</td>\n    </tr>\n    <tr>\n      <th>3</th>\n      <td></td>\n      <td>ОАО «Васильевский рудник», п.Мотыгино, Красноя...</td>\n      <td>ГРП. Документация керна разведочных скважин</td>\n      <td>e3c857b0-26a0-11e7-bcca-736ab11edb0c</td>\n      <td>геолог</td>\n      <td>True</td>\n      <td>0</td>\n    </tr>\n    <tr>\n      <th>4</th>\n      <td></td>\n      <td>ООО «Артель старателей «ТАЛ»», Усть-Нера, Респ...</td>\n      <td>Поисково-разведочные работы на месторождении р...</td>\n      <td>e3c857b0-26a0-11e7-bcca-736ab11edb0c</td>\n      <td>геолог</td>\n      <td>True</td>\n      <td>0</td>\n    </tr>\n    <tr>\n      <th>5</th>\n      <td></td>\n      <td>ОАО «Высочайший» п.Бодайбо, Иркутская обл.</td>\n      <td>Разведка с применением поверхностных горных вы...</td>\n      <td>e3c857b0-26a0-11e7-bcca-736ab11edb0c</td>\n      <td>геолог</td>\n      <td>True</td>\n      <td>0</td>\n    </tr>\n    <tr>\n      <th>6</th>\n      <td></td>\n      <td>ООО «АРТЕЛЬ СТАРАТЕЛЕЙ «СИНИНДА-1» п.Нижнеанга...</td>\n      <td>Детальные поиски и разведка с применением коло...</td>\n      <td>e3c857b0-26a0-11e7-bcca-736ab11edb0c</td>\n      <td>геолог</td>\n      <td>True</td>\n      <td>0</td>\n    </tr>\n    <tr>\n      <th>7</th>\n      <td>Внедрил в практику работ компьютерные технолог...</td>\n      <td>ООО «АРТЕЛЬ СТАРАТЕЛЕЙ «СИНИНДА-1» п.Нижнеанга...</td>\n      <td>Проекты: Поисково-оценочные работы с применени...</td>\n      <td>e3c857b0-26a0-11e7-bcca-736ab11edb0c</td>\n      <td>геолог</td>\n      <td>False</td>\n      <td>620</td>\n    </tr>\n    <tr>\n      <th>8</th>\n      <td></td>\n      <td>Администрация Северо-Байкальского района п.Ниж...</td>\n      <td>Разработка программ развития района, статистич...</td>\n      <td>e3c857b0-26a0-11e7-bcca-736ab11edb0c</td>\n      <td>заместитель</td>\n      <td>True</td>\n      <td>0</td>\n    </tr>\n    <tr>\n      <th>9</th>\n      <td>Удалось нормализовать работу ЗАО \"Тоннель\"</td>\n      <td>ОАО «Бамтоннельстрой» (дочернии предприятия ЗА...</td>\n      <td>Финансово-экономический контроль за работой до...</td>\n      <td>e3c857b0-26a0-11e7-bcca-736ab11edb0c</td>\n      <td>заместитель</td>\n      <td>False</td>\n      <td>42</td>\n    </tr>\n    <tr>\n      <th>10</th>\n      <td></td>\n      <td>ОАО «БАЙКАЛГЕО» п. Нижнеангарск, Бурятия</td>\n      <td>Проведение геологоразведочных работ на россыпн...</td>\n      <td>e3c857b0-26a0-11e7-bcca-736ab11edb0c</td>\n      <td>заместитель</td>\n      <td>True</td>\n      <td>0</td>\n    </tr>\n    <tr>\n      <th>11</th>\n      <td>Отчет по детальным поискам на Юго-западном фла...</td>\n      <td>СЕВЕРО-БАЙКАЛЬСКАЯ ГЕОЛОГОРАЗВЕДОЧНАЯ ЭКСПЕДИЦ...</td>\n      <td>Проведение поисковых и разведочных работ на Хо...</td>\n      <td>e3c857b0-26a0-11e7-bcca-736ab11edb0c</td>\n      <td>геолог</td>\n      <td>False</td>\n      <td>159</td>\n    </tr>\n    <tr>\n      <th>12</th>\n      <td></td>\n      <td>ВОСТОЧНАЯ ГЕОЛОГОРАЗВЕДОЧНАЯ ЭКСПЕДИЦИЯ (ПГО «...</td>\n      <td>Проект: Полевые и камеральные работы в Утенинс...</td>\n      <td>e3c857b0-26a0-11e7-bcca-736ab11edb0c</td>\n      <td>геолог</td>\n      <td>True</td>\n      <td>0</td>\n    </tr>\n    <tr>\n      <th>937800</th>\n      <td></td>\n      <td>ОАО «Высочайший» п.Бодайбо, Иркутская обл.</td>\n      <td>Разведка с применением поверхностных горных вы...</td>\n      <td>e3c857b0-26a0-11e7-bcca-736ab11edb0c</td>\n      <td>геолог</td>\n      <td>True</td>\n      <td>0</td>\n    </tr>\n    <tr>\n      <th>937801</th>\n      <td></td>\n      <td>ООО «АРТЕЛЬ СТАРАТЕЛЕЙ «СИНИНДА-1» п.Нижнеанга...</td>\n      <td>Детальные поиски и разведка с применением коло...</td>\n      <td>e3c857b0-26a0-11e7-bcca-736ab11edb0c</td>\n      <td>геолог</td>\n      <td>True</td>\n      <td>0</td>\n    </tr>\n    <tr>\n      <th>937803</th>\n      <td>Внедрил в практику работ компьютерные технолог...</td>\n      <td>ООО «АРТЕЛЬ СТАРАТЕЛЕЙ «СИНИНДА-1» п.Нижнеанга...</td>\n      <td>Проекты: Поисково-оценочные работы с применени...</td>\n      <td>e3c857b0-26a0-11e7-bcca-736ab11edb0c</td>\n      <td>геолог</td>\n      <td>False</td>\n      <td>620</td>\n    </tr>\n  </tbody>\n</table>\n</div>"
     },
     "execution_count": 102,
     "metadata": {},
     "output_type": "execute_result"
    }
   ],
   "source": [
    "t"
   ],
   "metadata": {
    "collapsed": false,
    "pycharm": {
     "name": "#%%\n"
    }
   }
  },
  {
   "cell_type": "code",
   "execution_count": null,
   "outputs": [],
   "source": [
    "df_TRAIN_RES_1[\"com\"]"
   ],
   "metadata": {
    "collapsed": false,
    "pycharm": {
     "name": "#%%\n"
    }
   }
  },
  {
   "cell_type": "code",
   "execution_count": null,
   "outputs": [],
   "source": [],
   "metadata": {
    "collapsed": false,
    "pycharm": {
     "name": "#%%\n"
    }
   }
  },
  {
   "cell_type": "code",
   "execution_count": null,
   "outputs": [],
   "source": [],
   "metadata": {
    "collapsed": false,
    "pycharm": {
     "name": "#%%\n"
    }
   }
  },
  {
   "cell_type": "code",
   "execution_count": null,
   "outputs": [],
   "source": [
    "df_TRAIN_RES_1[df_TRAIN_RES_1[\"job_title\"] == \"преподаватель\"]"
   ],
   "metadata": {
    "collapsed": false,
    "pycharm": {
     "name": "#%%\n"
    }
   }
  },
  {
   "cell_type": "code",
   "execution_count": 94,
   "outputs": [
    {
     "data": {
      "text/plain": "'Проведение занятий с обучающимися (бакалавриат, магистратура) по дисциплинам: Менеджмент| | Основы менеджмента и маркетинга| | Экономика предприятия| | Теория и практика управления. Осуществление обучения и воспитания обучающихся с учетом специфики преподаваемых предметов, проведение занятий в соответствии с расписанием и учебным планом в указанных помещениях. Обеспечение высокого уровня подготовки, соответствующий требованиям ФГОС ВО'"
     },
     "execution_count": 94,
     "metadata": {},
     "output_type": "execute_result"
    }
   ],
   "source": [
    "t[\"demands\"].iloc[9]"
   ],
   "metadata": {
    "collapsed": false,
    "pycharm": {
     "name": "#%%\n"
    }
   }
  },
  {
   "cell_type": "code",
   "execution_count": 75,
   "outputs": [
    {
     "data": {
      "text/plain": "0"
     },
     "execution_count": 75,
     "metadata": {},
     "output_type": "execute_result"
    }
   ],
   "source": [
    "(t[\"demands\"] == \"педагогическая деятельность, ведение документации\").sum()"
   ],
   "metadata": {
    "collapsed": false,
    "pycharm": {
     "name": "#%%\n"
    }
   }
  },
  {
   "cell_type": "code",
   "execution_count": null,
   "outputs": [],
   "source": [],
   "metadata": {
    "collapsed": false,
    "pycharm": {
     "name": "#%%\n"
    }
   }
  },
  {
   "cell_type": "code",
   "execution_count": 76,
   "outputs": [
    {
     "data": {
      "text/plain": "                                              achievements  \\\n60                                                           \n306      Участие учеников на Российском соревновании Ro...   \n1032                                                         \n1034                                                         \n1077                                                         \n...                                                    ...   \n1998685                                                      \n1999113                                                      \n1999135                                                      \n1999136                                                      \n1999137                                                      \n\n                                              company_name  \\\n60                   Благовещенский профессиональный лицей   \n306                            ООО \"Восходящие технологии\"   \n1032     Международный славянский институт, Бишкекский ...   \n1034                   Кыргызский национальный университет   \n1077       Саратовский педагогический колледж им. Гагарина   \n...                                                    ...   \n1998685                                            ККИ РУК   \n1999113  Автономная некоммерческая организация высшего ...   \n1999135                 Детский подростковый центр «Олимп»   \n1999136  •МБУДО «Дом творчества Октябрьского района гор...   \n1999137  Языковой центр ООО «New Asia», преподаватель а...   \n\n                                                   demands  \\\n60          Преподавание литературы, общение со студентами   \n306      Обучение визуальному программируванию в среде ...   \n1032     Преподавание дисциплин по клинической психолог...   \n1034     Преподавание дисциплин по клинической психолог...   \n1077                                          Преподавание   \n...                                                    ...   \n1998685        Преподавание информатики студентам колледжа   \n1999113  - организация и проведение учебной, воспитател...   \n1999135  Внешкольная деятельность. Обучение детей англи...   \n1999136  Внешкольная деятельность. Обучение детей англи...   \n1999137  Обучение английскому языку детей старших класс...   \n\n                                        id_cv      job_title  \\\n60       bb6ab9d0-283d-11e8-93a1-ef76bd2a03c1  преподаватель   \n306      e6e85590-2c4d-11e8-b956-037acc02728d  преподаватель   \n1032     92766740-2d10-11e8-b77d-736ab11edb0c  преподаватель   \n1034     92766740-2d10-11e8-b77d-736ab11edb0c  преподаватель   \n1077     8fdb2fc9-313e-11e8-9855-0f468c90bfa7  преподаватель   \n...                                       ...            ...   \n1998685  3fe01b10-7ff8-11ea-9939-736ab11edb0c  преподаватель   \n1999113  f52313a0-84c2-11ea-a01c-b905beff6f7a  преподаватель   \n1999135  769caab0-848f-11ea-bdb4-1fdc17069750  преподаватель   \n1999136  769caab0-848f-11ea-bdb4-1fdc17069750  преподаватель   \n1999137  769caab0-848f-11ea-bdb4-1fdc17069750  преподаватель   \n\n         achievements_isna  achievements_len  \n60                    True                 0  \n306                  False                52  \n1032                  True                 0  \n1034                  True                 0  \n1077                  True                 0  \n...                    ...               ...  \n1998685               True                 0  \n1999113               True                 0  \n1999135               True                 0  \n1999136               True                 0  \n1999137               True                 0  \n\n[12889 rows x 7 columns]",
      "text/html": "<div>\n<style scoped>\n    .dataframe tbody tr th:only-of-type {\n        vertical-align: middle;\n    }\n\n    .dataframe tbody tr th {\n        vertical-align: top;\n    }\n\n    .dataframe thead th {\n        text-align: right;\n    }\n</style>\n<table border=\"1\" class=\"dataframe\">\n  <thead>\n    <tr style=\"text-align: right;\">\n      <th></th>\n      <th>achievements</th>\n      <th>company_name</th>\n      <th>demands</th>\n      <th>id_cv</th>\n      <th>job_title</th>\n      <th>achievements_isna</th>\n      <th>achievements_len</th>\n    </tr>\n  </thead>\n  <tbody>\n    <tr>\n      <th>60</th>\n      <td></td>\n      <td>Благовещенский профессиональный лицей</td>\n      <td>Преподавание литературы, общение со студентами</td>\n      <td>bb6ab9d0-283d-11e8-93a1-ef76bd2a03c1</td>\n      <td>преподаватель</td>\n      <td>True</td>\n      <td>0</td>\n    </tr>\n    <tr>\n      <th>306</th>\n      <td>Участие учеников на Российском соревновании Ro...</td>\n      <td>ООО \"Восходящие технологии\"</td>\n      <td>Обучение визуальному программируванию в среде ...</td>\n      <td>e6e85590-2c4d-11e8-b956-037acc02728d</td>\n      <td>преподаватель</td>\n      <td>False</td>\n      <td>52</td>\n    </tr>\n    <tr>\n      <th>1032</th>\n      <td></td>\n      <td>Международный славянский институт, Бишкекский ...</td>\n      <td>Преподавание дисциплин по клинической психолог...</td>\n      <td>92766740-2d10-11e8-b77d-736ab11edb0c</td>\n      <td>преподаватель</td>\n      <td>True</td>\n      <td>0</td>\n    </tr>\n    <tr>\n      <th>1034</th>\n      <td></td>\n      <td>Кыргызский национальный университет</td>\n      <td>Преподавание дисциплин по клинической психолог...</td>\n      <td>92766740-2d10-11e8-b77d-736ab11edb0c</td>\n      <td>преподаватель</td>\n      <td>True</td>\n      <td>0</td>\n    </tr>\n    <tr>\n      <th>1077</th>\n      <td></td>\n      <td>Саратовский педагогический колледж им. Гагарина</td>\n      <td>Преподавание</td>\n      <td>8fdb2fc9-313e-11e8-9855-0f468c90bfa7</td>\n      <td>преподаватель</td>\n      <td>True</td>\n      <td>0</td>\n    </tr>\n    <tr>\n      <th>...</th>\n      <td>...</td>\n      <td>...</td>\n      <td>...</td>\n      <td>...</td>\n      <td>...</td>\n      <td>...</td>\n      <td>...</td>\n    </tr>\n    <tr>\n      <th>1998685</th>\n      <td></td>\n      <td>ККИ РУК</td>\n      <td>Преподавание информатики студентам колледжа</td>\n      <td>3fe01b10-7ff8-11ea-9939-736ab11edb0c</td>\n      <td>преподаватель</td>\n      <td>True</td>\n      <td>0</td>\n    </tr>\n    <tr>\n      <th>1999113</th>\n      <td></td>\n      <td>Автономная некоммерческая организация высшего ...</td>\n      <td>- организация и проведение учебной, воспитател...</td>\n      <td>f52313a0-84c2-11ea-a01c-b905beff6f7a</td>\n      <td>преподаватель</td>\n      <td>True</td>\n      <td>0</td>\n    </tr>\n    <tr>\n      <th>1999135</th>\n      <td></td>\n      <td>Детский подростковый центр «Олимп»</td>\n      <td>Внешкольная деятельность. Обучение детей англи...</td>\n      <td>769caab0-848f-11ea-bdb4-1fdc17069750</td>\n      <td>преподаватель</td>\n      <td>True</td>\n      <td>0</td>\n    </tr>\n    <tr>\n      <th>1999136</th>\n      <td></td>\n      <td>•МБУДО «Дом творчества Октябрьского района гор...</td>\n      <td>Внешкольная деятельность. Обучение детей англи...</td>\n      <td>769caab0-848f-11ea-bdb4-1fdc17069750</td>\n      <td>преподаватель</td>\n      <td>True</td>\n      <td>0</td>\n    </tr>\n    <tr>\n      <th>1999137</th>\n      <td></td>\n      <td>Языковой центр ООО «New Asia», преподаватель а...</td>\n      <td>Обучение английскому языку детей старших класс...</td>\n      <td>769caab0-848f-11ea-bdb4-1fdc17069750</td>\n      <td>преподаватель</td>\n      <td>True</td>\n      <td>0</td>\n    </tr>\n  </tbody>\n</table>\n<p>12889 rows × 7 columns</p>\n</div>"
     },
     "execution_count": 76,
     "metadata": {},
     "output_type": "execute_result"
    }
   ],
   "source": [
    "t"
   ],
   "metadata": {
    "collapsed": false,
    "pycharm": {
     "name": "#%%\n"
    }
   }
  },
  {
   "cell_type": "code",
   "execution_count": 51,
   "outputs": [
    {
     "name": "stdout",
     "output_type": "stream",
     "text": [
      "Список реализованных объектов (проектов):1. ФГУП \"Национальные рыбные ресурсы\", Реконструкция объекта федеральной собственности морского терминала, предназначенного для комплексного обслуживания судов рыбопромыслового флота с объемом обработки грузов до 400 тыс. т в год., в Петропавловском морском порту, г. Петропавловск-Камчатский. Стоимость СМР более 5 млрд. руб.|2. Департамент развития новых территорий г. Москвы, Школа на 1100 мест по адресу: г. Москва, ТиНАО, поселение Сосенское, пос. Коммунарка, общая площадь объекта: 24 200 кв.м. Стоимость СМР более 1 млрд. руб.|3. ГУП \"Мосгортранс\", Объект: г. Москва, \"Восстановление трамвайного движения на участке от госпиталя имени Н. Н. Бурденко до станции метро \"Бауманская\" |4. АО \"ГУОВ\": 4.1. \"Общежитие на 800 мест, Военно-Космической академии имени А. Ф. Можайского, ул. Пионерская д. 59 литера А\", общая площадь объекта 11 250 кв.м.|4.2. \"Казарма на 800 мест и столовая на 1200 мест Военно-космической академии имени А. Ф. Можайского\", по адресу: г. Санкт-Петербург, ул. Пионерская, д. 28, лит. А, инв. №14/4, Общая площадь Объекта: 11 000 кв.м.|5. АНО \"ТДОИ\", Комплекс зданий и сооружений спецавтопарка по ул. Голенева в центральном районег. Сочи (ПАТП) (для размещения 229 автобусов), общая площадь объекта 48 500 кв.м.6. Заказчик: ФКУ \"Севзапуправтодор\": 6.1. Объект: Ремонт автомобильной дороги А-229 Калининград - Черняховск - Нестеров - граница с Литовской Республикой, км 45+000 - км 53+400 (право), Калининградская область\" |6.2. Объект: Ремонт автомобильной дороги Р - 23 Санкт-Петербург - Псков - Пустошка - Невель - граница с Республикой Белоруссия, км 345+000 - км 353+000, Псковская область|7. СПБ ГКУ \"Управление заказчика\", Реконструкция тепловых сетей от групповой котельной по адресу: Санкт-Петербург, Б. Сампсониевский пр., д.86, корп.3|8. АНО \"Дирекция по развитию транспортной системы С-Пб и Лен. обл.\", Объект: \"Строительство подъезда от кольцевой автомобильной дороги А-118 до автомобильной дороги М-11 \"Нарва\" .9. Заказчик: ГКУ \"Дирекция транспортного строительства\": 9.1. Объект: Капитальный ремонт объекта: \"Индустриальный пр. (напротив д. 40)\" |9.2. Объект: Капитальный ремонт объекта: \"пр. Тореза от ул. Рашетова до пр. Энгельса\" 9.3. Объект: Капитальный ремонт объекта: \"пр. Маршала Жукова от ул. Морской Пехоты до ул. Солдата Корзуна\" .10. Заказчик: ГП \"КрымГипроДор\": Объекты в Крыму: \"Разработка проектной и рабочей документации по капитальному ремонту автомобильной дороги: 10.1. Инженерная защита и реконструкция автодороги: Алушта-Судак-Феодосия км3+150|км59+600| км61+645| км61+900|км66+500| км58+900|Громовка-Р-29 км 0+080-км0+140| Малый Маяк-Утес км 4+200-км4+250\": 10.2. Реконструкции участка автомобильной дороги на подъезде к пограничному пункту пропуска \"Турецкий вал\" .|10.3. Реконструкции участка автомобильной дороги на подъезде к пограничному пункту пропуска \"Чонгар\" .11. Объекты строительного контроля:- ФКУ \"Ространсмодернизация\", Осуществление инженерного сопровождения (строительного контроля) по объекту: \"Развитие транспортного узла \"Восточный - Находка (Приморский край)\" . Этап 1 - Объекты морского транспорта. Стоимость СМР более 12 млрд. руб.|- ФКУ \"Ространсмодернизация\", Осуществление инженерного сопровождения (строительного контроля) по объекту: \"Развитие транспортного узла \"Восточный - Находка (Приморский край)\" . Этап 2 - Объекты железнодорожного транспорта. Стоимость СМР более 6 млрд. руб.|- ГКУ \"Ленавтодор\", Осуществление инженерного сопровождения (строительного контроля) по объекту: \"Строительство путепровода в месте пересечения ж/д путей и автомобильной дороги общего пользования \"Подъезд к г. Гатчина2\" в Гатчинском районе Л. О.|- ГКУ \"Ленавтодор\", Осуществление инженерного сопровождения (строительного контроля) по объекту: \"Строительство автодорожного путепровода на станции Возрождение участка Выборг-Каменогорск взамен закрываемого переезда на ПК229+44,20\" в Выборском районе Л. О.|- ООО \"Автодор\", Комплекс полевых работ по диагностике и оценке технического состояния автомобильных дорог общего пользования в Республике Крым РФ, общей протяженностью около 1500 км.- ОАО \"ДВЭУК\", Осуществление инженерного сопровождения (строительного контроля) и технического аудита по объекту: \"Строительство ВЛ 220 кВ \"Чернышеский-Мирный-Ленск-Пеледуй\" с отпайкой до НПС№14, Республика Саха (Якутия)\", общей протяженностью около 945 км. Стоимость СМР более 22 млрд. руб.- Заказчик АНО \"ТДОИ\": Осуществление инженерного сопровождения (строительного контроля) по объектам в г. Сочи. \"Специализированные автотранспортные парки по обслуживанию пассажирского автомобильного транспорта для перевозки участников и гостей XXII Олимпийских зимних игр и XI Паралимпийских зимних игр 2014 года в г. Сочи.- и др. объекты проектирования и строительного контроля\n"
     ]
    }
   ],
   "source": [
    "print(df_TRAIN_RES_1[df_TRAIN_RES_1[\"achievements_len\"] == 4770][\"achievements\"].unique()[0])"
   ],
   "metadata": {
    "collapsed": false,
    "pycharm": {
     "name": "#%%\n"
    }
   }
  },
  {
   "cell_type": "code",
   "execution_count": null,
   "outputs": [],
   "source": [],
   "metadata": {
    "collapsed": false,
    "pycharm": {
     "name": "#%%\n"
    }
   }
  },
  {
   "cell_type": "code",
   "execution_count": 40,
   "outputs": [
    {
     "data": {
      "text/plain": "[13760,\n 13760,\n 13760,\n 13710,\n 11793,\n 11793,\n 11793,\n 11793,\n 11793,\n 11793,\n 11793,\n 11793,\n 11793,\n 9814,\n 9814,\n 9814,\n 9296,\n 9204,\n 9204,\n 9204,\n 8816,\n 8750,\n 8750,\n 8461,\n 8429,\n 8097,\n 8069,\n 7996,\n 7990,\n 7936,\n 7862,\n 7858,\n 7835,\n 7835,\n 7835,\n 7835,\n 7835,\n 7487,\n 7286,\n 7284,\n 7188,\n 7055,\n 7054,\n 7010,\n 6852,\n 6852,\n 6852,\n 6852,\n 6798,\n 6729,\n 6710,\n 6710,\n 6710,\n 6710,\n 6708,\n 6686,\n 6686,\n 6686,\n 6646,\n 6583,\n 6581,\n 6484,\n 6481,\n 6481,\n 6481,\n 6301,\n 6284,\n 6266,\n 6211,\n 6205,\n 6204,\n 6091,\n 6074,\n 6017,\n 6006,\n 6006,\n 5997,\n 5969,\n 5967,\n 5967,\n 5966,\n 5960,\n 5875,\n 5863,\n 5863,\n 5863,\n 5863,\n 5863,\n 5863,\n 5863,\n 5863,\n 5861,\n 5767,\n 5707,\n 5707,\n 5683,\n 5633,\n 5607,\n 5603,\n 5594,\n 5508,\n 5487,\n 5477,\n 5477,\n 5477,\n 5466,\n 5454,\n 5407,\n 5405,\n 5402,\n 5401,\n 5398,\n 5390,\n 5386,\n 5266,\n 5265,\n 5265,\n 5265,\n 5265,\n 5265,\n 5265,\n 5265,\n 5265,\n 5265,\n 5265,\n 5265,\n 5265,\n 5265,\n 5265,\n 5265,\n 5265,\n 5247,\n 5244,\n 5243,\n 5236,\n 5231,\n 5218,\n 5205,\n 5205,\n 5202,\n 5187,\n 5187,\n 4953,\n 4944,\n 4913,\n 4909,\n 4862,\n 4835,\n 4827,\n 4827,\n 4821,\n 4810,\n 4810,\n 4782,\n 4770,\n 4770,\n 4770,\n 4770,\n 4770,\n 4770,\n 4770,\n 4770,\n 4770,\n 4770,\n 4769,\n 4757,\n 4737,\n 4731,\n 4706,\n 4699,\n 4686,\n 4677,\n 4659,\n 4648,\n 4600,\n 4600,\n 4592,\n 4586,\n 4531,\n 4530,\n 4530,\n 4516,\n 4512,\n 4493,\n 4470,\n 4407,\n 4396,\n 4378,\n 4360,\n 4352,\n 4352,\n 4317,\n 4317,\n 4317,\n 4317,\n 4301,\n 4296,\n 4296,\n 4296,\n 4296,\n 4294,\n 4248,\n 4248,\n 4247,\n 4233,\n 4223,\n 4204,\n 4204,\n 4189,\n 4189,\n 4185,\n 4185,\n 4173,\n 4169,\n 4167,\n 4166,\n 4135,\n 4132,\n 4107,\n 4104,\n 4066,\n 4064,\n 4063,\n 4055,\n 4054,\n 4038,\n 4035,\n 4035,\n 4035,\n 4029,\n 4026,\n 4022,\n 4020,\n 4020,\n 4010,\n 4003,\n 4001,\n 4001,\n 4001,\n 4001,\n 3996,\n 3982,\n 3982,\n 3975,\n 3970,\n 3960,\n 3960,\n 3960,\n 3960,\n 3937,\n 3933,\n 3933,\n 3933,\n 3933,\n 3875,\n 3870,\n 3870,\n 3870,\n 3870,\n 3870,\n 3870,\n 3869,\n 3852,\n 3826,\n 3821,\n 3819,\n 3819,\n 3819,\n 3819,\n 3818,\n 3818,\n 3818,\n 3818,\n 3818,\n 3815,\n 3808,\n 3803,\n 3800,\n 3800,\n 3800,\n 3797,\n 3792,\n 3791,\n 3790,\n 3790,\n 3790,\n 3790,\n 3785,\n 3782,\n 3769,\n 3769,\n 3764,\n 3763,\n 3751,\n 3749,\n 3749,\n 3749,\n 3748,\n 3741,\n 3739,\n 3739,\n 3739,\n 3731,\n 3729,\n 3725,\n 3709,\n 3687,\n 3684,\n 3684,\n 3681,\n 3676,\n 3674,\n 3673,\n 3666,\n 3666,\n 3663,\n 3656,\n 3646,\n 3641,\n 3641,\n 3632,\n 3619,\n 3617,\n 3617,\n 3615,\n 3599,\n 3599,\n 3594,\n 3577,\n 3577,\n 3573,\n 3572,\n 3566,\n 3563,\n 3561,\n 3549,\n 3534,\n 3534,\n 3534,\n 3534,\n 3534,\n 3534,\n 3534,\n 3534,\n 3534,\n 3510,\n 3506,\n 3502,\n 3502,\n 3502,\n 3502,\n 3497,\n 3489,\n 3487,\n 3482,\n 3480,\n 3450,\n 3450,\n 3438,\n 3430,\n 3425,\n 3421,\n 3407,\n 3405,\n 3400,\n 3399,\n 3399,\n 3382,\n 3382,\n 3372,\n 3372,\n 3370,\n 3369,\n 3366,\n 3364,\n 3362,\n 3354,\n 3347,\n 3344,\n 3342,\n 3342,\n 3342,\n 3342,\n 3338,\n 3338,\n 3330,\n 3304,\n 3297,\n 3286,\n 3282,\n 3282,\n 3271,\n 3266,\n 3261,\n 3261,\n 3261,\n 3258,\n 3255,\n 3249,\n 3249,\n 3249,\n 3248,\n 3243,\n 3229,\n 3225,\n 3223,\n 3220,\n 3220,\n 3220,\n 3220,\n 3219,\n 3213,\n 3209,\n 3209,\n 3209,\n 3203,\n 3202,\n 3202,\n 3202,\n 3199,\n 3196,\n 3196,\n 3195,\n 3188,\n 3188,\n 3187,\n 3183,\n 3178,\n 3176,\n 3172,\n 3172,\n 3166,\n 3163,\n 3157,\n 3157,\n 3157,\n 3157,\n 3156,\n 3155,\n 3155,\n 3145,\n 3141,\n 3141,\n 3141,\n 3141,\n 3137,\n 3137,\n 3131,\n 3131,\n 3125,\n 3121,\n 3120,\n 3120,\n 3117,\n 3102,\n 3098,\n 3097,\n 3097,\n 3097,\n 3097,\n 3097,\n 3097,\n 3094,\n 3093,\n 3093,\n 3093,\n 3093,\n 3091,\n 3089,\n 3087,\n 3084,\n 3083,\n 3082,\n 3075,\n 3072,\n 3069,\n 3069,\n 3069,\n 3066,\n 3066,\n 3066,\n 3066,\n 3053,\n 3048,\n 3048,\n 3043,\n 3040,\n 3038,\n 3034,\n 3032,\n 3031,\n 3027,\n 3026,\n 3026,\n 3026,\n 3024,\n 3024,\n 3017,\n 3015,\n 3013,\n 3008,\n 2987,\n 2987,\n 2985,\n 2984,\n 2984,\n 2983,\n 2981,\n 2978,\n 2975,\n 2972,\n 2969,\n 2967,\n 2961,\n 2960,\n 2960,\n 2952,\n 2948,\n 2948,\n 2948,\n 2948,\n 2944,\n 2937,\n 2935,\n 2918,\n 2917,\n 2917,\n 2916,\n 2916,\n 2915,\n 2911,\n 2904,\n 2903,\n 2902,\n 2890,\n 2886,\n 2880,\n 2880,\n 2876,\n 2876,\n 2876,\n 2875,\n 2875,\n 2875,\n 2870,\n 2868,\n 2868,\n 2868,\n 2865,\n 2862,\n 2862,\n 2862,\n 2862,\n 2856,\n 2856,\n 2854,\n 2852,\n 2851,\n 2850,\n 2849,\n 2838,\n 2837,\n 2835,\n 2834,\n 2833,\n 2833,\n 2833,\n 2833,\n 2833,\n 2832,\n 2832,\n 2831,\n 2830,\n 2830,\n 2830,\n 2830,\n 2828,\n 2827,\n 2825,\n 2820,\n 2820,\n 2817,\n 2817,\n 2815,\n 2811,\n 2811,\n 2811,\n 2810,\n 2810,\n 2810,\n 2808,\n 2807,\n 2807,\n 2806,\n 2805,\n 2805,\n 2805,\n 2804,\n 2803,\n 2802,\n 2800,\n 2799,\n 2799,\n 2798,\n 2797,\n 2797,\n 2796,\n 2794,\n 2792,\n 2792,\n 2789,\n 2788,\n 2786,\n 2786,\n 2786,\n 2786,\n 2785,\n 2785,\n 2785,\n 2782,\n 2781,\n 2779,\n 2774,\n 2773,\n 2771,\n 2770,\n 2769,\n 2769,\n 2767,\n 2761,\n 2760,\n 2760,\n 2759,\n 2758,\n 2757,\n 2755,\n 2754,\n 2752,\n 2750,\n 2743,\n 2742,\n 2742,\n 2741,\n 2740,\n 2740,\n 2740,\n 2738,\n 2737,\n 2737,\n 2737,\n 2735,\n 2727,\n 2714,\n 2713,\n 2713,\n 2710,\n 2707,\n 2707,\n 2703,\n 2702,\n 2702,\n 2701,\n 2701,\n 2700,\n 2695,\n 2695,\n 2695,\n 2695,\n 2695,\n 2695,\n 2694,\n 2693,\n 2693,\n 2692,\n 2691,\n 2690,\n 2689,\n 2688,\n 2683,\n 2683,\n 2683,\n 2682,\n 2681,\n 2681,\n 2681,\n 2677,\n 2675,\n 2674,\n 2672,\n 2666,\n 2664,\n 2663,\n 2660,\n 2660,\n 2657,\n 2655,\n 2655,\n 2655,\n 2655,\n 2653,\n 2652,\n 2652,\n 2652,\n 2651,\n 2651,\n 2651,\n 2649,\n 2648,\n 2646,\n 2643,\n 2642,\n 2642,\n 2639,\n 2639,\n 2637,\n 2637,\n 2636,\n 2636,\n 2636,\n 2636,\n 2635,\n 2635,\n 2634,\n 2633,\n 2633,\n 2631,\n 2631,\n 2629,\n 2629,\n 2626,\n 2626,\n 2622,\n 2616,\n 2614,\n 2607,\n 2605,\n 2603,\n 2603,\n 2598,\n 2598,\n 2598,\n 2597,\n 2595,\n 2594,\n 2594,\n 2594,\n 2594,\n 2593,\n 2593,\n 2593,\n 2592,\n 2591,\n 2590,\n 2589,\n 2589,\n 2588,\n 2587,\n 2584,\n 2582,\n 2577,\n 2577,\n 2576,\n 2575,\n 2572,\n 2571,\n 2570,\n 2570,\n 2570,\n 2566,\n 2566,\n 2566,\n 2566,\n 2566,\n 2566,\n 2565,\n 2565,\n 2564,\n 2563,\n 2562,\n 2561,\n 2558,\n 2555,\n 2555,\n 2551,\n 2551,\n 2550,\n 2548,\n 2548,\n 2547,\n 2544,\n 2543,\n 2541,\n 2537,\n 2537,\n 2535,\n 2531,\n 2531,\n 2531,\n 2531,\n 2531,\n 2529,\n 2529,\n 2528,\n 2528,\n 2526,\n 2526,\n 2520,\n 2520,\n 2520,\n 2519,\n 2514,\n 2511,\n 2511,\n 2510,\n 2507,\n 2507,\n 2500,\n 2500,\n 2500,\n 2500,\n 2497,\n 2497,\n 2497,\n 2496,\n 2496,\n 2496,\n 2495,\n 2492,\n 2492,\n 2492,\n 2490,\n 2487,\n 2487,\n 2487,\n 2485,\n 2483,\n 2483,\n 2483,\n 2482,\n 2482,\n 2482,\n 2481,\n 2481,\n 2481,\n 2481,\n 2481,\n 2481,\n 2478,\n 2475,\n 2474,\n 2473,\n 2469,\n 2467,\n 2467,\n 2466,\n 2466,\n 2465,\n 2465,\n 2462,\n 2460,\n 2459,\n 2457,\n 2456,\n 2455,\n 2455,\n 2454,\n 2454,\n 2452,\n 2451,\n 2450,\n 2450,\n 2450,\n 2450,\n 2450,\n 2450,\n 2450,\n 2450,\n 2449,\n 2449,\n 2448,\n 2446,\n 2445,\n 2445,\n 2444,\n 2444,\n 2444,\n 2442,\n 2442,\n 2442,\n 2442,\n 2440,\n 2439,\n 2439,\n 2439,\n 2439,\n 2439,\n 2436,\n 2435,\n 2433,\n 2430,\n 2425,\n 2425,\n 2425,\n 2425,\n 2422,\n 2422,\n 2419,\n 2418,\n 2418,\n 2416,\n 2416,\n 2415,\n 2413,\n 2407,\n 2403,\n 2402,\n 2402,\n 2397,\n 2396,\n 2395,\n 2393,\n 2393,\n 2393,\n 2392,\n 2390,\n 2390,\n 2390,\n 2388,\n 2387,\n 2387,\n 2387,\n 2383,\n 2382,\n 2382,\n 2382,\n 2381,\n 2379,\n 2377,\n 2377,\n 2377,\n 2376,\n 2375,\n 2375,\n 2375,\n 2375,\n 2374,\n 2374,\n 2374,\n 2374,\n 2374,\n 2374,\n 2373,\n 2372,\n 2370,\n 2368,\n 2368,\n 2367,\n 2366,\n 2363,\n 2362,\n 2362,\n 2361,\n 2361,\n 2361,\n 2360,\n 2359,\n 2358,\n 2358,\n 2358,\n 2356,\n 2356,\n 2355,\n 2354,\n 2352,\n 2351,\n 2347,\n 2346,\n 2346,\n 2346,\n 2346,\n 2346,\n 2344,\n 2344,\n 2344,\n 2344,\n 2342,\n 2341,\n 2340,\n 2339,\n 2331,\n 2327,\n 2327,\n 2326,\n 2326,\n 2324,\n 2324,\n 2317,\n 2310,\n 2310,\n 2309,\n ...]"
     },
     "execution_count": 40,
     "metadata": {},
     "output_type": "execute_result"
    }
   ],
   "source": [
    "sorted(df_TRAIN_RES_1[\"achievements_len\"], reverse=True)"
   ],
   "metadata": {
    "collapsed": false,
    "pycharm": {
     "name": "#%%\n"
    }
   }
  },
  {
   "cell_type": "code",
   "execution_count": null,
   "outputs": [],
   "source": [],
   "metadata": {
    "collapsed": false,
    "pycharm": {
     "name": "#%%\n"
    }
   }
  },
  {
   "cell_type": "code",
   "execution_count": 23,
   "outputs": [],
   "source": [
    "t = df_TRAIN_RES_1[~df_TRAIN_RES_1[\"achievements\"].isna()]"
   ],
   "metadata": {
    "collapsed": false,
    "pycharm": {
     "name": "#%%\n"
    }
   }
  },
  {
   "cell_type": "code",
   "execution_count": 25,
   "outputs": [
    {
     "data": {
      "text/plain": "           achievements achievements_modified  \\\n2181            не имею                   нет   \n2362                НЕТ                   нет   \n14061    достижений нет                   нет   \n14666               Нет                   нет   \n14667               Нет                   нет   \n...                 ...                   ...   \n1998677             Нет                   нет   \n1998680             Нет                   нет   \n1998737             Нет                   нет   \n1998783             Нет                   нет   \n1999145             Нет                   нет   \n\n                                         company_name  \\\n2181                       АО «Ликеро-водочный завод»   \n2362                              ООО.ЖЕЛЕЗНОДОРОЖНИК   \n14061    ПОУ \"РУЦ\" РО ДОСААФ России Тюменской области   \n14666                             ООО Свод Интернешнл   \n14667                             ООО Свод Интернешнл   \n...                                               ...   \n1998677                        ООО Форт Пос Челябинск   \n1998680                                   ООО ТД Нева   \n1998737                             ООО кубаньалкоопт   \n1998783                                Силовые машины   \n1999145                               ИП Гришина К.Ю.   \n\n                                                   demands  \\\n2181                                         Ответственная   \n2362     Приемка локомотива.Содержание исправном состоянии   \n14061    Разработка планирующей документации| Контроль ...   \n14666                                         Мытье посуды   \n14667                                         Мвтьё помкдв   \n...                                                    ...   \n1998677                                 Обучение персонала   \n1998680                          Продажа продуктов питания   \n1998737                                       Прием товара   \n1998783  Контроль изделий после механической обработки,...   \n1999145               отвечать на звонки и вести документы   \n\n                                        id_cv      job_title  \n2181     64157720-2de1-11e8-a3e9-e37b4be0b9ed       оператор  \n2362     7d488ee6-2e62-11e8-a184-9122a281f90e       машинист  \n14061    20af3a70-3584-11e8-8e6a-ef76bd2a03c1    заместитель  \n14666    e05dc680-3420-11e8-8b84-ef76bd2a03c1         стюард  \n14667    e05dc680-3420-11e8-8b84-ef76bd2a03c1         стюард  \n...                                       ...            ...  \n1998677  7c528da0-83ac-11ea-a312-e736a3d3ed84       менеджер  \n1998680  7c528da0-83ac-11ea-a312-e736a3d3ed84  представитель  \n1998737  ec68ab20-8464-11ea-a79e-bfd13399602c      контролер  \n1998783  e1a91c50-8320-11ea-b18f-03fd6b4dc11f     специалист  \n1999145  c6096b70-821d-11ea-b879-3bfa22f2d66b       директор  \n\n[2306 rows x 6 columns]",
      "text/html": "<div>\n<style scoped>\n    .dataframe tbody tr th:only-of-type {\n        vertical-align: middle;\n    }\n\n    .dataframe tbody tr th {\n        vertical-align: top;\n    }\n\n    .dataframe thead th {\n        text-align: right;\n    }\n</style>\n<table border=\"1\" class=\"dataframe\">\n  <thead>\n    <tr style=\"text-align: right;\">\n      <th></th>\n      <th>achievements</th>\n      <th>achievements_modified</th>\n      <th>company_name</th>\n      <th>demands</th>\n      <th>id_cv</th>\n      <th>job_title</th>\n    </tr>\n  </thead>\n  <tbody>\n    <tr>\n      <th>2181</th>\n      <td>не имею</td>\n      <td>нет</td>\n      <td>АО «Ликеро-водочный завод»</td>\n      <td>Ответственная</td>\n      <td>64157720-2de1-11e8-a3e9-e37b4be0b9ed</td>\n      <td>оператор</td>\n    </tr>\n    <tr>\n      <th>2362</th>\n      <td>НЕТ</td>\n      <td>нет</td>\n      <td>ООО.ЖЕЛЕЗНОДОРОЖНИК</td>\n      <td>Приемка локомотива.Содержание исправном состоянии</td>\n      <td>7d488ee6-2e62-11e8-a184-9122a281f90e</td>\n      <td>машинист</td>\n    </tr>\n    <tr>\n      <th>14061</th>\n      <td>достижений нет</td>\n      <td>нет</td>\n      <td>ПОУ \"РУЦ\" РО ДОСААФ России Тюменской области</td>\n      <td>Разработка планирующей документации| Контроль ...</td>\n      <td>20af3a70-3584-11e8-8e6a-ef76bd2a03c1</td>\n      <td>заместитель</td>\n    </tr>\n    <tr>\n      <th>14666</th>\n      <td>Нет</td>\n      <td>нет</td>\n      <td>ООО Свод Интернешнл</td>\n      <td>Мытье посуды</td>\n      <td>e05dc680-3420-11e8-8b84-ef76bd2a03c1</td>\n      <td>стюард</td>\n    </tr>\n    <tr>\n      <th>14667</th>\n      <td>Нет</td>\n      <td>нет</td>\n      <td>ООО Свод Интернешнл</td>\n      <td>Мвтьё помкдв</td>\n      <td>e05dc680-3420-11e8-8b84-ef76bd2a03c1</td>\n      <td>стюард</td>\n    </tr>\n    <tr>\n      <th>...</th>\n      <td>...</td>\n      <td>...</td>\n      <td>...</td>\n      <td>...</td>\n      <td>...</td>\n      <td>...</td>\n    </tr>\n    <tr>\n      <th>1998677</th>\n      <td>Нет</td>\n      <td>нет</td>\n      <td>ООО Форт Пос Челябинск</td>\n      <td>Обучение персонала</td>\n      <td>7c528da0-83ac-11ea-a312-e736a3d3ed84</td>\n      <td>менеджер</td>\n    </tr>\n    <tr>\n      <th>1998680</th>\n      <td>Нет</td>\n      <td>нет</td>\n      <td>ООО ТД Нева</td>\n      <td>Продажа продуктов питания</td>\n      <td>7c528da0-83ac-11ea-a312-e736a3d3ed84</td>\n      <td>представитель</td>\n    </tr>\n    <tr>\n      <th>1998737</th>\n      <td>Нет</td>\n      <td>нет</td>\n      <td>ООО кубаньалкоопт</td>\n      <td>Прием товара</td>\n      <td>ec68ab20-8464-11ea-a79e-bfd13399602c</td>\n      <td>контролер</td>\n    </tr>\n    <tr>\n      <th>1998783</th>\n      <td>Нет</td>\n      <td>нет</td>\n      <td>Силовые машины</td>\n      <td>Контроль изделий после механической обработки,...</td>\n      <td>e1a91c50-8320-11ea-b18f-03fd6b4dc11f</td>\n      <td>специалист</td>\n    </tr>\n    <tr>\n      <th>1999145</th>\n      <td>Нет</td>\n      <td>нет</td>\n      <td>ИП Гришина К.Ю.</td>\n      <td>отвечать на звонки и вести документы</td>\n      <td>c6096b70-821d-11ea-b879-3bfa22f2d66b</td>\n      <td>директор</td>\n    </tr>\n  </tbody>\n</table>\n<p>2306 rows × 6 columns</p>\n</div>"
     },
     "execution_count": 25,
     "metadata": {},
     "output_type": "execute_result"
    }
   ],
   "source": [
    "t[t[\"achievements\"] != t[\"achievements_modified\"]]"
   ],
   "metadata": {
    "collapsed": false,
    "pycharm": {
     "name": "#%%\n"
    }
   }
  },
  {
   "cell_type": "code",
   "execution_count": 17,
   "outputs": [
    {
     "data": {
      "text/plain": "achievements             84.13625\nachievements_modified    84.13625\ncompany_name              0.07885\ndemands                   0.79030\nid_cv                     0.00000\njob_title                 0.00000\ndtype: float64"
     },
     "execution_count": 17,
     "metadata": {},
     "output_type": "execute_result"
    }
   ],
   "source": [
    "df_TRAIN_RES_1.isna().sum() / len(df_TRAIN_RES_1) * 100"
   ],
   "metadata": {
    "collapsed": false,
    "pycharm": {
     "name": "#%%\n"
    }
   }
  },
  {
   "cell_type": "code",
   "execution_count": null,
   "outputs": [],
   "source": [],
   "metadata": {
    "collapsed": false,
    "pycharm": {
     "name": "#%%\n"
    }
   }
  },
  {
   "cell_type": "code",
   "execution_count": 11,
   "id": "cf2306d3",
   "metadata": {},
   "outputs": [
    {
     "name": "stdout",
     "output_type": "stream",
     "text": [
      "<class 'pandas.core.frame.DataFrame'>\n",
      "RangeIndex: 2000000 entries, 0 to 1999999\n",
      "Data columns (total 6 columns):\n",
      " #   Column                 Dtype \n",
      "---  ------                 ----- \n",
      " 0   achievements           object\n",
      " 1   achievements_modified  object\n",
      " 2   company_name           object\n",
      " 3   demands                object\n",
      " 4   id_cv                  object\n",
      " 5   job_title              object\n",
      "dtypes: object(6)\n",
      "memory usage: 91.6+ MB\n"
     ]
    }
   ],
   "source": [
    "df_TRAIN_RES_1.info()"
   ]
  },
  {
   "cell_type": "code",
   "execution_count": 15,
   "outputs": [
    {
     "data": {
      "text/plain": "157"
     },
     "execution_count": 15,
     "metadata": {},
     "output_type": "execute_result"
    }
   ],
   "source": [
    "(df_TRAIN_RES_1.job_title.value_counts() > 1000).sum()"
   ],
   "metadata": {
    "collapsed": false,
    "pycharm": {
     "name": "#%%\n"
    }
   }
  },
  {
   "cell_type": "code",
   "execution_count": null,
   "outputs": [],
   "source": [],
   "metadata": {
    "collapsed": false,
    "pycharm": {
     "name": "#%%\n"
    }
   }
  },
  {
   "cell_type": "code",
   "execution_count": null,
   "id": "4d8c3bf7",
   "metadata": {},
   "outputs": [],
   "source": []
  },
  {
   "cell_type": "code",
   "execution_count": null,
   "id": "cd1f5efa",
   "metadata": {},
   "outputs": [],
   "source": []
  },
  {
   "cell_type": "code",
   "execution_count": 3,
   "id": "0b31c37e",
   "metadata": {
    "scrolled": true
   },
   "outputs": [],
   "source": [
    "job_list = pd.read_csv(\"vprod_train/JOB_LIST.csv\", encoding_errors=\"ignore\")"
   ]
  },
  {
   "cell_type": "code",
   "execution_count": 4,
   "id": "4d0e37b1",
   "metadata": {},
   "outputs": [],
   "source": [
    "job_list.dropna(inplace=True, axis=0)"
   ]
  },
  {
   "cell_type": "code",
   "execution_count": 5,
   "id": "e263fbb7",
   "metadata": {},
   "outputs": [],
   "source": [
    "def base_preproc(text):\n",
    "    text = text.replace(\",\", \" \").strip().lower()\n",
    "    text = re.sub(' +', ' ', text)\n",
    "    text = \"\".join([x for x in text if not x.isdigit()])\n",
    "    return text"
   ]
  },
  {
   "cell_type": "code",
   "execution_count": 6,
   "id": "502c3ff6",
   "metadata": {},
   "outputs": [],
   "source": [
    "job_list[\"job_title\"] = job_list[\"job_title\"].map(base_preproc)"
   ]
  },
  {
   "cell_type": "code",
   "execution_count": null,
   "id": "eb390384",
   "metadata": {},
   "outputs": [],
   "source": [
    "my_counter = {}\n",
    "for job in job_list[\"job_title\"].tolist():\n",
    "    for x in job.split():\n",
    "        if x not in list(my_counter.keys())"
   ]
  },
  {
   "cell_type": "code",
   "execution_count": null,
   "id": "781e7064",
   "metadata": {},
   "outputs": [],
   "source": []
  },
  {
   "cell_type": "code",
   "execution_count": null,
   "id": "b89716fa",
   "metadata": {},
   "outputs": [],
   "source": [
    "words = sum([x.split() for x in job_list[\"job_title\"].tolist()], [])"
   ]
  },
  {
   "cell_type": "code",
   "execution_count": null,
   "id": "bd1c6214",
   "metadata": {},
   "outputs": [],
   "source": [
    "len(words)"
   ]
  },
  {
   "cell_type": "code",
   "execution_count": null,
   "id": "b801bb57",
   "metadata": {},
   "outputs": [],
   "source": []
  },
  {
   "cell_type": "code",
   "execution_count": null,
   "id": "14695cdb",
   "metadata": {},
   "outputs": [],
   "source": []
  },
  {
   "cell_type": "code",
   "execution_count": null,
   "id": "da2ed89c",
   "metadata": {},
   "outputs": [],
   "source": []
  },
  {
   "cell_type": "code",
   "execution_count": null,
   "id": "9bc781fe",
   "metadata": {},
   "outputs": [],
   "source": []
  },
  {
   "cell_type": "code",
   "execution_count": 107,
   "id": "b7c16c55",
   "metadata": {},
   "outputs": [],
   "source": [
    "bad_classes_df = df_res[df_res[\"id_cv\"].isin(df_res[df_res[\"job_title\"] == \"специалист\"][\"id_cv\"].unique())]"
   ]
  },
  {
   "cell_type": "code",
   "execution_count": 115,
   "id": "a7b6be45",
   "metadata": {},
   "outputs": [
    {
     "name": "stderr",
     "output_type": "stream",
     "text": [
      "100%|████████████████████████████████| 745438/745438 [00:15<00:00, 47155.67it/s]\n"
     ]
    }
   ],
   "source": [
    "k = []\n",
    "\n",
    "for ids, gr in tqdm(df_res.groupby(\"id_cv\")):\n",
    "    k.append(len(gr[\"company_name\"].unique()))"
   ]
  },
  {
   "cell_type": "code",
   "execution_count": null,
   "id": "d1b0eea7",
   "metadata": {},
   "outputs": [],
   "source": []
  },
  {
   "cell_type": "code",
   "execution_count": 134,
   "id": "e433b563",
   "metadata": {},
   "outputs": [
    {
     "data": {
      "text/plain": [
       "id                                      0\n",
       "academic_degree                    630830\n",
       "accommodation_capability                0\n",
       "accommodation_type                 597838\n",
       "additional_premium                 549987\n",
       "additional_requirements            400830\n",
       "bonus_type                         549481\n",
       "measure_type                       549778\n",
       "busy_type                               0\n",
       "career_perspective                      0\n",
       "change_time                          5001\n",
       "code_external_system               555416\n",
       "code_profession                     14958\n",
       "code_professional_sphere               14\n",
       "company_code                            0\n",
       "contact_person                        108\n",
       "contact_source                     568063\n",
       "data_ids                                0\n",
       "date_create                             0\n",
       "date_modify                             0\n",
       "deleted                                 0\n",
       "education                               0\n",
       "education_speciality               515614\n",
       "foreign_workers_capability         631117\n",
       "metro_ids                          621226\n",
       "is_mobility_program                537839\n",
       "is_moderated                            0\n",
       "is_uzbekistan_recruitment               0\n",
       "is_quoted                               0\n",
       "need_medcard                       449036\n",
       "oknpo_code                         631117\n",
       "okso_code                          609798\n",
       "original_source_type                    0\n",
       "other_vacancy_benefit              486708\n",
       "position_requirements               41038\n",
       "position_responsibilities            3911\n",
       "publication_period                     16\n",
       "published_date                          0\n",
       "regionName                           3734\n",
       "regionNameTerm                     631117\n",
       "company_business_size                   0\n",
       "required_certificates              588552\n",
       "required_drive_license                  0\n",
       "required_experience                 11283\n",
       "retraining_capability              604402\n",
       "retraining_condition               631117\n",
       "retraining_grant                        0\n",
       "retraining_grant_value             629285\n",
       "salary                                  0\n",
       "salary_min                              0\n",
       "salary_max                           5507\n",
       "schedule_type                           0\n",
       "social_protected_ids               599574\n",
       "source_type                             0\n",
       "state_region_code                       2\n",
       "status                                  0\n",
       "transport_compensation             609466\n",
       "vacancy_address_additional_info    390228\n",
       "vacancy_address                      3734\n",
       "vacancy_address_code                    2\n",
       "vacancy_address_house               78961\n",
       "vacancy_address_latitude             1668\n",
       "vacancy_address_longitude            1668\n",
       "vacancy_benefit_ids                607601\n",
       "vacancy_name                            0\n",
       "visibility                              0\n",
       "work_places                             0\n",
       "professionalSphereName                 14\n",
       "federalDistrictCode                     2\n",
       "industryBranchName                 629014\n",
       "contactList                        631117\n",
       "company_name                       631117\n",
       "full_company_name                      48\n",
       "company_inn                           279\n",
       "company                                 0\n",
       "languageKnowledge                       0\n",
       "hardSkills                              0\n",
       "softSkills                              0\n",
       "dtype: int64"
      ]
     },
     "execution_count": 134,
     "metadata": {},
     "output_type": "execute_result"
    }
   ],
   "source": [
    "df_sal.isna().sum()"
   ]
  },
  {
   "cell_type": "code",
   "execution_count": null,
   "id": "1697c66b",
   "metadata": {},
   "outputs": [],
   "source": []
  },
  {
   "cell_type": "code",
   "execution_count": null,
   "id": "572799b8",
   "metadata": {},
   "outputs": [],
   "source": []
  },
  {
   "cell_type": "code",
   "execution_count": null,
   "id": "28b11c5c",
   "metadata": {},
   "outputs": [],
   "source": []
  },
  {
   "cell_type": "code",
   "execution_count": 138,
   "id": "70f99ca1",
   "metadata": {},
   "outputs": [
    {
     "ename": "ModuleNotFoundError",
     "evalue": "No module named 'sage'",
     "output_type": "error",
     "traceback": [
      "\u001B[0;31m---------------------------------------------------------------------------\u001B[0m",
      "\u001B[0;31mModuleNotFoundError\u001B[0m                       Traceback (most recent call last)",
      "Cell \u001B[0;32mIn[138], line 1\u001B[0m\n\u001B[0;32m----> 1\u001B[0m \u001B[38;5;28;01mfrom\u001B[39;00m \u001B[38;5;21;01msage\u001B[39;00m\u001B[38;5;21;01m.\u001B[39;00m\u001B[38;5;21;01mspelling_correction\u001B[39;00m \u001B[38;5;28;01mimport\u001B[39;00m AvailableCorrectors\n\u001B[1;32m      2\u001B[0m \u001B[38;5;28;01mfrom\u001B[39;00m \u001B[38;5;21;01msage\u001B[39;00m\u001B[38;5;21;01m.\u001B[39;00m\u001B[38;5;21;01mspelling_correction\u001B[39;00m \u001B[38;5;28;01mimport\u001B[39;00m RuM2M100ModelForSpellingCorrection, T5ModelForSpellingCorruption\n\u001B[1;32m      4\u001B[0m text_ru \u001B[38;5;241m=\u001B[39m \u001B[38;5;124m\"\u001B[39m\u001B[38;5;124mЗамтьте не я это предложил\u001B[39m\u001B[38;5;124m\"\u001B[39m\n",
      "\u001B[0;31mModuleNotFoundError\u001B[0m: No module named 'sage'"
     ]
    }
   ],
   "source": [
    "from sage.spelling_correction import AvailableCorrectors\n",
    "from sage.spelling_correction import RuM2M100ModelForSpellingCorrection, T5ModelForSpellingCorruption\n",
    "\n",
    "text_ru = \"Замтьте не я это предложил\"\n",
    "text_en = \"Screw you kuys, I am going home. (c)\"\n",
    "\n",
    "corrector_fred = T5ModelForSpellingCorruption.from_pretrained(AvailableCorrectors.sage_fredt5_large.value)\n",
    "corrector_m2m = RuM2M100ModelForSpellingCorrection.from_pretrained(AvailableCorrectors.m2m100_1B.value)\n",
    "corrector_en = T5ModelForSpellingCorruption.from_pretrained(AvailableCorrectors.ent5_large.value)\n",
    "\n",
    "print(corrector_fred.correct(text_ru))\n",
    "# ['Заметьте, не я это предложил.']\n",
    "\n",
    "print(corrector_m2m.correct(text_ru))"
   ]
  },
  {
   "cell_type": "code",
   "execution_count": null,
   "id": "af834bd6",
   "metadata": {},
   "outputs": [],
   "source": []
  },
  {
   "cell_type": "code",
   "execution_count": null,
   "id": "68165c5c",
   "metadata": {},
   "outputs": [],
   "source": []
  },
  {
   "cell_type": "code",
   "execution_count": null,
   "id": "ced9432e",
   "metadata": {},
   "outputs": [],
   "source": []
  }
 ],
 "metadata": {
  "kernelspec": {
   "display_name": "Python 3 (ipykernel)",
   "language": "python",
   "name": "python3"
  },
  "language_info": {
   "codemirror_mode": {
    "name": "ipython",
    "version": 3
   },
   "file_extension": ".py",
   "mimetype": "text/x-python",
   "name": "python",
   "nbconvert_exporter": "python",
   "pygments_lexer": "ipython3",
   "version": "3.9.18"
  }
 },
 "nbformat": 4,
 "nbformat_minor": 5
}