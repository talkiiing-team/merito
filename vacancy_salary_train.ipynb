{
 "cells": [
  {
   "cell_type": "markdown",
   "id": "6e1166ae",
   "metadata": {},
   "source": [
    "# Пайлайн обучения модели предсказания зарплатных ожиданий"
   ]
  },
  {
   "cell_type": "markdown",
   "id": "fb53512d",
   "metadata": {},
   "source": [
    "В ноутбуке реализован процесс предобработки данных и обучения регрессионной модели для предсказания зарплатных ожиданий по данным вакансии."
   ]
  },
  {
   "cell_type": "markdown",
   "id": "3c76a67f",
   "metadata": {},
   "source": [
    "------"
   ]
  },
  {
   "cell_type": "markdown",
   "id": "8ffcf21b",
   "metadata": {},
   "source": [
    "## Импорт библиотек и загрузка данных"
   ]
  },
  {
   "cell_type": "code",
   "execution_count": 1,
   "id": "b3cb648d",
   "metadata": {},
   "outputs": [],
   "source": [
    "import warnings\n",
    "warnings.filterwarnings(\"ignore\")\n",
    "\n",
    "import pandas as pd\n",
    "import numpy as np\n",
    "import matplotlib.pyplot as plt\n",
    "import seaborn as sns\n",
    "import re\n",
    "from catboost import CatBoostRegressor, CatBoostClassifier, Pool\n",
    "from my_parsers import download, parse\n",
    "from tqdm import tqdm\n",
    "from collections import Counter\n",
    "from sklearn.model_selection import train_test_split\n",
    "import pickle\n",
    "from sklearn.feature_extraction.text import TfidfVectorizer\n",
    "from bs4 import BeautifulSoup\n",
    "\n",
    "pd.options.display.max_rows = 200\n",
    "pd.options.display.max_columns = 200\n",
    "\n",
    "import pymorphy2\n",
    "morph = pymorphy2.MorphAnalyzer()\n",
    "russian_stopwords = pickle.load(open(\"stopwords.pkl\", \"rb\"))"
   ]
  },
  {
   "cell_type": "code",
   "execution_count": 2,
   "id": "173bfae9",
   "metadata": {},
   "outputs": [],
   "source": [
    "df = pd.read_csv('vprod_train/TRAIN_SAL.csv')\n",
    "df = df[df[\"salary\"] != 0]"
   ]
  },
  {
   "cell_type": "code",
   "execution_count": 3,
   "id": "d420b459",
   "metadata": {},
   "outputs": [],
   "source": [
    "# пайплайн предобработки данных и обучения занимает много времени. Для тестирования можем обрезать датасет\n",
    "\n",
    "DEBUG_MODE = False\n",
    "if DEBUG_MODE:\n",
    "    df = df.iloc[:1000]"
   ]
  },
  {
   "cell_type": "markdown",
   "id": "a9ffdc21",
   "metadata": {},
   "source": [
    "Удалим все коррелирующие с остальными или не несущими полезной информации признаки."
   ]
  },
  {
   "cell_type": "code",
   "execution_count": 4,
   "id": "1b5da7cf",
   "metadata": {},
   "outputs": [],
   "source": [
    "COLS_FOR_DROP = ['foreign_workers_capability', 'oknpo_code', 'regionNameTerm',\n",
    "       'retraining_condition', 'contactList', 'company_name', \"id\", \"change_time\", \"code_external_system\",\n",
    "        \"company_code\", \"contact_person\", \"data_ids\", \"date_create\", \"date_modify\", \"deleted\",\n",
    "        \"original_source_type\", \"publication_period\", \"published_date\", \"salary_min\", \"salary_max\", \n",
    "        \"vacancy_address_code\", \"vacancy_address\", \"visibility\", \"company\", \"company_inn\", \n",
    "        \"industryBranchName\", \"state_region_code\", \"vacancy_address_house\", \"metro_ids\",\n",
    "        \"vacancy_address_additional_info\", \"is_moderated\", \"languageKnowledge\"]"
   ]
  },
  {
   "cell_type": "code",
   "execution_count": 5,
   "id": "ceb3423f",
   "metadata": {},
   "outputs": [],
   "source": [
    "df.drop(COLS_FOR_DROP, axis=1, inplace=True)"
   ]
  },
  {
   "cell_type": "markdown",
   "id": "cc2d6e65",
   "metadata": {},
   "source": [
    " "
   ]
  },
  {
   "cell_type": "markdown",
   "id": "d734bccb",
   "metadata": {},
   "source": [
    "## Предобработка данных"
   ]
  },
  {
   "cell_type": "markdown",
   "id": "bccd4937",
   "metadata": {},
   "source": [
    "Удалим html-элементы из текстовых столбцов, в которых они присутствуют"
   ]
  },
  {
   "cell_type": "code",
   "execution_count": 6,
   "id": "fc304dd3",
   "metadata": {},
   "outputs": [
    {
     "name": "stderr",
     "output_type": "stream",
     "text": [
      "100%|█████████████████████████████████████████████| 4/4 [03:51<00:00, 57.89s/it]\n"
     ]
    }
   ],
   "source": [
    "def remove_html_tags(text):\n",
    "    if pd.isna(text):\n",
    "        return None\n",
    "    soup = BeautifulSoup(text, \"html.parser\")\n",
    "    return soup.get_text()\n",
    "\n",
    "\n",
    "html_tag_cols = [\"additional_requirements\", \"other_vacancy_benefit\", \"position_requirements\", \n",
    "                 \"position_responsibilities\"]\n",
    "for html_col in tqdm(html_tag_cols):\n",
    "    df[html_col] = df[html_col].map(remove_html_tags)"
   ]
  },
  {
   "cell_type": "markdown",
   "id": "46725f7e",
   "metadata": {},
   "source": [
    "Предобработаем по отдельности каждый признак, учитывая его логику"
   ]
  },
  {
   "cell_type": "code",
   "execution_count": 7,
   "id": "6f596156",
   "metadata": {},
   "outputs": [],
   "source": [
    "# создадим конфиг с метаинформацией для будущей предобработки тест\n",
    "\n",
    "PREPROC_CONFIG = {}"
   ]
  },
  {
   "cell_type": "code",
   "execution_count": 8,
   "id": "72a25f53",
   "metadata": {},
   "outputs": [],
   "source": [
    "# заменим None на 0, а все остальные значения - на 1, т.к. мало уникальных значений\n",
    "\n",
    "df.loc[~df[\"academic_degree\"].isna(), \"academic_degree\"] = 1\n",
    "df[\"academic_degree\"] = df[\"academic_degree\"].fillna(0)"
   ]
  },
  {
   "cell_type": "code",
   "execution_count": 9,
   "id": "f48b7e1e",
   "metadata": {},
   "outputs": [],
   "source": [
    "# объединим похожие по смыслу значения в одни классы, сделаем из пропусков отдельный класс\n",
    "\n",
    "df.loc[df[\"accommodation_type\"].isin([\"FLAT\", \"ROOM\", \"HOUSE\"]), \"accommodation_type\"] = 2\n",
    "df.loc[df[\"accommodation_type\"] == \"DORMITORY\", \"accommodation_type\"] = 1\n",
    "df.loc[df[\"accommodation_type\"].isna(), \"accommodation_type\"] = 0"
   ]
  },
  {
   "cell_type": "code",
   "execution_count": 10,
   "id": "5af3f502",
   "metadata": {},
   "outputs": [],
   "source": [
    "# т.к. переменная вещественного типа, заменим пропуски на -1, чтобы катбусту было легче отделить пропуски\n",
    "\n",
    "df.loc[df[\"additional_premium\"].isna(), \"additional_premium\"] = -1"
   ]
  },
  {
   "cell_type": "code",
   "execution_count": 11,
   "id": "d0ba25ec",
   "metadata": {},
   "outputs": [],
   "source": [
    "# заменим пропуски на отдельные классы или подхдодящие по смыслу значения\n",
    "\n",
    "df.loc[df[\"bonus_type\"].isna(), \"bonus_type\"] = 0\n",
    "df.loc[df[\"measure_type\"].isna(), \"measure_type\"] = 0\n",
    "df.loc[df[\"code_professional_sphere\"].isna(), \"code_professional_sphere\"] = \"unknown\"\n",
    "df.loc[df[\"contact_source\"].isna(), \"contact_source\"] = \"unknown\"\n",
    "df.loc[df[\"is_mobility_program\"].isna(), \"is_mobility_program\"] = False\n",
    "df.loc[df[\"need_medcard\"].isna(), \"need_medcard\"] = \"unknown\"\n",
    "df.loc[df[\"regionName\"].isna(), \"regionName\"] = \"unknown\"\n",
    "df.loc[df[\"required_experience\"].isna(), \"required_experience\"] = -1\n",
    "df.loc[df[\"retraining_capability\"].isna(), \"retraining_capability\"] = \"unknown\"\n",
    "df.loc[df[\"retraining_grant_value\"].isna(), \"retraining_grant_value\"] = 0\n",
    "df.loc[df[\"transport_compensation\"].isna(), \"transport_compensation\"] = -1\n",
    "df.loc[df[\"federalDistrictCode\"].isna(), \"federalDistrictCode\"] = 4"
   ]
  },
  {
   "cell_type": "code",
   "execution_count": 12,
   "id": "6a514587",
   "metadata": {},
   "outputs": [],
   "source": [
    "# сделаем из пропусков и редких значений в кодах ОКСО и кодах профессий отдельный класс\n",
    "\n",
    "mask = ~df[\"okso_code\"].isna()\n",
    "rare_okso = df[mask][\"okso_code\"].value_counts()[df[mask][\"okso_code\"].value_counts() < 500].keys()\n",
    "\n",
    "df.loc[df[\"okso_code\"].isin(rare_okso), \"okso_code\"] = -1\n",
    "df.loc[df[\"okso_code\"].isna(), \"okso_code\"] = -1\n",
    "\n",
    "\n",
    "mask = ~df[\"code_profession\"].isna()\n",
    "rare_profs = df[mask][\"code_profession\"].value_counts()[df[mask][\"code_profession\"].value_counts() < 500].keys()\n",
    "\n",
    "df.loc[df[\"code_profession\"].isin(rare_profs), \"code_profession\"] = -1\n",
    "df.loc[df[\"code_profession\"].isna(), \"code_profession\"] = -1\n",
    "\n",
    "PREPROC_CONFIG[\"rare_values_replace\"] = {\"okso_code\": rare_okso, \"code_profession\": rare_profs}"
   ]
  },
  {
   "cell_type": "code",
   "execution_count": null,
   "id": "b1da43a9",
   "metadata": {},
   "outputs": [],
   "source": []
  },
  {
   "cell_type": "code",
   "execution_count": 13,
   "id": "83372e64",
   "metadata": {},
   "outputs": [
    {
     "name": "stderr",
     "output_type": "stream",
     "text": [
      "100%|█████████████████████████████████████████████| 3/3 [02:31<00:00, 50.64s/it]\n"
     ]
    }
   ],
   "source": [
    "def list_col_preproc(text):\n",
    "    if pd.isna(text):\n",
    "        return []\n",
    "    if isinstance(text, list):\n",
    "        return text\n",
    "    if \"[\" in text:\n",
    "        text = eval(text)\n",
    "    else:\n",
    "        text = text.split(\",\")\n",
    "    lst = [x.strip() for x in text]\n",
    "    return lst\n",
    "\n",
    "\n",
    "PREPROC_CONFIG[\"list_OHE_preproc\"] = {}\n",
    "for col in tqdm([\"required_drive_license\", \"social_protected_ids\", \"vacancy_benefit_ids\"]):\n",
    "    df[col] = df[col].map(list_col_preproc)\n",
    "    uniq_values = set(sum(df[col].tolist(), []))\n",
    "    for l in uniq_values:\n",
    "        df[f\"{col}_type_{l}\"] = df[col].map(lambda x: l in x)\n",
    "    df.drop(col, axis=1, inplace=True)\n",
    "    PREPROC_CONFIG[\"list_OHE_preproc\"][col] = uniq_values"
   ]
  },
  {
   "cell_type": "code",
   "execution_count": 14,
   "id": "1f4de260",
   "metadata": {},
   "outputs": [],
   "source": [
    "# сделаем признак, есть ли в текст в полях, где он может быть\n",
    "\n",
    "potential_none_texts = [\"additional_requirements\", \"other_vacancy_benefit\", \"position_requirements\",\n",
    "                        \"position_responsibilities\", \"required_certificates\", \"education_speciality\"]\n",
    "for col in potential_none_texts:\n",
    "    df[f\"have_{col}\"] = df[col].isna()"
   ]
  },
  {
   "cell_type": "code",
   "execution_count": 15,
   "id": "9163ee10",
   "metadata": {},
   "outputs": [],
   "source": [
    "# преобразуем список хард скиллы в слитный текст для дальнейшей работы как с текстовой фичей\n",
    "\n",
    "df[\"hardSkills\"] = df[\"hardSkills\"].map(lambda x: [k[\"hard_skill_name\"] for k in eval(x)])\n",
    "df[\"hardSkills\"] = df[\"hardSkills\"].map(lambda x: \" \".join(x))\n",
    "\n",
    "df[\"softSkills\"] = df[\"softSkills\"].map(lambda x: [k[\"soft_skill_name\"] for k in eval(x)])\n",
    "df[\"softSkills\"] = df[\"softSkills\"].map(lambda x: \" \".join(x))"
   ]
  },
  {
   "cell_type": "code",
   "execution_count": 16,
   "id": "49fb7e84",
   "metadata": {},
   "outputs": [],
   "source": [
    "# создадим списки со всеми категориальными и текстовыми столбцами\n",
    "\n",
    "cat_features = [\"academic_degree\", \"accommodation_capability\", \"busy_type\", \"career_perspective\",\n",
    "                \"code_professional_sphere\", \"contact_source\", \"education\", \"is_mobility_program\",\n",
    "                \"is_uzbekistan_recruitment\", \"is_quoted\", \"need_medcard\", \"okso_code\", \n",
    "                \"accommodation_type\", \"additional_requirements\", \"bonus_type\", \"measure_type\",\n",
    "                \"regionName\", \"retraining_capability\", \"retraining_grant\", \"schedule_type\",\n",
    "                \"status\", \"source_type\", \"transport_compensation\", \"professionalSphereName\",\n",
    "                \"federalDistrictCode\", \"company_business_size\"\n",
    "               ]\n",
    "\n",
    "text_features=  [\"additional_requirements\", \"education_speciality\", \"other_vacancy_benefit\",\n",
    "                 \"position_requirements\", \"position_responsibilities\", \"required_certificates\",\n",
    "                \"vacancy_name\", \"full_company_name\", \"hardSkills\", \"softSkills\"]"
   ]
  },
  {
   "cell_type": "markdown",
   "id": "69a6f881",
   "metadata": {},
   "source": [
    "  "
   ]
  },
  {
   "cell_type": "markdown",
   "id": "7b6d43ee",
   "metadata": {},
   "source": [
    "## Предобработка текста"
   ]
  },
  {
   "cell_type": "code",
   "execution_count": 17,
   "id": "5d6b3873",
   "metadata": {},
   "outputs": [],
   "source": [
    "# сконкатинируем все текстовые признаки в один длинный текст, который затем будет векторизировать\n",
    "\n",
    "df[\"full_text\"] = \"\"\n",
    "for c in text_features:\n",
    "    df[\"full_text\"] += \" \" + df[c].fillna(\"\")"
   ]
  },
  {
   "cell_type": "code",
   "execution_count": 18,
   "id": "8629776b",
   "metadata": {},
   "outputs": [],
   "source": [
    "# напишем функцию для стандартного препроцессинга, включающую в себя удаление лишних символов и лемматизацию\n",
    "\n",
    "\n",
    "def base_preproc(text):\n",
    "    text = text.replace(\",\", \" \").strip().lower()\n",
    "    text = re.sub(' +', ' ', text)\n",
    "    text = \"\".join([x for x in text if not x.isdigit()])\n",
    "    \n",
    "    text = \" \".join(\n",
    "        [morph.parse(word)[0].normal_form for word in text.split() if word not in russian_stopwords])\n",
    "    return text"
   ]
  },
  {
   "cell_type": "code",
   "execution_count": 19,
   "id": "219f3947",
   "metadata": {},
   "outputs": [
    {
     "name": "stderr",
     "output_type": "stream",
     "text": [
      "100%|██████████████████████████████████| 614629/614629 [51:54<00:00, 197.33it/s]\n"
     ]
    }
   ],
   "source": [
    "preproc_text = []\n",
    "for txt in tqdm(df[\"full_text\"]):\n",
    "    preproc_text.append(base_preproc(txt))"
   ]
  },
  {
   "cell_type": "code",
   "execution_count": 20,
   "id": "de917657",
   "metadata": {},
   "outputs": [],
   "source": [
    "df[\"full_text\"] = preproc_text"
   ]
  },
  {
   "cell_type": "markdown",
   "id": "e02ae214",
   "metadata": {},
   "source": [
    "  "
   ]
  },
  {
   "cell_type": "markdown",
   "id": "a9ae6f15",
   "metadata": {},
   "source": [
    "## Векторизационные модели"
   ]
  },
  {
   "cell_type": "markdown",
   "id": "1ea36f6b",
   "metadata": {},
   "source": [
    "Обучим на полученном предобработанном тексте tfidf для создания интерпретируемых для модели статистических признаков. Гипотеза в том, что важные текстовые признаки эффективно описываются с помощью частотности определенных слов, которую можно получить с помощью tfidf."
   ]
  },
  {
   "cell_type": "code",
   "execution_count": 21,
   "id": "62984fe1",
   "metadata": {},
   "outputs": [],
   "source": [
    "FEATURES_COUNT = 650\n",
    "\n",
    "tfidf = TfidfVectorizer(max_features=FEATURES_COUNT).fit(preproc_text)\n",
    "vector = tfidf.transform(preproc_text)\n",
    "PREPROC_CONFIG[\"text_vectorizer\"] = tfidf\n",
    "\n",
    "vector = pd.DataFrame(vector.toarray(), columns=[f\"text_embed_{i}\" for i in range(FEATURES_COUNT)])\n",
    "df = pd.concat([df, vector], axis=1, ignore_index=False).dropna(subset=[\"salary\"])"
   ]
  },
  {
   "cell_type": "code",
   "execution_count": null,
   "id": "543ebe6f",
   "metadata": {},
   "outputs": [],
   "source": []
  },
  {
   "cell_type": "code",
   "execution_count": 22,
   "id": "870678a5",
   "metadata": {},
   "outputs": [],
   "source": [
    "cols_for_aggregation = [\"code_professional_sphere\", \"regionName\", \"busy_type\", \"education\"]\n",
    "\n",
    "PREPROC_CONFIG[\"salary_aggregators\"] = {}\n",
    "for col in cols_for_aggregation:\n",
    "    col_dct = {}\n",
    "    for e in df[col].unique():\n",
    "        tmp = df[df[col] == e]\n",
    "        min_, max_, med_, mean_ = tmp[\"salary\"].min(), tmp[\"salary\"].max(), tmp[\"salary\"].median(), tmp[\"salary\"].mean()\n",
    "        col_dct[e] = [min_, max_, med_, mean_]\n",
    "    df[f\"min_{col}_salary\"] = df[col].map(lambda x: col_dct[x][0])\n",
    "    df[f\"max_{col}_salary\"] = df[col].map(lambda x: col_dct[x][1])\n",
    "    df[f\"med_{col}_salary\"] = df[col].map(lambda x: col_dct[x][2])\n",
    "    df[f\"mean_{col}_salary\"] = df[col].map(lambda x: col_dct[x][3])\n",
    "    \n",
    "    PREPROC_CONFIG[\"salary_aggregators\"][col] = col_dct"
   ]
  },
  {
   "cell_type": "code",
   "execution_count": 23,
   "id": "942ee317",
   "metadata": {},
   "outputs": [],
   "source": [
    "# на основе используемых аггрегаторов посчита\n",
    "\n",
    "t = [\"mean\" in x for x in df.columns.tolist()]\n",
    "df[\"nearest_mean_sal\"] = df[df.columns[t]].mean(axis=1)"
   ]
  },
  {
   "cell_type": "code",
   "execution_count": null,
   "id": "ffc3a99a",
   "metadata": {},
   "outputs": [],
   "source": []
  },
  {
   "cell_type": "code",
   "execution_count": 24,
   "id": "b5ed1f1e",
   "metadata": {},
   "outputs": [],
   "source": [
    "df[\"vacancy_address_latitude\"] = df[\"vacancy_address_latitude\"].fillna(df[\"vacancy_address_latitude\"].mean())\n",
    "df[\"vacancy_address_longitude\"] = df[\"vacancy_address_longitude\"].fillna(df[\"vacancy_address_longitude\"].mean())"
   ]
  },
  {
   "cell_type": "code",
   "execution_count": 25,
   "id": "badcb62b",
   "metadata": {},
   "outputs": [],
   "source": [
    "float_f = [x for x in list(set(df.columns[df.dtypes == float]) - set(cat_features)) if \"text\" not in x]\n",
    "for_rescale = [\"work_places\", \"additional_premium\", \n",
    " \"vacancy_address_longitude\",\n",
    " \"required_experience\", \"vacancy_address_latitude\"] + [x for x in float_f if \"sal\" in x]\n",
    "for f in for_rescale:\n",
    "    df[f] = np.log(df[f])\n",
    "    \n",
    "df = df.fillna(0)"
   ]
  },
  {
   "cell_type": "code",
   "execution_count": 26,
   "id": "6cf4222b",
   "metadata": {},
   "outputs": [],
   "source": [
    "cat_features = list(set(cat_features) - set(text_features))\n",
    "df[cat_features] = df[cat_features].map(lambda x: str(x))\n",
    "\n",
    "df.drop(text_features, axis=1, inplace=True)\n",
    "df.drop(\"full_text\", axis=1, inplace=True)"
   ]
  },
  {
   "cell_type": "code",
   "execution_count": null,
   "id": "db72bfcc",
   "metadata": {},
   "outputs": [],
   "source": []
  },
  {
   "cell_type": "code",
   "execution_count": 32,
   "id": "89dafe4b",
   "metadata": {},
   "outputs": [],
   "source": [
    "X_train, X_valid, y_train, y_valid = train_test_split(df.drop(\"salary\", axis=1), df[\"salary\"],\n",
    "                                                      test_size=0.15)"
   ]
  },
  {
   "cell_type": "code",
   "execution_count": 33,
   "id": "d127e4fd",
   "metadata": {},
   "outputs": [],
   "source": [
    "train_pool = Pool(X_train, y_train, cat_features=cat_features)\n",
    "valid_pool = Pool(X_valid, y_valid, cat_features=cat_features)"
   ]
  },
  {
   "cell_type": "code",
   "execution_count": null,
   "id": "5716c3c2",
   "metadata": {},
   "outputs": [],
   "source": []
  },
  {
   "cell_type": "code",
   "execution_count": 34,
   "id": "1e40bdc2",
   "metadata": {
    "scrolled": true
   },
   "outputs": [
    {
     "name": "stdout",
     "output_type": "stream",
     "text": [
      "Learning rate set to 0.136028\n",
      "0:\tlearn: 0.4636218\ttest: 0.4645702\tbest: 0.4645702 (0)\ttotal: 1.12s\tremaining: 18m 37s\n",
      "1:\tlearn: 0.4418826\ttest: 0.4430555\tbest: 0.4430555 (1)\ttotal: 2s\tremaining: 16m 38s\n",
      "2:\tlearn: 0.4243846\ttest: 0.4257486\tbest: 0.4257486 (2)\ttotal: 2.96s\tremaining: 16m 22s\n",
      "3:\tlearn: 0.4104805\ttest: 0.4120454\tbest: 0.4120454 (3)\ttotal: 3.8s\tremaining: 15m 47s\n",
      "4:\tlearn: 0.3993361\ttest: 0.4010873\tbest: 0.4010873 (4)\ttotal: 4.66s\tremaining: 15m 27s\n",
      "5:\tlearn: 0.3906573\ttest: 0.3925205\tbest: 0.3925205 (5)\ttotal: 5.49s\tremaining: 15m 8s\n",
      "6:\tlearn: 0.3830807\ttest: 0.3850622\tbest: 0.3850622 (6)\ttotal: 6.16s\tremaining: 14m 34s\n",
      "7:\tlearn: 0.3773326\ttest: 0.3794573\tbest: 0.3794573 (7)\ttotal: 6.87s\tremaining: 14m 11s\n",
      "8:\tlearn: 0.3720703\ttest: 0.3742931\tbest: 0.3742931 (8)\ttotal: 7.71s\tremaining: 14m 9s\n",
      "9:\tlearn: 0.3681901\ttest: 0.3705046\tbest: 0.3705046 (9)\ttotal: 8.62s\tremaining: 14m 13s\n",
      "10:\tlearn: 0.3649501\ttest: 0.3673787\tbest: 0.3673787 (10)\ttotal: 9.42s\tremaining: 14m 7s\n",
      "11:\tlearn: 0.3621288\ttest: 0.3646134\tbest: 0.3646134 (11)\ttotal: 10.1s\tremaining: 13m 54s\n",
      "12:\tlearn: 0.3599236\ttest: 0.3624753\tbest: 0.3624753 (12)\ttotal: 11s\tremaining: 13m 57s\n",
      "13:\tlearn: 0.3580449\ttest: 0.3606508\tbest: 0.3606508 (13)\ttotal: 11.7s\tremaining: 13m 44s\n",
      "14:\tlearn: 0.3556632\ttest: 0.3583251\tbest: 0.3583251 (14)\ttotal: 12.7s\tremaining: 13m 57s\n",
      "15:\tlearn: 0.3542005\ttest: 0.3569178\tbest: 0.3569178 (15)\ttotal: 13.6s\tremaining: 13m 55s\n",
      "16:\tlearn: 0.3529033\ttest: 0.3556608\tbest: 0.3556608 (16)\ttotal: 14.4s\tremaining: 13m 55s\n",
      "17:\tlearn: 0.3514876\ttest: 0.3541898\tbest: 0.3541898 (17)\ttotal: 15.2s\tremaining: 13m 51s\n",
      "18:\tlearn: 0.3502649\ttest: 0.3529348\tbest: 0.3529348 (18)\ttotal: 16.1s\tremaining: 13m 51s\n",
      "19:\tlearn: 0.3485319\ttest: 0.3512504\tbest: 0.3512504 (19)\ttotal: 17.1s\tremaining: 13m 57s\n",
      "20:\tlearn: 0.3471483\ttest: 0.3498866\tbest: 0.3498866 (20)\ttotal: 17.9s\tremaining: 13m 56s\n",
      "21:\tlearn: 0.3461397\ttest: 0.3489120\tbest: 0.3489120 (21)\ttotal: 18.9s\tremaining: 13m 58s\n",
      "22:\tlearn: 0.3453294\ttest: 0.3481290\tbest: 0.3481290 (22)\ttotal: 19.7s\tremaining: 13m 56s\n",
      "23:\tlearn: 0.3446178\ttest: 0.3474350\tbest: 0.3474350 (23)\ttotal: 20.8s\tremaining: 14m 5s\n",
      "24:\tlearn: 0.3437939\ttest: 0.3466118\tbest: 0.3466118 (24)\ttotal: 21.8s\tremaining: 14m 8s\n",
      "25:\tlearn: 0.3430167\ttest: 0.3458557\tbest: 0.3458557 (25)\ttotal: 22.7s\tremaining: 14m 12s\n",
      "26:\tlearn: 0.3424543\ttest: 0.3453368\tbest: 0.3453368 (26)\ttotal: 23.6s\tremaining: 14m 9s\n",
      "27:\tlearn: 0.3418387\ttest: 0.3447522\tbest: 0.3447522 (27)\ttotal: 24.6s\tremaining: 14m 13s\n",
      "28:\tlearn: 0.3411560\ttest: 0.3440833\tbest: 0.3440833 (28)\ttotal: 25.6s\tremaining: 14m 17s\n",
      "29:\tlearn: 0.3407095\ttest: 0.3436627\tbest: 0.3436627 (29)\ttotal: 26.7s\tremaining: 14m 24s\n",
      "30:\tlearn: 0.3401349\ttest: 0.3431156\tbest: 0.3431156 (30)\ttotal: 27.7s\tremaining: 14m 24s\n",
      "31:\tlearn: 0.3393349\ttest: 0.3423411\tbest: 0.3423411 (31)\ttotal: 28.6s\tremaining: 14m 25s\n",
      "32:\tlearn: 0.3384907\ttest: 0.3414872\tbest: 0.3414872 (32)\ttotal: 29.7s\tremaining: 14m 31s\n",
      "33:\tlearn: 0.3378766\ttest: 0.3408572\tbest: 0.3408572 (33)\ttotal: 30.9s\tremaining: 14m 37s\n",
      "34:\tlearn: 0.3371448\ttest: 0.3400769\tbest: 0.3400769 (34)\ttotal: 32.1s\tremaining: 14m 46s\n",
      "35:\tlearn: 0.3365790\ttest: 0.3395232\tbest: 0.3395232 (35)\ttotal: 33.2s\tremaining: 14m 48s\n",
      "36:\tlearn: 0.3361627\ttest: 0.3390902\tbest: 0.3390902 (36)\ttotal: 34.1s\tremaining: 14m 47s\n",
      "37:\tlearn: 0.3356575\ttest: 0.3385799\tbest: 0.3385799 (37)\ttotal: 35.3s\tremaining: 14m 53s\n",
      "38:\tlearn: 0.3350564\ttest: 0.3380088\tbest: 0.3380088 (38)\ttotal: 36.3s\tremaining: 14m 53s\n",
      "39:\tlearn: 0.3344988\ttest: 0.3374604\tbest: 0.3374604 (39)\ttotal: 37.4s\tremaining: 14m 58s\n",
      "40:\tlearn: 0.3341170\ttest: 0.3370751\tbest: 0.3370751 (40)\ttotal: 38.5s\tremaining: 15m\n",
      "41:\tlearn: 0.3337261\ttest: 0.3366871\tbest: 0.3366871 (41)\ttotal: 39.6s\tremaining: 15m 3s\n",
      "42:\tlearn: 0.3334180\ttest: 0.3363717\tbest: 0.3363717 (42)\ttotal: 40.6s\tremaining: 15m 2s\n",
      "43:\tlearn: 0.3331041\ttest: 0.3360601\tbest: 0.3360601 (43)\ttotal: 41.6s\tremaining: 15m 2s\n",
      "44:\tlearn: 0.3327450\ttest: 0.3357053\tbest: 0.3357053 (44)\ttotal: 42.7s\tremaining: 15m 5s\n",
      "45:\tlearn: 0.3323899\ttest: 0.3353609\tbest: 0.3353609 (45)\ttotal: 43.7s\tremaining: 15m 6s\n",
      "46:\tlearn: 0.3320362\ttest: 0.3349938\tbest: 0.3349938 (46)\ttotal: 44.7s\tremaining: 15m 5s\n",
      "47:\tlearn: 0.3316374\ttest: 0.3345737\tbest: 0.3345737 (47)\ttotal: 45.8s\tremaining: 15m 7s\n",
      "48:\tlearn: 0.3312270\ttest: 0.3341821\tbest: 0.3341821 (48)\ttotal: 46.8s\tremaining: 15m 7s\n",
      "49:\tlearn: 0.3308894\ttest: 0.3338874\tbest: 0.3338874 (49)\ttotal: 47.5s\tremaining: 15m 3s\n",
      "50:\tlearn: 0.3305670\ttest: 0.3335881\tbest: 0.3335881 (50)\ttotal: 48.4s\tremaining: 15m\n",
      "51:\tlearn: 0.3303281\ttest: 0.3333609\tbest: 0.3333609 (51)\ttotal: 49.4s\tremaining: 15m\n",
      "52:\tlearn: 0.3301163\ttest: 0.3331630\tbest: 0.3331630 (52)\ttotal: 50.3s\tremaining: 14m 59s\n",
      "53:\tlearn: 0.3298111\ttest: 0.3328693\tbest: 0.3328693 (53)\ttotal: 51.5s\tremaining: 15m 2s\n",
      "54:\tlearn: 0.3295475\ttest: 0.3326199\tbest: 0.3326199 (54)\ttotal: 52.5s\tremaining: 15m 1s\n",
      "55:\tlearn: 0.3293764\ttest: 0.3324461\tbest: 0.3324461 (55)\ttotal: 53.4s\tremaining: 15m\n",
      "56:\tlearn: 0.3288892\ttest: 0.3319566\tbest: 0.3319566 (56)\ttotal: 54.5s\tremaining: 15m 1s\n",
      "57:\tlearn: 0.3284800\ttest: 0.3315465\tbest: 0.3315465 (57)\ttotal: 55.8s\tremaining: 15m 6s\n",
      "58:\tlearn: 0.3282147\ttest: 0.3312696\tbest: 0.3312696 (58)\ttotal: 56.8s\tremaining: 15m 5s\n",
      "59:\tlearn: 0.3278299\ttest: 0.3308685\tbest: 0.3308685 (59)\ttotal: 58.2s\tremaining: 15m 11s\n",
      "60:\tlearn: 0.3276444\ttest: 0.3306996\tbest: 0.3306996 (60)\ttotal: 59.1s\tremaining: 15m 10s\n",
      "61:\tlearn: 0.3274316\ttest: 0.3305068\tbest: 0.3305068 (61)\ttotal: 1m\tremaining: 15m 11s\n",
      "62:\tlearn: 0.3271353\ttest: 0.3302090\tbest: 0.3302090 (62)\ttotal: 1m 1s\tremaining: 15m 13s\n",
      "63:\tlearn: 0.3269731\ttest: 0.3300516\tbest: 0.3300516 (63)\ttotal: 1m 2s\tremaining: 15m 16s\n",
      "64:\tlearn: 0.3267086\ttest: 0.3297657\tbest: 0.3297657 (64)\ttotal: 1m 3s\tremaining: 15m 19s\n",
      "65:\tlearn: 0.3264318\ttest: 0.3295234\tbest: 0.3295234 (65)\ttotal: 1m 5s\tremaining: 15m 20s\n",
      "66:\tlearn: 0.3261813\ttest: 0.3292759\tbest: 0.3292759 (66)\ttotal: 1m 6s\tremaining: 15m 21s\n",
      "67:\tlearn: 0.3259768\ttest: 0.3290880\tbest: 0.3290880 (67)\ttotal: 1m 7s\tremaining: 15m 20s\n",
      "68:\tlearn: 0.3257463\ttest: 0.3287915\tbest: 0.3287915 (68)\ttotal: 1m 8s\tremaining: 15m 20s\n",
      "69:\tlearn: 0.3255053\ttest: 0.3285448\tbest: 0.3285448 (69)\ttotal: 1m 9s\tremaining: 15m 19s\n",
      "70:\tlearn: 0.3253208\ttest: 0.3283788\tbest: 0.3283788 (70)\ttotal: 1m 10s\tremaining: 15m 24s\n",
      "71:\tlearn: 0.3250442\ttest: 0.3280333\tbest: 0.3280333 (71)\ttotal: 1m 11s\tremaining: 15m 25s\n",
      "72:\tlearn: 0.3247814\ttest: 0.3277247\tbest: 0.3277247 (72)\ttotal: 1m 13s\tremaining: 15m 27s\n",
      "73:\tlearn: 0.3246061\ttest: 0.3275568\tbest: 0.3275568 (73)\ttotal: 1m 14s\tremaining: 15m 28s\n",
      "74:\tlearn: 0.3244040\ttest: 0.3273664\tbest: 0.3273664 (74)\ttotal: 1m 15s\tremaining: 15m 30s\n",
      "75:\tlearn: 0.3242168\ttest: 0.3271984\tbest: 0.3271984 (75)\ttotal: 1m 16s\tremaining: 15m 32s\n",
      "76:\tlearn: 0.3240170\ttest: 0.3270148\tbest: 0.3270148 (76)\ttotal: 1m 18s\tremaining: 15m 35s\n",
      "77:\tlearn: 0.3238217\ttest: 0.3268125\tbest: 0.3268125 (77)\ttotal: 1m 19s\tremaining: 15m 36s\n",
      "78:\tlearn: 0.3236044\ttest: 0.3265582\tbest: 0.3265582 (78)\ttotal: 1m 20s\tremaining: 15m 36s\n",
      "79:\tlearn: 0.3233719\ttest: 0.3263177\tbest: 0.3263177 (79)\ttotal: 1m 21s\tremaining: 15m 38s\n",
      "80:\tlearn: 0.3232456\ttest: 0.3261870\tbest: 0.3261870 (80)\ttotal: 1m 22s\tremaining: 15m 38s\n",
      "81:\tlearn: 0.3230483\ttest: 0.3260152\tbest: 0.3260152 (81)\ttotal: 1m 23s\tremaining: 15m 39s\n",
      "82:\tlearn: 0.3227772\ttest: 0.3256702\tbest: 0.3256702 (82)\ttotal: 1m 25s\tremaining: 15m 40s\n",
      "83:\tlearn: 0.3226215\ttest: 0.3255355\tbest: 0.3255355 (83)\ttotal: 1m 26s\tremaining: 15m 39s\n",
      "84:\tlearn: 0.3224050\ttest: 0.3253384\tbest: 0.3253384 (84)\ttotal: 1m 27s\tremaining: 15m 41s\n",
      "85:\tlearn: 0.3221682\ttest: 0.3251160\tbest: 0.3251160 (85)\ttotal: 1m 28s\tremaining: 15m 45s\n",
      "86:\tlearn: 0.3219759\ttest: 0.3249273\tbest: 0.3249273 (86)\ttotal: 1m 30s\tremaining: 15m 45s\n",
      "87:\tlearn: 0.3218596\ttest: 0.3248303\tbest: 0.3248303 (87)\ttotal: 1m 31s\tremaining: 15m 46s\n",
      "88:\tlearn: 0.3217659\ttest: 0.3247348\tbest: 0.3247348 (88)\ttotal: 1m 32s\tremaining: 15m 47s\n",
      "89:\tlearn: 0.3216585\ttest: 0.3246380\tbest: 0.3246380 (89)\ttotal: 1m 33s\tremaining: 15m 49s\n",
      "90:\tlearn: 0.3214708\ttest: 0.3244518\tbest: 0.3244518 (90)\ttotal: 1m 35s\tremaining: 15m 51s\n",
      "91:\tlearn: 0.3213555\ttest: 0.3243584\tbest: 0.3243584 (91)\ttotal: 1m 36s\tremaining: 15m 52s\n"
     ]
    },
    {
     "name": "stdout",
     "output_type": "stream",
     "text": [
      "92:\tlearn: 0.3212655\ttest: 0.3242788\tbest: 0.3242788 (92)\ttotal: 1m 37s\tremaining: 15m 53s\n",
      "93:\tlearn: 0.3211941\ttest: 0.3242211\tbest: 0.3242211 (93)\ttotal: 1m 38s\tremaining: 15m 52s\n",
      "94:\tlearn: 0.3209489\ttest: 0.3239706\tbest: 0.3239706 (94)\ttotal: 1m 40s\tremaining: 15m 55s\n",
      "95:\tlearn: 0.3208052\ttest: 0.3238301\tbest: 0.3238301 (95)\ttotal: 1m 41s\tremaining: 15m 57s\n",
      "96:\tlearn: 0.3207273\ttest: 0.3237585\tbest: 0.3237585 (96)\ttotal: 1m 42s\tremaining: 15m 58s\n",
      "97:\tlearn: 0.3205996\ttest: 0.3236446\tbest: 0.3236446 (97)\ttotal: 1m 44s\tremaining: 15m 59s\n",
      "98:\tlearn: 0.3204285\ttest: 0.3234874\tbest: 0.3234874 (98)\ttotal: 1m 45s\tremaining: 16m 1s\n",
      "99:\tlearn: 0.3200638\ttest: 0.3230991\tbest: 0.3230991 (99)\ttotal: 1m 47s\tremaining: 16m 3s\n",
      "100:\tlearn: 0.3198935\ttest: 0.3229213\tbest: 0.3229213 (100)\ttotal: 1m 48s\tremaining: 16m 4s\n",
      "101:\tlearn: 0.3197473\ttest: 0.3227949\tbest: 0.3227949 (101)\ttotal: 1m 49s\tremaining: 16m 6s\n",
      "102:\tlearn: 0.3196213\ttest: 0.3226524\tbest: 0.3226524 (102)\ttotal: 1m 51s\tremaining: 16m 7s\n",
      "103:\tlearn: 0.3194899\ttest: 0.3225328\tbest: 0.3225328 (103)\ttotal: 1m 52s\tremaining: 16m 8s\n",
      "104:\tlearn: 0.3192294\ttest: 0.3222422\tbest: 0.3222422 (104)\ttotal: 1m 54s\tremaining: 16m 11s\n",
      "105:\tlearn: 0.3190257\ttest: 0.3220607\tbest: 0.3220607 (105)\ttotal: 1m 55s\tremaining: 16m 12s\n",
      "106:\tlearn: 0.3188905\ttest: 0.3219269\tbest: 0.3219269 (106)\ttotal: 1m 56s\tremaining: 16m 14s\n",
      "107:\tlearn: 0.3187312\ttest: 0.3217746\tbest: 0.3217746 (107)\ttotal: 1m 58s\tremaining: 16m 16s\n",
      "108:\tlearn: 0.3186467\ttest: 0.3217020\tbest: 0.3217020 (108)\ttotal: 1m 59s\tremaining: 16m 16s\n",
      "109:\tlearn: 0.3184767\ttest: 0.3215584\tbest: 0.3215584 (109)\ttotal: 2m\tremaining: 16m 17s\n",
      "110:\tlearn: 0.3182685\ttest: 0.3213591\tbest: 0.3213591 (110)\ttotal: 2m 2s\tremaining: 16m 21s\n",
      "111:\tlearn: 0.3181104\ttest: 0.3211751\tbest: 0.3211751 (111)\ttotal: 2m 4s\tremaining: 16m 23s\n",
      "112:\tlearn: 0.3180032\ttest: 0.3210876\tbest: 0.3210876 (112)\ttotal: 2m 5s\tremaining: 16m 25s\n",
      "113:\tlearn: 0.3178807\ttest: 0.3209112\tbest: 0.3209112 (113)\ttotal: 2m 6s\tremaining: 16m 26s\n",
      "114:\tlearn: 0.3177077\ttest: 0.3207353\tbest: 0.3207353 (114)\ttotal: 2m 8s\tremaining: 16m 29s\n",
      "115:\tlearn: 0.3175194\ttest: 0.3205661\tbest: 0.3205661 (115)\ttotal: 2m 10s\tremaining: 16m 31s\n",
      "116:\tlearn: 0.3173767\ttest: 0.3204352\tbest: 0.3204352 (116)\ttotal: 2m 11s\tremaining: 16m 32s\n",
      "117:\tlearn: 0.3172668\ttest: 0.3203378\tbest: 0.3203378 (117)\ttotal: 2m 12s\tremaining: 16m 33s\n",
      "118:\tlearn: 0.3170103\ttest: 0.3200563\tbest: 0.3200563 (118)\ttotal: 2m 14s\tremaining: 16m 36s\n",
      "119:\tlearn: 0.3168665\ttest: 0.3199318\tbest: 0.3199318 (119)\ttotal: 2m 16s\tremaining: 16m 38s\n",
      "120:\tlearn: 0.3167781\ttest: 0.3198475\tbest: 0.3198475 (120)\ttotal: 2m 17s\tremaining: 16m 40s\n",
      "121:\tlearn: 0.3166391\ttest: 0.3196929\tbest: 0.3196929 (121)\ttotal: 2m 19s\tremaining: 16m 41s\n",
      "122:\tlearn: 0.3165261\ttest: 0.3195842\tbest: 0.3195842 (122)\ttotal: 2m 20s\tremaining: 16m 43s\n",
      "123:\tlearn: 0.3163629\ttest: 0.3193823\tbest: 0.3193823 (123)\ttotal: 2m 22s\tremaining: 16m 43s\n",
      "124:\tlearn: 0.3162640\ttest: 0.3192913\tbest: 0.3192913 (124)\ttotal: 2m 23s\tremaining: 16m 44s\n",
      "125:\tlearn: 0.3160942\ttest: 0.3190818\tbest: 0.3190818 (125)\ttotal: 2m 25s\tremaining: 16m 46s\n",
      "126:\tlearn: 0.3157965\ttest: 0.3187334\tbest: 0.3187334 (126)\ttotal: 2m 26s\tremaining: 16m 46s\n",
      "127:\tlearn: 0.3156349\ttest: 0.3185710\tbest: 0.3185710 (127)\ttotal: 2m 27s\tremaining: 16m 46s\n",
      "128:\tlearn: 0.3154587\ttest: 0.3183897\tbest: 0.3183897 (128)\ttotal: 2m 29s\tremaining: 16m 47s\n",
      "129:\tlearn: 0.3152968\ttest: 0.3182450\tbest: 0.3182450 (129)\ttotal: 2m 30s\tremaining: 16m 47s\n",
      "130:\tlearn: 0.3151923\ttest: 0.3181503\tbest: 0.3181503 (130)\ttotal: 2m 31s\tremaining: 16m 46s\n",
      "131:\tlearn: 0.3150983\ttest: 0.3180638\tbest: 0.3180638 (131)\ttotal: 2m 33s\tremaining: 16m 48s\n",
      "132:\tlearn: 0.3149890\ttest: 0.3179597\tbest: 0.3179597 (132)\ttotal: 2m 34s\tremaining: 16m 47s\n",
      "133:\tlearn: 0.3147911\ttest: 0.3177453\tbest: 0.3177453 (133)\ttotal: 2m 36s\tremaining: 16m 48s\n",
      "134:\tlearn: 0.3146727\ttest: 0.3176396\tbest: 0.3176396 (134)\ttotal: 2m 37s\tremaining: 16m 48s\n",
      "135:\tlearn: 0.3145460\ttest: 0.3175367\tbest: 0.3175367 (135)\ttotal: 2m 39s\tremaining: 16m 50s\n",
      "136:\tlearn: 0.3143733\ttest: 0.3173789\tbest: 0.3173789 (136)\ttotal: 2m 40s\tremaining: 16m 50s\n",
      "137:\tlearn: 0.3142618\ttest: 0.3172831\tbest: 0.3172831 (137)\ttotal: 2m 41s\tremaining: 16m 49s\n",
      "138:\tlearn: 0.3140980\ttest: 0.3171258\tbest: 0.3171258 (138)\ttotal: 2m 43s\tremaining: 16m 49s\n",
      "139:\tlearn: 0.3139471\ttest: 0.3169985\tbest: 0.3169985 (139)\ttotal: 2m 44s\tremaining: 16m 49s\n",
      "140:\tlearn: 0.3138647\ttest: 0.3169317\tbest: 0.3169317 (140)\ttotal: 2m 45s\tremaining: 16m 49s\n",
      "141:\tlearn: 0.3137628\ttest: 0.3168380\tbest: 0.3168380 (141)\ttotal: 2m 47s\tremaining: 16m 49s\n",
      "142:\tlearn: 0.3136278\ttest: 0.3167101\tbest: 0.3167101 (142)\ttotal: 2m 48s\tremaining: 16m 48s\n",
      "143:\tlearn: 0.3134938\ttest: 0.3165222\tbest: 0.3165222 (143)\ttotal: 2m 49s\tremaining: 16m 48s\n",
      "144:\tlearn: 0.3133871\ttest: 0.3164392\tbest: 0.3164392 (144)\ttotal: 2m 50s\tremaining: 16m 47s\n",
      "145:\tlearn: 0.3132077\ttest: 0.3162487\tbest: 0.3162487 (145)\ttotal: 2m 52s\tremaining: 16m 47s\n",
      "146:\tlearn: 0.3130989\ttest: 0.3161565\tbest: 0.3161565 (146)\ttotal: 2m 53s\tremaining: 16m 49s\n",
      "147:\tlearn: 0.3129941\ttest: 0.3160554\tbest: 0.3160554 (147)\ttotal: 2m 55s\tremaining: 16m 51s\n",
      "148:\tlearn: 0.3128884\ttest: 0.3159625\tbest: 0.3159625 (148)\ttotal: 2m 57s\tremaining: 16m 51s\n",
      "149:\tlearn: 0.3128038\ttest: 0.3158780\tbest: 0.3158780 (149)\ttotal: 2m 58s\tremaining: 16m 51s\n",
      "150:\tlearn: 0.3127402\ttest: 0.3158259\tbest: 0.3158259 (150)\ttotal: 2m 59s\tremaining: 16m 49s\n",
      "151:\tlearn: 0.3126137\ttest: 0.3157209\tbest: 0.3157209 (151)\ttotal: 3m\tremaining: 16m 48s\n",
      "152:\tlearn: 0.3125418\ttest: 0.3156613\tbest: 0.3156613 (152)\ttotal: 3m 2s\tremaining: 16m 48s\n",
      "153:\tlearn: 0.3124648\ttest: 0.3155889\tbest: 0.3155889 (153)\ttotal: 3m 3s\tremaining: 16m 47s\n",
      "154:\tlearn: 0.3123825\ttest: 0.3155222\tbest: 0.3155222 (154)\ttotal: 3m 4s\tremaining: 16m 47s\n",
      "155:\tlearn: 0.3122298\ttest: 0.3153969\tbest: 0.3153969 (155)\ttotal: 3m 6s\tremaining: 16m 47s\n",
      "156:\tlearn: 0.3121875\ttest: 0.3153683\tbest: 0.3153683 (156)\ttotal: 3m 7s\tremaining: 16m 45s\n",
      "157:\tlearn: 0.3120317\ttest: 0.3151975\tbest: 0.3151975 (157)\ttotal: 3m 8s\tremaining: 16m 45s\n",
      "158:\tlearn: 0.3119104\ttest: 0.3150942\tbest: 0.3150942 (158)\ttotal: 3m 10s\tremaining: 16m 45s\n",
      "159:\tlearn: 0.3118320\ttest: 0.3150210\tbest: 0.3150210 (159)\ttotal: 3m 11s\tremaining: 16m 45s\n",
      "160:\tlearn: 0.3117995\ttest: 0.3149960\tbest: 0.3149960 (160)\ttotal: 3m 12s\tremaining: 16m 44s\n",
      "161:\tlearn: 0.3116923\ttest: 0.3149119\tbest: 0.3149119 (161)\ttotal: 3m 14s\tremaining: 16m 44s\n",
      "162:\tlearn: 0.3116140\ttest: 0.3148527\tbest: 0.3148527 (162)\ttotal: 3m 15s\tremaining: 16m 44s\n",
      "163:\tlearn: 0.3114952\ttest: 0.3147448\tbest: 0.3147448 (163)\ttotal: 3m 17s\tremaining: 16m 44s\n",
      "164:\tlearn: 0.3114062\ttest: 0.3146499\tbest: 0.3146499 (164)\ttotal: 3m 18s\tremaining: 16m 43s\n",
      "165:\tlearn: 0.3113067\ttest: 0.3145724\tbest: 0.3145724 (165)\ttotal: 3m 19s\tremaining: 16m 42s\n",
      "166:\tlearn: 0.3111900\ttest: 0.3144855\tbest: 0.3144855 (166)\ttotal: 3m 20s\tremaining: 16m 41s\n",
      "167:\tlearn: 0.3111043\ttest: 0.3143956\tbest: 0.3143956 (167)\ttotal: 3m 22s\tremaining: 16m 41s\n",
      "168:\tlearn: 0.3110575\ttest: 0.3143702\tbest: 0.3143702 (168)\ttotal: 3m 23s\tremaining: 16m 39s\n",
      "169:\tlearn: 0.3109712\ttest: 0.3142793\tbest: 0.3142793 (169)\ttotal: 3m 24s\tremaining: 16m 39s\n",
      "170:\tlearn: 0.3108551\ttest: 0.3141836\tbest: 0.3141836 (170)\ttotal: 3m 26s\tremaining: 16m 39s\n",
      "171:\tlearn: 0.3107856\ttest: 0.3141207\tbest: 0.3141207 (171)\ttotal: 3m 27s\tremaining: 16m 39s\n",
      "172:\tlearn: 0.3107347\ttest: 0.3140730\tbest: 0.3140730 (172)\ttotal: 3m 28s\tremaining: 16m 38s\n",
      "173:\tlearn: 0.3106225\ttest: 0.3139502\tbest: 0.3139502 (173)\ttotal: 3m 30s\tremaining: 16m 38s\n",
      "174:\tlearn: 0.3105931\ttest: 0.3139286\tbest: 0.3139286 (174)\ttotal: 3m 31s\tremaining: 16m 35s\n",
      "175:\tlearn: 0.3105192\ttest: 0.3138729\tbest: 0.3138729 (175)\ttotal: 3m 32s\tremaining: 16m 33s\n",
      "176:\tlearn: 0.3104395\ttest: 0.3138027\tbest: 0.3138027 (176)\ttotal: 3m 33s\tremaining: 16m 33s\n",
      "177:\tlearn: 0.3103645\ttest: 0.3137495\tbest: 0.3137495 (177)\ttotal: 3m 34s\tremaining: 16m 32s\n",
      "178:\tlearn: 0.3102311\ttest: 0.3136334\tbest: 0.3136334 (178)\ttotal: 3m 36s\tremaining: 16m 32s\n",
      "179:\tlearn: 0.3101172\ttest: 0.3135286\tbest: 0.3135286 (179)\ttotal: 3m 37s\tremaining: 16m 31s\n",
      "180:\tlearn: 0.3100112\ttest: 0.3134167\tbest: 0.3134167 (180)\ttotal: 3m 39s\tremaining: 16m 31s\n"
     ]
    },
    {
     "name": "stdout",
     "output_type": "stream",
     "text": [
      "181:\tlearn: 0.3099617\ttest: 0.3133814\tbest: 0.3133814 (181)\ttotal: 3m 40s\tremaining: 16m 29s\n",
      "182:\tlearn: 0.3098695\ttest: 0.3132634\tbest: 0.3132634 (182)\ttotal: 3m 41s\tremaining: 16m 29s\n",
      "183:\tlearn: 0.3098027\ttest: 0.3131978\tbest: 0.3131978 (183)\ttotal: 3m 42s\tremaining: 16m 27s\n",
      "184:\tlearn: 0.3097486\ttest: 0.3131382\tbest: 0.3131382 (184)\ttotal: 3m 44s\tremaining: 16m 27s\n",
      "185:\tlearn: 0.3096796\ttest: 0.3130802\tbest: 0.3130802 (185)\ttotal: 3m 45s\tremaining: 16m 25s\n",
      "186:\tlearn: 0.3096272\ttest: 0.3130402\tbest: 0.3130402 (186)\ttotal: 3m 46s\tremaining: 16m 24s\n",
      "187:\tlearn: 0.3095946\ttest: 0.3130206\tbest: 0.3130206 (187)\ttotal: 3m 47s\tremaining: 16m 23s\n",
      "188:\tlearn: 0.3095323\ttest: 0.3129698\tbest: 0.3129698 (188)\ttotal: 3m 48s\tremaining: 16m 22s\n",
      "189:\tlearn: 0.3093989\ttest: 0.3128284\tbest: 0.3128284 (189)\ttotal: 3m 49s\tremaining: 16m 20s\n",
      "190:\tlearn: 0.3092987\ttest: 0.3127378\tbest: 0.3127378 (190)\ttotal: 3m 51s\tremaining: 16m 19s\n",
      "191:\tlearn: 0.3092169\ttest: 0.3126482\tbest: 0.3126482 (191)\ttotal: 3m 52s\tremaining: 16m 20s\n",
      "192:\tlearn: 0.3091718\ttest: 0.3126152\tbest: 0.3126152 (192)\ttotal: 3m 54s\tremaining: 16m 19s\n",
      "193:\tlearn: 0.3091230\ttest: 0.3125652\tbest: 0.3125652 (193)\ttotal: 3m 55s\tremaining: 16m 18s\n",
      "194:\tlearn: 0.3090706\ttest: 0.3125187\tbest: 0.3125187 (194)\ttotal: 3m 57s\tremaining: 16m 18s\n",
      "195:\tlearn: 0.3090439\ttest: 0.3125084\tbest: 0.3125084 (195)\ttotal: 3m 58s\tremaining: 16m 16s\n",
      "196:\tlearn: 0.3089883\ttest: 0.3124708\tbest: 0.3124708 (196)\ttotal: 3m 59s\tremaining: 16m 16s\n",
      "197:\tlearn: 0.3089314\ttest: 0.3124226\tbest: 0.3124226 (197)\ttotal: 4m\tremaining: 16m 14s\n",
      "198:\tlearn: 0.3088901\ttest: 0.3123949\tbest: 0.3123949 (198)\ttotal: 4m 1s\tremaining: 16m 13s\n",
      "199:\tlearn: 0.3088130\ttest: 0.3123241\tbest: 0.3123241 (199)\ttotal: 4m 3s\tremaining: 16m 12s\n",
      "200:\tlearn: 0.3087969\ttest: 0.3123217\tbest: 0.3123217 (200)\ttotal: 4m 4s\tremaining: 16m 11s\n",
      "201:\tlearn: 0.3087326\ttest: 0.3122752\tbest: 0.3122752 (201)\ttotal: 4m 5s\tremaining: 16m 10s\n",
      "202:\tlearn: 0.3086693\ttest: 0.3122207\tbest: 0.3122207 (202)\ttotal: 4m 6s\tremaining: 16m 9s\n",
      "203:\tlearn: 0.3085863\ttest: 0.3121457\tbest: 0.3121457 (203)\ttotal: 4m 8s\tremaining: 16m 8s\n",
      "204:\tlearn: 0.3084861\ttest: 0.3120637\tbest: 0.3120637 (204)\ttotal: 4m 9s\tremaining: 16m 6s\n",
      "205:\tlearn: 0.3084098\ttest: 0.3120126\tbest: 0.3120126 (205)\ttotal: 4m 10s\tremaining: 16m 5s\n",
      "206:\tlearn: 0.3083868\ttest: 0.3120043\tbest: 0.3120043 (206)\ttotal: 4m 11s\tremaining: 16m 4s\n",
      "207:\tlearn: 0.3083450\ttest: 0.3119811\tbest: 0.3119811 (207)\ttotal: 4m 12s\tremaining: 16m 2s\n",
      "208:\tlearn: 0.3082808\ttest: 0.3119155\tbest: 0.3119155 (208)\ttotal: 4m 14s\tremaining: 16m 2s\n",
      "209:\tlearn: 0.3082189\ttest: 0.3118498\tbest: 0.3118498 (209)\ttotal: 4m 15s\tremaining: 16m 1s\n",
      "210:\tlearn: 0.3081427\ttest: 0.3117893\tbest: 0.3117893 (210)\ttotal: 4m 16s\tremaining: 16m\n",
      "211:\tlearn: 0.3080678\ttest: 0.3117216\tbest: 0.3117216 (211)\ttotal: 4m 18s\tremaining: 15m 59s\n",
      "212:\tlearn: 0.3080083\ttest: 0.3116777\tbest: 0.3116777 (212)\ttotal: 4m 19s\tremaining: 15m 58s\n",
      "213:\tlearn: 0.3079840\ttest: 0.3116765\tbest: 0.3116765 (213)\ttotal: 4m 20s\tremaining: 15m 56s\n",
      "214:\tlearn: 0.3079092\ttest: 0.3116010\tbest: 0.3116010 (214)\ttotal: 4m 22s\tremaining: 15m 56s\n",
      "215:\tlearn: 0.3078619\ttest: 0.3115616\tbest: 0.3115616 (215)\ttotal: 4m 23s\tremaining: 15m 55s\n",
      "216:\tlearn: 0.3077812\ttest: 0.3114955\tbest: 0.3114955 (216)\ttotal: 4m 24s\tremaining: 15m 54s\n",
      "217:\tlearn: 0.3076328\ttest: 0.3113212\tbest: 0.3113212 (217)\ttotal: 4m 25s\tremaining: 15m 53s\n",
      "218:\tlearn: 0.3075883\ttest: 0.3112810\tbest: 0.3112810 (218)\ttotal: 4m 26s\tremaining: 15m 52s\n",
      "219:\tlearn: 0.3074997\ttest: 0.3112034\tbest: 0.3112034 (219)\ttotal: 4m 28s\tremaining: 15m 50s\n",
      "220:\tlearn: 0.3074254\ttest: 0.3111469\tbest: 0.3111469 (220)\ttotal: 4m 29s\tremaining: 15m 48s\n",
      "221:\tlearn: 0.3073609\ttest: 0.3110909\tbest: 0.3110909 (221)\ttotal: 4m 30s\tremaining: 15m 47s\n",
      "222:\tlearn: 0.3072569\ttest: 0.3109973\tbest: 0.3109973 (222)\ttotal: 4m 31s\tremaining: 15m 46s\n",
      "223:\tlearn: 0.3072330\ttest: 0.3109986\tbest: 0.3109973 (222)\ttotal: 4m 32s\tremaining: 15m 44s\n",
      "224:\tlearn: 0.3072147\ttest: 0.3109982\tbest: 0.3109973 (222)\ttotal: 4m 33s\tremaining: 15m 43s\n",
      "225:\tlearn: 0.3071279\ttest: 0.3108956\tbest: 0.3108956 (225)\ttotal: 4m 35s\tremaining: 15m 42s\n",
      "226:\tlearn: 0.3070311\ttest: 0.3108021\tbest: 0.3108021 (226)\ttotal: 4m 36s\tremaining: 15m 41s\n",
      "227:\tlearn: 0.3070071\ttest: 0.3107963\tbest: 0.3107963 (227)\ttotal: 4m 37s\tremaining: 15m 40s\n",
      "228:\tlearn: 0.3069868\ttest: 0.3107952\tbest: 0.3107952 (228)\ttotal: 4m 39s\tremaining: 15m 39s\n",
      "229:\tlearn: 0.3069627\ttest: 0.3107838\tbest: 0.3107838 (229)\ttotal: 4m 40s\tremaining: 15m 38s\n",
      "230:\tlearn: 0.3068867\ttest: 0.3107476\tbest: 0.3107476 (230)\ttotal: 4m 41s\tremaining: 15m 37s\n",
      "231:\tlearn: 0.3068501\ttest: 0.3107346\tbest: 0.3107346 (231)\ttotal: 4m 42s\tremaining: 15m 36s\n",
      "232:\tlearn: 0.3066481\ttest: 0.3105111\tbest: 0.3105111 (232)\ttotal: 4m 44s\tremaining: 15m 36s\n",
      "233:\tlearn: 0.3065738\ttest: 0.3104527\tbest: 0.3104527 (233)\ttotal: 4m 45s\tremaining: 15m 36s\n",
      "234:\tlearn: 0.3065153\ttest: 0.3104010\tbest: 0.3104010 (234)\ttotal: 4m 47s\tremaining: 15m 36s\n",
      "235:\tlearn: 0.3063801\ttest: 0.3102886\tbest: 0.3102886 (235)\ttotal: 4m 49s\tremaining: 15m 35s\n",
      "236:\tlearn: 0.3063044\ttest: 0.3102349\tbest: 0.3102349 (236)\ttotal: 4m 50s\tremaining: 15m 36s\n",
      "237:\tlearn: 0.3062070\ttest: 0.3101488\tbest: 0.3101488 (237)\ttotal: 4m 52s\tremaining: 15m 36s\n",
      "238:\tlearn: 0.3061883\ttest: 0.3101401\tbest: 0.3101401 (238)\ttotal: 4m 54s\tremaining: 15m 36s\n",
      "239:\tlearn: 0.3061713\ttest: 0.3101341\tbest: 0.3101341 (239)\ttotal: 4m 55s\tremaining: 15m 34s\n",
      "240:\tlearn: 0.3061514\ttest: 0.3101278\tbest: 0.3101278 (240)\ttotal: 4m 56s\tremaining: 15m 34s\n",
      "241:\tlearn: 0.3061225\ttest: 0.3101089\tbest: 0.3101089 (241)\ttotal: 4m 57s\tremaining: 15m 32s\n",
      "242:\tlearn: 0.3059883\ttest: 0.3099498\tbest: 0.3099498 (242)\ttotal: 4m 59s\tremaining: 15m 33s\n",
      "243:\tlearn: 0.3058479\ttest: 0.3097780\tbest: 0.3097780 (243)\ttotal: 5m 1s\tremaining: 15m 33s\n",
      "244:\tlearn: 0.3057758\ttest: 0.3097237\tbest: 0.3097237 (244)\ttotal: 5m 2s\tremaining: 15m 33s\n",
      "245:\tlearn: 0.3056899\ttest: 0.3096282\tbest: 0.3096282 (245)\ttotal: 5m 4s\tremaining: 15m 33s\n",
      "246:\tlearn: 0.3055788\ttest: 0.3094891\tbest: 0.3094891 (246)\ttotal: 5m 5s\tremaining: 15m 32s\n",
      "247:\tlearn: 0.3055010\ttest: 0.3094344\tbest: 0.3094344 (247)\ttotal: 5m 7s\tremaining: 15m 32s\n",
      "248:\tlearn: 0.3054319\ttest: 0.3093824\tbest: 0.3093824 (248)\ttotal: 5m 9s\tremaining: 15m 32s\n",
      "249:\tlearn: 0.3053939\ttest: 0.3093540\tbest: 0.3093540 (249)\ttotal: 5m 10s\tremaining: 15m 31s\n",
      "250:\tlearn: 0.3053390\ttest: 0.3092973\tbest: 0.3092973 (250)\ttotal: 5m 12s\tremaining: 15m 31s\n",
      "251:\tlearn: 0.3052389\ttest: 0.3092220\tbest: 0.3092220 (251)\ttotal: 5m 13s\tremaining: 15m 31s\n",
      "252:\tlearn: 0.3051815\ttest: 0.3091746\tbest: 0.3091746 (252)\ttotal: 5m 15s\tremaining: 15m 31s\n",
      "253:\tlearn: 0.3051309\ttest: 0.3091286\tbest: 0.3091286 (253)\ttotal: 5m 16s\tremaining: 15m 30s\n",
      "254:\tlearn: 0.3051100\ttest: 0.3091196\tbest: 0.3091196 (254)\ttotal: 5m 18s\tremaining: 15m 29s\n",
      "255:\tlearn: 0.3050907\ttest: 0.3091195\tbest: 0.3091195 (255)\ttotal: 5m 19s\tremaining: 15m 28s\n",
      "256:\tlearn: 0.3050667\ttest: 0.3091085\tbest: 0.3091085 (256)\ttotal: 5m 21s\tremaining: 15m 28s\n",
      "257:\tlearn: 0.3050568\ttest: 0.3091066\tbest: 0.3091066 (257)\ttotal: 5m 22s\tremaining: 15m 27s\n",
      "258:\tlearn: 0.3050227\ttest: 0.3090849\tbest: 0.3090849 (258)\ttotal: 5m 23s\tremaining: 15m 25s\n",
      "259:\tlearn: 0.3049499\ttest: 0.3090258\tbest: 0.3090258 (259)\ttotal: 5m 25s\tremaining: 15m 25s\n",
      "260:\tlearn: 0.3049340\ttest: 0.3090224\tbest: 0.3090224 (260)\ttotal: 5m 26s\tremaining: 15m 23s\n",
      "261:\tlearn: 0.3048984\ttest: 0.3089962\tbest: 0.3089962 (261)\ttotal: 5m 27s\tremaining: 15m 23s\n",
      "262:\tlearn: 0.3048097\ttest: 0.3089067\tbest: 0.3089067 (262)\ttotal: 5m 29s\tremaining: 15m 22s\n",
      "263:\tlearn: 0.3047499\ttest: 0.3088645\tbest: 0.3088645 (263)\ttotal: 5m 30s\tremaining: 15m 22s\n",
      "264:\tlearn: 0.3047178\ttest: 0.3088417\tbest: 0.3088417 (264)\ttotal: 5m 32s\tremaining: 15m 21s\n",
      "265:\tlearn: 0.3046999\ttest: 0.3088411\tbest: 0.3088411 (265)\ttotal: 5m 33s\tremaining: 15m 20s\n",
      "266:\tlearn: 0.3046926\ttest: 0.3088407\tbest: 0.3088407 (266)\ttotal: 5m 34s\tremaining: 15m 19s\n",
      "267:\tlearn: 0.3046839\ttest: 0.3088414\tbest: 0.3088407 (266)\ttotal: 5m 36s\tremaining: 15m 18s\n",
      "268:\tlearn: 0.3046710\ttest: 0.3088408\tbest: 0.3088407 (266)\ttotal: 5m 37s\tremaining: 15m 18s\n",
      "269:\tlearn: 0.3046517\ttest: 0.3088443\tbest: 0.3088407 (266)\ttotal: 5m 39s\tremaining: 15m 17s\n"
     ]
    },
    {
     "name": "stdout",
     "output_type": "stream",
     "text": [
      "270:\tlearn: 0.3046270\ttest: 0.3088263\tbest: 0.3088263 (270)\ttotal: 5m 40s\tremaining: 15m 15s\n",
      "271:\tlearn: 0.3046017\ttest: 0.3088079\tbest: 0.3088079 (271)\ttotal: 5m 41s\tremaining: 15m 15s\n",
      "272:\tlearn: 0.3045770\ttest: 0.3087934\tbest: 0.3087934 (272)\ttotal: 5m 43s\tremaining: 15m 14s\n",
      "273:\tlearn: 0.3045039\ttest: 0.3087005\tbest: 0.3087005 (273)\ttotal: 5m 44s\tremaining: 15m 13s\n",
      "274:\tlearn: 0.3044826\ttest: 0.3086824\tbest: 0.3086824 (274)\ttotal: 5m 46s\tremaining: 15m 12s\n",
      "275:\tlearn: 0.3044175\ttest: 0.3086278\tbest: 0.3086278 (275)\ttotal: 5m 47s\tremaining: 15m 12s\n",
      "276:\tlearn: 0.3043644\ttest: 0.3085893\tbest: 0.3085893 (276)\ttotal: 5m 49s\tremaining: 15m 11s\n",
      "277:\tlearn: 0.3043239\ttest: 0.3085561\tbest: 0.3085561 (277)\ttotal: 5m 50s\tremaining: 15m 11s\n",
      "278:\tlearn: 0.3042361\ttest: 0.3084949\tbest: 0.3084949 (278)\ttotal: 5m 52s\tremaining: 15m 10s\n",
      "279:\tlearn: 0.3041899\ttest: 0.3084531\tbest: 0.3084531 (279)\ttotal: 5m 53s\tremaining: 15m 9s\n",
      "280:\tlearn: 0.3041341\ttest: 0.3084184\tbest: 0.3084184 (280)\ttotal: 5m 55s\tremaining: 15m 9s\n",
      "281:\tlearn: 0.3041025\ttest: 0.3083994\tbest: 0.3083994 (281)\ttotal: 5m 57s\tremaining: 15m 9s\n",
      "282:\tlearn: 0.3040828\ttest: 0.3083990\tbest: 0.3083990 (282)\ttotal: 5m 58s\tremaining: 15m 8s\n",
      "283:\tlearn: 0.3040694\ttest: 0.3083997\tbest: 0.3083990 (282)\ttotal: 5m 59s\tremaining: 15m 6s\n",
      "284:\tlearn: 0.3040279\ttest: 0.3083693\tbest: 0.3083693 (284)\ttotal: 6m\tremaining: 15m 5s\n",
      "285:\tlearn: 0.3039763\ttest: 0.3083306\tbest: 0.3083306 (285)\ttotal: 6m 2s\tremaining: 15m 4s\n",
      "286:\tlearn: 0.3039113\ttest: 0.3082704\tbest: 0.3082704 (286)\ttotal: 6m 4s\tremaining: 15m 4s\n",
      "287:\tlearn: 0.3038980\ttest: 0.3082684\tbest: 0.3082684 (287)\ttotal: 6m 5s\tremaining: 15m 3s\n",
      "288:\tlearn: 0.3038650\ttest: 0.3082427\tbest: 0.3082427 (288)\ttotal: 6m 6s\tremaining: 15m 2s\n",
      "289:\tlearn: 0.3038127\ttest: 0.3082142\tbest: 0.3082142 (289)\ttotal: 6m 8s\tremaining: 15m 1s\n",
      "290:\tlearn: 0.3037901\ttest: 0.3082049\tbest: 0.3082049 (290)\ttotal: 6m 9s\tremaining: 15m\n",
      "291:\tlearn: 0.3037062\ttest: 0.3081296\tbest: 0.3081296 (291)\ttotal: 6m 11s\tremaining: 15m 1s\n",
      "292:\tlearn: 0.3036676\ttest: 0.3081041\tbest: 0.3081041 (292)\ttotal: 6m 13s\tremaining: 15m\n",
      "293:\tlearn: 0.3036570\ttest: 0.3081002\tbest: 0.3081002 (293)\ttotal: 6m 14s\tremaining: 14m 59s\n",
      "294:\tlearn: 0.3036502\ttest: 0.3080996\tbest: 0.3080996 (294)\ttotal: 6m 15s\tremaining: 14m 58s\n",
      "295:\tlearn: 0.3036163\ttest: 0.3080816\tbest: 0.3080816 (295)\ttotal: 6m 17s\tremaining: 14m 57s\n",
      "296:\tlearn: 0.3035962\ttest: 0.3080786\tbest: 0.3080786 (296)\ttotal: 6m 18s\tremaining: 14m 56s\n",
      "297:\tlearn: 0.3035768\ttest: 0.3080795\tbest: 0.3080786 (296)\ttotal: 6m 20s\tremaining: 14m 55s\n",
      "298:\tlearn: 0.3034979\ttest: 0.3079980\tbest: 0.3079980 (298)\ttotal: 6m 22s\tremaining: 14m 55s\n",
      "299:\tlearn: 0.3034787\ttest: 0.3079820\tbest: 0.3079820 (299)\ttotal: 6m 23s\tremaining: 14m 55s\n",
      "300:\tlearn: 0.3034641\ttest: 0.3079815\tbest: 0.3079815 (300)\ttotal: 6m 25s\tremaining: 14m 54s\n",
      "301:\tlearn: 0.3034198\ttest: 0.3079486\tbest: 0.3079486 (301)\ttotal: 6m 26s\tremaining: 14m 53s\n",
      "302:\tlearn: 0.3033442\ttest: 0.3078638\tbest: 0.3078638 (302)\ttotal: 6m 28s\tremaining: 14m 54s\n",
      "303:\tlearn: 0.3033209\ttest: 0.3078627\tbest: 0.3078627 (303)\ttotal: 6m 30s\tremaining: 14m 53s\n",
      "304:\tlearn: 0.3033121\ttest: 0.3078613\tbest: 0.3078613 (304)\ttotal: 6m 31s\tremaining: 14m 52s\n",
      "305:\tlearn: 0.3033017\ttest: 0.3078620\tbest: 0.3078613 (304)\ttotal: 6m 33s\tremaining: 14m 51s\n",
      "306:\tlearn: 0.3032359\ttest: 0.3078022\tbest: 0.3078022 (306)\ttotal: 6m 34s\tremaining: 14m 50s\n",
      "307:\tlearn: 0.3031785\ttest: 0.3077438\tbest: 0.3077438 (307)\ttotal: 6m 35s\tremaining: 14m 49s\n",
      "308:\tlearn: 0.3031112\ttest: 0.3076798\tbest: 0.3076798 (308)\ttotal: 6m 37s\tremaining: 14m 49s\n",
      "309:\tlearn: 0.3030949\ttest: 0.3076780\tbest: 0.3076780 (309)\ttotal: 6m 39s\tremaining: 14m 48s\n",
      "310:\tlearn: 0.3030110\ttest: 0.3075710\tbest: 0.3075710 (310)\ttotal: 6m 40s\tremaining: 14m 48s\n",
      "311:\tlearn: 0.3029360\ttest: 0.3075111\tbest: 0.3075111 (311)\ttotal: 6m 42s\tremaining: 14m 47s\n",
      "312:\tlearn: 0.3028543\ttest: 0.3074330\tbest: 0.3074330 (312)\ttotal: 6m 43s\tremaining: 14m 46s\n",
      "313:\tlearn: 0.3027562\ttest: 0.3073336\tbest: 0.3073336 (313)\ttotal: 6m 45s\tremaining: 14m 46s\n",
      "314:\tlearn: 0.3027129\ttest: 0.3072910\tbest: 0.3072910 (314)\ttotal: 6m 47s\tremaining: 14m 46s\n",
      "315:\tlearn: 0.3026980\ttest: 0.3072880\tbest: 0.3072880 (315)\ttotal: 6m 49s\tremaining: 14m 45s\n",
      "316:\tlearn: 0.3025854\ttest: 0.3071924\tbest: 0.3071924 (316)\ttotal: 6m 50s\tremaining: 14m 45s\n",
      "317:\tlearn: 0.3025488\ttest: 0.3071632\tbest: 0.3071632 (317)\ttotal: 6m 52s\tremaining: 14m 44s\n",
      "318:\tlearn: 0.3025386\ttest: 0.3071636\tbest: 0.3071632 (317)\ttotal: 6m 53s\tremaining: 14m 42s\n",
      "319:\tlearn: 0.3025084\ttest: 0.3071383\tbest: 0.3071383 (319)\ttotal: 6m 54s\tremaining: 14m 41s\n",
      "320:\tlearn: 0.3024964\ttest: 0.3071371\tbest: 0.3071371 (320)\ttotal: 6m 55s\tremaining: 14m 39s\n",
      "321:\tlearn: 0.3024475\ttest: 0.3070790\tbest: 0.3070790 (321)\ttotal: 6m 56s\tremaining: 14m 37s\n",
      "322:\tlearn: 0.3024100\ttest: 0.3070584\tbest: 0.3070584 (322)\ttotal: 6m 58s\tremaining: 14m 36s\n",
      "323:\tlearn: 0.3023980\ttest: 0.3070570\tbest: 0.3070570 (323)\ttotal: 6m 59s\tremaining: 14m 34s\n",
      "324:\tlearn: 0.3023270\ttest: 0.3069957\tbest: 0.3069957 (324)\ttotal: 7m\tremaining: 14m 33s\n",
      "325:\tlearn: 0.3023175\ttest: 0.3069938\tbest: 0.3069938 (325)\ttotal: 7m 1s\tremaining: 14m 31s\n",
      "326:\tlearn: 0.3023002\ttest: 0.3069760\tbest: 0.3069760 (326)\ttotal: 7m 2s\tremaining: 14m 29s\n",
      "327:\tlearn: 0.3022721\ttest: 0.3069631\tbest: 0.3069631 (327)\ttotal: 7m 3s\tremaining: 14m 28s\n",
      "328:\tlearn: 0.3022333\ttest: 0.3069241\tbest: 0.3069241 (328)\ttotal: 7m 5s\tremaining: 14m 27s\n",
      "329:\tlearn: 0.3022186\ttest: 0.3069138\tbest: 0.3069138 (329)\ttotal: 7m 6s\tremaining: 14m 26s\n",
      "330:\tlearn: 0.3021416\ttest: 0.3068407\tbest: 0.3068407 (330)\ttotal: 7m 8s\tremaining: 14m 25s\n",
      "331:\tlearn: 0.3020857\ttest: 0.3067955\tbest: 0.3067955 (331)\ttotal: 7m 9s\tremaining: 14m 24s\n",
      "332:\tlearn: 0.3020702\ttest: 0.3067952\tbest: 0.3067952 (332)\ttotal: 7m 10s\tremaining: 14m 23s\n",
      "333:\tlearn: 0.3020188\ttest: 0.3067469\tbest: 0.3067469 (333)\ttotal: 7m 12s\tremaining: 14m 21s\n",
      "334:\tlearn: 0.3020080\ttest: 0.3067462\tbest: 0.3067462 (334)\ttotal: 7m 12s\tremaining: 14m 19s\n",
      "335:\tlearn: 0.3019603\ttest: 0.3067056\tbest: 0.3067056 (335)\ttotal: 7m 14s\tremaining: 14m 18s\n",
      "336:\tlearn: 0.3019472\ttest: 0.3067066\tbest: 0.3067056 (335)\ttotal: 7m 15s\tremaining: 14m 16s\n",
      "337:\tlearn: 0.3019204\ttest: 0.3066967\tbest: 0.3066967 (337)\ttotal: 7m 16s\tremaining: 14m 14s\n",
      "338:\tlearn: 0.3018686\ttest: 0.3066766\tbest: 0.3066766 (338)\ttotal: 7m 17s\tremaining: 14m 12s\n",
      "339:\tlearn: 0.3018508\ttest: 0.3066712\tbest: 0.3066712 (339)\ttotal: 7m 18s\tremaining: 14m 11s\n",
      "340:\tlearn: 0.3017819\ttest: 0.3066226\tbest: 0.3066226 (340)\ttotal: 7m 20s\tremaining: 14m 10s\n",
      "341:\tlearn: 0.3017692\ttest: 0.3066210\tbest: 0.3066210 (341)\ttotal: 7m 21s\tremaining: 14m 9s\n",
      "342:\tlearn: 0.3017548\ttest: 0.3066206\tbest: 0.3066206 (342)\ttotal: 7m 22s\tremaining: 14m 7s\n",
      "343:\tlearn: 0.3017382\ttest: 0.3066138\tbest: 0.3066138 (343)\ttotal: 7m 23s\tremaining: 14m 6s\n",
      "344:\tlearn: 0.3016857\ttest: 0.3065632\tbest: 0.3065632 (344)\ttotal: 7m 25s\tremaining: 14m 5s\n",
      "345:\tlearn: 0.3016415\ttest: 0.3065312\tbest: 0.3065312 (345)\ttotal: 7m 26s\tremaining: 14m 3s\n",
      "346:\tlearn: 0.3016303\ttest: 0.3065278\tbest: 0.3065278 (346)\ttotal: 7m 27s\tremaining: 14m 2s\n",
      "347:\tlearn: 0.3016200\ttest: 0.3065236\tbest: 0.3065236 (347)\ttotal: 7m 28s\tremaining: 14m 1s\n",
      "348:\tlearn: 0.3016128\ttest: 0.3065236\tbest: 0.3065236 (347)\ttotal: 7m 29s\tremaining: 13m 59s\n",
      "349:\tlearn: 0.3015821\ttest: 0.3064983\tbest: 0.3064983 (349)\ttotal: 7m 31s\tremaining: 13m 57s\n",
      "350:\tlearn: 0.3015130\ttest: 0.3064357\tbest: 0.3064357 (350)\ttotal: 7m 32s\tremaining: 13m 56s\n",
      "351:\tlearn: 0.3014424\ttest: 0.3063751\tbest: 0.3063751 (351)\ttotal: 7m 33s\tremaining: 13m 55s\n",
      "352:\tlearn: 0.3014156\ttest: 0.3063581\tbest: 0.3063581 (352)\ttotal: 7m 34s\tremaining: 13m 53s\n",
      "353:\tlearn: 0.3013924\ttest: 0.3063419\tbest: 0.3063419 (353)\ttotal: 7m 36s\tremaining: 13m 52s\n",
      "354:\tlearn: 0.3012974\ttest: 0.3062497\tbest: 0.3062497 (354)\ttotal: 7m 37s\tremaining: 13m 51s\n",
      "355:\tlearn: 0.3011839\ttest: 0.3060937\tbest: 0.3060937 (355)\ttotal: 7m 38s\tremaining: 13m 50s\n",
      "356:\tlearn: 0.3011326\ttest: 0.3060511\tbest: 0.3060511 (356)\ttotal: 7m 40s\tremaining: 13m 48s\n",
      "357:\tlearn: 0.3011110\ttest: 0.3060460\tbest: 0.3060460 (357)\ttotal: 7m 41s\tremaining: 13m 47s\n",
      "358:\tlearn: 0.3010548\ttest: 0.3060015\tbest: 0.3060015 (358)\ttotal: 7m 43s\tremaining: 13m 46s\n"
     ]
    },
    {
     "name": "stdout",
     "output_type": "stream",
     "text": [
      "359:\tlearn: 0.3010369\ttest: 0.3059941\tbest: 0.3059941 (359)\ttotal: 7m 44s\tremaining: 13m 45s\n",
      "360:\tlearn: 0.3009938\ttest: 0.3059514\tbest: 0.3059514 (360)\ttotal: 7m 45s\tremaining: 13m 44s\n",
      "361:\tlearn: 0.3009595\ttest: 0.3059250\tbest: 0.3059250 (361)\ttotal: 7m 46s\tremaining: 13m 42s\n",
      "362:\tlearn: 0.3009554\ttest: 0.3059239\tbest: 0.3059239 (362)\ttotal: 7m 47s\tremaining: 13m 40s\n",
      "363:\tlearn: 0.3009000\ttest: 0.3058840\tbest: 0.3058840 (363)\ttotal: 7m 48s\tremaining: 13m 38s\n",
      "364:\tlearn: 0.3008814\ttest: 0.3058874\tbest: 0.3058840 (363)\ttotal: 7m 49s\tremaining: 13m 37s\n",
      "365:\tlearn: 0.3008202\ttest: 0.3058152\tbest: 0.3058152 (365)\ttotal: 7m 50s\tremaining: 13m 35s\n",
      "366:\tlearn: 0.3007534\ttest: 0.3057576\tbest: 0.3057576 (366)\ttotal: 7m 51s\tremaining: 13m 34s\n",
      "367:\tlearn: 0.3007266\ttest: 0.3057503\tbest: 0.3057503 (367)\ttotal: 7m 53s\tremaining: 13m 32s\n",
      "368:\tlearn: 0.3007085\ttest: 0.3057501\tbest: 0.3057501 (368)\ttotal: 7m 54s\tremaining: 13m 30s\n",
      "369:\tlearn: 0.3006935\ttest: 0.3057490\tbest: 0.3057490 (369)\ttotal: 7m 55s\tremaining: 13m 28s\n",
      "370:\tlearn: 0.3006570\ttest: 0.3057152\tbest: 0.3057152 (370)\ttotal: 7m 56s\tremaining: 13m 27s\n",
      "371:\tlearn: 0.3006499\ttest: 0.3057131\tbest: 0.3057131 (371)\ttotal: 7m 57s\tremaining: 13m 25s\n",
      "372:\tlearn: 0.3006119\ttest: 0.3056899\tbest: 0.3056899 (372)\ttotal: 7m 58s\tremaining: 13m 24s\n",
      "373:\tlearn: 0.3006019\ttest: 0.3056934\tbest: 0.3056899 (372)\ttotal: 7m 59s\tremaining: 13m 22s\n",
      "374:\tlearn: 0.3005471\ttest: 0.3056382\tbest: 0.3056382 (374)\ttotal: 8m\tremaining: 13m 21s\n",
      "375:\tlearn: 0.3005080\ttest: 0.3056111\tbest: 0.3056111 (375)\ttotal: 8m 1s\tremaining: 13m 19s\n",
      "376:\tlearn: 0.3004920\ttest: 0.3056086\tbest: 0.3056086 (376)\ttotal: 8m 3s\tremaining: 13m 18s\n",
      "377:\tlearn: 0.3004825\ttest: 0.3056104\tbest: 0.3056086 (376)\ttotal: 8m 4s\tremaining: 13m 17s\n",
      "378:\tlearn: 0.3004678\ttest: 0.3056074\tbest: 0.3056074 (378)\ttotal: 8m 5s\tremaining: 13m 16s\n",
      "379:\tlearn: 0.3004580\ttest: 0.3056079\tbest: 0.3056074 (378)\ttotal: 8m 7s\tremaining: 13m 14s\n",
      "380:\tlearn: 0.3004338\ttest: 0.3056001\tbest: 0.3056001 (380)\ttotal: 8m 8s\tremaining: 13m 13s\n",
      "381:\tlearn: 0.3003629\ttest: 0.3055384\tbest: 0.3055384 (381)\ttotal: 8m 10s\tremaining: 13m 13s\n",
      "382:\tlearn: 0.3003461\ttest: 0.3055312\tbest: 0.3055312 (382)\ttotal: 8m 11s\tremaining: 13m 12s\n",
      "383:\tlearn: 0.3003044\ttest: 0.3055147\tbest: 0.3055147 (383)\ttotal: 8m 13s\tremaining: 13m 11s\n",
      "384:\tlearn: 0.3002831\ttest: 0.3055021\tbest: 0.3055021 (384)\ttotal: 8m 14s\tremaining: 13m 9s\n",
      "385:\tlearn: 0.3002702\ttest: 0.3055034\tbest: 0.3055021 (384)\ttotal: 8m 15s\tremaining: 13m 7s\n",
      "386:\tlearn: 0.3002609\ttest: 0.3055043\tbest: 0.3055021 (384)\ttotal: 8m 16s\tremaining: 13m 6s\n",
      "387:\tlearn: 0.3002449\ttest: 0.3055009\tbest: 0.3055009 (387)\ttotal: 8m 17s\tremaining: 13m 4s\n",
      "388:\tlearn: 0.3002222\ttest: 0.3055032\tbest: 0.3055009 (387)\ttotal: 8m 18s\tremaining: 13m 2s\n",
      "389:\tlearn: 0.3002012\ttest: 0.3054974\tbest: 0.3054974 (389)\ttotal: 8m 19s\tremaining: 13m 1s\n",
      "390:\tlearn: 0.3001872\ttest: 0.3054938\tbest: 0.3054938 (390)\ttotal: 8m 20s\tremaining: 13m\n",
      "391:\tlearn: 0.3001278\ttest: 0.3054691\tbest: 0.3054691 (391)\ttotal: 8m 21s\tremaining: 12m 58s\n",
      "392:\tlearn: 0.3001152\ttest: 0.3054707\tbest: 0.3054691 (391)\ttotal: 8m 22s\tremaining: 12m 56s\n",
      "393:\tlearn: 0.3000896\ttest: 0.3054518\tbest: 0.3054518 (393)\ttotal: 8m 24s\tremaining: 12m 55s\n",
      "394:\tlearn: 0.3000821\ttest: 0.3054519\tbest: 0.3054518 (393)\ttotal: 8m 25s\tremaining: 12m 54s\n",
      "395:\tlearn: 0.3000744\ttest: 0.3054510\tbest: 0.3054510 (395)\ttotal: 8m 26s\tremaining: 12m 52s\n",
      "396:\tlearn: 0.3000359\ttest: 0.3054136\tbest: 0.3054136 (396)\ttotal: 8m 27s\tremaining: 12m 50s\n",
      "397:\tlearn: 0.3000165\ttest: 0.3054121\tbest: 0.3054121 (397)\ttotal: 8m 28s\tremaining: 12m 49s\n",
      "398:\tlearn: 0.2999727\ttest: 0.3053676\tbest: 0.3053676 (398)\ttotal: 8m 29s\tremaining: 12m 48s\n",
      "399:\tlearn: 0.2999406\ttest: 0.3053405\tbest: 0.3053405 (399)\ttotal: 8m 31s\tremaining: 12m 46s\n",
      "400:\tlearn: 0.2999315\ttest: 0.3053416\tbest: 0.3053405 (399)\ttotal: 8m 32s\tremaining: 12m 45s\n",
      "401:\tlearn: 0.2999009\ttest: 0.3053274\tbest: 0.3053274 (401)\ttotal: 8m 33s\tremaining: 12m 43s\n",
      "402:\tlearn: 0.2998911\ttest: 0.3053250\tbest: 0.3053250 (402)\ttotal: 8m 34s\tremaining: 12m 42s\n",
      "403:\tlearn: 0.2998766\ttest: 0.3053266\tbest: 0.3053250 (402)\ttotal: 8m 35s\tremaining: 12m 40s\n",
      "404:\tlearn: 0.2998544\ttest: 0.3053187\tbest: 0.3053187 (404)\ttotal: 8m 37s\tremaining: 12m 39s\n",
      "405:\tlearn: 0.2998087\ttest: 0.3052739\tbest: 0.3052739 (405)\ttotal: 8m 38s\tremaining: 12m 38s\n",
      "406:\tlearn: 0.2997862\ttest: 0.3052568\tbest: 0.3052568 (406)\ttotal: 8m 39s\tremaining: 12m 37s\n",
      "407:\tlearn: 0.2997688\ttest: 0.3052547\tbest: 0.3052547 (407)\ttotal: 8m 40s\tremaining: 12m 35s\n",
      "408:\tlearn: 0.2997145\ttest: 0.3052077\tbest: 0.3052077 (408)\ttotal: 8m 42s\tremaining: 12m 34s\n",
      "409:\tlearn: 0.2996820\ttest: 0.3051734\tbest: 0.3051734 (409)\ttotal: 8m 43s\tremaining: 12m 33s\n",
      "410:\tlearn: 0.2996505\ttest: 0.3051720\tbest: 0.3051720 (410)\ttotal: 8m 44s\tremaining: 12m 32s\n",
      "411:\tlearn: 0.2996443\ttest: 0.3051725\tbest: 0.3051720 (410)\ttotal: 8m 45s\tremaining: 12m 30s\n",
      "412:\tlearn: 0.2996326\ttest: 0.3051733\tbest: 0.3051720 (410)\ttotal: 8m 47s\tremaining: 12m 29s\n",
      "413:\tlearn: 0.2995943\ttest: 0.3051496\tbest: 0.3051496 (413)\ttotal: 8m 48s\tremaining: 12m 28s\n",
      "414:\tlearn: 0.2995827\ttest: 0.3051491\tbest: 0.3051491 (414)\ttotal: 8m 49s\tremaining: 12m 26s\n",
      "415:\tlearn: 0.2995720\ttest: 0.3051495\tbest: 0.3051491 (414)\ttotal: 8m 50s\tremaining: 12m 24s\n",
      "416:\tlearn: 0.2995578\ttest: 0.3051487\tbest: 0.3051487 (416)\ttotal: 8m 51s\tremaining: 12m 23s\n",
      "417:\tlearn: 0.2995400\ttest: 0.3051455\tbest: 0.3051455 (417)\ttotal: 8m 52s\tremaining: 12m 22s\n",
      "418:\tlearn: 0.2994705\ttest: 0.3050895\tbest: 0.3050895 (418)\ttotal: 8m 54s\tremaining: 12m 20s\n",
      "419:\tlearn: 0.2994401\ttest: 0.3050698\tbest: 0.3050698 (419)\ttotal: 8m 55s\tremaining: 12m 19s\n",
      "420:\tlearn: 0.2993999\ttest: 0.3050299\tbest: 0.3050299 (420)\ttotal: 8m 56s\tremaining: 12m 18s\n",
      "421:\tlearn: 0.2993941\ttest: 0.3050308\tbest: 0.3050299 (420)\ttotal: 8m 57s\tremaining: 12m 16s\n",
      "422:\tlearn: 0.2993889\ttest: 0.3050300\tbest: 0.3050299 (420)\ttotal: 8m 58s\tremaining: 12m 14s\n",
      "423:\tlearn: 0.2993773\ttest: 0.3050218\tbest: 0.3050218 (423)\ttotal: 8m 59s\tremaining: 12m 13s\n",
      "424:\tlearn: 0.2992993\ttest: 0.3049423\tbest: 0.3049423 (424)\ttotal: 9m 1s\tremaining: 12m 12s\n",
      "425:\tlearn: 0.2992067\ttest: 0.3048280\tbest: 0.3048280 (425)\ttotal: 9m 2s\tremaining: 12m 10s\n",
      "426:\tlearn: 0.2991496\ttest: 0.3047867\tbest: 0.3047867 (426)\ttotal: 9m 3s\tremaining: 12m 8s\n",
      "427:\tlearn: 0.2991369\ttest: 0.3047862\tbest: 0.3047862 (427)\ttotal: 9m 4s\tremaining: 12m 7s\n",
      "428:\tlearn: 0.2991129\ttest: 0.3047887\tbest: 0.3047862 (427)\ttotal: 9m 5s\tremaining: 12m 5s\n",
      "429:\tlearn: 0.2991046\ttest: 0.3047903\tbest: 0.3047862 (427)\ttotal: 9m 6s\tremaining: 12m 3s\n",
      "430:\tlearn: 0.2990944\ttest: 0.3047868\tbest: 0.3047862 (427)\ttotal: 9m 6s\tremaining: 12m 2s\n",
      "431:\tlearn: 0.2990824\ttest: 0.3047868\tbest: 0.3047862 (427)\ttotal: 9m 7s\tremaining: 12m\n",
      "432:\tlearn: 0.2990393\ttest: 0.3047581\tbest: 0.3047581 (432)\ttotal: 9m 8s\tremaining: 11m 58s\n",
      "433:\tlearn: 0.2990240\ttest: 0.3047536\tbest: 0.3047536 (433)\ttotal: 9m 9s\tremaining: 11m 57s\n",
      "434:\tlearn: 0.2990149\ttest: 0.3047557\tbest: 0.3047536 (433)\ttotal: 9m 10s\tremaining: 11m 55s\n",
      "435:\tlearn: 0.2989621\ttest: 0.3047118\tbest: 0.3047118 (435)\ttotal: 9m 12s\tremaining: 11m 54s\n",
      "436:\tlearn: 0.2989269\ttest: 0.3046870\tbest: 0.3046870 (436)\ttotal: 9m 12s\tremaining: 11m 52s\n",
      "437:\tlearn: 0.2988916\ttest: 0.3046597\tbest: 0.3046597 (437)\ttotal: 9m 14s\tremaining: 11m 50s\n",
      "438:\tlearn: 0.2988615\ttest: 0.3046355\tbest: 0.3046355 (438)\ttotal: 9m 15s\tremaining: 11m 49s\n",
      "439:\tlearn: 0.2988437\ttest: 0.3046324\tbest: 0.3046324 (439)\ttotal: 9m 16s\tremaining: 11m 47s\n",
      "440:\tlearn: 0.2988290\ttest: 0.3046241\tbest: 0.3046241 (440)\ttotal: 9m 17s\tremaining: 11m 46s\n",
      "441:\tlearn: 0.2988206\ttest: 0.3046250\tbest: 0.3046241 (440)\ttotal: 9m 18s\tremaining: 11m 44s\n",
      "442:\tlearn: 0.2988042\ttest: 0.3046261\tbest: 0.3046241 (440)\ttotal: 9m 19s\tremaining: 11m 43s\n",
      "443:\tlearn: 0.2987870\ttest: 0.3046259\tbest: 0.3046241 (440)\ttotal: 9m 20s\tremaining: 11m 42s\n",
      "444:\tlearn: 0.2987758\ttest: 0.3046241\tbest: 0.3046241 (444)\ttotal: 9m 21s\tremaining: 11m 40s\n",
      "445:\tlearn: 0.2987659\ttest: 0.3046269\tbest: 0.3046241 (444)\ttotal: 9m 22s\tremaining: 11m 39s\n",
      "446:\tlearn: 0.2987446\ttest: 0.3046225\tbest: 0.3046225 (446)\ttotal: 9m 23s\tremaining: 11m 37s\n",
      "447:\tlearn: 0.2987213\ttest: 0.3046115\tbest: 0.3046115 (447)\ttotal: 9m 24s\tremaining: 11m 35s\n"
     ]
    },
    {
     "name": "stdout",
     "output_type": "stream",
     "text": [
      "448:\tlearn: 0.2987108\ttest: 0.3046090\tbest: 0.3046090 (448)\ttotal: 9m 25s\tremaining: 11m 34s\n",
      "449:\tlearn: 0.2987017\ttest: 0.3046129\tbest: 0.3046090 (448)\ttotal: 9m 26s\tremaining: 11m 32s\n",
      "450:\tlearn: 0.2986751\ttest: 0.3045889\tbest: 0.3045889 (450)\ttotal: 9m 27s\tremaining: 11m 31s\n",
      "451:\tlearn: 0.2986593\ttest: 0.3045876\tbest: 0.3045876 (451)\ttotal: 9m 28s\tremaining: 11m 29s\n",
      "452:\tlearn: 0.2986253\ttest: 0.3045656\tbest: 0.3045656 (452)\ttotal: 9m 29s\tremaining: 11m 28s\n",
      "453:\tlearn: 0.2985992\ttest: 0.3045536\tbest: 0.3045536 (453)\ttotal: 9m 31s\tremaining: 11m 26s\n",
      "454:\tlearn: 0.2985846\ttest: 0.3045416\tbest: 0.3045416 (454)\ttotal: 9m 32s\tremaining: 11m 25s\n",
      "455:\tlearn: 0.2985757\ttest: 0.3045445\tbest: 0.3045416 (454)\ttotal: 9m 33s\tremaining: 11m 24s\n",
      "456:\tlearn: 0.2985656\ttest: 0.3045460\tbest: 0.3045416 (454)\ttotal: 9m 34s\tremaining: 11m 22s\n",
      "457:\tlearn: 0.2985565\ttest: 0.3045461\tbest: 0.3045416 (454)\ttotal: 9m 35s\tremaining: 11m 21s\n",
      "458:\tlearn: 0.2985248\ttest: 0.3045317\tbest: 0.3045317 (458)\ttotal: 9m 37s\tremaining: 11m 20s\n",
      "459:\tlearn: 0.2985169\ttest: 0.3045313\tbest: 0.3045313 (459)\ttotal: 9m 38s\tremaining: 11m 18s\n",
      "460:\tlearn: 0.2985056\ttest: 0.3045264\tbest: 0.3045264 (460)\ttotal: 9m 39s\tremaining: 11m 17s\n",
      "461:\tlearn: 0.2984929\ttest: 0.3045257\tbest: 0.3045257 (461)\ttotal: 9m 40s\tremaining: 11m 16s\n",
      "462:\tlearn: 0.2984634\ttest: 0.3045040\tbest: 0.3045040 (462)\ttotal: 9m 41s\tremaining: 11m 14s\n",
      "463:\tlearn: 0.2983976\ttest: 0.3044536\tbest: 0.3044536 (463)\ttotal: 9m 43s\tremaining: 11m 13s\n",
      "464:\tlearn: 0.2983816\ttest: 0.3044437\tbest: 0.3044437 (464)\ttotal: 9m 44s\tremaining: 11m 12s\n",
      "465:\tlearn: 0.2983676\ttest: 0.3044426\tbest: 0.3044426 (465)\ttotal: 9m 45s\tremaining: 11m 11s\n",
      "466:\tlearn: 0.2983584\ttest: 0.3044428\tbest: 0.3044426 (465)\ttotal: 9m 46s\tremaining: 11m 9s\n",
      "467:\tlearn: 0.2983430\ttest: 0.3044452\tbest: 0.3044426 (465)\ttotal: 9m 48s\tremaining: 11m 8s\n",
      "468:\tlearn: 0.2983234\ttest: 0.3044394\tbest: 0.3044394 (468)\ttotal: 9m 49s\tremaining: 11m 7s\n",
      "469:\tlearn: 0.2982952\ttest: 0.3044179\tbest: 0.3044179 (469)\ttotal: 9m 50s\tremaining: 11m 6s\n",
      "470:\tlearn: 0.2982726\ttest: 0.3044027\tbest: 0.3044027 (470)\ttotal: 9m 51s\tremaining: 11m 4s\n",
      "471:\tlearn: 0.2982579\ttest: 0.3044054\tbest: 0.3044027 (470)\ttotal: 9m 53s\tremaining: 11m 3s\n",
      "472:\tlearn: 0.2982313\ttest: 0.3043906\tbest: 0.3043906 (472)\ttotal: 9m 54s\tremaining: 11m 2s\n",
      "473:\tlearn: 0.2982106\ttest: 0.3043714\tbest: 0.3043714 (473)\ttotal: 9m 56s\tremaining: 11m 1s\n",
      "474:\tlearn: 0.2982001\ttest: 0.3043697\tbest: 0.3043697 (474)\ttotal: 9m 57s\tremaining: 11m\n",
      "475:\tlearn: 0.2981901\ttest: 0.3043687\tbest: 0.3043687 (475)\ttotal: 9m 58s\tremaining: 10m 58s\n",
      "476:\tlearn: 0.2981377\ttest: 0.3043267\tbest: 0.3043267 (476)\ttotal: 10m\tremaining: 10m 58s\n",
      "477:\tlearn: 0.2980963\ttest: 0.3042956\tbest: 0.3042956 (477)\ttotal: 10m 2s\tremaining: 10m 57s\n",
      "478:\tlearn: 0.2980851\ttest: 0.3042977\tbest: 0.3042956 (477)\ttotal: 10m 3s\tremaining: 10m 56s\n",
      "479:\tlearn: 0.2980753\ttest: 0.3042994\tbest: 0.3042956 (477)\ttotal: 10m 4s\tremaining: 10m 55s\n",
      "480:\tlearn: 0.2980051\ttest: 0.3042072\tbest: 0.3042072 (480)\ttotal: 10m 6s\tremaining: 10m 54s\n",
      "481:\tlearn: 0.2979575\ttest: 0.3041586\tbest: 0.3041586 (481)\ttotal: 10m 8s\tremaining: 10m 53s\n",
      "482:\tlearn: 0.2979467\ttest: 0.3041572\tbest: 0.3041572 (482)\ttotal: 10m 9s\tremaining: 10m 52s\n",
      "483:\tlearn: 0.2979344\ttest: 0.3041582\tbest: 0.3041572 (482)\ttotal: 10m 11s\tremaining: 10m 51s\n",
      "484:\tlearn: 0.2979239\ttest: 0.3041572\tbest: 0.3041572 (484)\ttotal: 10m 12s\tremaining: 10m 50s\n",
      "485:\tlearn: 0.2978834\ttest: 0.3041204\tbest: 0.3041204 (485)\ttotal: 10m 13s\tremaining: 10m 48s\n",
      "486:\tlearn: 0.2978735\ttest: 0.3041184\tbest: 0.3041184 (486)\ttotal: 10m 14s\tremaining: 10m 47s\n",
      "487:\tlearn: 0.2978536\ttest: 0.3041093\tbest: 0.3041093 (487)\ttotal: 10m 15s\tremaining: 10m 45s\n",
      "488:\tlearn: 0.2978401\ttest: 0.3040991\tbest: 0.3040991 (488)\ttotal: 10m 17s\tremaining: 10m 44s\n",
      "489:\tlearn: 0.2978343\ttest: 0.3040991\tbest: 0.3040991 (489)\ttotal: 10m 18s\tremaining: 10m 43s\n",
      "490:\tlearn: 0.2978014\ttest: 0.3040733\tbest: 0.3040733 (490)\ttotal: 10m 19s\tremaining: 10m 42s\n",
      "491:\tlearn: 0.2977920\ttest: 0.3040751\tbest: 0.3040733 (490)\ttotal: 10m 20s\tremaining: 10m 40s\n",
      "492:\tlearn: 0.2977779\ttest: 0.3040732\tbest: 0.3040732 (492)\ttotal: 10m 22s\tremaining: 10m 39s\n",
      "493:\tlearn: 0.2977334\ttest: 0.3040443\tbest: 0.3040443 (493)\ttotal: 10m 23s\tremaining: 10m 38s\n",
      "494:\tlearn: 0.2977185\ttest: 0.3040432\tbest: 0.3040432 (494)\ttotal: 10m 25s\tremaining: 10m 37s\n",
      "495:\tlearn: 0.2977043\ttest: 0.3040400\tbest: 0.3040400 (495)\ttotal: 10m 26s\tremaining: 10m 36s\n",
      "496:\tlearn: 0.2976864\ttest: 0.3040427\tbest: 0.3040400 (495)\ttotal: 10m 27s\tremaining: 10m 35s\n",
      "497:\tlearn: 0.2976594\ttest: 0.3040216\tbest: 0.3040216 (497)\ttotal: 10m 28s\tremaining: 10m 33s\n",
      "498:\tlearn: 0.2976159\ttest: 0.3039862\tbest: 0.3039862 (498)\ttotal: 10m 30s\tremaining: 10m 33s\n",
      "499:\tlearn: 0.2975836\ttest: 0.3039792\tbest: 0.3039792 (499)\ttotal: 10m 32s\tremaining: 10m 32s\n",
      "500:\tlearn: 0.2975561\ttest: 0.3039609\tbest: 0.3039609 (500)\ttotal: 10m 33s\tremaining: 10m 30s\n",
      "501:\tlearn: 0.2975389\ttest: 0.3039582\tbest: 0.3039582 (501)\ttotal: 10m 34s\tremaining: 10m 29s\n",
      "502:\tlearn: 0.2975322\ttest: 0.3039587\tbest: 0.3039582 (501)\ttotal: 10m 35s\tremaining: 10m 28s\n",
      "503:\tlearn: 0.2975121\ttest: 0.3039553\tbest: 0.3039553 (503)\ttotal: 10m 37s\tremaining: 10m 27s\n",
      "504:\tlearn: 0.2975005\ttest: 0.3039565\tbest: 0.3039553 (503)\ttotal: 10m 38s\tremaining: 10m 25s\n",
      "505:\tlearn: 0.2974882\ttest: 0.3039462\tbest: 0.3039462 (505)\ttotal: 10m 39s\tremaining: 10m 24s\n",
      "506:\tlearn: 0.2974442\ttest: 0.3039168\tbest: 0.3039168 (506)\ttotal: 10m 40s\tremaining: 10m 23s\n",
      "507:\tlearn: 0.2974119\ttest: 0.3038868\tbest: 0.3038868 (507)\ttotal: 10m 42s\tremaining: 10m 22s\n",
      "508:\tlearn: 0.2973946\ttest: 0.3038802\tbest: 0.3038802 (508)\ttotal: 10m 43s\tremaining: 10m 21s\n",
      "509:\tlearn: 0.2973801\ttest: 0.3038752\tbest: 0.3038752 (509)\ttotal: 10m 45s\tremaining: 10m 19s\n",
      "510:\tlearn: 0.2973573\ttest: 0.3038626\tbest: 0.3038626 (510)\ttotal: 10m 46s\tremaining: 10m 18s\n",
      "511:\tlearn: 0.2973102\ttest: 0.3038254\tbest: 0.3038254 (511)\ttotal: 10m 47s\tremaining: 10m 17s\n",
      "512:\tlearn: 0.2972725\ttest: 0.3037952\tbest: 0.3037952 (512)\ttotal: 10m 48s\tremaining: 10m 15s\n",
      "513:\tlearn: 0.2972383\ttest: 0.3037678\tbest: 0.3037678 (513)\ttotal: 10m 49s\tremaining: 10m 14s\n",
      "514:\tlearn: 0.2972335\ttest: 0.3037673\tbest: 0.3037673 (514)\ttotal: 10m 50s\tremaining: 10m 13s\n",
      "515:\tlearn: 0.2972175\ttest: 0.3037641\tbest: 0.3037641 (515)\ttotal: 10m 52s\tremaining: 10m 11s\n",
      "516:\tlearn: 0.2972071\ttest: 0.3037665\tbest: 0.3037641 (515)\ttotal: 10m 53s\tremaining: 10m 10s\n",
      "517:\tlearn: 0.2972030\ttest: 0.3037662\tbest: 0.3037641 (515)\ttotal: 10m 54s\tremaining: 10m 8s\n",
      "518:\tlearn: 0.2971913\ttest: 0.3037655\tbest: 0.3037641 (515)\ttotal: 10m 55s\tremaining: 10m 7s\n",
      "519:\tlearn: 0.2971144\ttest: 0.3036723\tbest: 0.3036723 (519)\ttotal: 10m 57s\tremaining: 10m 6s\n",
      "520:\tlearn: 0.2970968\ttest: 0.3036719\tbest: 0.3036719 (520)\ttotal: 10m 58s\tremaining: 10m 5s\n",
      "521:\tlearn: 0.2970818\ttest: 0.3036728\tbest: 0.3036719 (520)\ttotal: 10m 59s\tremaining: 10m 3s\n",
      "522:\tlearn: 0.2970654\ttest: 0.3036737\tbest: 0.3036719 (520)\ttotal: 11m\tremaining: 10m 2s\n",
      "523:\tlearn: 0.2970497\ttest: 0.3036602\tbest: 0.3036602 (523)\ttotal: 11m 2s\tremaining: 10m 1s\n",
      "524:\tlearn: 0.2970384\ttest: 0.3036593\tbest: 0.3036593 (524)\ttotal: 11m 3s\tremaining: 10m\n",
      "525:\tlearn: 0.2969653\ttest: 0.3035818\tbest: 0.3035818 (525)\ttotal: 11m 4s\tremaining: 9m 59s\n",
      "526:\tlearn: 0.2969574\ttest: 0.3035814\tbest: 0.3035814 (526)\ttotal: 11m 5s\tremaining: 9m 57s\n",
      "527:\tlearn: 0.2969475\ttest: 0.3035811\tbest: 0.3035811 (527)\ttotal: 11m 7s\tremaining: 9m 56s\n",
      "528:\tlearn: 0.2969419\ttest: 0.3035798\tbest: 0.3035798 (528)\ttotal: 11m 8s\tremaining: 9m 54s\n",
      "529:\tlearn: 0.2969287\ttest: 0.3035740\tbest: 0.3035740 (529)\ttotal: 11m 9s\tremaining: 9m 53s\n",
      "530:\tlearn: 0.2969244\ttest: 0.3035747\tbest: 0.3035740 (529)\ttotal: 11m 10s\tremaining: 9m 52s\n",
      "531:\tlearn: 0.2969181\ttest: 0.3035741\tbest: 0.3035740 (529)\ttotal: 11m 12s\tremaining: 9m 51s\n",
      "532:\tlearn: 0.2968796\ttest: 0.3035315\tbest: 0.3035315 (532)\ttotal: 11m 13s\tremaining: 9m 49s\n",
      "533:\tlearn: 0.2968625\ttest: 0.3035267\tbest: 0.3035267 (533)\ttotal: 11m 14s\tremaining: 9m 48s\n",
      "534:\tlearn: 0.2968468\ttest: 0.3035288\tbest: 0.3035267 (533)\ttotal: 11m 15s\tremaining: 9m 47s\n",
      "535:\tlearn: 0.2968428\ttest: 0.3035282\tbest: 0.3035267 (533)\ttotal: 11m 16s\tremaining: 9m 45s\n",
      "536:\tlearn: 0.2968281\ttest: 0.3035256\tbest: 0.3035256 (536)\ttotal: 11m 17s\tremaining: 9m 44s\n"
     ]
    },
    {
     "name": "stdout",
     "output_type": "stream",
     "text": [
      "537:\tlearn: 0.2968108\ttest: 0.3035183\tbest: 0.3035183 (537)\ttotal: 11m 18s\tremaining: 9m 43s\n",
      "538:\tlearn: 0.2968028\ttest: 0.3035175\tbest: 0.3035175 (538)\ttotal: 11m 20s\tremaining: 9m 41s\n",
      "539:\tlearn: 0.2967975\ttest: 0.3035169\tbest: 0.3035169 (539)\ttotal: 11m 21s\tremaining: 9m 40s\n",
      "540:\tlearn: 0.2967689\ttest: 0.3034967\tbest: 0.3034967 (540)\ttotal: 11m 22s\tremaining: 9m 39s\n",
      "541:\tlearn: 0.2967588\ttest: 0.3034956\tbest: 0.3034956 (541)\ttotal: 11m 24s\tremaining: 9m 38s\n",
      "542:\tlearn: 0.2967476\ttest: 0.3034967\tbest: 0.3034956 (541)\ttotal: 11m 25s\tremaining: 9m 36s\n",
      "543:\tlearn: 0.2967053\ttest: 0.3034758\tbest: 0.3034758 (543)\ttotal: 11m 26s\tremaining: 9m 35s\n",
      "544:\tlearn: 0.2966936\ttest: 0.3034683\tbest: 0.3034683 (544)\ttotal: 11m 27s\tremaining: 9m 34s\n",
      "545:\tlearn: 0.2966802\ttest: 0.3034535\tbest: 0.3034535 (545)\ttotal: 11m 28s\tremaining: 9m 32s\n",
      "546:\tlearn: 0.2966706\ttest: 0.3034561\tbest: 0.3034535 (545)\ttotal: 11m 30s\tremaining: 9m 31s\n",
      "547:\tlearn: 0.2966591\ttest: 0.3034576\tbest: 0.3034535 (545)\ttotal: 11m 31s\tremaining: 9m 30s\n",
      "548:\tlearn: 0.2966501\ttest: 0.3034581\tbest: 0.3034535 (545)\ttotal: 11m 32s\tremaining: 9m 29s\n",
      "549:\tlearn: 0.2966386\ttest: 0.3034583\tbest: 0.3034535 (545)\ttotal: 11m 33s\tremaining: 9m 27s\n",
      "550:\tlearn: 0.2966061\ttest: 0.3034334\tbest: 0.3034334 (550)\ttotal: 11m 35s\tremaining: 9m 26s\n",
      "551:\tlearn: 0.2965979\ttest: 0.3034337\tbest: 0.3034334 (550)\ttotal: 11m 36s\tremaining: 9m 25s\n",
      "552:\tlearn: 0.2965894\ttest: 0.3034346\tbest: 0.3034334 (550)\ttotal: 11m 37s\tremaining: 9m 24s\n",
      "553:\tlearn: 0.2965779\ttest: 0.3034372\tbest: 0.3034334 (550)\ttotal: 11m 39s\tremaining: 9m 22s\n",
      "554:\tlearn: 0.2965647\ttest: 0.3034382\tbest: 0.3034334 (550)\ttotal: 11m 40s\tremaining: 9m 21s\n",
      "555:\tlearn: 0.2965443\ttest: 0.3034306\tbest: 0.3034306 (555)\ttotal: 11m 41s\tremaining: 9m 20s\n",
      "556:\tlearn: 0.2965231\ttest: 0.3034293\tbest: 0.3034293 (556)\ttotal: 11m 43s\tremaining: 9m 19s\n",
      "557:\tlearn: 0.2965105\ttest: 0.3034288\tbest: 0.3034288 (557)\ttotal: 11m 44s\tremaining: 9m 17s\n",
      "558:\tlearn: 0.2964955\ttest: 0.3034214\tbest: 0.3034214 (558)\ttotal: 11m 45s\tremaining: 9m 16s\n",
      "559:\tlearn: 0.2964545\ttest: 0.3033826\tbest: 0.3033826 (559)\ttotal: 11m 47s\tremaining: 9m 15s\n",
      "560:\tlearn: 0.2964411\ttest: 0.3033823\tbest: 0.3033823 (560)\ttotal: 11m 48s\tremaining: 9m 14s\n",
      "561:\tlearn: 0.2964150\ttest: 0.3033662\tbest: 0.3033662 (561)\ttotal: 11m 49s\tremaining: 9m 13s\n",
      "562:\tlearn: 0.2964038\ttest: 0.3033672\tbest: 0.3033662 (561)\ttotal: 11m 50s\tremaining: 9m 11s\n",
      "563:\tlearn: 0.2963954\ttest: 0.3033664\tbest: 0.3033662 (561)\ttotal: 11m 51s\tremaining: 9m 10s\n",
      "564:\tlearn: 0.2963876\ttest: 0.3033671\tbest: 0.3033662 (561)\ttotal: 11m 52s\tremaining: 9m 8s\n",
      "565:\tlearn: 0.2963756\ttest: 0.3033656\tbest: 0.3033656 (565)\ttotal: 11m 54s\tremaining: 9m 7s\n",
      "566:\tlearn: 0.2963658\ttest: 0.3033672\tbest: 0.3033656 (565)\ttotal: 11m 55s\tremaining: 9m 6s\n",
      "567:\tlearn: 0.2963558\ttest: 0.3033660\tbest: 0.3033656 (565)\ttotal: 11m 56s\tremaining: 9m 4s\n",
      "568:\tlearn: 0.2963454\ttest: 0.3033662\tbest: 0.3033656 (565)\ttotal: 11m 57s\tremaining: 9m 3s\n",
      "569:\tlearn: 0.2963323\ttest: 0.3033691\tbest: 0.3033656 (565)\ttotal: 11m 59s\tremaining: 9m 2s\n",
      "570:\tlearn: 0.2962997\ttest: 0.3033391\tbest: 0.3033391 (570)\ttotal: 12m\tremaining: 9m 1s\n",
      "571:\tlearn: 0.2962902\ttest: 0.3033401\tbest: 0.3033391 (570)\ttotal: 12m 1s\tremaining: 9m\n",
      "572:\tlearn: 0.2962802\ttest: 0.3033443\tbest: 0.3033391 (570)\ttotal: 12m 3s\tremaining: 8m 58s\n",
      "573:\tlearn: 0.2962503\ttest: 0.3033340\tbest: 0.3033340 (573)\ttotal: 12m 4s\tremaining: 8m 57s\n",
      "574:\tlearn: 0.2962335\ttest: 0.3033357\tbest: 0.3033340 (573)\ttotal: 12m 5s\tremaining: 8m 56s\n",
      "575:\tlearn: 0.2962250\ttest: 0.3033368\tbest: 0.3033340 (573)\ttotal: 12m 6s\tremaining: 8m 55s\n",
      "576:\tlearn: 0.2962153\ttest: 0.3033422\tbest: 0.3033340 (573)\ttotal: 12m 8s\tremaining: 8m 53s\n",
      "577:\tlearn: 0.2961998\ttest: 0.3033413\tbest: 0.3033340 (573)\ttotal: 12m 9s\tremaining: 8m 52s\n",
      "578:\tlearn: 0.2961797\ttest: 0.3033399\tbest: 0.3033340 (573)\ttotal: 12m 10s\tremaining: 8m 51s\n",
      "Stopped by overfitting detector  (5 iterations wait)\n",
      "\n",
      "bestTest = 0.3033339614\n",
      "bestIteration = 573\n",
      "\n",
      "Shrink model to first 574 iterations.\n"
     ]
    }
   ],
   "source": [
    "clf = CatBoostRegressor(max_depth=8, loss_function=\"RMSE\",\n",
    "                       subsample=0.9).fit(train_pool, \n",
    "                                                               eval_set=valid_pool, early_stopping_rounds=5)"
   ]
  },
  {
   "cell_type": "code",
   "execution_count": null,
   "id": "511b486d",
   "metadata": {},
   "outputs": [],
   "source": []
  },
  {
   "cell_type": "code",
   "execution_count": 35,
   "id": "e2dcb6a3",
   "metadata": {},
   "outputs": [],
   "source": [
    "from sklearn.metrics import root_mean_squared_error"
   ]
  },
  {
   "cell_type": "code",
   "execution_count": 36,
   "id": "c0f75f17",
   "metadata": {
    "scrolled": true
   },
   "outputs": [
    {
     "data": {
      "text/plain": [
       "0.5229237429910527"
      ]
     },
     "execution_count": 36,
     "metadata": {},
     "output_type": "execute_result"
    }
   ],
   "source": [
    "max(0, 1 - root_mean_squared_error(np.exp(y_valid), np.exp(clf.predict(valid_pool))) / 33000)"
   ]
  },
  {
   "cell_type": "code",
   "execution_count": 37,
   "id": "0044b492",
   "metadata": {},
   "outputs": [],
   "source": [
    "pickle.dump(clf, open(\"salary_regressor.pickle\", \"wb\"))"
   ]
  },
  {
   "cell_type": "code",
   "execution_count": null,
   "id": "b6bb3a79",
   "metadata": {},
   "outputs": [],
   "source": []
  },
  {
   "cell_type": "code",
   "execution_count": null,
   "id": "f79aaf4d",
   "metadata": {},
   "outputs": [],
   "source": []
  },
  {
   "cell_type": "code",
   "execution_count": null,
   "id": "e1b78d5b",
   "metadata": {},
   "outputs": [],
   "source": []
  },
  {
   "cell_type": "code",
   "execution_count": null,
   "id": "d897b860",
   "metadata": {},
   "outputs": [],
   "source": []
  },
  {
   "cell_type": "code",
   "execution_count": 10,
   "id": "98b59aa8",
   "metadata": {},
   "outputs": [],
   "source": [
    "df_res.dropna(subset=[\"demands\"], axis=0, inplace=True)"
   ]
  },
  {
   "cell_type": "code",
   "execution_count": 13,
   "id": "0ebc91e1",
   "metadata": {},
   "outputs": [],
   "source": [
    "df_res = df_res[df_res[\"job_title\"] != \"специалист\"]"
   ]
  },
  {
   "cell_type": "code",
   "execution_count": 17,
   "id": "7dad3a65",
   "metadata": {},
   "outputs": [
    {
     "name": "stderr",
     "output_type": "stream",
     "text": [
      "/var/folders/gv/p2ddb6bx55jdrygm8h7jdcf80000gn/T/ipykernel_17976/2683171549.py:1: SettingWithCopyWarning: \n",
      "A value is trying to be set on a copy of a slice from a DataFrame.\n",
      "Try using .loc[row_indexer,col_indexer] = value instead\n",
      "\n",
      "See the caveats in the documentation: https://pandas.pydata.org/pandas-docs/stable/user_guide/indexing.html#returning-a-view-versus-a-copy\n",
      "  df_res[\"corpus\"] = df_res[\"demands\"] + df_res[\"job_title\"]\n"
     ]
    }
   ],
   "source": [
    "df_res[\"corpus\"] = df_res[\"demands\"] + df_res[\"job_title\"]"
   ]
  },
  {
   "cell_type": "code",
   "execution_count": 19,
   "id": "2315033b",
   "metadata": {},
   "outputs": [],
   "source": [
    "def base_preproc(text):\n",
    "    text = text.replace(\",\", \" \").strip().lower()\n",
    "    text = re.sub(' +', ' ', text)\n",
    "    text = \"\".join([x for x in text if not x.isdigit()])\n",
    "    return text"
   ]
  },
  {
   "cell_type": "code",
   "execution_count": 20,
   "id": "ae85b02c",
   "metadata": {},
   "outputs": [
    {
     "name": "stderr",
     "output_type": "stream",
     "text": [
      "/var/folders/gv/p2ddb6bx55jdrygm8h7jdcf80000gn/T/ipykernel_17976/3185642569.py:1: SettingWithCopyWarning: \n",
      "A value is trying to be set on a copy of a slice from a DataFrame.\n",
      "Try using .loc[row_indexer,col_indexer] = value instead\n",
      "\n",
      "See the caveats in the documentation: https://pandas.pydata.org/pandas-docs/stable/user_guide/indexing.html#returning-a-view-versus-a-copy\n",
      "  df_res[\"corpus\"] = df_res[\"corpus\"].map(base_preproc)\n"
     ]
    }
   ],
   "source": [
    "df_res[\"corpus\"] = df_res[\"corpus\"].map(base_preproc)"
   ]
  },
  {
   "cell_type": "code",
   "execution_count": 16,
   "id": "9370d9b5",
   "metadata": {},
   "outputs": [
    {
     "data": {
      "text/html": [
       "<div>\n",
       "<style scoped>\n",
       "    .dataframe tbody tr th:only-of-type {\n",
       "        vertical-align: middle;\n",
       "    }\n",
       "\n",
       "    .dataframe tbody tr th {\n",
       "        vertical-align: top;\n",
       "    }\n",
       "\n",
       "    .dataframe thead th {\n",
       "        text-align: right;\n",
       "    }\n",
       "</style>\n",
       "<table border=\"1\" class=\"dataframe\">\n",
       "  <thead>\n",
       "    <tr style=\"text-align: right;\">\n",
       "      <th></th>\n",
       "      <th>achievements</th>\n",
       "      <th>achievements_modified</th>\n",
       "      <th>company_name</th>\n",
       "      <th>demands</th>\n",
       "      <th>id_cv</th>\n",
       "      <th>job_title</th>\n",
       "    </tr>\n",
       "  </thead>\n",
       "  <tbody>\n",
       "    <tr>\n",
       "      <th>0</th>\n",
       "      <td>NaN</td>\n",
       "      <td>NaN</td>\n",
       "      <td>Управление социальной защиты населения Сердобс...</td>\n",
       "      <td>Работала,непосредственно, с федеральными льгот...</td>\n",
       "      <td>52860148-26da-11e8-a184-9122a281f90e</td>\n",
       "      <td>инспектор</td>\n",
       "    </tr>\n",
       "    <tr>\n",
       "      <th>1</th>\n",
       "      <td>NaN</td>\n",
       "      <td>NaN</td>\n",
       "      <td>Администрация города Сердобска</td>\n",
       "      <td>Работа с реестром муниципальной собственности</td>\n",
       "      <td>52860148-26da-11e8-a184-9122a281f90e</td>\n",
       "      <td>инспектор</td>\n",
       "    </tr>\n",
       "    <tr>\n",
       "      <th>2</th>\n",
       "      <td>Работы не закончены, т.к. нет настоящего желан...</td>\n",
       "      <td>Работы не закончены, т.к. нет настоящего желан...</td>\n",
       "      <td>январь 2016-настоящее времяООО «АРТЕЛЬ СТАРАТЕ...</td>\n",
       "      <td>Курирую работы по рудному направлению: соавтор...</td>\n",
       "      <td>e3c857b0-26a0-11e7-bcca-736ab11edb0c</td>\n",
       "      <td>геолог</td>\n",
       "    </tr>\n",
       "    <tr>\n",
       "      <th>3</th>\n",
       "      <td>NaN</td>\n",
       "      <td>NaN</td>\n",
       "      <td>ОАО «Васильевский рудник», п.Мотыгино, Красноя...</td>\n",
       "      <td>ГРП. Документация керна разведочных скважин</td>\n",
       "      <td>e3c857b0-26a0-11e7-bcca-736ab11edb0c</td>\n",
       "      <td>геолог</td>\n",
       "    </tr>\n",
       "    <tr>\n",
       "      <th>4</th>\n",
       "      <td>NaN</td>\n",
       "      <td>NaN</td>\n",
       "      <td>ООО «Артель старателей «ТАЛ»», Усть-Нера, Респ...</td>\n",
       "      <td>Поисково-разведочные работы на месторождении р...</td>\n",
       "      <td>e3c857b0-26a0-11e7-bcca-736ab11edb0c</td>\n",
       "      <td>геолог</td>\n",
       "    </tr>\n",
       "    <tr>\n",
       "      <th>...</th>\n",
       "      <td>...</td>\n",
       "      <td>...</td>\n",
       "      <td>...</td>\n",
       "      <td>...</td>\n",
       "      <td>...</td>\n",
       "      <td>...</td>\n",
       "    </tr>\n",
       "    <tr>\n",
       "      <th>1287460</th>\n",
       "      <td>Создал работоспособную команду| Увеличил объем...</td>\n",
       "      <td>Создал работоспособную команду| Увеличил объем...</td>\n",
       "      <td>РУСБИЗНЕСАВТО</td>\n",
       "      <td>Общение с клиентами по вопросам ремонта и обсл...</td>\n",
       "      <td>3386f2f0-263e-11e8-94aa-736ab11edb0c</td>\n",
       "      <td>руководитель</td>\n",
       "    </tr>\n",
       "    <tr>\n",
       "      <th>1287461</th>\n",
       "      <td>За период работы увеличен объем производства к...</td>\n",
       "      <td>За период работы увеличен объем производства к...</td>\n",
       "      <td>ООО \"Москва на Дону\"</td>\n",
       "      <td>Руководство финансово-хозяйственной деятельнос...</td>\n",
       "      <td>8cc2102c-fd0d-11e7-a659-e37b4be0b9ed</td>\n",
       "      <td>директор</td>\n",
       "    </tr>\n",
       "    <tr>\n",
       "      <th>1287462</th>\n",
       "      <td>И меются публикации в российских изданиях</td>\n",
       "      <td>И меются публикации в российских изданиях</td>\n",
       "      <td>ФБУН ФНЦ Медико-профилактических технологий уп...</td>\n",
       "      <td>Пробоподготовка, иммуноферментый анализ, владе...</td>\n",
       "      <td>bbdbb110-f94b-11e7-b311-736ab11edb0c</td>\n",
       "      <td>иммунолог</td>\n",
       "    </tr>\n",
       "    <tr>\n",
       "      <th>1287463</th>\n",
       "      <td>Самостоятельно внедрила методы количественного...</td>\n",
       "      <td>Самостоятельно внедрила методы количественного...</td>\n",
       "      <td>ГБУЗ ПК \"КДКБ\" Медико-генетическая консультация</td>\n",
       "      <td>Лабораторная диагностика (проведение пренаталь...</td>\n",
       "      <td>bbdbb110-f94b-11e7-b311-736ab11edb0c</td>\n",
       "      <td>биолог</td>\n",
       "    </tr>\n",
       "    <tr>\n",
       "      <th>1287464</th>\n",
       "      <td>NaN</td>\n",
       "      <td>NaN</td>\n",
       "      <td>В/ч 25522</td>\n",
       "      <td>Медицинское обеспечение роты</td>\n",
       "      <td>67f7d339-2ca9-11e8-9855-0f468c90bfa7</td>\n",
       "      <td>инструктор</td>\n",
       "    </tr>\n",
       "  </tbody>\n",
       "</table>\n",
       "<p>8347982 rows × 6 columns</p>\n",
       "</div>"
      ],
      "text/plain": [
       "                                              achievements  \\\n",
       "0                                                      NaN   \n",
       "1                                                      NaN   \n",
       "2        Работы не закончены, т.к. нет настоящего желан...   \n",
       "3                                                      NaN   \n",
       "4                                                      NaN   \n",
       "...                                                    ...   \n",
       "1287460  Создал работоспособную команду| Увеличил объем...   \n",
       "1287461  За период работы увеличен объем производства к...   \n",
       "1287462          И меются публикации в российских изданиях   \n",
       "1287463  Самостоятельно внедрила методы количественного...   \n",
       "1287464                                                NaN   \n",
       "\n",
       "                                     achievements_modified  \\\n",
       "0                                                      NaN   \n",
       "1                                                      NaN   \n",
       "2        Работы не закончены, т.к. нет настоящего желан...   \n",
       "3                                                      NaN   \n",
       "4                                                      NaN   \n",
       "...                                                    ...   \n",
       "1287460  Создал работоспособную команду| Увеличил объем...   \n",
       "1287461  За период работы увеличен объем производства к...   \n",
       "1287462          И меются публикации в российских изданиях   \n",
       "1287463  Самостоятельно внедрила методы количественного...   \n",
       "1287464                                                NaN   \n",
       "\n",
       "                                              company_name  \\\n",
       "0        Управление социальной защиты населения Сердобс...   \n",
       "1                           Администрация города Сердобска   \n",
       "2        январь 2016-настоящее времяООО «АРТЕЛЬ СТАРАТЕ...   \n",
       "3        ОАО «Васильевский рудник», п.Мотыгино, Красноя...   \n",
       "4        ООО «Артель старателей «ТАЛ»», Усть-Нера, Респ...   \n",
       "...                                                    ...   \n",
       "1287460                                      РУСБИЗНЕСАВТО   \n",
       "1287461                               ООО \"Москва на Дону\"   \n",
       "1287462  ФБУН ФНЦ Медико-профилактических технологий уп...   \n",
       "1287463    ГБУЗ ПК \"КДКБ\" Медико-генетическая консультация   \n",
       "1287464                                          В/ч 25522   \n",
       "\n",
       "                                                   demands  \\\n",
       "0        Работала,непосредственно, с федеральными льгот...   \n",
       "1            Работа с реестром муниципальной собственности   \n",
       "2        Курирую работы по рудному направлению: соавтор...   \n",
       "3              ГРП. Документация керна разведочных скважин   \n",
       "4        Поисково-разведочные работы на месторождении р...   \n",
       "...                                                    ...   \n",
       "1287460  Общение с клиентами по вопросам ремонта и обсл...   \n",
       "1287461  Руководство финансово-хозяйственной деятельнос...   \n",
       "1287462  Пробоподготовка, иммуноферментый анализ, владе...   \n",
       "1287463  Лабораторная диагностика (проведение пренаталь...   \n",
       "1287464                       Медицинское обеспечение роты   \n",
       "\n",
       "                                        id_cv     job_title  \n",
       "0        52860148-26da-11e8-a184-9122a281f90e     инспектор  \n",
       "1        52860148-26da-11e8-a184-9122a281f90e     инспектор  \n",
       "2        e3c857b0-26a0-11e7-bcca-736ab11edb0c        геолог  \n",
       "3        e3c857b0-26a0-11e7-bcca-736ab11edb0c        геолог  \n",
       "4        e3c857b0-26a0-11e7-bcca-736ab11edb0c        геолог  \n",
       "...                                       ...           ...  \n",
       "1287460  3386f2f0-263e-11e8-94aa-736ab11edb0c  руководитель  \n",
       "1287461  8cc2102c-fd0d-11e7-a659-e37b4be0b9ed      директор  \n",
       "1287462  bbdbb110-f94b-11e7-b311-736ab11edb0c     иммунолог  \n",
       "1287463  bbdbb110-f94b-11e7-b311-736ab11edb0c        биолог  \n",
       "1287464  67f7d339-2ca9-11e8-9855-0f468c90bfa7    инструктор  \n",
       "\n",
       "[8347982 rows x 6 columns]"
      ]
     },
     "execution_count": 16,
     "metadata": {},
     "output_type": "execute_result"
    }
   ],
   "source": [
    "df_res"
   ]
  },
  {
   "cell_type": "code",
   "execution_count": null,
   "id": "e354f9da",
   "metadata": {},
   "outputs": [],
   "source": []
  },
  {
   "cell_type": "code",
   "execution_count": 25,
   "id": "6ef8f19a",
   "metadata": {},
   "outputs": [],
   "source": [
    "pickle.dump(df_res[\"corpus\"].tolist(), open(\"demands_w2v_corpus.pickle\", \"wb\"))"
   ]
  },
  {
   "cell_type": "code",
   "execution_count": null,
   "id": "c670e251",
   "metadata": {},
   "outputs": [],
   "source": []
  },
  {
   "cell_type": "code",
   "execution_count": null,
   "id": "2ef556cd",
   "metadata": {},
   "outputs": [],
   "source": []
  },
  {
   "cell_type": "code",
   "execution_count": null,
   "id": "653d3adf",
   "metadata": {},
   "outputs": [],
   "source": []
  },
  {
   "cell_type": "code",
   "execution_count": null,
   "id": "a3d80717",
   "metadata": {},
   "outputs": [],
   "source": []
  },
  {
   "cell_type": "code",
   "execution_count": null,
   "id": "18a3051e",
   "metadata": {},
   "outputs": [],
   "source": []
  },
  {
   "cell_type": "code",
   "execution_count": null,
   "id": "47374c04",
   "metadata": {},
   "outputs": [],
   "source": []
  },
  {
   "cell_type": "code",
   "execution_count": 3,
   "id": "ac43d67b",
   "metadata": {
    "scrolled": true
   },
   "outputs": [],
   "source": [
    "job_list = pd.read_csv(\"vprod_train/JOB_LIST.csv\", encoding_errors=\"ignore\")"
   ]
  },
  {
   "cell_type": "code",
   "execution_count": 4,
   "id": "2f634a39",
   "metadata": {},
   "outputs": [],
   "source": [
    "job_list.dropna(inplace=True, axis=0)"
   ]
  },
  {
   "cell_type": "code",
   "execution_count": 5,
   "id": "71da0217",
   "metadata": {},
   "outputs": [],
   "source": [
    "def base_preproc(text):\n",
    "    text = text.replace(\",\", \" \").strip().lower()\n",
    "    text = re.sub(' +', ' ', text)\n",
    "    text = \"\".join([x for x in text if not x.isdigit()])\n",
    "    return text"
   ]
  },
  {
   "cell_type": "code",
   "execution_count": 6,
   "id": "88efe305",
   "metadata": {},
   "outputs": [],
   "source": [
    "job_list[\"job_title\"] = job_list[\"job_title\"].map(base_preproc)"
   ]
  },
  {
   "cell_type": "code",
   "execution_count": null,
   "id": "ddee06f7",
   "metadata": {},
   "outputs": [],
   "source": [
    "my_counter = {}\n",
    "for job in job_list[\"job_title\"].tolist():\n",
    "    for x in job.split():\n",
    "        if x not in list(my_counter.keys())"
   ]
  },
  {
   "cell_type": "code",
   "execution_count": null,
   "id": "f094e8f7",
   "metadata": {},
   "outputs": [],
   "source": []
  },
  {
   "cell_type": "code",
   "execution_count": null,
   "id": "f16f08fe",
   "metadata": {},
   "outputs": [],
   "source": [
    "words = sum([x.split() for x in job_list[\"job_title\"].tolist()], [])"
   ]
  },
  {
   "cell_type": "code",
   "execution_count": null,
   "id": "c991a8af",
   "metadata": {},
   "outputs": [],
   "source": [
    "len(words)"
   ]
  },
  {
   "cell_type": "code",
   "execution_count": null,
   "id": "86ba6046",
   "metadata": {},
   "outputs": [],
   "source": []
  },
  {
   "cell_type": "code",
   "execution_count": null,
   "id": "b5948269",
   "metadata": {},
   "outputs": [],
   "source": []
  },
  {
   "cell_type": "code",
   "execution_count": null,
   "id": "e57949a2",
   "metadata": {},
   "outputs": [],
   "source": []
  },
  {
   "cell_type": "code",
   "execution_count": null,
   "id": "746433fa",
   "metadata": {},
   "outputs": [],
   "source": []
  },
  {
   "cell_type": "code",
   "execution_count": 107,
   "id": "f8a8c67e",
   "metadata": {},
   "outputs": [],
   "source": [
    "bad_classes_df = df_res[df_res[\"id_cv\"].isin(df_res[df_res[\"job_title\"] == \"специалист\"][\"id_cv\"].unique())]"
   ]
  },
  {
   "cell_type": "code",
   "execution_count": 115,
   "id": "7d7de2f2",
   "metadata": {},
   "outputs": [
    {
     "name": "stderr",
     "output_type": "stream",
     "text": [
      "100%|████████████████████████████████| 745438/745438 [00:15<00:00, 47155.67it/s]\n"
     ]
    }
   ],
   "source": [
    "k = []\n",
    "\n",
    "for ids, gr in tqdm(df_res.groupby(\"id_cv\")):\n",
    "    k.append(len(gr[\"company_name\"].unique()))"
   ]
  },
  {
   "cell_type": "code",
   "execution_count": null,
   "id": "82ce2826",
   "metadata": {},
   "outputs": [],
   "source": []
  },
  {
   "cell_type": "code",
   "execution_count": null,
   "id": "2f653e5f",
   "metadata": {},
   "outputs": [],
   "source": []
  },
  {
   "cell_type": "code",
   "execution_count": null,
   "id": "a605d272",
   "metadata": {},
   "outputs": [],
   "source": []
  },
  {
   "cell_type": "code",
   "execution_count": null,
   "id": "e29ecf7e",
   "metadata": {},
   "outputs": [],
   "source": []
  },
  {
   "cell_type": "code",
   "execution_count": null,
   "id": "622a3f7b",
   "metadata": {},
   "outputs": [],
   "source": []
  },
  {
   "cell_type": "code",
   "execution_count": null,
   "id": "76c5fd91",
   "metadata": {},
   "outputs": [],
   "source": []
  },
  {
   "cell_type": "code",
   "execution_count": null,
   "id": "ced9432e",
   "metadata": {},
   "outputs": [],
   "source": []
  }
 ],
 "metadata": {
  "kernelspec": {
   "display_name": "Python 3 (ipykernel)",
   "language": "python",
   "name": "python3"
  },
  "language_info": {
   "codemirror_mode": {
    "name": "ipython",
    "version": 3
   },
   "file_extension": ".py",
   "mimetype": "text/x-python",
   "name": "python",
   "nbconvert_exporter": "python",
   "pygments_lexer": "ipython3",
   "version": "3.9.18"
  }
 },
 "nbformat": 4,
 "nbformat_minor": 5
}
