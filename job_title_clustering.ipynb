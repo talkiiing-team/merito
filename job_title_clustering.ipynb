{
 "cells": [
  {
   "cell_type": "code",
   "execution_count": 2,
   "id": "b97ee779",
   "metadata": {},
   "outputs": [],
   "source": [
    "import warnings\n",
    "warnings.filterwarnings(\"ignore\")\n",
    "\n",
    "import pandas as pd\n",
    "import numpy as np\n",
    "import matplotlib.pyplot as plt\n",
    "import seaborn as sns\n",
    "import re\n",
    "from catboost import CatBoostRegressor, CatBoostClassifier, Pool\n",
    "from sklearn.model_selection import train_test_split\n",
    "from my_parsers import download, parse\n",
    "from tqdm import tqdm\n",
    "from collections import Counter\n",
    "from gensim.models import Word2Vec\n",
    "import pickle\n",
    "import json\n",
    "from sklearn.neighbors import KNeighborsClassifier\n",
    "from sklearn.decomposition import LatentDirichletAllocation\n",
    "from sklearn.feature_extraction.text import TfidfVectorizer, CountVectorizer\n",
    "\n",
    "pd.options.display.max_rows = 200\n",
    "pd.options.display.max_columns = 200\n",
    "\n",
    "russian_stopwords = pickle.load(open(\"solution/merito/utils/stopwords.pkl\", \"rb\"))"
   ]
  },
  {
   "cell_type": "code",
   "execution_count": 6,
   "id": "1c46b01a",
   "metadata": {},
   "outputs": [],
   "source": [
    "import pymorphy2\n",
    "morph = pymorphy2.MorphAnalyzer()\n"
   ]
  },
  {
   "cell_type": "code",
   "execution_count": 18,
   "id": "9113d985",
   "metadata": {},
   "outputs": [],
   "source": [
    "model_demand = Word2Vec.load(\"merito/models/demand_word2vec_russian.model\")"
   ]
  },
  {
   "cell_type": "code",
   "execution_count": 20,
   "id": "6555652a",
   "metadata": {},
   "outputs": [],
   "source": [
    "spheres_clf = pickle.load(open(\"merito/models/sphere_clf.pickle\", \"rb\"))"
   ]
  },
  {
   "cell_type": "code",
   "execution_count": 38,
   "id": "f95c6762",
   "metadata": {},
   "outputs": [],
   "source": [
    "df = pd.read_csv(\"JOB_LIST.csv\")"
   ]
  },
  {
   "cell_type": "code",
   "execution_count": 197,
   "id": "5f7a7f0a",
   "metadata": {},
   "outputs": [],
   "source": [
    "df = df.dropna(subset=[\"job_title\"], axis=0)"
   ]
  },
  {
   "cell_type": "code",
   "execution_count": 195,
   "id": "d7f8fb22",
   "metadata": {},
   "outputs": [],
   "source": [
    "df = df.drop_duplicates(subset=[\"job_title\"])"
   ]
  },
  {
   "cell_type": "code",
   "execution_count": null,
   "id": "e4eef354",
   "metadata": {},
   "outputs": [],
   "source": [
    "preproc_jobs = []\n",
    "for txt in tqdm(df[\"job_title\"]):\n",
    "    preproc_jobs.append(base_preproc(txt))"
   ]
  },
  {
   "cell_type": "code",
   "execution_count": 199,
   "id": "f8fde698",
   "metadata": {},
   "outputs": [],
   "source": [
    "df[\"job_title\"] = df[\"job_title\"].map(base_preproc)"
   ]
  },
  {
   "cell_type": "code",
   "execution_count": null,
   "id": "e4022c04",
   "metadata": {},
   "outputs": [],
   "source": [
    "c = set()\n",
    "for txt in tqdm(df[\"job_title\"]):\n",
    "    t = txt.split()\n",
    "    for x in t:\n",
    "        c.add(x)"
   ]
  },
  {
   "cell_type": "code",
   "execution_count": null,
   "id": "753777e1",
   "metadata": {},
   "outputs": [],
   "source": [
    "lemm_dict = {}\n",
    "for x in tqdm(c):\n",
    "    lemm_dict[x] = morph.parse(x)[0].normal_form"
   ]
  },
  {
   "cell_type": "code",
   "execution_count": 202,
   "id": "4abb2c4d",
   "metadata": {},
   "outputs": [],
   "source": [
    "df[\"job_title\"] = df[\"job_title\"].map(lambda x: \" \".join([lemm_dict[s] for s in x.split()]))"
   ]
  },
  {
   "cell_type": "code",
   "execution_count": null,
   "id": "bd55b94a",
   "metadata": {},
   "outputs": [],
   "source": []
  },
  {
   "cell_type": "code",
   "execution_count": null,
   "id": "c8424131",
   "metadata": {},
   "outputs": [],
   "source": []
  },
  {
   "cell_type": "code",
   "execution_count": 54,
   "id": "dbbe4435",
   "metadata": {},
   "outputs": [
    {
     "name": "stderr",
     "output_type": "stream",
     "text": [
      "100%|█████████████████████████████████████████| 119/119 [03:01<00:00,  1.52s/it]\n"
     ]
    }
   ],
   "source": [
    "preds = []\n",
    "\n",
    "for i in tqdm(range(0, len(embeds), 2000)):\n",
    "    sl = embeds.iloc[i:i+2000]\n",
    "    preds.extend(spheres_clf.predict(sl).tolist())"
   ]
  },
  {
   "cell_type": "code",
   "execution_count": 58,
   "id": "213aa53f",
   "metadata": {},
   "outputs": [],
   "source": [
    "new_pred = pd.DataFrame({\"job_title\": for_pred.tolist(), \"marking\": preds})"
   ]
  },
  {
   "cell_type": "code",
   "execution_count": 61,
   "id": "0b180dd3",
   "metadata": {},
   "outputs": [],
   "source": [
    "df = df.dropna()"
   ]
  },
  {
   "cell_type": "code",
   "execution_count": 63,
   "id": "42f75287",
   "metadata": {},
   "outputs": [],
   "source": [
    "df = pd.concat([new_pred, df], axis=0)"
   ]
  },
  {
   "cell_type": "code",
   "execution_count": null,
   "id": "9b502af6",
   "metadata": {},
   "outputs": [],
   "source": []
  },
  {
   "cell_type": "code",
   "execution_count": 65,
   "id": "e83dc7ad",
   "metadata": {},
   "outputs": [
    {
     "name": "stderr",
     "output_type": "stream",
     "text": [
      "100%|███████████████████████████████| 764228/764228 [00:04<00:00, 154013.42it/s]\n"
     ]
    }
   ],
   "source": [
    "embeds_full = get_emb_by_modele(model_demand, df[\"job_title\"].tolist())"
   ]
  },
  {
   "cell_type": "code",
   "execution_count": 74,
   "id": "714ccc5c",
   "metadata": {},
   "outputs": [],
   "source": [
    "df_featured = pd.concat([df.reset_index(), embeds_full.reset_index()], axis=1)"
   ]
  },
  {
   "cell_type": "code",
   "execution_count": null,
   "id": "0809a3f2",
   "metadata": {},
   "outputs": [],
   "source": []
  },
  {
   "cell_type": "code",
   "execution_count": null,
   "id": "d9a76b21",
   "metadata": {},
   "outputs": [],
   "source": [
    "for sphere_name in tqdm(df_featured[\"marking\"].unique()):\n",
    "    cat1 = df_featured[df_featured[\"marking\"] == sphere_name]\n",
    "    cat1_downsample = cat1.sample(n=min(len(cat1), 75000))\n",
    "    vectorizer = TfidfVectorizer(max_features=300).fit(cat1_downsample[\"job_title\"])\n",
    "    vectors = vectorizer.transform(cat1_downsample[\"job_title\"])\n",
    "    emb = pd.DataFrame(vectors.toarray(), columns=[f\"emb_{i}\" for i in range(300)])\n",
    "    clusterizer = DBSCAN(eps=0.3).fit(emb)\n",
    "    tmp_classes = clusterizer.labels_\n",
    "    knn = KNeighborsClassifier().fit(emb, tmp_classes)\n",
    "    \n",
    "    emb = pd.DataFrame(vectorizer.transform(cat1[\"job_title\"]).toarray(), \n",
    "                       columns=[f\"emb_{i}\" for i in range(300)])\n",
    "    clusters = knn.predict(emb)\n",
    "    \n",
    "    for clust in set(clusters):\n",
    "        names = cat1[clusters == clust][\"job_title\"]\n",
    "        name_stat = Counter(names)\n",
    "        clust_name = max(list(name_stat), key=lambda x: x[1])    \n",
    "        df_featured.loc[names.index, \"subspheres\"] = clust_name"
   ]
  },
  {
   "cell_type": "code",
   "execution_count": null,
   "id": "283d7a98",
   "metadata": {},
   "outputs": [],
   "source": [
    "df_featured.to_csv(\"featured_jobs_titles.csv\")"
   ]
  },
  {
   "cell_type": "code",
   "execution_count": null,
   "id": "05303a44",
   "metadata": {},
   "outputs": [],
   "source": []
  },
  {
   "cell_type": "code",
   "execution_count": null,
   "id": "3244fa33",
   "metadata": {},
   "outputs": [],
   "source": []
  },
  {
   "cell_type": "code",
   "execution_count": null,
   "id": "05d262f9",
   "metadata": {},
   "outputs": [],
   "source": []
  }
 ],
 "metadata": {
  "kernelspec": {
   "display_name": "Python 3 (ipykernel)",
   "language": "python",
   "name": "python3"
  },
  "language_info": {
   "codemirror_mode": {
    "name": "ipython",
    "version": 3
   },
   "file_extension": ".py",
   "mimetype": "text/x-python",
   "name": "python",
   "nbconvert_exporter": "python",
   "pygments_lexer": "ipython3",
   "version": "3.9.18"
  }
 },
 "nbformat": 4,
 "nbformat_minor": 5
}
